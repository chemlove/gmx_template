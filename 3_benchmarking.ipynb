{
 "cells": [
  {
   "cell_type": "markdown",
   "metadata": {},
   "source": [
    "## Benchmarking on Lomonosov-2\n",
    "- some benchmarking needed first\n",
    " \n",
    " Protocol files are copied from https://github.com/intbio/gmx_protocols/tree/master/amber into\n",
    "Protocols folder.\n",
    "If others are needed modify then in the folder."
   ]
  },
  {
   "cell_type": "code",
   "execution_count": 1,
   "metadata": {},
   "outputs": [
    {
     "data": {
      "text/markdown": [
       "\n",
       "# MD simulations of H3-H4, tails truncated\n",
       "- AMBER14SB force field\n",
       "- 50 mM NaCl\n",
       "- box 2nm\n"
      ],
      "text/plain": [
       "<IPython.core.display.Markdown object>"
      ]
     },
     "metadata": {},
     "output_type": "display_data"
    },
    {
     "name": "stdout",
     "output_type": "stream",
     "text": [
      "Folder set to:  h3-h4_tm\n",
      "Project name:  h3-h4_tm\n",
      "User set to: shaytan_1609\n"
     ]
    }
   ],
   "source": [
    "#Libraries and main variables initialized\n",
    "import MDAnalysis as mda\n",
    "from MDAnalysis.analysis import align\n",
    "from MDAnalysis.analysis.rms import rmsd\n",
    "import numpy as np\n",
    "import urllib.request, json\n",
    "import os\n",
    "import re\n",
    "import nglview as nv\n",
    "from funcs import get_files_from_git\n",
    "\n",
    "#Reloading funcs if changed\n",
    "from importlib import reload \n",
    "import funcs,config\n",
    "reload(funcs)\n",
    "reload(config)\n",
    "\n",
    "\n",
    "%matplotlib inline\n",
    "from IPython.display import Markdown, display\n",
    "from config import folder,descr,pname,scuser,ssh_host\n",
    "display(Markdown(descr))\n",
    "print(\"Folder set to: \",folder)\n",
    "print(\"Project name: \",pname)\n",
    "print(\"User set to:\",scuser)\n",
    "print(\"SSH host set to:\",ssh_host)\n",
    "\n"
   ]
  },
  {
   "cell_type": "code",
   "execution_count": 4,
   "metadata": {},
   "outputs": [],
   "source": [
    "%%bash\n",
    "rm -rf MDProtocols"
   ]
  },
  {
   "cell_type": "code",
   "execution_count": 5,
   "metadata": {},
   "outputs": [],
   "source": [
    "#Set protocols URL\n",
    "prot_url=\"https://api.github.com/repos/intbio/gmx_protocols/contents/amber\""
   ]
  },
  {
   "cell_type": "code",
   "execution_count": 6,
   "metadata": {},
   "outputs": [
    {
     "name": "stdout",
     "output_type": "stream",
     "text": [
      "Downloading Protocols/1_minim.mdp\n",
      "Downloading Protocols/2_equil.mdp\n",
      "Downloading Protocols/3_equil.mdp\n",
      "Downloading Protocols/4_equil.mdp\n",
      "Downloading Protocols/5_equil.mdp\n",
      "Downloading Protocols/6_equil.mdp\n",
      "Downloading Protocols/7_prod.mdp\n",
      "Downloading Protocols/README.md\n",
      "Downloading Protocols/equil.mdp\n",
      "Downloading Protocols/ions.mdp\n"
     ]
    }
   ],
   "source": [
    "get_files_from_git(prot_url,'MDProtocols/')"
   ]
  },
  {
   "cell_type": "markdown",
   "metadata": {},
   "source": [
    "## Bench runs 200 ps - prepare files"
   ]
  },
  {
   "cell_type": "code",
   "execution_count": 9,
   "metadata": {},
   "outputs": [
    {
     "name": "stdout",
     "output_type": "stream",
     "text": [
      "processing topology...\n",
      "turning all bonds into constraints...\n",
      "turning all bonds into constraints...\n",
      "turning all bonds into constraints...\n",
      "turning all bonds into constraints...\n",
      "turning all bonds into constraints...\n",
      "Determining Verlet buffer for a tolerance of 0.005 kJ/mol/ps at 300 K\n",
      "Calculated rlist for 1x1 atom pair-list as 0.836 nm, buffer size 0.036 nm\n",
      "Set rlist, assuming 4x4 atom pair-list, to 0.801 nm, buffer size 0.001 nm\n",
      "Note that mdrun will redetermine rlist based on the actual pair-list setup\n",
      "Calculating fourier grid dimensions for X Y Z\n",
      "Using a fourier grid of 96x96x96, spacing 0.106 0.106 0.106\n",
      "This run will generate roughly 15 Mb of data\n"
     ]
    },
    {
     "name": "stderr",
     "output_type": "stream",
     "text": [
      "                      :-) GROMACS - gmx grompp, 2018.3 (-:\n",
      "\n",
      "                            GROMACS is written by:\n",
      "     Emile Apol      Rossen Apostolov      Paul Bauer     Herman J.C. Berendsen\n",
      "    Par Bjelkmar    Aldert van Buuren   Rudi van Drunen     Anton Feenstra  \n",
      "  Gerrit Groenhof    Aleksei Iupinov   Christoph Junghans   Anca Hamuraru   \n",
      " Vincent Hindriksen Dimitrios Karkoulis    Peter Kasson        Jiri Kraus    \n",
      "  Carsten Kutzner      Per Larsson      Justin A. Lemkul    Viveca Lindahl  \n",
      "  Magnus Lundborg   Pieter Meulenhoff    Erik Marklund      Teemu Murtola   \n",
      "    Szilard Pall       Sander Pronk      Roland Schulz     Alexey Shvetsov  \n",
      "   Michael Shirts     Alfons Sijbers     Peter Tieleman    Teemu Virolainen \n",
      " Christian Wennberg    Maarten Wolf   \n",
      "                           and the project leaders:\n",
      "        Mark Abraham, Berk Hess, Erik Lindahl, and David van der Spoel\n",
      "\n",
      "Copyright (c) 1991-2000, University of Groningen, The Netherlands.\n",
      "Copyright (c) 2001-2017, The GROMACS development team at\n",
      "Uppsala University, Stockholm University and\n",
      "the Royal Institute of Technology, Sweden.\n",
      "check out http://www.gromacs.org for more information.\n",
      "\n",
      "GROMACS is free software; you can redistribute it and/or modify it\n",
      "under the terms of the GNU Lesser General Public License\n",
      "as published by the Free Software Foundation; either version 2.1\n",
      "of the License, or (at your option) any later version.\n",
      "\n",
      "GROMACS:      gmx grompp, version 2018.3\n",
      "Executable:   /Users/alexsha/miniconda3/envs/nucl_gmx/bin/gmx\n",
      "Data prefix:  /Users/alexsha/miniconda3/envs/nucl_gmx\n",
      "Working dir:  /Users/alexsha/work_HD/nucl_gmx/h3-h4_tm\n",
      "Command line:\n",
      "  gmx grompp -f Protocols/6_equil.mdp -c GMX_run/6_equil.gro -p GMX_system/topol.top -o GMX_run/bench.tpr -v -r GMX_run/6_equil.gro -n GMX_system/index.ndx -po GMX_run/mdout_bench.mdp\n",
      "\n",
      "checking input for internal consistency...\n",
      "\n",
      "NOTE 1 [file Protocols/6_equil.mdp]:\n",
      "  You have set rlist larger than the interaction cut-off, but you also have\n",
      "  verlet-buffer-tolerance > 0. Will set rlist using verlet-buffer-tolerance.\n",
      "\n",
      "Setting the LD random seed to -719131367\n",
      "Generated 3828 of the 3828 non-bonded parameter combinations\n",
      "Generating 1-4 interactions: fudge = 0.5\n",
      "Generated 3828 of the 3828 1-4 parameter combinations\n",
      "Excluding 3 bonded neighbours molecule type 'Protein_chain_A'\n",
      "Excluding 3 bonded neighbours molecule type 'Protein_chain_B'\n",
      "Excluding 2 bonded neighbours molecule type 'SOL'\n",
      "Excluding 1 bonded neighbours molecule type 'NA'\n",
      "Excluding 1 bonded neighbours molecule type 'CL'\n",
      "processing coordinates...\n",
      "double-checking input for internal consistency...\n",
      "Removing all charge groups because cutoff-scheme=Verlet\n",
      "renumbering atomtypes...\n",
      "converting bonded parameters...\n",
      "initialising group options...\n",
      "processing index file...\n",
      "Making dummy/rest group for Acceleration containing 80706 elements\n",
      "Making dummy/rest group for Freeze containing 80706 elements\n",
      "Making dummy/rest group for Energy Mon. containing 80706 elements\n",
      "Number of degrees of freedom in T-Coupling group System is 161548.00\n",
      "Making dummy/rest group for User1 containing 80706 elements\n",
      "Making dummy/rest group for User2 containing 80706 elements\n",
      "Making dummy/rest group for Compressed X containing 80706 elements\n",
      "Making dummy/rest group for Or. Res. Fit containing 80706 elements\n",
      "Making dummy/rest group for QMMM containing 80706 elements\n",
      "T-Coupling       has 1 element(s): System\n",
      "Energy Mon.      has 1 element(s): rest\n",
      "Acceleration     has 1 element(s): rest\n",
      "Freeze           has 1 element(s): rest\n",
      "User1            has 1 element(s): rest\n",
      "User2            has 1 element(s): rest\n",
      "VCM              has 1 element(s): System\n",
      "Compressed X     has 1 element(s): rest\n",
      "Or. Res. Fit     has 1 element(s): rest\n",
      "QMMM             has 1 element(s): rest\n",
      "Checking consistency between energy and charge groups...\n",
      "Estimate for the relative computational load of the PME mesh part: 0.33\n",
      "writing run input file...\n",
      "\n",
      "There was 1 note\n",
      "\n",
      "GROMACS reminds you: \"Studying expands knowledge. Knowledge is power. Power corrupts. Corruption is a crime. Crime doesn't pay.\" (Anonymous)\n",
      "\n"
     ]
    }
   ],
   "source": [
    "%%bash  \n",
    "#--out out --err err\n",
    "gmx grompp -f MDProtocols/6_equil.mdp -c GMX_run/6_equil.gro -p GMX_system/topol.top \\\n",
    "-o GMX_run/bench.tpr -v  -r GMX_run/6_equil.gro -n GMX_system/index.ndx -po GMX_run/mdout_bench.mdp\n"
   ]
  },
  {
   "cell_type": "markdown",
   "metadata": {},
   "source": [
    "## We need to do some benchmarking on Lomonosov-2"
   ]
  },
  {
   "cell_type": "markdown",
   "metadata": {},
   "source": [
    "bench.tpr is the starting one.\n",
    "mpirun -np $(($SLURM_JOB_NUM_NODES * 2)) gmx_mpi mdrun -ntomp $OMP_NUM_THREADS -gputasks 00 -pme cpu -nb gpu -s bench -o bench1 -g bench1 -e bench1"
   ]
  },
  {
   "cell_type": "code",
   "execution_count": 29,
   "metadata": {},
   "outputs": [],
   "source": [
    "%%bash\n",
    "for i in `seq 1 20`; do\n",
    "cp Run_scripts/lomo2_run_bench.sh GMX_run/lomo2_run_bench$i.sh\n",
    "echo \"mpirun -np \\$((\\$SLURM_JOB_NUM_NODES * 2)) gmx_mpi mdrun -ntomp \\$OMP_NUM_THREADS -gputasks 00 -pme cpu -nb gpu -s bench -o bench$i -g bench$i -e bench$i\">>GMX_run/lomo2_run_bench$i.sh \n",
    "done"
   ]
  },
  {
   "cell_type": "code",
   "execution_count": 30,
   "metadata": {},
   "outputs": [],
   "source": [
    "%%bash -s \"$folder\" \"$ssh_host\" --err err --out out\n",
    "#Copy to SC\n",
    "\n",
    "rsync -r GMX_run $2:~/_scratch/$1/;"
   ]
  },
  {
   "cell_type": "code",
   "execution_count": 31,
   "metadata": {},
   "outputs": [],
   "source": [
    "%%bash -s \"$folder\" \"$ssh_host\" --out out --err err\n",
    "for i in `seq 1 8`; do\n",
    "ssh $2 \"module load slurm gromacs/2018-gcc; cd ~/_scratch/$1/GMX_run; \\\n",
    "sbatch -p compute -t 00:15:00 -N $i lomo2_run_bench$i.sh\"\n",
    "done"
   ]
  },
  {
   "cell_type": "code",
   "execution_count": null,
   "metadata": {},
   "outputs": [],
   "source": [
    "print(err)"
   ]
  },
  {
   "cell_type": "code",
   "execution_count": 32,
   "metadata": {},
   "outputs": [
    {
     "name": "stdout",
     "output_type": "stream",
     "text": [
      "Submitted batch job 869533\n",
      "Submitted batch job 869534\n",
      "Submitted batch job 869535\n",
      "Submitted batch job 869536\n",
      "Submitted batch job 869537\n",
      "Submitted batch job 869538\n",
      "Submitted batch job 869539\n",
      "Submitted batch job 869540\n",
      "\n",
      "{1: '869533', 2: '869534', 3: '869535', 4: '869536', 5: '869537', 6: '869538', 7: '869539', 8: '869540'}\n"
     ]
    }
   ],
   "source": [
    "#get job id\n",
    "print(out)\n",
    "job_ide=re.findall(r'\\d+', out)\n",
    "job_N={(i+1):job_ide[i] for i in range(0,8)}\n",
    "print(job_N)"
   ]
  },
  {
   "cell_type": "code",
   "execution_count": 142,
   "metadata": {},
   "outputs": [
    {
     "name": "stdout",
     "output_type": "stream",
     "text": [
      "             JOBID PARTITION     NAME     USER ST       TIME  NODES NODELIST(REASON)\n",
      "            869585   compute  jobname shaytan_ PD       0:00     17 (Resources)\n",
      "            869586   compute  jobname shaytan_ PD       0:00     18 (Resources)\n",
      "            869587   compute  jobname shaytan_ PD       0:00     19 (Resources)\n",
      "            869588   compute  jobname shaytan_ PD       0:00     20 (Resources)\n",
      "            869591   compute  jobname shaytan_ PD       0:00     16 (Resources)\n"
     ]
    }
   ],
   "source": [
    "%%bash -s   \"$job_ide\"  \"$ssh_host\"  --err err\n",
    "# check job status\n",
    "ssh $2 \"module load slurm gromacs/2018-gcc; squeue -u shaytan_1609 \" || echo \"No job in queue\""
   ]
  },
  {
   "cell_type": "code",
   "execution_count": null,
   "metadata": {},
   "outputs": [],
   "source": [
    "%%bash -s \"$folder\" \"$ssh_host\"  --out out --err err\n",
    "for i in `seq 9 16`; do\n",
    "ssh $2 \"module load slurm gromacs/2018-gcc; cd ~/_scratch/$1/GMX_run; \\\n",
    "sbatch -p test -t 00:15:00 -N $i lomo2_run_bench$i.sh\"\n",
    "done"
   ]
  },
  {
   "cell_type": "code",
   "execution_count": null,
   "metadata": {},
   "outputs": [],
   "source": [
    "print(err)"
   ]
  },
  {
   "cell_type": "code",
   "execution_count": 97,
   "metadata": {},
   "outputs": [
    {
     "name": "stdout",
     "output_type": "stream",
     "text": [
      "Submitted batch job 869562\n",
      "Submitted batch job 869563\n",
      "Submitted batch job 869564\n",
      "Submitted batch job 869565\n",
      "Submitted batch job 869566\n",
      "Submitted batch job 869567\n",
      "Submitted batch job 869568\n",
      "Submitted batch job 869569\n",
      "\n",
      "{1: '869558', 2: '869534', 3: '869535', 4: '869536', 5: '869537', 6: '869538', 7: '869539', 8: '869540', 9: '869562', 10: '869563', 11: '869564', 12: '869565', 13: '869566', 14: '869567', 15: '869568', 16: '869569'}\n"
     ]
    }
   ],
   "source": [
    "#get job id\n",
    "print(out)\n",
    "job_ide=re.findall(r'\\d+', out)\n",
    "job_N.update({(i+9):job_ide[i] for i in range(0,8)})\n",
    "print(job_N)"
   ]
  },
  {
   "cell_type": "code",
   "execution_count": 138,
   "metadata": {},
   "outputs": [],
   "source": [
    "%%bash -s \"$folder\" \"$ssh_host\" --out out --err err\n",
    "for i in `seq 17 20`; do\n",
    "ssh $2 \"module load slurm gromacs/2018-gcc; cd ~/_scratch/$1/GMX_run; \\\n",
    "sbatch -p compute -t 00:15:00 -N $i lomo2_run_bench$i.sh\"\n",
    "done"
   ]
  },
  {
   "cell_type": "code",
   "execution_count": null,
   "metadata": {},
   "outputs": [],
   "source": [
    "print(err)"
   ]
  },
  {
   "cell_type": "code",
   "execution_count": 139,
   "metadata": {},
   "outputs": [
    {
     "name": "stdout",
     "output_type": "stream",
     "text": [
      "Submitted batch job 869585\n",
      "Submitted batch job 869586\n",
      "Submitted batch job 869587\n",
      "Submitted batch job 869588\n",
      "\n",
      "{1: '869558', 2: '869534', 3: '869535', 4: '869536', 5: '869537', 6: '869538', 7: '869539', 8: '869540', 9: '869562', 10: '869563', 11: '869564', 12: '869565', 13: '869566', 14: '869567', 15: '869568', 16: '869569', 17: '869585', 18: '869586', 19: '869587', 20: '869588'}\n"
     ]
    }
   ],
   "source": [
    "#get job id\n",
    "print(out)\n",
    "job_ide=re.findall(r'\\d+', out)\n",
    "job_N.update({(i+17):job_ide[i] for i in range(0,4)})\n",
    "print(job_N)"
   ]
  },
  {
   "cell_type": "code",
   "execution_count": null,
   "metadata": {},
   "outputs": [],
   "source": [
    "%%bash -s \"$folder\" \"$ssh_host\" --err err \n",
    "#Purge # files\n",
    "\n",
    "ssh $2 \"rm -f ~/_scratch/$1/GMX_run/\\#*; ls ~/_scratch/$1/GMX_run/\""
   ]
  },
  {
   "cell_type": "code",
   "execution_count": 143,
   "metadata": {},
   "outputs": [],
   "source": [
    "%%bash -s \"$folder\" \"$ssh_host\" --err err --out out\n",
    "#Get back data\n",
    "\n",
    "scp $2:~/_scratch/$1/GMX_run/egmx* GMX_run/ ;"
   ]
  },
  {
   "cell_type": "markdown",
   "metadata": {},
   "source": [
    "#### Analyze what we get"
   ]
  },
  {
   "cell_type": "code",
   "execution_count": 149,
   "metadata": {},
   "outputs": [
    {
     "name": "stdout",
     "output_type": "stream",
     "text": [
      "1 869558 17\n",
      "2 869534 70\n",
      "3 869535 84\n",
      "4 869536 93\n",
      "5 869537 97\n",
      "6 869538 105\n",
      "8 869540 118\n",
      "9 869562 122\n",
      "10 869563 129\n",
      "12 869565 132\n",
      "14 869567 140\n",
      "15 869568 141\n",
      "18 869586 148\n",
      "20 869588 148\n"
     ]
    }
   ],
   "source": [
    "job_N.update({1:'869558'})\n",
    "job_N.update({16:'869602'}) #speed 142 ns per day\n",
    "speed=[]\n",
    "nodes=[1,2,3,4,5,6,8,9,10,12,14,15,18,20]\n",
    "for k in nodes:\n",
    "    with open('GMX_run/egmx.%s'%job_N[k]) as f:\n",
    "        data=f.read()\n",
    "        ns_per_day=re.findall(r'Performance:\\s+(\\d+)\\.', data)[0]\n",
    "        print(k, job_N[k] ,ns_per_day)\n",
    "        speed.append(float(ns_per_day))"
   ]
  },
  {
   "cell_type": "code",
   "execution_count": 150,
   "metadata": {},
   "outputs": [
    {
     "data": {
      "image/png": "[encoded data removed]",
      "text/plain": [
       "<Figure size 720x360 with 2 Axes>"
      ]
     },
     "metadata": {
      "needs_background": "light"
     },
     "output_type": "display_data"
    }
   ],
   "source": [
    "import matplotlib.pyplot as plt\n",
    "plt.figure(figsize=(10,5))\n",
    "ax = plt.subplot(121)\n",
    "ax.plot(nodes, speed, 'r*-', lw=2, label=r\"ns per day\")\n",
    "ax.set_xlabel(\"Nodes\")\n",
    "ax.set_ylabel(\"ns per day\")\n",
    "ax2 = plt.subplot(122)\n",
    "ax2.plot(nodes, [speed[i]/nodes[i] for i in range(len(nodes))], 'b*-', lw=2, label=r\"ns per day\")\n",
    "ax2.set_xlabel(\"Nodes\")\n",
    "ax2.set_ylabel(\"Scaling\")\n",
    "plt.draw()"
   ]
  },
  {
   "cell_type": "code",
   "execution_count": null,
   "metadata": {},
   "outputs": [],
   "source": []
  }
 ],
 "metadata": {
  "kernelspec": {
   "display_name": "Python 3",
   "language": "python",
   "name": "python3"
  },
  "language_info": {
   "codemirror_mode": {
    "name": "ipython",
    "version": 3
   },
   "file_extension": ".py",
   "mimetype": "text/x-python",
   "name": "python",
   "nbconvert_exporter": "python",
   "pygments_lexer": "ipython3",
   "version": "3.6.6"
  }
 },
 "nbformat": 4,
 "nbformat_minor": 2
}
