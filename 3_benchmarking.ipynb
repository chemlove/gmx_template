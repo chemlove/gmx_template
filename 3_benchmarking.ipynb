{
 "cells": [
  {
   "cell_type": "markdown",
   "metadata": {},
   "source": [
    "## Benchmarking on Lomonosov-2\n",
    "- some benchmarking needed first\n",
    " \n",
    "we will run a series of 100 ps simulation on different number of nodes and make a plot."
   ]
  },
  {
   "cell_type": "code",
   "execution_count": 255,
   "metadata": {},
   "outputs": [
    {
     "data": {
      "text/markdown": [
       "\n",
       "# MD simulations of H3-H4 with 30 bp of DNA, tails truncated\n",
       "- AMBER14SB force field\n",
       "- 50 mM NaCl\n",
       "- box 2nm\n"
      ],
      "text/plain": [
       "<IPython.core.display.Markdown object>"
      ]
     },
     "metadata": {},
     "output_type": "display_data"
    },
    {
     "name": "stdout",
     "output_type": "stream",
     "text": [
      "Folder set to:  h3-h4_tm_DNA\n",
      "Project name:  h3-h4_tm_DNA\n",
      "SSH host set to: lomo2g\n"
     ]
    }
   ],
   "source": [
    "#Libraries and main variables initialized\n",
    "import MDAnalysis as mda\n",
    "from MDAnalysis.analysis import align\n",
    "from MDAnalysis.analysis.rms import rmsd\n",
    "import numpy as np\n",
    "import urllib.request, json\n",
    "import os\n",
    "import re\n",
    "import nglview as nv\n",
    "from funcs import get_files_from_git\n",
    "\n",
    "#Reloading funcs if changed\n",
    "from importlib import reload \n",
    "import funcs,config\n",
    "reload(funcs)\n",
    "reload(config)\n",
    "\n",
    "\n",
    "%matplotlib inline\n",
    "from IPython.display import Markdown, display\n",
    "from config import folder,descr,pname,ssh_host\n",
    "display(Markdown(descr))\n",
    "print(\"Folder set to: \",folder)\n",
    "print(\"Project name: \",pname)\n",
    "print(\"SSH host set to:\",ssh_host)\n",
    "\n"
   ]
  },
  {
   "cell_type": "markdown",
   "metadata": {},
   "source": [
    "## Bench runs 100 ps - prepare files"
   ]
  },
  {
   "cell_type": "code",
   "execution_count": 82,
   "metadata": {},
   "outputs": [
    {
     "name": "stdout",
     "output_type": "stream",
     "text": [
      "processing topology...\n",
      "turning all bonds into constraints...\n",
      "turning all bonds into constraints...\n",
      "turning all bonds into constraints...\n",
      "turning all bonds into constraints...\n",
      "turning all bonds into constraints...\n",
      "turning all bonds into constraints...\n",
      "turning all bonds into constraints...\n",
      "Determining Verlet buffer for a tolerance of 0.005 kJ/mol/ps at 300 K\n",
      "Calculated rlist for 1x1 atom pair-list as 0.836 nm, buffer size 0.036 nm\n",
      "Set rlist, assuming 4x4 atom pair-list, to 0.801 nm, buffer size 0.001 nm\n",
      "Note that mdrun will redetermine rlist based on the actual pair-list setup\n",
      "Calculating fourier grid dimensions for X Y Z\n",
      "Using a fourier grid of 112x112x112, spacing 0.116 0.116 0.116\n",
      "This run will generate roughly 14 Mb of data\n"
     ]
    },
    {
     "name": "stderr",
     "output_type": "stream",
     "text": [
      "                      :-) GROMACS - gmx grompp, 2018.3 (-:\n",
      "\n",
      "                            GROMACS is written by:\n",
      "     Emile Apol      Rossen Apostolov      Paul Bauer     Herman J.C. Berendsen\n",
      "    Par Bjelkmar    Aldert van Buuren   Rudi van Drunen     Anton Feenstra  \n",
      "  Gerrit Groenhof    Aleksei Iupinov   Christoph Junghans   Anca Hamuraru   \n",
      " Vincent Hindriksen Dimitrios Karkoulis    Peter Kasson        Jiri Kraus    \n",
      "  Carsten Kutzner      Per Larsson      Justin A. Lemkul    Viveca Lindahl  \n",
      "  Magnus Lundborg   Pieter Meulenhoff    Erik Marklund      Teemu Murtola   \n",
      "    Szilard Pall       Sander Pronk      Roland Schulz     Alexey Shvetsov  \n",
      "   Michael Shirts     Alfons Sijbers     Peter Tieleman    Teemu Virolainen \n",
      " Christian Wennberg    Maarten Wolf   \n",
      "                           and the project leaders:\n",
      "        Mark Abraham, Berk Hess, Erik Lindahl, and David van der Spoel\n",
      "\n",
      "Copyright (c) 1991-2000, University of Groningen, The Netherlands.\n",
      "Copyright (c) 2001-2017, The GROMACS development team at\n",
      "Uppsala University, Stockholm University and\n",
      "the Royal Institute of Technology, Sweden.\n",
      "check out http://www.gromacs.org for more information.\n",
      "\n",
      "GROMACS is free software; you can redistribute it and/or modify it\n",
      "under the terms of the GNU Lesser General Public License\n",
      "as published by the Free Software Foundation; either version 2.1\n",
      "of the License, or (at your option) any later version.\n",
      "\n",
      "GROMACS:      gmx grompp, version 2018.3\n",
      "Executable:   /opt/miniconda3/envs/moldyn/bin/gmx\n",
      "Data prefix:  /opt/miniconda3/envs/moldyn\n",
      "Working dir:  /home/_shared/_projects/gmx_template\n",
      "Command line:\n",
      "  gmx grompp -f MDProtocols/bench.mdp -c GMX_run/6_equil.gro -p GMX_system/topol.top -o GMX_run/bench.tpr -v -r GMX_run/6_equil.gro -n GMX_system/index.ndx -po GMX_run/mdout_bench.mdp\n",
      "\n",
      "checking input for internal consistency...\n",
      "\n",
      "NOTE 1 [file MDProtocols/bench.mdp]:\n",
      "  You have set rlist larger than the interaction cut-off, but you also have\n",
      "  verlet-buffer-tolerance > 0. Will set rlist using verlet-buffer-tolerance.\n",
      "\n",
      "Setting the LD random seed to -1015819233\n",
      "Generated 4345 of the 4371 non-bonded parameter combinations\n",
      "Generating 1-4 interactions: fudge = 0.5\n",
      "Generated 4371 of the 4371 1-4 parameter combinations\n",
      "Excluding 3 bonded neighbours molecule type 'DNA_chain_I'\n",
      "Excluding 3 bonded neighbours molecule type 'DNA_chain_J'\n",
      "Excluding 3 bonded neighbours molecule type 'Protein_chain_A'\n",
      "Excluding 3 bonded neighbours molecule type 'Protein_chain_B'\n",
      "Excluding 2 bonded neighbours molecule type 'SOL'\n",
      "Excluding 2 bonded neighbours molecule type 'SOL'\n",
      "Excluding 2 bonded neighbours molecule type 'SOL'\n",
      "Excluding 2 bonded neighbours molecule type 'SOL'\n",
      "Excluding 2 bonded neighbours molecule type 'SOL'\n",
      "Excluding 2 bonded neighbours molecule type 'SOL'\n",
      "Excluding 2 bonded neighbours molecule type 'SOL'\n",
      "Excluding 2 bonded neighbours molecule type 'SOL'\n",
      "Excluding 2 bonded neighbours molecule type 'SOL'\n",
      "Excluding 1 bonded neighbours molecule type 'NA'\n",
      "Excluding 1 bonded neighbours molecule type 'CL'\n",
      "processing coordinates...\n",
      "double-checking input for internal consistency...\n",
      "Removing all charge groups because cutoff-scheme=Verlet\n",
      "renumbering atomtypes...\n",
      "converting bonded parameters...\n",
      "initialising group options...\n",
      "processing index file...\n",
      "Pull group 1 'a_11' has 1 atoms\n",
      "Pull group 2 'a_1882' has 1 atoms\n",
      "Pull group 3 'a_930' has 1 atoms\n",
      "Pull group 4 'a_961' has 1 atoms\n",
      "Making dummy/rest group for Acceleration containing 169387 elements\n",
      "Making dummy/rest group for Freeze containing 169387 elements\n",
      "Making dummy/rest group for Energy Mon. containing 169387 elements\n",
      "Number of degrees of freedom in T-Coupling group System is 338948.00\n",
      "Making dummy/rest group for User1 containing 169387 elements\n",
      "Making dummy/rest group for User2 containing 169387 elements\n",
      "Making dummy/rest group for Compressed X containing 169387 elements\n",
      "Making dummy/rest group for Or. Res. Fit containing 169387 elements\n",
      "Making dummy/rest group for QMMM containing 169387 elements\n",
      "T-Coupling       has 1 element(s): System\n",
      "Energy Mon.      has 1 element(s): rest\n",
      "Acceleration     has 1 element(s): rest\n",
      "Freeze           has 1 element(s): rest\n",
      "User1            has 1 element(s): rest\n",
      "User2            has 1 element(s): rest\n",
      "VCM              has 1 element(s): System\n",
      "Compressed X     has 1 element(s): rest\n",
      "Or. Res. Fit     has 1 element(s): rest\n",
      "QMMM             has 1 element(s): rest\n",
      "Checking consistency between energy and charge groups...\n",
      "Pull group  natoms  pbc atom  distance at start  reference at t=0\n",
      "       1         1         0\n",
      "       2         1         0       0.912 nm          0.915 nm\n",
      "       3         1         0\n",
      "       4         1         0       0.880 nm          0.891 nm\n",
      "Estimate for the relative computational load of the PME mesh part: 0.31\n",
      "writing run input file...\n",
      "\n",
      "There was 1 note\n",
      "\n",
      "Back Off! I just backed up GMX_run/bench.tpr to GMX_run/#bench.tpr.6#\n",
      "\n",
      "GROMACS reminds you: \"My greatest contribution to the field of science is that I never entered it.\" (Colin Powell)\n",
      "\n"
     ]
    }
   ],
   "source": [
    "%%bash  \n",
    "#--out out --err err\n",
    "gmx grompp -f MDProtocols/bench.mdp -c GMX_run/6_equil.gro -p GMX_system/topol.top \\\n",
    "-o GMX_run/bench.tpr -v  -r GMX_run/6_equil.gro -n GMX_system/index.ndx -po GMX_run/mdout_bench.mdp\n"
   ]
  },
  {
   "cell_type": "markdown",
   "metadata": {},
   "source": [
    "## We'll duplicate bench.tpr for simulations with different number of nodes."
   ]
  },
  {
   "cell_type": "code",
   "execution_count": 182,
   "metadata": {},
   "outputs": [],
   "source": [
    "%%bash\n",
    "for i in `seq 1 32`; do\n",
    "cp GMX_run/bench.tpr GMX_run/bench$i.tpr \n",
    "done\n",
    "cp GMX_run/bench.tpr GMX_run/bench40.tpr\n",
    "cp GMX_run/bench.tpr GMX_run/bench48.tpr\n",
    "cp GMX_run/bench.tpr GMX_run/bench50.tpr\n",
    "cp GMX_run/bench.tpr GMX_run/bench60.tpr\n",
    "cp GMX_run/bench.tpr GMX_run/bench64.tpr\n",
    "cp GMX_run/bench.tpr GMX_run/bench70.tpr\n",
    "cp GMX_run/bench.tpr GMX_run/bench80.tpr\n",
    "cp GMX_run/bench.tpr GMX_run/bench81.tpr\n",
    "cp GMX_run/bench.tpr GMX_run/bench90.tpr\n",
    "cp GMX_run/bench.tpr GMX_run/bench100.tpr\n",
    "cp GMX_run/bench.tpr GMX_run/bench128.tpr\n",
    "cp GMX_run/bench.tpr GMX_run/bench184.tpr\n",
    "cp GMX_run/bench.tpr GMX_run/bench256.tpr "
   ]
  },
  {
   "cell_type": "markdown",
   "metadata": {},
   "source": [
    "### Transfer to Lomonosov2"
   ]
  },
  {
   "cell_type": "code",
   "execution_count": 183,
   "metadata": {},
   "outputs": [
    {
     "name": "stdout",
     "output_type": "stream",
     "text": [
      "   Lomonosov-2 supercomputer welcomes you!\n",
      "\n",
      "\n",
      "   Lomonosov-2 supercomputer welcomes you!\n",
      "\n",
      "\n",
      "   Lomonosov-2 supercomputer welcomes you!\n",
      "\n",
      "\n",
      "lomo2_run.sh                                  100% 1042   177.8KB/s   00:00    \n",
      "   Lomonosov-2 supercomputer welcomes you!\n",
      "\n",
      "\n",
      "bench.tpr                                     100% 5153KB  48.0MB/s   00:00    \n",
      "bench1.tpr                                    100% 5153KB  65.8MB/s   00:00    \n",
      "bench10.tpr                                   100% 5153KB  62.4MB/s   00:00    \n",
      "bench100.tpr                                  100% 5153KB  72.4MB/s   00:00    \n",
      "bench11.tpr                                   100% 5153KB  62.4MB/s   00:00    \n",
      "bench12.tpr                                   100% 5153KB  54.3MB/s   00:00    \n",
      "bench128.tpr                                  100% 5153KB  68.9MB/s   00:00    \n",
      "bench13.tpr                                   100% 5153KB  64.6MB/s   00:00    \n",
      "bench14.tpr                                   100% 5153KB  64.0MB/s   00:00    \n",
      "bench15.tpr                                   100% 5153KB  76.2MB/s   00:00    \n",
      "bench16.tpr                                   100% 5153KB  61.5MB/s   00:00    \n",
      "bench17.tpr                                   100% 5153KB  62.9MB/s   00:00    \n",
      "bench18.tpr                                   100% 5153KB  74.7MB/s   00:00    \n",
      "bench184.tpr                                  100% 5153KB  74.6MB/s   00:00    \n",
      "bench19.tpr                                   100% 5153KB  65.3MB/s   00:00    \n",
      "bench2.tpr                                    100% 5153KB  60.3MB/s   00:00    \n",
      "bench20.tpr                                   100% 5153KB  67.5MB/s   00:00    \n",
      "bench21.tpr                                   100% 5153KB  84.5MB/s   00:00    \n",
      "bench22.tpr                                   100% 5153KB  80.9MB/s   00:00    \n",
      "bench23.tpr                                   100% 5153KB  51.8MB/s   00:00    \n",
      "bench24.tpr                                   100% 5153KB  67.7MB/s   00:00    \n",
      "bench25.tpr                                   100% 5153KB  74.9MB/s   00:00    \n",
      "bench256.tpr                                  100% 5153KB  77.3MB/s   00:00    \n",
      "bench26.tpr                                   100% 5153KB  62.0MB/s   00:00    \n",
      "bench27.tpr                                   100% 5153KB  65.4MB/s   00:00    \n",
      "bench28.tpr                                   100% 5153KB  73.4MB/s   00:00    \n",
      "bench29.tpr                                   100% 5153KB  68.1MB/s   00:00    \n",
      "bench3.tpr                                    100% 5153KB  65.1MB/s   00:00    \n",
      "bench30.tpr                                   100% 5153KB  66.9MB/s   00:00    \n",
      "bench31.tpr                                   100% 5153KB  68.5MB/s   00:00    \n",
      "bench32.tpr                                   100% 5153KB  66.5MB/s   00:00    \n",
      "bench4.tpr                                    100% 5153KB  65.8MB/s   00:00    \n",
      "bench40.tpr                                   100% 5153KB  80.5MB/s   00:00    \n",
      "bench48.tpr                                   100% 5153KB  75.8MB/s   00:00    \n",
      "bench5.tpr                                    100% 5153KB  61.0MB/s   00:00    \n",
      "bench50.tpr                                   100% 5153KB  71.2MB/s   00:00    \n",
      "bench6.tpr                                    100% 5153KB  64.5MB/s   00:00    \n",
      "bench60.tpr                                   100% 5153KB  82.7MB/s   00:00    \n",
      "bench64.tpr                                   100% 5153KB  74.0MB/s   00:00    \n",
      "bench7.tpr                                    100% 5153KB  41.0MB/s   00:00    \n",
      "bench70.tpr                                   100% 5153KB  79.7MB/s   00:00    \n",
      "bench8.tpr                                    100% 5153KB  62.0MB/s   00:00    \n",
      "bench80.tpr                                   100% 5153KB  77.8MB/s   00:00    \n",
      "bench81.tpr                                   100% 5153KB  80.3MB/s   00:00    \n",
      "bench9.tpr                                    100% 5153KB  71.7MB/s   00:00    \n",
      "bench90.tpr                                   100% 5153KB  77.4MB/s   00:00    \n"
     ]
    }
   ],
   "source": [
    "!cp Run_scripts/lomo2_run.sh GMX_run/\n",
    "!ssh $ssh_host \"mkdir -p ~/_scratch/$folder\"\n",
    "!ssh $ssh_host \"mkdir -p ~/_scratch/$folder/GMX_run\"\n",
    "!scp GMX_run/lomo2_run.sh $ssh_host:~/_scratch/$folder/GMX_run/;\n",
    "!scp GMX_run/bench*.tpr $ssh_host:~/_scratch/$folder/GMX_run/;    "
   ]
  },
  {
   "cell_type": "markdown",
   "metadata": {},
   "source": [
    "### Now let's Launch\n",
    "Note: there are limits on number of jobs that can be submitted (currently 8), so you'll need to submit in smaller batches."
   ]
  },
  {
   "cell_type": "code",
   "execution_count": 86,
   "metadata": {},
   "outputs": [
    {
     "name": "stdout",
     "output_type": "stream",
     "text": [
      "Submitted batch job 939953\n",
      "Submitted batch job 939954\n",
      "Submitted batch job 939955\n",
      "Submitted batch job 939956\n",
      "Submitted batch job 939957\n",
      "Submitted batch job 939958\n"
     ]
    },
    {
     "name": "stderr",
     "output_type": "stream",
     "text": [
      "   Lomonosov-2 supercomputer welcomes you!\n",
      "\n",
      "\n",
      "   Lomonosov-2 supercomputer welcomes you!\n",
      "\n",
      "\n",
      "   Lomonosov-2 supercomputer welcomes you!\n",
      "\n",
      "\n",
      "   Lomonosov-2 supercomputer welcomes you!\n",
      "\n",
      "\n",
      "   Lomonosov-2 supercomputer welcomes you!\n",
      "\n",
      "\n",
      "   Lomonosov-2 supercomputer welcomes you!\n",
      "\n",
      "\n"
     ]
    }
   ],
   "source": [
    "%%bash -s \"$folder\" \"$ssh_host\"\n",
    "#--err err\n",
    "#--out out \n",
    "for i in `seq 1 6`; do\n",
    "ssh $2 \"module load slurm gromacs/2018-gcc; cd ~/_scratch/$1/GMX_run; \\\n",
    "sbatch -p compute -t 1:00:00 -N $i -J $1 lomo2_run.sh bench$i\"\n",
    "done"
   ]
  },
  {
   "cell_type": "code",
   "execution_count": 257,
   "metadata": {},
   "outputs": [
    {
     "name": "stdout",
     "output_type": "stream",
     "text": [
      "   Lomonosov-2 supercomputer welcomes you!\n",
      "\n",
      "\n",
      "             JOBID PARTITION     NAME     USER ST       TIME  NODES NODELIST(REASON)\n",
      "            941199   compute h3-h4_2_ gorkovet PD       0:00      8 (Dependency)\n",
      "            939990   compute h3-h4_tm gorkovet  R 2-16:58:36      4 n[53317-53320]\n",
      "            941196   compute h3-h4_tm gorkovet  R    7:39:44      4 n[53627-53628,53729-53730]\n",
      "            941198   compute h3-h4_2_ gorkovet  R    7:38:38      8 n[49114,49630,52012,52319,52508,53126,53129,53417]\n"
     ]
    }
   ],
   "source": [
    "!ssh $ssh_host \"module load slurm gromacs/2018-gcc; squeue -u \\`whoami\\` \" || echo \"No job in queue\""
   ]
  },
  {
   "cell_type": "code",
   "execution_count": 209,
   "metadata": {},
   "outputs": [
    {
     "name": "stdout",
     "output_type": "stream",
     "text": [
      "Submitted batch job 940539\n",
      "Submitted batch job 940540\n",
      "Submitted batch job 940541\n",
      "Submitted batch job 940542\n"
     ]
    }
   ],
   "source": [
    "%%bash -s \"$folder\" \"$ssh_host\"  --err err\n",
    "for i in `seq 29 32`; do\n",
    "ssh $2 \"module load slurm gromacs/2018-gcc; cd ~/_scratch/$1/GMX_run; \\\n",
    "sbatch -p compute -t 1:00:00 -N $i -J $1 lomo2_run.sh bench$i\"\n",
    "done"
   ]
  },
  {
   "cell_type": "code",
   "execution_count": 250,
   "metadata": {},
   "outputs": [
    {
     "name": "stdout",
     "output_type": "stream",
     "text": [
      "Submitted batch job 940748\n"
     ]
    },
    {
     "name": "stderr",
     "output_type": "stream",
     "text": [
      "   Lomonosov-2 supercomputer welcomes you!\n",
      "\n",
      "\n"
     ]
    }
   ],
   "source": [
    "%%bash -s \"$folder\" \"$ssh_host\"\n",
    "# --err err\n",
    "#for i in \"40 48 50 60 64 70 80 81 90 100 128 184 256\"; do\n",
    "for i in 256; do\n",
    "ssh $2 \"module load slurm gromacs/2018-gcc; cd ~/_scratch/$1/GMX_run; \\\n",
    "sbatch -p compute -t 00:05:00 -N $i -J $1 lomo2_run.sh bench$i\"\n",
    "done"
   ]
  },
  {
   "cell_type": "markdown",
   "metadata": {},
   "source": [
    "### Let's get back data"
   ]
  },
  {
   "cell_type": "code",
   "execution_count": 258,
   "metadata": {},
   "outputs": [],
   "source": [
    "%%bash -s \"$folder\" \"$ssh_host\" --err err --out out\n",
    "#Get back data from log-files\n",
    "\n",
    "scp $2:~/_scratch/$1/GMX_run/*.log GMX_run/ ;"
   ]
  },
  {
   "cell_type": "markdown",
   "metadata": {},
   "source": [
    "#### Analyze what we get"
   ]
  },
  {
   "cell_type": "code",
   "execution_count": 262,
   "metadata": {},
   "outputs": [
    {
     "name": "stdout",
     "output_type": "stream",
     "text": [
      "1 9\n",
      "2 40\n",
      "3 52\n",
      "4 62\n",
      "5 64\n",
      "6 68\n",
      "8 82\n",
      "9 83\n",
      "10 87\n",
      "12 98\n",
      "14 103\n",
      "15 98\n",
      "16 113\n",
      "18 113\n",
      "20 123\n",
      "21 117\n",
      "24 123\n",
      "25 120\n",
      "27 130\n",
      "28 132\n",
      "30 124\n",
      "32 135\n",
      "40 144\n",
      "48 148\n",
      "50 141\n",
      "60 151\n",
      "64 152\n",
      "70 136\n",
      "80 153\n",
      "81 156\n",
      "90 164\n",
      "100 145\n",
      "128 152\n",
      "256 119\n"
     ]
    }
   ],
   "source": [
    "speed=[]\n",
    "nodes=list(range(1,257))\n",
    "for k in nodes:\n",
    "    try:\n",
    "        with open('GMX_run/bench%d.log'%k) as f:\n",
    "            data=f.read()\n",
    "            ns_per_day=re.findall(r'Performance:\\s+(\\d+)\\.', data)[0]\n",
    "            print(k, ns_per_day)\n",
    "            speed.append([k,float(ns_per_day)])\n",
    "    except:\n",
    "        pass"
   ]
  },
  {
   "cell_type": "code",
   "execution_count": 263,
   "metadata": {},
   "outputs": [
    {
     "data": {
      "image/png": "[encoded data removed]",
      "text/plain": [
       "<Figure size 720x360 with 2 Axes>"
      ]
     },
     "metadata": {
      "needs_background": "light"
     },
     "output_type": "display_data"
    }
   ],
   "source": [
    "import matplotlib.pyplot as plt\n",
    "plt.figure(figsize=(10,5))\n",
    "ax = plt.subplot(121)\n",
    "speed=np.array(speed)\n",
    "ax.plot(speed[:,0], speed[:,1], 'r*-', lw=2, label=r\"ns per day\")\n",
    "ax.set_xlabel(\"Nodes (12 cores + GPU K40M)\")\n",
    "ax.set_ylabel(\"ns per day\")\n",
    "ax2 = plt.subplot(122)\n",
    "ax2.plot(speed[:,0], np.divide(speed[:,1],speed[:,0]), 'b*-', lw=2, label=r\"ns per day\")\n",
    "ax2.set_xlabel(\"Nodes (12 cores + GPU K40M)\")\n",
    "ax2.set_ylabel(\"Scaling\")\n",
    "plt.draw()"
   ]
  },
  {
   "cell_type": "code",
   "execution_count": null,
   "metadata": {},
   "outputs": [],
   "source": []
  },
  {
   "cell_type": "code",
   "execution_count": null,
   "metadata": {},
   "outputs": [],
   "source": []
  }
 ],
 "metadata": {
  "kernelspec": {
   "display_name": "Python [conda env:moldyn]",
   "language": "python",
   "name": "conda-env-moldyn-py"
  },
  "language_info": {
   "codemirror_mode": {
    "name": "ipython",
    "version": 3
   },
   "file_extension": ".py",
   "mimetype": "text/x-python",
   "name": "python",
   "nbconvert_exporter": "python",
   "pygments_lexer": "ipython3",
   "version": "3.7.1"
  }
 },
 "nbformat": 4,
 "nbformat_minor": 2
}
