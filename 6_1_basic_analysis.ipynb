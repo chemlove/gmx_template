{
 "cells": [
  {
   "cell_type": "markdown",
   "metadata": {},
   "source": [
    "## Basic analysis"
   ]
  },
  {
   "cell_type": "code",
   "execution_count": 10,
   "metadata": {},
   "outputs": [
    {
     "name": "stdout",
     "output_type": "stream",
     "text": [
      "The rpy2.ipython extension is already loaded. To reload it, use:\n",
      "  %reload_ext rpy2.ipython\n"
     ]
    },
    {
     "data": {
      "text/markdown": [
       "\n",
       "# MD simulations of H3-H4 with 30 bp of DNA, tails truncated\n",
       "- AMBER14SB force field\n",
       "- 50 mM NaCl\n",
       "- box 2nm\n"
      ],
      "text/plain": [
       "<IPython.core.display.Markdown object>"
      ]
     },
     "metadata": {},
     "output_type": "display_data"
    },
    {
     "name": "stdout",
     "output_type": "stream",
     "text": [
      "Folder set to:  h3-h4_tm_DNA\n",
      "Project name:  h3-h4_tm_DNA\n"
     ]
    }
   ],
   "source": [
    "#Libraries and main variables initialized\n",
    "import MDAnalysis as mda\n",
    "from MDAnalysis.analysis import align\n",
    "from MDAnalysis.analysis.rms import rmsd\n",
    "import numpy as np\n",
    "import urllib.request, json\n",
    "import os\n",
    "import re\n",
    "import nglview as nv\n",
    "from funcs import get_files_from_git\n",
    "from funcs import view_nucl\n",
    "\n",
    "\n",
    "import matplotlib.pyplot as plt\n",
    "\n",
    "import MDAnalysis.analysis.pca as pca\n",
    "import MDAnalysis.analysis.encore as encore\n",
    "from MDAnalysis.analysis.rms import RMSF\n",
    "\n",
    "from seq_tools.plot4seq import plot_prof4seq\n",
    "from Bio.Align import MultipleSeqAlignment\n",
    "from Bio.Seq import Seq\n",
    "from Bio.SeqRecord import SeqRecord\n",
    "from Bio.SeqUtils import seq1\n",
    "from seq_tools.hist_ss import get_hist_ss_in_aln_for_shade\n",
    "import numpy as np\n",
    "import xvg_plot as xvg\n",
    "import xpm_plot as xpm\n",
    "\n",
    "#Reloading funcs if changed\n",
    "from importlib import reload \n",
    "import funcs,config\n",
    "reload(funcs)\n",
    "reload(config)\n",
    "\n",
    "\n",
    "%matplotlib inline\n",
    "%load_ext rpy2.ipython\n",
    "\n",
    "from config import movtitle\n",
    "from IPython.display import Markdown, display\n",
    "from config import folder,descr,pname\n",
    "display(Markdown(descr))\n",
    "print(\"Folder set to: \",folder)\n",
    "print(\"Project name: \",pname)\n",
    "\n"
   ]
  },
  {
   "cell_type": "markdown",
   "metadata": {},
   "source": [
    "## Let's preview"
   ]
  },
  {
   "cell_type": "code",
   "execution_count": 12,
   "metadata": {},
   "outputs": [
    {
     "data": {
      "application/vnd.jupyter.widget-view+json": {
       "model_id": "596768c0d67b429b804136b7e1814d3d",
       "version_major": 2,
       "version_minor": 0
      },
      "text/plain": [
       "NGLWidget(count=266)"
      ]
     },
     "metadata": {},
     "output_type": "display_data"
    }
   ],
   "source": [
    "view_nucl('GMX_system/sys_ref.pdb', 'big_data/sys_md.xtc')\n",
    "\n",
    "\n",
    "## Movie"
   ]
  },
  {
   "cell_type": "code",
   "execution_count": 13,
   "metadata": {
    "scrolled": true
   },
   "outputs": [
    {
     "name": "stdout",
     "output_type": "stream",
     "text": [
      "/opt/miniconda3/envs/moldyn/vmd/vmd_LINUXAMD64: /usr/lib/x86_64-linux-gnu/libGL.so.1: no version information available (required by /opt/miniconda3/envs/moldyn/vmd/vmd_LINUXAMD64)\n",
      "Info) VMD for LINUXAMD64, version 1.9.3 (November 30, 2016)\n",
      "Info) http://www.ks.uiuc.edu/Research/vmd/                         \n",
      "Info) Email questions and bug reports to vmd@ks.uiuc.edu           \n",
      "Info) Please include this reference in published work using VMD:   \n",
      "Info)    Humphrey, W., Dalke, A. and Schulten, K., `VMD - Visual   \n",
      "Info)    Molecular Dynamics', J. Molec. Graphics 1996, 14.1, 33-38.\n",
      "Info) -------------------------------------------------------------\n",
      "Info) Multithreading available, 40 CPUs detected.\n",
      "Info)   CPU features: SSE2 AVX AVX2 FMA \n",
      "Info) Free system memory: 44GB (69%)\n",
      "Info) Creating CUDA device pool and initializing hardware...\n",
      "Info) Detected 1 available CUDA accelerator:\n",
      "Info) [0] GeForce GTX 1050 Ti  6 SM_6.1 @ 1.39 GHz, 3.9GB RAM, KTO, AE2, ZCP\n",
      "Info) Detected 1 available TachyonL/OptiX ray tracing accelerator\n",
      "Info)   Compiling 1 OptiX shaders on 1 target GPU...\n",
      "Info) Dynamically loaded 2 plugins in directory:\n",
      "Info) /opt/miniconda3/envs/moldyn/vmd/plugins/LINUXAMD64/molfile\n",
      "1\n",
      "MD simulations of H3-H4 with DNA, tails truncated\n",
      "1\n",
      "0\n",
      "big_data/h3-h4_xray.pdb\n",
      "GMX_system/sys_ref.pdb\n",
      "big_data/h3-h4.xtc\n",
      "big_data/sys_md.xtc\n",
      "0\n",
      "1\n",
      "0\n",
      "1\n",
      "0\n",
      "1\n",
      "vmd > ERROR) Illegal rendering mode: GLSL\n",
      "Info) Using plugin pdb for structure file GMX_system/sys_ref.pdb\n",
      "Info) Using plugin pdb for coordinates from file GMX_system/sys_ref.pdb\n",
      "Info) Determining bond structure from distance search ...\n",
      "Info) Finished with coordinate file GMX_system/sys_ref.pdb.\n",
      "Info) Analyzing structure ...\n",
      "Info)    Atoms: 4770\n",
      "Info)    Bonds: 4935\n",
      "Info)    Angles: 0  Dihedrals: 0  Impropers: 0  Cross-terms: 0\n",
      "Info)    Bondtypes: 0  Angletypes: 0  Dihedraltypes: 0  Impropertypes: 0\n",
      "Info)    Residues: 234\n",
      "Info)    Waters: 0\n",
      "Warning) Unusual bond between residues:  43 (none) and 44 (protein)\n",
      "Warning) Unusual bond between residues:  134 (protein) and 135 (none)\n",
      "Warning) Unusual bond between residues:  22 (none) and 23 (protein)\n",
      "Warning) Unusual bond between residues:  101 (protein) and 102 (none)\n",
      "Info)    Segments: 1\n",
      "Info)    Fragments: 4   Protein: 2   Nucleic: 2\n",
      "0\n",
      "Info) In any publication of scientific results based in part or\n",
      "Info) completely on the use of the program STRIDE, please reference:\n",
      "Info)  Frishman,D & Argos,P. (1995) Knowledge-based secondary structure\n",
      "Info)  assignment. Proteins: structure, function and genetics, 23, 566-579.\n",
      "Info) Using plugin pdb for structure file GMX_system/sys_ref.pdb\n",
      "Info) Using plugin pdb for coordinates from file GMX_system/sys_ref.pdb\n",
      "Info) Determining bond structure from distance search ...\n",
      "Info) Finished with coordinate file GMX_system/sys_ref.pdb.\n",
      "Info) Analyzing structure ...\n",
      "Info)    Atoms: 4770\n",
      "Info)    Bonds: 4935\n",
      "Info)    Angles: 0  Dihedrals: 0  Impropers: 0  Cross-terms: 0\n",
      "Info)    Bondtypes: 0  Angletypes: 0  Dihedraltypes: 0  Impropertypes: 0\n",
      "Info)    Residues: 234\n",
      "Info)    Waters: 0\n",
      "Warning) Unusual bond between residues:  43 (none) and 44 (protein)\n",
      "Warning) Unusual bond between residues:  134 (protein) and 135 (none)\n",
      "Warning) Unusual bond between residues:  22 (none) and 23 (protein)\n",
      "Warning) Unusual bond between residues:  101 (protein) and 102 (none)\n",
      "Info)    Segments: 1\n",
      "Info)    Fragments: 4   Protein: 2   Nucleic: 2\n",
      "1\n",
      "Info) Using plugin xtc for coordinates from file big_data/sys_md.xtc\n",
      "Info) Finished with coordinate file big_data/sys_md.xtc.\n",
      "1\n",
      "1\n",
      "Unable to change color name\n",
      "Unable to change color name\n",
      "Unable to change color name\n",
      "Unable to change color name\n",
      "Unable to change color name\n",
      "Unable to change color name\n",
      "2\n",
      "-480\n",
      "355\n",
      "25\n",
      "0\n",
      "1\n",
      "2\n",
      "8\n",
      "22\n",
      "Histones H3\n",
      "Histones H4\n",
      "Histones H2A\n",
      "Histones H2B\n",
      "Min groove ARG\n",
      "blue3\n",
      "green\n",
      "yellow2\n",
      "red3\n",
      "orange\n",
      "3\n",
      "4\n",
      "8\n",
      "5\n",
      "6\n",
      "9\n",
      "7\n",
      "8\n",
      "10\n",
      "Unable to show/hide this rep\n",
      "Will make images for movie\n",
      "Info) Rendering current scene to 'tmp/dat/1.dat.tga' ...\n",
      "Info) Tachyon: preprocessing time 0.079826 sec, render time 0.334965 sec.\n",
      "Total Tachyon rendering time: 0.5 sec\n",
      "Info) Rendering complete.\n",
      "Info) Rendering current scene to 'tmp/dat/2.dat.tga' ...\n",
      "Info) Tachyon: preprocessing time 0.054966 sec, render time 0.348763 sec.\n",
      "Total Tachyon rendering time: 0.5 sec\n",
      "Info) Rendering complete.\n",
      "Info) Rendering current scene to 'tmp/dat/3.dat.tga' ...\n",
      "Info) Tachyon: preprocessing time 0.051449 sec, render time 0.351779 sec.\n",
      "Total Tachyon rendering time: 0.5 sec\n",
      "Info) Rendering complete.\n",
      "Info) Rendering current scene to 'tmp/dat/4.dat.tga' ...\n",
      "Info) Tachyon: preprocessing time 0.052390 sec, render time 0.378618 sec.\n",
      "Total Tachyon rendering time: 0.5 sec\n",
      "Info) Rendering complete.\n",
      "Info) Rendering current scene to 'tmp/dat/5.dat.tga' ...\n",
      "Info) Tachyon: preprocessing time 0.051295 sec, render time 0.339853 sec.\n",
      "Total Tachyon rendering time: 0.5 sec\n",
      "Info) Rendering complete.\n",
      "Info) Rendering current scene to 'tmp/dat/6.dat.tga' ...\n",
      "Info) Tachyon: preprocessing time 0.048571 sec, render time 0.310831 sec.\n",
      "Total Tachyon rendering time: 0.4 sec\n",
      "Info) Rendering complete.\n",
      "Info) Rendering current scene to 'tmp/dat/7.dat.tga' ...\n",
      "Info) Tachyon: preprocessing time 0.053894 sec, render time 0.332693 sec.\n",
      "Total Tachyon rendering time: 0.5 sec\n",
      "Info) Rendering complete.\n",
      "Info) Rendering current scene to 'tmp/dat/8.dat.tga' ...\n",
      "Info) Tachyon: preprocessing time 0.051346 sec, render time 0.317551 sec.\n",
      "Total Tachyon rendering time: 0.4 sec\n",
      "Info) Rendering complete.\n",
      "Info) Rendering current scene to 'tmp/dat/9.dat.tga' ...\n",
      "Info) Tachyon: preprocessing time 0.046907 sec, render time 0.328570 sec.\n",
      "Total Tachyon rendering time: 0.5 sec\n",
      "Info) Rendering complete.\n",
      "Info) Rendering current scene to 'tmp/dat/10.dat.tga' ...\n",
      "Info) Tachyon: preprocessing time 0.050914 sec, render time 0.317055 sec.\n",
      "Total Tachyon rendering time: 0.4 sec\n",
      "Info) Rendering complete.\n",
      "Info) Rendering current scene to 'tmp/dat/11.dat.tga' ...\n",
      "Info) Tachyon: preprocessing time 0.050130 sec, render time 0.315386 sec.\n",
      "Total Tachyon rendering time: 0.4 sec\n",
      "Info) Rendering complete.\n",
      "Info) Rendering current scene to 'tmp/dat/12.dat.tga' ...\n",
      "Info) Tachyon: preprocessing time 0.054703 sec, render time 0.341228 sec.\n",
      "Total Tachyon rendering time: 0.5 sec\n",
      "Info) Rendering complete.\n",
      "Info) Rendering current scene to 'tmp/dat/13.dat.tga' ...\n",
      "Info) Tachyon: preprocessing time 0.049319 sec, render time 0.315560 sec.\n",
      "Total Tachyon rendering time: 0.4 sec\n",
      "Info) Rendering complete.\n",
      "Info) Rendering current scene to 'tmp/dat/14.dat.tga' ...\n",
      "Info) Tachyon: preprocessing time 0.053941 sec, render time 0.316946 sec.\n",
      "Total Tachyon rendering time: 0.5 sec\n",
      "Info) Rendering complete.\n",
      "Info) Rendering current scene to 'tmp/dat/15.dat.tga' ...\n",
      "Info) Tachyon: preprocessing time 0.059661 sec, render time 0.365785 sec.\n",
      "Total Tachyon rendering time: 0.5 sec\n",
      "Info) Rendering complete.\n",
      "Info) Rendering current scene to 'tmp/dat/16.dat.tga' ...\n",
      "Info) Tachyon: preprocessing time 0.047353 sec, render time 0.330258 sec.\n",
      "Total Tachyon rendering time: 0.4 sec\n",
      "Info) Rendering complete.\n",
      "Info) Rendering current scene to 'tmp/dat/17.dat.tga' ...\n",
      "Info) Tachyon: preprocessing time 0.053357 sec, render time 0.312651 sec.\n",
      "Total Tachyon rendering time: 0.4 sec\n",
      "Info) Rendering complete.\n",
      "Info) Rendering current scene to 'tmp/dat/18.dat.tga' ...\n",
      "Info) Tachyon: preprocessing time 0.052469 sec, render time 0.341177 sec.\n",
      "Total Tachyon rendering time: 0.5 sec\n",
      "Info) Rendering complete.\n",
      "Info) Rendering current scene to 'tmp/dat/19.dat.tga' ...\n",
      "Info) Tachyon: preprocessing time 0.050742 sec, render time 0.357442 sec.\n",
      "Total Tachyon rendering time: 0.5 sec\n",
      "Info) Rendering complete.\n",
      "Info) Rendering current scene to 'tmp/dat/20.dat.tga' ...\n",
      "Info) Tachyon: preprocessing time 0.052492 sec, render time 0.322161 sec.\n",
      "Total Tachyon rendering time: 0.5 sec\n",
      "Info) Rendering complete.\n",
      "Info) Rendering current scene to 'tmp/dat/21.dat.tga' ...\n",
      "Info) Tachyon: preprocessing time 0.050440 sec, render time 0.329669 sec.\n",
      "Total Tachyon rendering time: 0.5 sec\n",
      "Info) Rendering complete.\n",
      "Info) Rendering current scene to 'tmp/dat/22.dat.tga' ...\n",
      "Info) Tachyon: preprocessing time 0.052351 sec, render time 0.327478 sec.\n",
      "Total Tachyon rendering time: 0.5 sec\n",
      "Info) Rendering complete.\n",
      "Info) Rendering current scene to 'tmp/dat/23.dat.tga' ...\n",
      "Info) Tachyon: preprocessing time 0.052331 sec, render time 0.323829 sec.\n",
      "Total Tachyon rendering time: 0.5 sec\n",
      "Info) Rendering complete.\n",
      "Info) Rendering current scene to 'tmp/dat/24.dat.tga' ...\n",
      "Info) Tachyon: preprocessing time 0.053322 sec, render time 0.334806 sec.\n",
      "Total Tachyon rendering time: 0.5 sec\n",
      "Info) Rendering complete.\n",
      "Info) Rendering current scene to 'tmp/dat/25.dat.tga' ...\n",
      "Info) Tachyon: preprocessing time 0.053717 sec, render time 0.339958 sec.\n",
      "Total Tachyon rendering time: 0.5 sec\n",
      "Info) Rendering complete.\n",
      "Info) Rendering current scene to 'tmp/dat/26.dat.tga' ...\n",
      "Info) Tachyon: preprocessing time 0.051513 sec, render time 0.401958 sec.\n",
      "Total Tachyon rendering time: 0.5 sec\n",
      "Info) Rendering complete.\n",
      "Info) Rendering current scene to 'tmp/dat/27.dat.tga' ...\n",
      "Info) Tachyon: preprocessing time 0.052183 sec, render time 0.316810 sec.\n",
      "Total Tachyon rendering time: 0.4 sec\n",
      "Info) Rendering complete.\n",
      "Info) Rendering current scene to 'tmp/dat/28.dat.tga' ...\n",
      "Info) Tachyon: preprocessing time 0.047304 sec, render time 0.309487 sec.\n",
      "Total Tachyon rendering time: 0.4 sec\n",
      "Info) Rendering complete.\n",
      "Info) Rendering current scene to 'tmp/dat/29.dat.tga' ...\n",
      "Info) Tachyon: preprocessing time 0.051517 sec, render time 0.341747 sec.\n",
      "Total Tachyon rendering time: 0.5 sec\n",
      "Info) Rendering complete.\n",
      "Info) Rendering current scene to 'tmp/dat/30.dat.tga' ...\n",
      "Info) Tachyon: preprocessing time 0.049568 sec, render time 0.321867 sec.\n",
      "Total Tachyon rendering time: 0.4 sec\n",
      "Info) Rendering complete.\n",
      "Info) Rendering current scene to 'tmp/dat/31.dat.tga' ...\n",
      "Info) Tachyon: preprocessing time 0.050761 sec, render time 0.320164 sec.\n",
      "Total Tachyon rendering time: 0.4 sec\n",
      "Info) Rendering complete.\n",
      "Info) Rendering current scene to 'tmp/dat/32.dat.tga' ...\n",
      "Info) Tachyon: preprocessing time 0.053549 sec, render time 0.347654 sec.\n",
      "Total Tachyon rendering time: 0.5 sec\n",
      "Info) Rendering complete.\n",
      "Info) Rendering current scene to 'tmp/dat/33.dat.tga' ...\n",
      "Info) Tachyon: preprocessing time 0.048470 sec, render time 0.313009 sec.\n",
      "Total Tachyon rendering time: 0.4 sec\n",
      "Info) Rendering complete.\n",
      "Info) Rendering current scene to 'tmp/dat/34.dat.tga' ...\n",
      "Info) Tachyon: preprocessing time 0.052767 sec, render time 0.344619 sec.\n",
      "Total Tachyon rendering time: 0.5 sec\n",
      "Info) Rendering complete.\n",
      "Info) Rendering current scene to 'tmp/dat/35.dat.tga' ...\n",
      "Info) Tachyon: preprocessing time 0.054218 sec, render time 0.319181 sec.\n",
      "Total Tachyon rendering time: 0.4 sec\n",
      "Info) Rendering complete.\n",
      "Info) Rendering current scene to 'tmp/dat/36.dat.tga' ...\n",
      "Info) Tachyon: preprocessing time 0.052834 sec, render time 0.330552 sec.\n",
      "Total Tachyon rendering time: 0.5 sec\n",
      "Info) Rendering complete.\n",
      "Info) Rendering current scene to 'tmp/dat/37.dat.tga' ...\n",
      "Info) Tachyon: preprocessing time 0.052487 sec, render time 0.314764 sec.\n",
      "Total Tachyon rendering time: 0.4 sec\n",
      "Info) Rendering complete.\n",
      "Info) Rendering current scene to 'tmp/dat/38.dat.tga' ...\n",
      "Info) Tachyon: preprocessing time 0.053418 sec, render time 0.343892 sec.\n",
      "Total Tachyon rendering time: 0.5 sec\n",
      "Info) Rendering complete.\n",
      "Info) Rendering current scene to 'tmp/dat/39.dat.tga' ...\n",
      "Info) Tachyon: preprocessing time 0.053128 sec, render time 0.320451 sec.\n",
      "Total Tachyon rendering time: 0.4 sec\n",
      "Info) Rendering complete.\n",
      "Info) Rendering current scene to 'tmp/dat/40.dat.tga' ...\n",
      "Info) Tachyon: preprocessing time 0.054054 sec, render time 0.317190 sec.\n",
      "Total Tachyon rendering time: 0.4 sec\n",
      "Info) Rendering complete.\n",
      "Info) Rendering current scene to 'tmp/dat/41.dat.tga' ...\n",
      "Info) Tachyon: preprocessing time 0.049123 sec, render time 0.337714 sec.\n",
      "Total Tachyon rendering time: 0.5 sec\n",
      "Info) Rendering complete.\n",
      "Info) Rendering current scene to 'tmp/dat/42.dat.tga' ...\n",
      "Info) Tachyon: preprocessing time 0.055411 sec, render time 0.317010 sec.\n",
      "Total Tachyon rendering time: 0.4 sec\n",
      "Info) Rendering complete.\n",
      "Info) Rendering current scene to 'tmp/dat/43.dat.tga' ...\n",
      "Info) Tachyon: preprocessing time 0.050688 sec, render time 0.316040 sec.\n",
      "Total Tachyon rendering time: 0.4 sec\n",
      "Info) Rendering complete.\n",
      "Info) Rendering current scene to 'tmp/dat/44.dat.tga' ...\n",
      "Info) Tachyon: preprocessing time 0.052646 sec, render time 0.312689 sec.\n",
      "Total Tachyon rendering time: 0.4 sec\n",
      "Info) Rendering complete.\n",
      "Info) Rendering current scene to 'tmp/dat/45.dat.tga' ...\n",
      "Info) Tachyon: preprocessing time 0.054654 sec, render time 0.316941 sec.\n",
      "Total Tachyon rendering time: 0.4 sec\n",
      "Info) Rendering complete.\n",
      "Info) Rendering current scene to 'tmp/dat/46.dat.tga' ...\n",
      "Info) Tachyon: preprocessing time 0.056506 sec, render time 0.364869 sec.\n",
      "Total Tachyon rendering time: 0.5 sec\n",
      "Info) Rendering complete.\n",
      "Info) Rendering current scene to 'tmp/dat/47.dat.tga' ...\n",
      "Info) Tachyon: preprocessing time 0.051140 sec, render time 0.324574 sec.\n",
      "Total Tachyon rendering time: 0.4 sec\n",
      "Info) Rendering complete.\n",
      "Info) Rendering current scene to 'tmp/dat/48.dat.tga' ...\n",
      "Info) Tachyon: preprocessing time 0.051005 sec, render time 0.341034 sec.\n",
      "Total Tachyon rendering time: 0.5 sec\n",
      "Info) Rendering complete.\n",
      "Info) Rendering current scene to 'tmp/dat/49.dat.tga' ...\n",
      "Info) Tachyon: preprocessing time 0.055597 sec, render time 0.346350 sec.\n",
      "Total Tachyon rendering time: 0.5 sec\n",
      "Info) Rendering complete.\n",
      "Info) Rendering current scene to 'tmp/dat/50.dat.tga' ...\n",
      "Info) Tachyon: preprocessing time 0.053815 sec, render time 0.311658 sec.\n",
      "Total Tachyon rendering time: 0.4 sec\n",
      "Info) Rendering complete.\n",
      "Info) Rendering current scene to 'tmp/dat/51.dat.tga' ...\n",
      "Info) Tachyon: preprocessing time 0.053013 sec, render time 0.343584 sec.\n",
      "Total Tachyon rendering time: 0.5 sec\n",
      "Info) Rendering complete.\n",
      "Info) Rendering current scene to 'tmp/dat/52.dat.tga' ...\n",
      "Info) Tachyon: preprocessing time 0.057252 sec, render time 0.348493 sec.\n",
      "Total Tachyon rendering time: 0.5 sec\n",
      "Info) Rendering complete.\n",
      "Info) Rendering current scene to 'tmp/dat/53.dat.tga' ...\n",
      "Info) Tachyon: preprocessing time 0.052388 sec, render time 0.314829 sec.\n",
      "Total Tachyon rendering time: 0.4 sec\n",
      "Info) Rendering complete.\n",
      "Info) Rendering current scene to 'tmp/dat/54.dat.tga' ...\n",
      "Tachyon) Rendering progress:  29% complete  ^C\n",
      "ffmpeg version 4.0 Copyright (c) 2000-2018 the FFmpeg developers\n",
      "  built with gcc 7.2.0 (crosstool-NG fa8859cb)\n",
      "  configuration: --prefix=/opt/miniconda3/envs/moldyn --cc=/opt/conda/conda-bld/ffmpeg_1531088893642/_build_env/bin/x86_64-conda_cos6-linux-gnu-cc --disable-doc --enable-shared --enable-static --enable-zlib --enable-pic --enable-gpl --enable-version3 --disable-nonfree --enable-hardcoded-tables --enable-avresample --enable-libfreetype --disable-openssl --disable-gnutls --enable-libvpx --enable-pthreads --enable-libopus --enable-postproc --disable-libx264\n",
      "  libavutil      56. 14.100 / 56. 14.100\n",
      "  libavcodec     58. 18.100 / 58. 18.100\n",
      "  libavformat    58. 12.100 / 58. 12.100\n",
      "  libavdevice    58.  3.100 / 58.  3.100\n",
      "  libavfilter     7. 16.100 /  7. 16.100\n",
      "  libavresample   4.  0.  0 /  4.  0.  0\n",
      "  libswscale      5.  1.100 /  5.  1.100\n",
      "  libswresample   3.  1.100 /  3.  1.100\n",
      "  libpostproc    55.  1.100 / 55.  1.100\n",
      "Input #0, image2, from 'tmp/dat/%d.dat.tga':\n",
      "  Duration: 00:00:02.16, start: 0.000000, bitrate: N/A\n",
      "    Stream #0:0: Video: targa, bgr24, 1000x750, 25 fps, 25 tbr, 25 tbn, 25 tbc\n",
      "Stream mapping:\n",
      "  Stream #0:0 -> #0:0 (targa (native) -> mpeg4 (native))\n",
      "Press [q] to stop, [?] for help\n",
      "Output #0, mov, to 'big_data/movie.mov':\n",
      "  Metadata:\n",
      "    encoder         : Lavf58.12.100\n",
      "    Stream #0:0: Video: mpeg4 (mp4v / 0x7634706D), yuv420p, 1000x750, q=2-31, 200 kb/s, 25 fps, 12800 tbn, 25 tbc\n",
      "    Metadata:\n",
      "      encoder         : Lavc58.18.100 mpeg4\n",
      "    Side data:\n",
      "      cpb: bitrate max/min/avg: 0/0/200000 buffer size: 0 vbv_delay: -1\n",
      "frame=   54 fps=0.0 q=0.0 Lsize=    5168kB time=00:00:02.12 bitrate=19971.1kbits/s speed=8.48x    \n",
      "video:5167kB audio:0kB subtitle:0kB other streams:0kB global headers:0kB muxing overhead: 0.020713%\n"
     ]
    }
   ],
   "source": [
    "#args 1 1 will trigger generation of images for movie in tmp/dat\n",
    "!rm tmp/dat/*\n",
    "!vmd -dispdev none -e VMD_scripts/view_nucl.tcl -args GMX_system/sys_ref.pdb big_data/sys_md.xtc \"$movtitle\" 0 1 1 1 1\n",
    "!rm big_data/movie.*\n",
    "!ffmpeg -i tmp/dat/%d.dat.tga -s 1000x750 -q:v 0 -pix_fmt yuv420p  big_data/movie.mov\n",
    "#!ffmpeg -i tmp/dat/%d.dat.tga -s 1000x750 -q:v 0 -pix_fmt yuv420p  big_data/movie.wmv"
   ]
  },
  {
   "cell_type": "code",
   "execution_count": 14,
   "metadata": {},
   "outputs": [
    {
     "name": "stdout",
     "output_type": "stream",
     "text": [
      "/opt/miniconda3/envs/moldyn/vmd/vmd_LINUXAMD64: /usr/lib/x86_64-linux-gnu/libGL.so.1: no version information available (required by /opt/miniconda3/envs/moldyn/vmd/vmd_LINUXAMD64)\n",
      "Info) VMD for LINUXAMD64, version 1.9.3 (November 30, 2016)\n",
      "Info) http://www.ks.uiuc.edu/Research/vmd/                         \n",
      "Info) Email questions and bug reports to vmd@ks.uiuc.edu           \n",
      "Info) Please include this reference in published work using VMD:   \n",
      "Info)    Humphrey, W., Dalke, A. and Schulten, K., `VMD - Visual   \n",
      "Info)    Molecular Dynamics', J. Molec. Graphics 1996, 14.1, 33-38.\n",
      "Info) -------------------------------------------------------------\n",
      "Info) Multithreading available, 40 CPUs detected.\n",
      "Info)   CPU features: SSE2 AVX AVX2 FMA \n",
      "Info) Free system memory: 44GB (69%)\n",
      "Info) Creating CUDA device pool and initializing hardware...\n",
      "Info) Detected 1 available CUDA accelerator:\n",
      "Info) [0] GeForce GTX 1050 Ti  6 SM_6.1 @ 1.39 GHz, 3.9GB RAM, KTO, AE2, ZCP\n",
      "Info) Detected 1 available TachyonL/OptiX ray tracing accelerator\n",
      "Info)   Compiling 1 OptiX shaders on 1 target GPU...\n",
      "^C\n",
      "ffmpeg version 4.0 Copyright (c) 2000-2018 the FFmpeg developers\n",
      "  built with gcc 7.2.0 (crosstool-NG fa8859cb)\n",
      "  configuration: --prefix=/opt/miniconda3/envs/moldyn --cc=/opt/conda/conda-bld/ffmpeg_1531088893642/_build_env/bin/x86_64-conda_cos6-linux-gnu-cc --disable-doc --enable-shared --enable-static --enable-zlib --enable-pic --enable-gpl --enable-version3 --disable-nonfree --enable-hardcoded-tables --enable-avresample --enable-libfreetype --disable-openssl --disable-gnutls --enable-libvpx --enable-pthreads --enable-libopus --enable-postproc --disable-libx264\n",
      "  libavutil      56. 14.100 / 56. 14.100\n",
      "  libavcodec     58. 18.100 / 58. 18.100\n",
      "  libavformat    58. 12.100 / 58. 12.100\n",
      "  libavdevice    58.  3.100 / 58.  3.100\n",
      "  libavfilter     7. 16.100 /  7. 16.100\n",
      "  libavresample   4.  0.  0 /  4.  0.  0\n",
      "  libswscale      5.  1.100 /  5.  1.100\n",
      "  libswresample   3.  1.100 /  3.  1.100\n",
      "  libpostproc    55.  1.100 / 55.  1.100\n",
      "Input #0, image2, from 'tmp/dat/%d.dat.tga':\n",
      "  Duration: 00:00:02.16, start: 0.000000, bitrate: N/A\n",
      "    Stream #0:0: Video: targa, bgr24, 1000x750, 25 fps, 25 tbr, 25 tbn, 25 tbc\n",
      "Stream mapping:\n",
      "  Stream #0:0 -> #0:0 (targa (native) -> mpeg4 (native))\n",
      "Press [q] to stop, [?] for help\n",
      "Output #0, mov, to 'big_data/movie_sm20.mov':\n",
      "  Metadata:\n",
      "    encoder         : Lavf58.12.100\n",
      "    Stream #0:0: Video: mpeg4 (mp4v / 0x7634706D), yuv420p, 1000x750, q=2-31, 200 kb/s, 25 fps, 12800 tbn, 25 tbc\n",
      "    Metadata:\n",
      "      encoder         : Lavc58.18.100 mpeg4\n",
      "    Side data:\n",
      "      cpb: bitrate max/min/avg: 0/0/200000 buffer size: 0 vbv_delay: -1\n",
      "frame=   54 fps=0.0 q=0.0 Lsize=    5168kB time=00:00:02.12 bitrate=19971.1kbits/s speed=7.71x    \n",
      "video:5167kB audio:0kB subtitle:0kB other streams:0kB global headers:0kB muxing overhead: 0.020713%\n"
     ]
    }
   ],
   "source": [
    "#Make a smooth movie\n",
    "!vmd -dispdev none -e VMD_scripts/view_nucl.tcl -args GMX_system/sys_ref.pdb big_data/sys_md.xtc \"$movtitle, smoothed\" 20 1 1 1\n",
    "!rm big_data/movie_sm20.*\n",
    "!ffmpeg -i tmp/dat/%d.dat.tga -s 1000x750 -q:v 0 -pix_fmt yuv420p  big_data/movie_sm20.mov\n",
    "#!ffmpeg -i tmp/dat/%d.dat.tga -s 1000x750 -q:v 0 -pix_fmt yuv420p  big_data/movie_sm20.wmv"
   ]
  },
  {
   "cell_type": "code",
   "execution_count": 15,
   "metadata": {},
   "outputs": [
    {
     "data": {
      "text/html": [
       "<video width=\"320\" height=\"240\" controls>\n",
       "  <source src=\"big_data/movie.mov\" type=\"video/mp4\">\n",
       "</video>\n",
       "<video width=\"320\" height=\"240\" controls>\n",
       "  <source src=\"big_data/movie_sm20.mov\" type=\"video/mp4\">\n",
       "</video>\n"
      ],
      "text/plain": [
       "<IPython.core.display.HTML object>"
      ]
     },
     "metadata": {},
     "output_type": "display_data"
    }
   ],
   "source": [
    "%%HTML\n",
    "<video width=\"320\" height=\"240\" controls>\n",
    "  <source src=\"big_data/movie.mov\" type=\"video/mp4\">\n",
    "</video>\n",
    "<video width=\"320\" height=\"240\" controls>\n",
    "  <source src=\"big_data/movie_sm20.mov\" type=\"video/mp4\">\n",
    "</video>"
   ]
  },
  {
   "cell_type": "markdown",
   "metadata": {},
   "source": [
    "## RMSD, radius of gyration"
   ]
  },
  {
   "cell_type": "code",
   "execution_count": null,
   "metadata": {
    "scrolled": true
   },
   "outputs": [],
   "source": [
    "#MDAnalysis\n",
    "trj=mda.Universe('GMX_system/sys_ref.pdb', 'big_data/sys_md.xtc')\n",
    "ref = mda.Universe('GMX_system/sys_ref.pdb')\n",
    "R = mda.analysis.rms.RMSD(trj, ref, select=\"protein and backbone\",filename=\"big_data/rmsd.dat\")\n",
    "R.run()\n",
    "\n",
    "rmsd = R.rmsd.T   # transpose makes it easier for plotting\n",
    "\n",
    "time = list(map(lambda x: x/1000,rmsd[1]))\n",
    "\n",
    "prot = trj.select_atoms(\"protein or nucleic\")\n",
    "Rgyr=[]\n",
    "for ts in trj.trajectory[::1]:\n",
    "   Rgyr.append((trj.trajectory.time, prot.radius_of_gyration()))\n",
    "Rgyr = np.array(Rgyr)\n",
    "\n",
    "plt.figure(figsize=(15,6))\n",
    "ax = plt.subplot(211)\n",
    "ax.plot(time, rmsd[2], 'k-',  label=\"backbone\")\n",
    "ax.set_xlabel(\"time (ns)\")\n",
    "ax.set_ylabel(r\"RMSD ($\\AA$)\")\n",
    "\n",
    "ax2 = plt.subplot(212)\n",
    "ax2.plot(time, Rgyr[:,1], 'r--', lw=2, label=r\"$R_G$\")\n",
    "ax2.set_xlabel(\"time (ns)\")\n",
    "ax2.set_ylabel(r\"radius of gyration $R_G$ ($\\AA$)\")\n",
    "\n",
    "plt.draw()"
   ]
  },
  {
   "cell_type": "markdown",
   "metadata": {},
   "source": [
    "## RMSF along the sequence"
   ]
  },
  {
   "cell_type": "code",
   "execution_count": null,
   "metadata": {},
   "outputs": [],
   "source": [
    "# Let's extract the sequence\n",
    "u=mda.Universe('GMX_system/sys_ref.pdb')\n",
    "#prot = nuclMD.select_atoms(\"protein\")\n",
    "#u.select_atoms('segid A and protein').segments.resnames[0]\n",
    "#list(u.select_atoms('segid A and protein').segments.resnames[0])\n",
    "chainA_seq=seq1(''.join(list(u.select_atoms('segid A and protein').segments.resnames[0])))\n",
    "chainB_seq=seq1(''.join(list(u.select_atoms('segid B and protein').segments.resnames[0])))\n",
    "print(chainA_seq)\n",
    "#Let's get features\n",
    "msaH3=MultipleSeqAlignment([SeqRecord(Seq(chainA_seq[1:]),id='H3',name='H3')])\n",
    "featuresH3=get_hist_ss_in_aln_for_shade(msaH3,below=True)\n",
    "msaH4=MultipleSeqAlignment([SeqRecord(Seq(chainB_seq[1:]),id='H4',name='H4')])\n",
    "featuresH4=get_hist_ss_in_aln_for_shade(msaH4,below=True)\n"
   ]
  },
  {
   "cell_type": "code",
   "execution_count": null,
   "metadata": {},
   "outputs": [],
   "source": [
    "# Let's generate RMSF for every amino acid Calpha\n",
    "from MDAnalysis.analysis.rms import RMSF\n",
    "trj=mda.Universe('GMX_system/sys_ref.pdb', 'big_data/sys_md.xtc')\n",
    "calphasH3 = trj.select_atoms(\"segid A and name CA\")\n",
    "rmsferH3 = RMSF(calphasH3, verbose=True).run()\n",
    "calphasH4 = trj.select_atoms(\"segid B and name CA\")\n",
    "rmsferH4 = RMSF(calphasH4, verbose=True).run()"
   ]
  },
  {
   "cell_type": "markdown",
   "metadata": {},
   "source": [
    "### Texshade way"
   ]
  },
  {
   "cell_type": "code",
   "execution_count": null,
   "metadata": {},
   "outputs": [],
   "source": [
    "\n",
    "plot_prof4seq('big_data/h3-rmsf',rmsferH3.rmsf,msaH3,featuresH3,axis='RMSF, A')\n",
    "plot_prof4seq('big_data/h4-rmsf',rmsferH4.rmsf,msaH4,featuresH4,axis='RMSF, A')"
   ]
  },
  {
   "cell_type": "code",
   "execution_count": null,
   "metadata": {},
   "outputs": [],
   "source": [
    "%%HTML\n",
    "H3 C-alpha RMSF\n",
    "<img src=\"big_data/h3-rmsf.png\" alt=\"Plot\" >\n",
    "H4 C-alpha RMSF\n",
    "<img src=\"big_data/h4-rmsf.png\" alt=\"Plot\" >"
   ]
  },
  {
   "cell_type": "markdown",
   "metadata": {},
   "source": [
    "### Matplotlib way"
   ]
  },
  {
   "cell_type": "markdown",
   "metadata": {},
   "source": [
    "## C $\\alpha$ or P atom fluctuations\n",
    "We need to make plot as above but for side chains. The charactristic now is RMSF not of position but of RMSD taken for the atoms of the side chain."
   ]
  },
  {
   "cell_type": "code",
   "execution_count": null,
   "metadata": {},
   "outputs": [],
   "source": [
    "from MDAnalysis.analysis.rms import RMSD\n",
    "from seq_tools.mpl_shade import plot_on_seq\n",
    "trj=mda.Universe('GMX_system/sys_ref.pdb', 'big_data/sys_md.xtc')\n",
    "ref = mda.Universe('GMX_system/sys_ref.pdb')\n",
    "\n",
    "segIDs=trj.segments.segids\n",
    "for segID in segIDs:\n",
    "    calphas = trj.select_atoms(\"segid %s and name CA P\"%segID)\n",
    "    rmsfer = RMSF(calphas, verbose=True).run()\n",
    "    resids=trj.select_atoms('segid %s and (protein or nucleic) and  name CA P'%segID).residues.resids\n",
    "    features={}\n",
    "    if(len(trj.select_atoms('segid %s and protein'%segID).atoms)>0):\n",
    "        chain_seq=seq1(''.join(list(trj.select_atoms('segid %s and (protein or nucleic)'%segID).residues.resnames)))\n",
    "        msa=MultipleSeqAlignment([SeqRecord(Seq(chain_seq),id=segID,name=segID)])\n",
    "        features=get_hist_ss_in_aln_for_shade(msa,below=True)\n",
    "        display(Markdown('## Chain %s CA RMSF'%segID))\n",
    "    if(len(trj.select_atoms('segid %s and nucleic'%segID).atoms)>0):\n",
    "        chain_seq=''.join(list(trj.select_atoms('segid %s and (protein or nucleic)'%segID).residues.resnames))[1::2]\n",
    "        display(Markdown('## Chain %s P RMSF'%segID))\n",
    "    with plt.style.context(('ggplot')):\n",
    "        plot_on_seq(rmsfer.rmsf,chain_seq,features=features,resids=resids,\n",
    "                    y_axis_label=r'RMSF, $\\AA$',figsize=(15,2),dpi=80)\n",
    "   \n",
    "   "
   ]
  },
  {
   "cell_type": "markdown",
   "metadata": {},
   "source": [
    "## Fluctuation heat plots C$\\alpha$\n",
    "We need to make 2D heatplots showing a) C-alphas position deviation from X-ray, b) side chain RMSD, along the sequence in time."
   ]
  },
  {
   "cell_type": "code",
   "execution_count": null,
   "metadata": {},
   "outputs": [],
   "source": [
    "from MDAnalysis.analysis.rms import RMSD\n",
    "from seq_tools.mpl_shade import heatplot_on_seq\n",
    "trj=mda.Universe('GMX_system/sys_ref.pdb', 'big_data/sys_md.xtc')\n",
    "ref = mda.Universe('GMX_system/sys_ref.pdb')\n",
    "\n",
    "segIDs=trj.segments.segids\n",
    "for segID in segIDs:\n",
    "    resids=trj.select_atoms('segid %s and (protein or nucleic) and  name CA P'%segID).residues.resids\n",
    "    groupselections=[\"segid %s and (protein or nucleic) and resnum %d  and  name CA P\"%(segID,resid) for resid in resids]\n",
    "    chain_fluc=RMSD(trj, ref,\n",
    "           select=\"segid %s and (protein or nucleic) and  name CA P\"%segID,             # superimpose on whole backbone of the whole protein\n",
    "           groupselections=groupselections,                                    # NMP\n",
    "           filename=\"big_data/rmsd_all_resids_%s.dat\"%segID)\n",
    "    chain_fluc.run()\n",
    "    \n",
    "    \n",
    "    features={}\n",
    "    if(len(trj.select_atoms('segid %s and protein'%segID).atoms)>0):\n",
    "        chain_seq=seq1(''.join(list(trj.select_atoms('segid %s and (protein or nucleic)'%segID).residues.resnames)))\n",
    "        msa=MultipleSeqAlignment([SeqRecord(Seq(chain_seq),id=segID,name=segID)])\n",
    "        features=get_hist_ss_in_aln_for_shade(msa,below=True)\n",
    "        display(Markdown('## Chain %s CA RMSD'%segID))\n",
    "    if(len(trj.select_atoms('segid %s and nucleic'%segID).atoms)>0):\n",
    "        chain_seq=''.join(list(trj.select_atoms('segid %s and (protein or nucleic)'%segID).residues.resnames))[1::2]\n",
    "        display(Markdown('## Chain %s P RMSD'%segID))\n",
    "    \n",
    "    \n",
    "    fig1=heatplot_on_seq(chain_fluc.rmsd[:,3:],chain_seq,filename='big_data/RMSD_vs_T_ch%s.png'%segID,\n",
    "                      figsize=(10,5),dpi=80,features=features,resids=resids,cmap='plasma',\n",
    "                      y_axis_values=chain_fluc.rmsd[:,0]/1000, y_axis_label=r\"Time, $\\mu s$\",colorbar_label=r'RMSD, $\\AA$')\n",
    "\n",
    "\n"
   ]
  },
  {
   "cell_type": "markdown",
   "metadata": {},
   "source": [
    "## Fluctuation heat plots of sidechains or nucleobases\n",
    "We need to make 2D heatplots showing a) C-alphas position deviation from X-ray, b) side chain RMSD, along the sequence in time."
   ]
  },
  {
   "cell_type": "code",
   "execution_count": null,
   "metadata": {},
   "outputs": [],
   "source": [
    "from MDAnalysis.analysis.rms import RMSD\n",
    "from seq_tools.mpl_shade import heatplot_on_seq\n",
    "trj=mda.Universe('GMX_system/sys_ref.pdb', 'big_data/sys_md.xtc')\n",
    "ref = mda.Universe('GMX_system/sys_ref.pdb')\n",
    "\n",
    "segIDs=trj.segments.segids\n",
    "for segID in segIDs:\n",
    "    resids=trj.select_atoms('segid %s and (protein or nucleic) and  name CA P'%segID).residues.resids\n",
    "    groupselections=[\"segid %s and (protein or nucleic) and resnum %d  and  ((not backbone) or (name P O1P O2P C1' C2' C3' C4' C5' O3' O4' O5'))\"%(segID,resid) for resid in resids]\n",
    "    chain_fluc=RMSD(trj, ref,\n",
    "           select=\"segid %s and (protein or nucleic) and  name CA P\"%segID,             # superimpose on whole backbone of the whole protein\n",
    "           groupselections=groupselections,                                    # NMP\n",
    "           filename=\"big_data/rmsd_all_resids_%s.dat\"%segID)\n",
    "    chain_fluc.run()\n",
    "    \n",
    "    \n",
    "    features={}\n",
    "    if(len(trj.select_atoms('segid %s and protein'%segID).atoms)>0):\n",
    "        chain_seq=seq1(''.join(list(trj.select_atoms('segid %s and (protein or nucleic)'%segID).residues.resnames)))\n",
    "        msa=MultipleSeqAlignment([SeqRecord(Seq(chain_seq),id=segID,name=segID)])\n",
    "        features=get_hist_ss_in_aln_for_shade(msa,below=True)\n",
    "        display(Markdown('## Chain %s sidechain RMSF'%segID))\n",
    "        \n",
    "        rmsf=np.power(np.power(chain_fluc.rmsd.T[3:], 2).mean(1),0.5)\n",
    "        plot_on_seq(rmsf,chain_seq,features=features,resids=resids,\n",
    "                y_axis_label=r'RMSF, $\\AA$',figsize=(15,2),dpi=80)\n",
    "    \n",
    "        display(Markdown('## Chain %s sidechain RMSD'%segID))\n",
    "        fig1=heatplot_on_seq(chain_fluc.rmsd[:,3:],chain_seq,filename='big_data/RMSD_vs_T_ch%s.png'%segID,\n",
    "                      figsize=(10,5),dpi=80,features=features,resids=resids,cmap='plasma',\n",
    "                      y_axis_values=chain_fluc.rmsd[:,0]/1000, y_axis_label=r\"Time, $\\mu s$\",colorbar_label=r'RMSD, $\\AA$')\n",
    "\n",
    "\n",
    "\n",
    "    if(len(trj.select_atoms('segid %s and nucleic'%segID).atoms)>0):\n",
    "        chain_seq=''.join(list(trj.select_atoms('segid %s and (protein or nucleic)'%segID).residues.resnames))[1::2]\n",
    "        display(Markdown('## Chain %s nucleobase RMSF'%segID))\n",
    "        rmsf=np.power(np.power(chain_fluc.rmsd.T[3:], 2).mean(1),0.5)\n",
    "        plot_on_seq(rmsf,chain_seq,features=features,resids=resids,\n",
    "                y_axis_label=r'RMSF, $\\AA$',figsize=(15,2),dpi=80)\n",
    "    \n",
    "        display(Markdown('## Chain %s nucleobase RMSD'%segID))\n",
    "        fig1=heatplot_on_seq(chain_fluc.rmsd[:,3:],chain_seq,filename='big_data/RMSD_vs_T_ch%s.png'%segID,\n",
    "                      figsize=(10,5),dpi=80,features=features,resids=resids,cmap='plasma',\n",
    "                      y_axis_values=chain_fluc.rmsd[:,0]/1000, y_axis_label=r\"Time, $\\mu s$\",colorbar_label=r'RMSD, $\\AA$')\n",
    "\n",
    "\n",
    "\n",
    "\n"
   ]
  },
  {
   "cell_type": "markdown",
   "metadata": {},
   "source": [
    "## Cluster analysis"
   ]
  },
  {
   "cell_type": "markdown",
   "metadata": {},
   "source": [
    "Gromacs way\n",
    "\n",
    "http://manual.gromacs.org/documentation/current/onlinehelp/gmx-rms.html\n",
    "\n",
    "http://manual.gromacs.org/documentation/current/onlinehelp/gmx-cluster.html"
   ]
  },
  {
   "cell_type": "code",
   "execution_count": null,
   "metadata": {},
   "outputs": [],
   "source": [
    "%%bash\n",
    "#gromacs implementation \n",
    "gmx rms -dt 1 -tu ns -n GMX_system/index.ndx -s GMX_run/7_prod.tpr -f big_data/sys_md.xtc -f2 big_data/sys_md.xtc -m big_data/rmsd-matrix.xpm -o big_data/rmsd.xvg <<!\n",
    "!Water_and_ions\n",
    "!Water_and_ions\n",
    "!"
   ]
  },
  {
   "cell_type": "code",
   "execution_count": null,
   "metadata": {},
   "outputs": [],
   "source": [
    "from importlib import reload \n",
    "import xpm_plot\n",
    "reload(xpm_plot)"
   ]
  },
  {
   "cell_type": "code",
   "execution_count": null,
   "metadata": {},
   "outputs": [],
   "source": [
    "metadata, data = xpm.parse_xpm('big_data/rmsd-matrix.xpm')\n",
    "xpm.plot_data(data, metadata)\n"
   ]
  },
  {
   "cell_type": "code",
   "execution_count": null,
   "metadata": {},
   "outputs": [],
   "source": [
    "%%bash\n",
    "#gromacs implementation \n",
    "gmx cluster -n GMX_system/index.ndx -s GMX_run/7_prod.tpr -f big_data/sys_md.xtc -dm big_data/rmsd-matrix.xpm -dt 1000 \\\n",
    "-dist big_data/rms-distribution.xvg -o big_data/clusters.xpm -sz big_data/cluster-sizes.xvg \\\n",
    "-tr big_data/cluster-transitions.xpm -ntr big_data/cluster-transitions.xvg -g big_data/cluster.log \\\n",
    "-clid big_data/cluster-id-over-time.xvg -cl big_data/clusters.pdb -cutoff 0.3 -method gromos <<!\n",
    "!Water_and_ions\n",
    "!Water_and_ions\n",
    "!\n",
    "#if you get \n",
    "#Fatal error:\n",
    "#hi (0.000000) <= lo (0.000000)\n",
    "#Likely because cut-off is outside the RMSD range - increase or decrease it!\n"
   ]
  },
  {
   "cell_type": "code",
   "execution_count": null,
   "metadata": {},
   "outputs": [],
   "source": [
    "view_nucl('big_data/clusters.pdb')\n"
   ]
  },
  {
   "cell_type": "markdown",
   "metadata": {},
   "source": [
    "### Plot clustering XVG files"
   ]
  },
  {
   "cell_type": "code",
   "execution_count": null,
   "metadata": {},
   "outputs": [],
   "source": [
    "metadata, data = xvg.parse_xvg('big_data/cluster-id-over-time.xvg', 'all')\n",
    "xvg.plot_data(data, metadata)\n"
   ]
  },
  {
   "cell_type": "markdown",
   "metadata": {},
   "source": [
    "## PCA"
   ]
  },
  {
   "cell_type": "markdown",
   "metadata": {},
   "source": [
    "## PCA analysis"
   ]
  },
  {
   "cell_type": "markdown",
   "metadata": {},
   "source": [
    "http://manual.gromacs.org/documentation/2018/onlinehelp/gmx-covar.html"
   ]
  },
  {
   "cell_type": "code",
   "execution_count": null,
   "metadata": {},
   "outputs": [],
   "source": [
    "%%bash \n",
    "#gromacs implementation\n",
    "#Choose a group for the least squares fit (choose mainchain+H for protein PCA)\n",
    "#Choose a group for the covariance analysis (choose mainchain+H for protein PCA)\n",
    "\n",
    "#gmx covar -s GMX_run/7_prod.tpr -f big_data/h3-h4.xtc -o big_data/eigenval.xvg -v big_data/eigenvect.trr -xpma big_data/covara.xpm <<!\n",
    "#4\n",
    "#4\n",
    "#!\n",
    "gmx covar -n GMX_system/index.ndx -s GMX_run/7_prod.tpr -f big_data/sys_md.xtc -o big_data/eigenval.xvg -v big_data/eigenvect.trr -xpma big_data/covara.xpm -av big_data/average.pdb -l big_data/covar.log <<!\n",
    "MainChain+H\n",
    "MainChain+H\n",
    "!"
   ]
  },
  {
   "cell_type": "code",
   "execution_count": null,
   "metadata": {},
   "outputs": [],
   "source": [
    "#This is now done in step 1_prepare\n",
    "#%%bash --out out --err err\n",
    "## Let's make backbone file\n",
    "#gmx trjconv -f GMX_system/init_solv_ions.pdb -s GMX_run/7_prod.tpr -o big_data/bb_xray.pdb << !\n",
    "#4\n",
    "#!\n",
    "#gmx trjconv -f GMX_system/init_solv_ions.pdb -s GMX_run/7_prod.tpr -o big_data/bb-h_xray.pdb << !\n",
    "#7\n",
    "#!"
   ]
  },
  {
   "cell_type": "code",
   "execution_count": null,
   "metadata": {},
   "outputs": [],
   "source": [
    "from importlib import reload \n",
    "import MDAnalysis as mda\n",
    "import xpm_plot\n",
    "\n",
    "\n",
    "reload(xvg_plot)\n",
    "reload(xpm_plot)"
   ]
  },
  {
   "cell_type": "code",
   "execution_count": null,
   "metadata": {},
   "outputs": [],
   "source": [
    "metadata, data = xvg.parse_xvg('big_data/eigenval.xvg', 'all')\n",
    "data=np.array(data)\n",
    "data=data[:,0:10]\n",
    "xvg.plot_data(data, metadata,figsize=(5,5))\n"
   ]
  },
  {
   "cell_type": "code",
   "execution_count": null,
   "metadata": {},
   "outputs": [],
   "source": [
    "metadata, data = xpm.parse_xpm('big_data/covara.xpm')\n",
    "xpm.plot_data(data, metadata)\n"
   ]
  },
  {
   "cell_type": "markdown",
   "metadata": {},
   "source": [
    "### Let's filter our trajectory along one or several eigenvectors\n",
    "http://manual.gromacs.org/documentation/2018/onlinehelp/gmx-anaeig.html"
   ]
  },
  {
   "cell_type": "code",
   "execution_count": null,
   "metadata": {},
   "outputs": [],
   "source": [
    "%%bash --err err \n",
    "gmx anaeig -v big_data/eigenvect.trr -dt 10000 -s GMX_run/7_prod.tpr -n GMX_system/index.ndx -f big_data/sys_md.xtc -first 1 -last 1 -filt big_data/filtered.xtc <<!\n",
    "MainChain+H\n",
    "MainChain+H\n",
    "!\n",
    "# We need to center it\n",
    "gmx trjconv -f big_data/filtered.xtc -s GMX_system/prot_bb-h_ref.pdb -o big_data/filtered.xtc -fit rot+trans << !\n",
    "System\n",
    "System\n",
    "!"
   ]
  },
  {
   "cell_type": "code",
   "execution_count": null,
   "metadata": {},
   "outputs": [],
   "source": [
    "view_nucl('GMX_system/prot_bb-h_ref.pdb','big_data/filtered.xtc')"
   ]
  },
  {
   "cell_type": "markdown",
   "metadata": {},
   "source": [
    "#### Let's make movie"
   ]
  },
  {
   "cell_type": "code",
   "execution_count": null,
   "metadata": {
    "scrolled": true
   },
   "outputs": [],
   "source": [
    "!rm tmp/dat/*\n",
    "!vmd -dispdev none -e VMD_scripts/view_nucl.tcl -args GMX_system/prot_bb-h_ref.pdb big_data/filtered.xtc \"$movtitle, filtered 1 eigenvector\" 0 1 1 1\n",
    "!rm big_data/movie_pca_filt.*\n",
    "!ffmpeg -i tmp/dat/%d.dat.tga -s 1000x750 -q:v 0 -pix_fmt yuv420p  big_data/movie_pca_filt.mov\n",
    "#!ffmpeg -i tmp/dat/%d.dat.tga -s 1000x750 -q:v 0 -pix_fmt yuv420p  big_data/movie_pca_filt.wmv"
   ]
  },
  {
   "cell_type": "code",
   "execution_count": null,
   "metadata": {},
   "outputs": [],
   "source": [
    "%%HTML\n",
    "<video width=\"320\" height=\"240\" controls>\n",
    "  <source src=\"big_data/movie_pca_filt.mov\" type=\"video/mp4\">\n",
    "</video>"
   ]
  },
  {
   "cell_type": "markdown",
   "metadata": {},
   "source": [
    "### Let's make interpolations for 6 PCA vectors\n",
    "http://manual.gromacs.org/documentation/2018/onlinehelp/gmx-anaeig.html"
   ]
  },
  {
   "cell_type": "code",
   "execution_count": null,
   "metadata": {},
   "outputs": [],
   "source": [
    "%%bash \n",
    "#--out out --err err\n",
    "gmx anaeig -v big_data/eigenvect.trr -s GMX_run/7_prod.tpr -n GMX_system/index.ndx -f big_data/sys_md.xtc -first 1 -last 6 -nframes 50  -extr big_data/interp.xtc<<!\n",
    "MainChain+H\n",
    "MainChain+H\n",
    "!\n",
    "\n",
    "for i in `seq 1 6`; do\n",
    "echo $i\n",
    "gmx trjconv -f big_data/interp$i.xtc -s GMX_system/prot_bb-h_ref.pdb -o big_data/interp$i.xtc -fit rot+trans << !\n",
    "System\n",
    "System\n",
    "!\n",
    "done"
   ]
  },
  {
   "cell_type": "code",
   "execution_count": null,
   "metadata": {},
   "outputs": [],
   "source": [
    "view_nucl('GMX_system/prot_bb-h_ref.pdb','big_data/interp1.xtc',gui=True)"
   ]
  },
  {
   "cell_type": "code",
   "execution_count": null,
   "metadata": {},
   "outputs": [],
   "source": [
    "#!vmd -e VMD_scripts/view_nucl.tcl -args GMX_system/prot_bb-h_ref.pdb big_data/interp1.xtc \"MD, PCA eigenv. 1 interp\" 0 0 0 0\n"
   ]
  },
  {
   "cell_type": "code",
   "execution_count": null,
   "metadata": {
    "scrolled": true
   },
   "outputs": [],
   "source": [
    "%%writefile tmp/render.sh\n",
    "#!/bin/bash\n",
    "for p in `seq 1 6`; do \n",
    "rm tmp/dat/* ;\n",
    "vmd -dispdev none -e VMD_scripts/view_nucl.tcl -args GMX_system/prot_bb-h_ref.pdb big_data/interp$p.xtc \"$1, PCA eigenv. $p interp.\" 0 1 1 0\n",
    "\n",
    "echo \"Let's add back frames\" \n",
    "for i in `seq 2 49`; do\n",
    "f=`expr 100 - $i`\n",
    "echo $f\n",
    "cp tmp/dat/$i.dat.tga tmp/dat/$f.dat.tga\n",
    "done \n",
    "\n",
    "# Let's generate videos\n",
    "rm big_data/movie_pca$p.* ;\n",
    "ffmpeg -i tmp/dat/%d.dat.tga -s 1000x750 -q:v 0 -pix_fmt yuv420p  big_data/movie_pca$p.mov \n",
    "done \n",
    "\n",
    "#This concats a movie with its reverse\n",
    "#ffmpeg -i tmp/dat/%d.dat.tga -s 1000x750 -q:v 0 -pix_fmt yuv420p  -filter_complex \"[0:v]reverse,fifo[r];[0:v][r] concat=n=2:v=1 [v]\" -map \"[v]\" big_data/movie_pca1.mov\n",
    "\n"
   ]
  },
  {
   "cell_type": "code",
   "execution_count": null,
   "metadata": {},
   "outputs": [],
   "source": [
    "!chmod u+x tmp/render.sh\n",
    "!tmp/render.sh \"$movtitle\""
   ]
  },
  {
   "cell_type": "code",
   "execution_count": null,
   "metadata": {},
   "outputs": [],
   "source": [
    "%%HTML\n",
    "<video width=\"320\" height=\"240\" controls loop>\n",
    "  <source src=\"big_data/movie_pca1.mov\" type=\"video/mp4\">\n",
    "</video>\n",
    "<video width=\"320\" height=\"240\" controls loop>\n",
    "  <source src=\"big_data/movie_pca2.mov\" type=\"video/mp4\">\n",
    "</video>\n",
    "<video width=\"320\" height=\"240\" controls loop>\n",
    "  <source src=\"big_data/movie_pca3.mov\" type=\"video/mp4\">\n",
    "</video>\n",
    "<video width=\"320\" height=\"240\" controls loop>\n",
    "  <source src=\"big_data/movie_pca4.mov\" type=\"video/mp4\">\n",
    "</video>\n",
    "<video width=\"320\" height=\"240\" controls loop>\n",
    "  <source src=\"big_data/movie_pca5.mov\" type=\"video/mp4\">\n",
    "</video>\n",
    "<video width=\"320\" height=\"240\" controls loop>\n",
    "  <source src=\"big_data/movie_pca6.mov\" type=\"video/mp4\">\n",
    "</video>"
   ]
  },
  {
   "cell_type": "markdown",
   "metadata": {},
   "source": [
    "## Let's plot projections"
   ]
  },
  {
   "cell_type": "code",
   "execution_count": null,
   "metadata": {},
   "outputs": [],
   "source": [
    "%%bash --out out --err err\n",
    "gmx anaeig -v big_data/eigenvect.trr -s GMX_run/7_prod.tpr -n GMX_system/index.ndx -f big_data/sys_md.xtc -first 1 -last 2 -2d big_data/2d_pca12.xvg<<!\n",
    "MainChain+H\n",
    "MainChain+H\n",
    "!"
   ]
  },
  {
   "cell_type": "code",
   "execution_count": null,
   "metadata": {},
   "outputs": [],
   "source": [
    "metadata, data = xvg.parse_xvg('big_data/2d_pca12.xvg', 'all')\n",
    "xvg.plot_data(data, metadata,figsize=(5,5),type='b*')"
   ]
  },
  {
   "cell_type": "code",
   "execution_count": null,
   "metadata": {},
   "outputs": [],
   "source": [
    "%%bash --out out --err err\n",
    "gmx anaeig -v big_data/eigenvect.trr -s GMX_run/7_prod.tpr -n GMX_system/index.ndx -f big_data/sys_md.xtc -first 2 -last 3 -2d big_data/2d_pca23.xvg<<!\n",
    "MainChain+H\n",
    "MainChain+H\n",
    "!"
   ]
  },
  {
   "cell_type": "code",
   "execution_count": null,
   "metadata": {},
   "outputs": [],
   "source": [
    "metadata, data = xvg.parse_xvg('big_data/2d_pca23.xvg', 'all')\n",
    "xvg.plot_data(data, metadata,figsize=(5,5),type='b*')"
   ]
  },
  {
   "cell_type": "code",
   "execution_count": null,
   "metadata": {},
   "outputs": [],
   "source": [
    "%%bash --out out --err err\n",
    "gmx anaeig -v big_data/eigenvect.trr -s GMX_run/7_prod.tpr -n GMX_system/index.ndx -f big_data/sys_md.xtc -first 3 -last 4 -2d big_data/2d_pca34.xvg<<!\n",
    "MainChain+H\n",
    "MainChain+H\n",
    "!"
   ]
  },
  {
   "cell_type": "code",
   "execution_count": null,
   "metadata": {},
   "outputs": [],
   "source": [
    "metadata, data = xvg.parse_xvg('big_data/2d_pca34.xvg', 'all')\n",
    "xvg.plot_data(data, metadata,figsize=(5,5),type='b*')"
   ]
  },
  {
   "cell_type": "code",
   "execution_count": null,
   "metadata": {},
   "outputs": [],
   "source": []
  },
  {
   "cell_type": "code",
   "execution_count": null,
   "metadata": {},
   "outputs": [],
   "source": [
    "%%bash --out out --err err\n",
    "gmx anaeig -v big_data/eigenvect.trr -s GMX_run/7_prod.tpr -n GMX_system/index.ndx -f big_data/sys_md.xtc -first 4 -last 5 -2d big_data/2d_pca45.xvg<<!\n",
    "MainChain+H\n",
    "MainChain+H\n",
    "!"
   ]
  },
  {
   "cell_type": "code",
   "execution_count": null,
   "metadata": {},
   "outputs": [],
   "source": [
    "metadata, data = xvg.parse_xvg('big_data/2d_pca45.xvg', 'all')\n",
    "xvg.plot_data(data, metadata,figsize=(5,5),type='b*')"
   ]
  },
  {
   "cell_type": "code",
   "execution_count": null,
   "metadata": {},
   "outputs": [],
   "source": []
  },
  {
   "cell_type": "code",
   "execution_count": null,
   "metadata": {},
   "outputs": [],
   "source": []
  },
  {
   "cell_type": "code",
   "execution_count": null,
   "metadata": {},
   "outputs": [],
   "source": []
  }
 ],
 "metadata": {
  "kernelspec": {
   "display_name": "Python [conda env:moldyn]",
   "language": "python",
   "name": "conda-env-moldyn-py"
  },
  "language_info": {
   "codemirror_mode": {
    "name": "ipython",
    "version": 3
   },
   "file_extension": ".py",
   "mimetype": "text/x-python",
   "name": "python",
   "nbconvert_exporter": "python",
   "pygments_lexer": "ipython3",
   "version": "3.7.1"
  }
 },
 "nbformat": 4,
 "nbformat_minor": 2
}
