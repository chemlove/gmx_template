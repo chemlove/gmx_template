{
 "cells": [
  {
   "cell_type": "markdown",
   "metadata": {},
   "source": [
    "# H3-H4 dimer with truncated tails in water\n",
    "## Minimize and equilibrate\n",
    " - Minimize\n",
    " - Equilibrate\n",
    " \n",
    " Sanity checks along the way.\n",
    " \n",
    " Protocol files are copied from https://github.com/intbio/gmx_protocols/tree/master/amber into\n",
    "Protocols folder.\n",
    "If others are needed modify then in the folder."
   ]
  },
  {
   "cell_type": "markdown",
   "metadata": {},
   "source": [
    "### Software packages\n",
    "- Python 3\n",
    "- `conda install -c intbio gromacs=2018.3`\n",
    "- `conda install -c conda-forge jupyterlab` OR `conda install jupyter`\n",
    "- `conda install -c conda-forge mdanalysis`\n",
    "- `conda install -c conda-forge wget`\n",
    "- `conda install nglview -c conda-forge`\n",
    "\n",
    "For jupyterlab\n",
    "- `conda install nodejs`\n",
    "- `jupyter-labextension install @jupyter-widgets/jupyterlab-manager@0.33.2`\n",
    "- `jupyter-labextension install nglview-js-widgets@1.1.2`"
   ]
  },
  {
   "cell_type": "code",
   "execution_count": 19,
   "metadata": {},
   "outputs": [],
   "source": [
    "#Libraries and main variables initialized\n",
    "import MDAnalysis as mda\n",
    "from MDAnalysis.analysis import align\n",
    "from MDAnalysis.analysis.rms import rmsd\n",
    "import numpy as np\n",
    "import urllib.request, json\n",
    "import os\n",
    "import re\n",
    "import nglview as nv\n",
    "from funcs import get_files_from_git\n",
    "from funcs import view_nucl\n",
    "\n",
    "\n",
    "\n",
    "%matplotlib inline\n",
    "folder=\"h3-h4_tm\" #This one is important - set it to a unique value"
   ]
  },
  {
   "cell_type": "code",
   "execution_count": null,
   "metadata": {},
   "outputs": [],
   "source": [
    "%%bash\n",
    "rm -rf MDProtocols"
   ]
  },
  {
   "cell_type": "code",
   "execution_count": null,
   "metadata": {},
   "outputs": [],
   "source": [
    "#Set protocols URL\n",
    "prot_url=\"https://api.github.com/repos/intbio/gmx_protocols/contents/amber\""
   ]
  },
  {
   "cell_type": "code",
   "execution_count": null,
   "metadata": {},
   "outputs": [],
   "source": [
    "get_files_from_git(prot_url,'MDProtocols/')"
   ]
  },
  {
   "cell_type": "markdown",
   "metadata": {},
   "source": [
    "### 1_Minimization - steepest descent gradient method 10000 steps with POSRED constraints"
   ]
  },
  {
   "cell_type": "markdown",
   "metadata": {},
   "source": [
    "#### Prepare tpr files using GROMPP\n",
    "- http://manual.gromacs.org/documentation/current/onlinehelp/gmx-grompp.html"
   ]
  },
  {
   "cell_type": "code",
   "execution_count": null,
   "metadata": {},
   "outputs": [],
   "source": [
    "%%bash\n",
    "#Prepare system\n",
    "mkdir -p GMX_run\n",
    "gmx grompp -f MDProtocols/1_minim.mdp -c GMX_system/init_solv_ions.pdb -p GMX_system/topol.top \\\n",
    "-o GMX_run/1_minim.tpr -r GMX_system/init_solv_ions.pdb -n GMX_system/index.ndx -po GMX_run/mdout_1_minim.mdp\n"
   ]
  },
  {
   "cell_type": "markdown",
   "metadata": {},
   "source": [
    "#### Run: Option 1 - locally"
   ]
  },
  {
   "cell_type": "code",
   "execution_count": null,
   "metadata": {},
   "outputs": [],
   "source": [
    "%%bash\n",
    "cd GMX_run\n",
    "gmx mdrun -nt 20 -deffnm 1_minim # if you want to run locally, nt is the number of threads"
   ]
  },
  {
   "cell_type": "code",
   "execution_count": null,
   "metadata": {},
   "outputs": [],
   "source": []
  },
  {
   "cell_type": "markdown",
   "metadata": {},
   "source": [
    "#### Run: Option 2 - sending and simulating on Lomonosov-2"
   ]
  },
  {
   "cell_type": "code",
   "execution_count": 35,
   "metadata": {},
   "outputs": [],
   "source": [
    "%%bash -s \"$folder\" --err err\n",
    "#Make folder remotely\n",
    "#echo \"Executing:\"\n",
    "#echo \"ssh lomo2 \\\"mkdir -p ~/_scratch/$1\\\"\"\n",
    "ssh lomo2 \"mkdir -p ~/_scratch/$1\" 2>/dev/null\n"
   ]
  },
  {
   "cell_type": "code",
   "execution_count": null,
   "metadata": {},
   "outputs": [],
   "source": [
    "%%bash -s \"$folder\" --err err --out out\n",
    "#Copy to SC\n",
    "\n",
    "cp Run_scripts/lomo2_run.sh GMX_run/\n",
    "scp -r GMX_run lomo2:~/_scratch/$1/;"
   ]
  },
  {
   "cell_type": "code",
   "execution_count": null,
   "metadata": {},
   "outputs": [],
   "source": [
    "%%bash -s \"$folder\" \n",
    "#--out out --err err\n",
    "ssh lomo2 \"module load slurm gromacs/2018-gcc; cd ~/_scratch/$1/GMX_run; \\\n",
    "sbatch -p test -t 00:15:00 -N 2 -J $1 lomo2_run.sh 1_minim\"\n",
    "#gmx mdrun -deffnm GMX_run/minimization # if you want to run locally"
   ]
  },
  {
   "cell_type": "code",
   "execution_count": null,
   "metadata": {},
   "outputs": [],
   "source": [
    "#get job id\n",
    "print(out)\n",
    "job_idm=re.findall(r'\\d+', out)[0]\n",
    "print(job_idm)"
   ]
  },
  {
   "cell_type": "code",
   "execution_count": null,
   "metadata": {},
   "outputs": [],
   "source": [
    "%%bash -s \"$job_idm\"   --err err\n",
    "# check job status\n",
    "ssh lomo2 \"module load slurm gromacs/2018-gcc; squeue -j $1 \" || echo \"No job in queue\""
   ]
  },
  {
   "cell_type": "code",
   "execution_count": null,
   "metadata": {},
   "outputs": [],
   "source": [
    "%%bash -s \"$folder\"  \"$job_idm\"  --err err\n",
    "# check job status\n",
    "ssh lomo2 \"tail -n 25 ~/_scratch/$1/GMX_run/egmx.$2\""
   ]
  },
  {
   "cell_type": "code",
   "execution_count": null,
   "metadata": {},
   "outputs": [],
   "source": [
    "%%bash -s \"$folder\" --err err \n",
    "#Purge # files\n",
    "\n",
    "ssh lomo2 \"rm -f ~/_scratch/$1/GMX_run/\\#*; ls ~/_scratch/$1/GMX_run/\""
   ]
  },
  {
   "cell_type": "code",
   "execution_count": null,
   "metadata": {},
   "outputs": [],
   "source": [
    "%%bash -s \"$folder\" --err err --out out\n",
    "#Get back data\n",
    "\n",
    "scp lomo2:~/_scratch/$1/GMX_run/* GMX_run/ ;"
   ]
  },
  {
   "cell_type": "markdown",
   "metadata": {},
   "source": [
    "#### Analyze what we get"
   ]
  },
  {
   "cell_type": "code",
   "execution_count": 18,
   "metadata": {},
   "outputs": [
    {
     "data": {
      "application/vnd.jupyter.widget-view+json": {
       "model_id": "f35d072c631e4b81ab0830241d8e22e8",
       "version_major": 2,
       "version_minor": 0
      },
      "text/plain": [
       "NGLWidget(count=7)"
      ]
     },
     "metadata": {},
     "output_type": "display_data"
    }
   ],
   "source": [
    "view_nucl('GMX_system/init_solv_ions.pdb','GMX_run/1_minim.trr')"
   ]
  },
  {
   "cell_type": "markdown",
   "metadata": {},
   "source": [
    "### 2_Equilibration 200 ps with postional restraints of 500 kJ/mol/A2"
   ]
  },
  {
   "cell_type": "code",
   "execution_count": null,
   "metadata": {},
   "outputs": [],
   "source": [
    "%%bash  \n",
    "#--out out --err err\n",
    "gmx grompp -f MDProtocols/2_equil.mdp -c GMX_run/1_minim.gro -p GMX_system/topol.top \\\n",
    "-o GMX_run/2_equil.tpr -v  -r GMX_run/1_minim.gro -n GMX_system/index.ndx -po GMX_run/mdout_2_equil.mdp\n"
   ]
  },
  {
   "cell_type": "markdown",
   "metadata": {},
   "source": [
    "#### Run: Option 1 - locally"
   ]
  },
  {
   "cell_type": "code",
   "execution_count": null,
   "metadata": {},
   "outputs": [],
   "source": [
    "%%bash\n",
    "cd GMX_run\n",
    "gmx mdrun -deffnm 2_equil # if you want to run locally"
   ]
  },
  {
   "cell_type": "markdown",
   "metadata": {},
   "source": [
    "#### Run: Option 2 - sending and simulating on Lomonosov-2"
   ]
  },
  {
   "cell_type": "code",
   "execution_count": null,
   "metadata": {},
   "outputs": [],
   "source": [
    "%%bash -s \"$folder\" --err err --out out\n",
    "#Copy to SC\n",
    "\n",
    "cp Run_scripts/lomo2_run.sh GMX_run/\n",
    "rsync -r GMX_run lomo2:~/_scratch/$1/;"
   ]
  },
  {
   "cell_type": "code",
   "execution_count": null,
   "metadata": {},
   "outputs": [],
   "source": [
    "%%bash -s \"$folder\" --out out --err err\n",
    "ssh lomo2 \"module load slurm gromacs/2018-gcc; cd ~/_scratch/$1/GMX_run; \\\n",
    "sbatch -p compute -t 00:15:00 -N 5 lomo2_run.sh 2_equil\""
   ]
  },
  {
   "cell_type": "code",
   "execution_count": null,
   "metadata": {},
   "outputs": [],
   "source": [
    "#get job id\n",
    "print(out)\n",
    "job_ide=re.findall(r'\\d+', out)[0]\n",
    "print(job_ide)"
   ]
  },
  {
   "cell_type": "code",
   "execution_count": null,
   "metadata": {},
   "outputs": [],
   "source": [
    "#job_ide=869439"
   ]
  },
  {
   "cell_type": "code",
   "execution_count": null,
   "metadata": {},
   "outputs": [],
   "source": [
    "%%bash -s   \"$job_ide\"   --err err\n",
    "# check job status\n",
    "ssh lomo2 \"module load slurm gromacs/2018-gcc; squeue -j $1 \" || echo \"No job in queue\""
   ]
  },
  {
   "cell_type": "code",
   "execution_count": null,
   "metadata": {},
   "outputs": [],
   "source": [
    "%%bash -s \"$folder\"  \"$job_ide\"  --err err\n",
    "# check job status\n",
    "ssh lomo2 \"tail -n 10 ~/_scratch/$1/GMX_run/egmx.$2\""
   ]
  },
  {
   "cell_type": "code",
   "execution_count": null,
   "metadata": {},
   "outputs": [],
   "source": [
    "%%bash -s \"$folder\" --err err \n",
    "#Purge # files\n",
    "\n",
    "ssh lomo2 \"rm -f ~/_scratch/$1/GMX_run/\\#*; ls ~/_scratch/$1/GMX_run/\""
   ]
  },
  {
   "cell_type": "code",
   "execution_count": null,
   "metadata": {},
   "outputs": [],
   "source": [
    "%%bash -s \"$folder\" --err err --out out\n",
    "#Get back data\n",
    "\n",
    "rsync --partial lomo2:~/_scratch/$1/GMX_run/2_equil* GMX_run/ ;"
   ]
  },
  {
   "cell_type": "markdown",
   "metadata": {},
   "source": [
    "#### Analyze what we get"
   ]
  },
  {
   "cell_type": "code",
   "execution_count": null,
   "metadata": {},
   "outputs": [],
   "source": [
    "%%bash --bg\n",
    "cd GMX_run\n",
    "vmd ../GMX_system/init_solv_ions.pdb 2_equil.xtc"
   ]
  },
  {
   "cell_type": "markdown",
   "metadata": {},
   "source": [
    "### 3_Equilibration 200 ps with postional restraints of 50 kJ/mol/A2"
   ]
  },
  {
   "cell_type": "code",
   "execution_count": null,
   "metadata": {},
   "outputs": [],
   "source": [
    "%%bash  \n",
    "#--out out --err err\n",
    "gmx grompp -f MDProtocols/2_equil.mdp -c GMX_run/2_equil.gro -p GMX_system/topol.top \\\n",
    "-o GMX_run/3_equil.tpr -v  -r GMX_run/2_equil.gro -n GMX_system/index.ndx -po GMX_run/mdout_3_equil.mdp\n"
   ]
  },
  {
   "cell_type": "markdown",
   "metadata": {},
   "source": [
    "#### Run: Option 1 - locally"
   ]
  },
  {
   "cell_type": "code",
   "execution_count": null,
   "metadata": {},
   "outputs": [],
   "source": [
    "%%bash\n",
    "cd GMX_run\n",
    "gmx mdrun -deffnm 3_equil # if you want to run locally"
   ]
  },
  {
   "cell_type": "markdown",
   "metadata": {},
   "source": [
    "#### Run: Option 2 - sending and simulating on Lomonosov-2"
   ]
  },
  {
   "cell_type": "code",
   "execution_count": null,
   "metadata": {},
   "outputs": [],
   "source": [
    "%%bash -s \"$folder\" --err err --out out\n",
    "#Copy to SC\n",
    "\n",
    "cp Run_scripts/lomo2_run.sh GMX_run/\n",
    "rsync -r GMX_run lomo2:~/_scratch/$1/;"
   ]
  },
  {
   "cell_type": "code",
   "execution_count": null,
   "metadata": {},
   "outputs": [],
   "source": [
    "%%bash -s \"$folder\" --out out --err err\n",
    "ssh lomo2 \"module load slurm gromacs/2018-gcc; cd ~/_scratch/$1/GMX_run; \\\n",
    "sbatch -p compute -t 00:15:00 -N 5 lomo2_run.sh 3_equil\""
   ]
  },
  {
   "cell_type": "code",
   "execution_count": null,
   "metadata": {},
   "outputs": [],
   "source": [
    "#get job id\n",
    "print(out)\n",
    "job_ide=re.findall(r'\\d+', out)[0]\n",
    "print(job_ide)"
   ]
  },
  {
   "cell_type": "code",
   "execution_count": null,
   "metadata": {},
   "outputs": [],
   "source": [
    "#job_ide=869439"
   ]
  },
  {
   "cell_type": "code",
   "execution_count": null,
   "metadata": {},
   "outputs": [],
   "source": [
    "%%bash -s   \"$job_ide\"   --err err\n",
    "# check job status\n",
    "ssh lomo2 \"module load slurm gromacs/2018-gcc; squeue -j $1 \" || echo \"No job in queue\""
   ]
  },
  {
   "cell_type": "code",
   "execution_count": null,
   "metadata": {},
   "outputs": [],
   "source": [
    "%%bash -s \"$folder\"  \"$job_ide\"  --err err\n",
    "# check job status\n",
    "ssh lomo2 \"tail -n 10 ~/_scratch/$1/GMX_run/egmx.$2\""
   ]
  },
  {
   "cell_type": "code",
   "execution_count": null,
   "metadata": {},
   "outputs": [],
   "source": [
    "%%bash -s \"$folder\" --err err \n",
    "#Purge # files\n",
    "\n",
    "ssh lomo2 \"rm -f ~/_scratch/$1/GMX_run/\\#*; ls ~/_scratch/$1/GMX_run/\""
   ]
  },
  {
   "cell_type": "code",
   "execution_count": null,
   "metadata": {},
   "outputs": [],
   "source": [
    "%%bash -s \"$folder\" --err err --out out\n",
    "#Get back data\n",
    "\n",
    "rsync --partial lomo2:~/_scratch/$1/GMX_run/3_equil* GMX_run/ ;"
   ]
  },
  {
   "cell_type": "markdown",
   "metadata": {},
   "source": [
    "#### Analyze what we get"
   ]
  },
  {
   "cell_type": "code",
   "execution_count": null,
   "metadata": {},
   "outputs": [],
   "source": [
    "%%bash --bg\n",
    "cd GMX_run\n",
    "vmd ../GMX_system/init_solv_ions.pdb 3_equil.xtc"
   ]
  },
  {
   "cell_type": "markdown",
   "metadata": {},
   "source": [
    "### 4_Equilibration 200 ps with postional restraints of 5 kJ/mol/A2"
   ]
  },
  {
   "cell_type": "code",
   "execution_count": null,
   "metadata": {},
   "outputs": [],
   "source": [
    "%%bash  \n",
    "#--out out --err err\n",
    "gmx grompp -f Protocols/3_equil.mdp -c GMX_run/3_equil.gro -p GMX_system/topol.top \\\n",
    "-o GMX_run/4_equil.tpr -v  -r GMX_run/3_equil.gro -n GMX_system/index.ndx -po GMX_run/mdout_4_equil.mdp\n"
   ]
  },
  {
   "cell_type": "markdown",
   "metadata": {},
   "source": [
    "#### Run: Option 1 - locally"
   ]
  },
  {
   "cell_type": "code",
   "execution_count": null,
   "metadata": {},
   "outputs": [],
   "source": [
    "%%bash\n",
    "cd GMX_run\n",
    "gmx mdrun -deffnm 4_equil # if you want to run locally"
   ]
  },
  {
   "cell_type": "markdown",
   "metadata": {},
   "source": [
    "#### Run: Option 2 - sending and simulating on Lomonosov-2"
   ]
  },
  {
   "cell_type": "code",
   "execution_count": null,
   "metadata": {},
   "outputs": [],
   "source": [
    "%%bash -s \"$folder\" --err err --out out\n",
    "#Copy to SC\n",
    "\n",
    "cp Run_scripts/lomo2_run.sh GMX_run/\n",
    "rsync -r GMX_run lomo2:~/_scratch/$1/;"
   ]
  },
  {
   "cell_type": "code",
   "execution_count": null,
   "metadata": {},
   "outputs": [],
   "source": [
    "%%bash -s \"$folder\" --out out --err err\n",
    "ssh lomo2 \"module load slurm gromacs/2018-gcc; cd ~/_scratch/$1/GMX_run; \\\n",
    "sbatch -p compute -t 00:15:00 -N 5 lomo2_run.sh 4_equil\""
   ]
  },
  {
   "cell_type": "code",
   "execution_count": null,
   "metadata": {},
   "outputs": [],
   "source": [
    "#get job id\n",
    "print(out)\n",
    "job_ide=re.findall(r'\\d+', out)[0]\n",
    "print(job_ide)"
   ]
  },
  {
   "cell_type": "code",
   "execution_count": null,
   "metadata": {},
   "outputs": [],
   "source": [
    "job_ide=869453"
   ]
  },
  {
   "cell_type": "code",
   "execution_count": null,
   "metadata": {},
   "outputs": [],
   "source": [
    "%%bash -s   \"$job_ide\"   --err err\n",
    "# check job status\n",
    "ssh lomo2 \"module load slurm gromacs/2018-gcc; squeue -j $1 \" || echo \"No job in queue\""
   ]
  },
  {
   "cell_type": "code",
   "execution_count": null,
   "metadata": {},
   "outputs": [],
   "source": [
    "%%bash -s \"$folder\"  \"$job_ide\"  --err err\n",
    "# check job status\n",
    "ssh lomo2 \"tail -n 10 ~/_scratch/$1/GMX_run/egmx.$2\""
   ]
  },
  {
   "cell_type": "code",
   "execution_count": null,
   "metadata": {},
   "outputs": [],
   "source": [
    "%%bash -s \"$folder\" --err err \n",
    "#Purge # files\n",
    "\n",
    "ssh lomo2 \"rm -f ~/_scratch/$1/GMX_run/\\#*; ls ~/_scratch/$1/GMX_run/\""
   ]
  },
  {
   "cell_type": "code",
   "execution_count": null,
   "metadata": {},
   "outputs": [],
   "source": [
    "%%bash -s \"$folder\" --err err --out out\n",
    "#Get back data\n",
    "\n",
    "rsync --partial lomo2:~/_scratch/$1/GMX_run/4_equil* GMX_run/ ;\n",
    "#scp  lomo2:~/_scratch/$1/GMX_run/4_equil* GMX_run/ ; #sometimes rsync does not work(why?)"
   ]
  },
  {
   "cell_type": "markdown",
   "metadata": {},
   "source": [
    "#### Analyze what we get"
   ]
  },
  {
   "cell_type": "code",
   "execution_count": null,
   "metadata": {},
   "outputs": [],
   "source": [
    "%%bash --bg\n",
    "cd GMX_run\n",
    "vmd ../GMX_system/init_solv_ions.pdb 4_equil.xtc"
   ]
  },
  {
   "cell_type": "markdown",
   "metadata": {},
   "source": [
    "### 5_Equilibration 200 ps with postional restraints of 0.5 kJ/mol/A2"
   ]
  },
  {
   "cell_type": "code",
   "execution_count": null,
   "metadata": {},
   "outputs": [],
   "source": [
    "%%bash  \n",
    "#--out out --err err\n",
    "gmx grompp -f MDProtocols/4_equil.mdp -c GMX_run/4_equil.gro -p GMX_system/topol.top \\\n",
    "-o GMX_run/5_equil.tpr -v  -r GMX_run/4_equil.gro -n GMX_system/index.ndx -po GMX_run/mdout_5_equil.mdp\n"
   ]
  },
  {
   "cell_type": "markdown",
   "metadata": {},
   "source": [
    "#### Run: Option 1 - locally"
   ]
  },
  {
   "cell_type": "code",
   "execution_count": null,
   "metadata": {},
   "outputs": [],
   "source": [
    "%%bash\n",
    "cd GMX_run\n",
    "gmx mdrun -deffnm 5_equil # if you want to run locally"
   ]
  },
  {
   "cell_type": "markdown",
   "metadata": {},
   "source": [
    "#### Run: Option 2 - sending and simulating on Lomonosov-2"
   ]
  },
  {
   "cell_type": "code",
   "execution_count": null,
   "metadata": {},
   "outputs": [],
   "source": [
    "%%bash -s \"$folder\" --err err --out out\n",
    "#Copy to SC\n",
    "\n",
    "cp Run_scripts/lomo2_run.sh GMX_run/\n",
    "rsync -r GMX_run lomo2:~/_scratch/$1/;"
   ]
  },
  {
   "cell_type": "code",
   "execution_count": null,
   "metadata": {},
   "outputs": [],
   "source": [
    "%%bash -s \"$folder\" --out out --err err\n",
    "ssh lomo2 \"module load slurm gromacs/2018-gcc; cd ~/_scratch/$1/GMX_run; \\\n",
    "sbatch -p compute -t 00:15:00 -N 5 lomo2_run.sh 5_equil\""
   ]
  },
  {
   "cell_type": "code",
   "execution_count": null,
   "metadata": {},
   "outputs": [],
   "source": [
    "#get job id\n",
    "print(out)\n",
    "job_ide=re.findall(r'\\d+', out)[0]\n",
    "print(job_ide)"
   ]
  },
  {
   "cell_type": "code",
   "execution_count": null,
   "metadata": {},
   "outputs": [],
   "source": [
    "#job_ide=869439"
   ]
  },
  {
   "cell_type": "code",
   "execution_count": null,
   "metadata": {},
   "outputs": [],
   "source": [
    "%%bash -s   \"$job_ide\"   --err err\n",
    "# check job status\n",
    "ssh lomo2 \"module load slurm gromacs/2018-gcc; squeue -j $1 \" || echo \"No job in queue\""
   ]
  },
  {
   "cell_type": "code",
   "execution_count": null,
   "metadata": {},
   "outputs": [],
   "source": [
    "%%bash -s \"$folder\"  \"$job_ide\"  --err err\n",
    "# check job status\n",
    "ssh lomo2 \"tail -n 10 ~/_scratch/$1/GMX_run/egmx.$2\""
   ]
  },
  {
   "cell_type": "code",
   "execution_count": null,
   "metadata": {},
   "outputs": [],
   "source": [
    "%%bash -s \"$folder\" --err err \n",
    "#Purge # files\n",
    "\n",
    "ssh lomo2 \"rm -f ~/_scratch/$1/GMX_run/\\#*; ls ~/_scratch/$1/GMX_run/\""
   ]
  },
  {
   "cell_type": "code",
   "execution_count": null,
   "metadata": {},
   "outputs": [],
   "source": [
    "%%bash -s \"$folder\" --err err --out out\n",
    "#Get back data\n",
    "\n",
    "rsync --partial lomo2:~/_scratch/$1/GMX_run/5_equil* GMX_run/ ;"
   ]
  },
  {
   "cell_type": "markdown",
   "metadata": {},
   "source": [
    "#### Analyze what we get"
   ]
  },
  {
   "cell_type": "code",
   "execution_count": null,
   "metadata": {},
   "outputs": [],
   "source": [
    "%%bash --bg\n",
    "cd GMX_run\n",
    "vmd ../GMX_system/init_solv_ions.pdb 5_equil.xtc"
   ]
  },
  {
   "cell_type": "markdown",
   "metadata": {},
   "source": [
    "### 6_Equilibration 200 ps unrestrained"
   ]
  },
  {
   "cell_type": "code",
   "execution_count": null,
   "metadata": {},
   "outputs": [],
   "source": [
    "%%bash  \n",
    "#--out out --err err\n",
    "gmx grompp -f MDProtocols/5_equil.mdp -c GMX_run/5_equil.gro -p GMX_system/topol.top \\\n",
    "-o GMX_run/6_equil.tpr -v  -r GMX_run/5_equil.gro -n GMX_system/index.ndx -po GMX_run/mdout_6_equil.mdp\n"
   ]
  },
  {
   "cell_type": "markdown",
   "metadata": {},
   "source": [
    "#### Run: Option 1 - locally"
   ]
  },
  {
   "cell_type": "code",
   "execution_count": null,
   "metadata": {},
   "outputs": [],
   "source": [
    "%%bash\n",
    "cd GMX_run\n",
    "gmx mdrun -deffnm 6_equil # if you want to run locally"
   ]
  },
  {
   "cell_type": "markdown",
   "metadata": {},
   "source": [
    "#### Run: Option 2 - sending and simulating on Lomonosov-2"
   ]
  },
  {
   "cell_type": "code",
   "execution_count": null,
   "metadata": {},
   "outputs": [],
   "source": [
    "%%bash -s \"$folder\" --err err --out out\n",
    "#Copy to SC\n",
    "\n",
    "cp Run_scripts/lomo2_run.sh GMX_run/\n",
    "rsync -r GMX_run lomo2:~/_scratch/$1/;"
   ]
  },
  {
   "cell_type": "code",
   "execution_count": null,
   "metadata": {},
   "outputs": [],
   "source": [
    "%%bash -s \"$folder\" --out out --err err\n",
    "ssh lomo2 \"module load slurm gromacs/2018-gcc; cd ~/_scratch/$1/GMX_run; \\\n",
    "sbatch -p compute -t 00:15:00 -N 5 lomo2_run.sh 6_equil\""
   ]
  },
  {
   "cell_type": "code",
   "execution_count": null,
   "metadata": {},
   "outputs": [],
   "source": [
    "#get job id\n",
    "print(out)\n",
    "job_ide=re.findall(r'\\d+', out)[0]\n",
    "print(job_ide)"
   ]
  },
  {
   "cell_type": "code",
   "execution_count": null,
   "metadata": {},
   "outputs": [],
   "source": [
    "#job_ide=869439"
   ]
  },
  {
   "cell_type": "code",
   "execution_count": null,
   "metadata": {},
   "outputs": [],
   "source": [
    "%%bash -s   \"$job_ide\"   --err err\n",
    "# check job status\n",
    "ssh lomo2 \"module load slurm gromacs/2018-gcc; squeue -j $1 \" || echo \"No job in queue\""
   ]
  },
  {
   "cell_type": "code",
   "execution_count": null,
   "metadata": {},
   "outputs": [],
   "source": [
    "%%bash -s \"$folder\"  \"$job_ide\"  --err err\n",
    "# check job status\n",
    "ssh lomo2 \"tail -n 10 ~/_scratch/$1/GMX_run/egmx.$2\""
   ]
  },
  {
   "cell_type": "code",
   "execution_count": null,
   "metadata": {},
   "outputs": [],
   "source": [
    "%%bash -s \"$folder\" --err err \n",
    "#Purge # files\n",
    "\n",
    "ssh lomo2 \"rm -f ~/_scratch/$1/GMX_run/\\#*; ls ~/_scratch/$1/GMX_run/\""
   ]
  },
  {
   "cell_type": "code",
   "execution_count": null,
   "metadata": {},
   "outputs": [],
   "source": [
    "%%bash -s \"$folder\" --err err --out out\n",
    "#Get back data\n",
    "\n",
    "rsync --partial lomo2:~/_scratch/$1/GMX_run/6_equil* GMX_run/ ;"
   ]
  },
  {
   "cell_type": "markdown",
   "metadata": {},
   "source": [
    "#### Analyze what we get"
   ]
  },
  {
   "cell_type": "code",
   "execution_count": null,
   "metadata": {},
   "outputs": [],
   "source": [
    "%%bash --bg\n",
    "cd GMX_run\n",
    "vmd ../GMX_system/init_solv_ions.pdb 6_equil.xtc"
   ]
  },
  {
   "cell_type": "markdown",
   "metadata": {},
   "source": [
    "As a result we have equlibrated system ready for production simulations.\n",
    "We copy it to GMX_system."
   ]
  },
  {
   "cell_type": "code",
   "execution_count": null,
   "metadata": {},
   "outputs": [],
   "source": [
    "%%bash\n",
    "cp GMX_run/6_equil.gro GMX_system/\n",
    "\n",
    "#following files will be needed\n",
    "#gmx grompp -f Protocols/7_prod.mdp -c GMX_system/6_equil.gro -p GMX_system/topol.top \\\n",
    "#-o GMX_run/7_prod.tpr -v  -r GMX_system/6_equil.gro -n GMX_system/index.ndx -po GMX_run/mdout_7_prod.mdp"
   ]
  },
  {
   "cell_type": "markdown",
   "metadata": {},
   "source": [
    "# Producing final results"
   ]
  },
  {
   "cell_type": "markdown",
   "metadata": {},
   "source": [
    "The main aim of this repo is to produce equilibrated simulation systems, here we place into results folder the set of equilibrated files of step 6.\n"
   ]
  },
  {
   "cell_type": "code",
   "execution_count": null,
   "metadata": {},
   "outputs": [],
   "source": [
    "%%bash\n",
    "gmx trjconv -f GMX_run/6_equil.gro -s GMX_run/6_equil.tpr -o GMX_run/6_equil.pdb << !\n",
    "0\n",
    "!"
   ]
  },
  {
   "cell_type": "code",
   "execution_count": null,
   "metadata": {},
   "outputs": [],
   "source": [
    "%%bash --out out\n",
    "gmx trjconv -f GMX_system/init_solv_ions.pdb -s GMX_run/6_equil.tpr -o results/init_prot_xray.pdb << !\n",
    "1\n",
    "!\n"
   ]
  },
  {
   "cell_type": "code",
   "execution_count": null,
   "metadata": {},
   "outputs": [],
   "source": [
    "%%bash\n",
    "mkdir -p results\n",
    "cp GMX_run/6_equil* results/"
   ]
  },
  {
   "cell_type": "code",
   "execution_count": null,
   "metadata": {},
   "outputs": [],
   "source": []
  }
 ],
 "metadata": {
  "kernelspec": {
   "display_name": "Python [conda env:moldyn]",
   "language": "python",
   "name": "conda-env-moldyn-py"
  },
  "language_info": {
   "codemirror_mode": {
    "name": "ipython",
    "version": 3
   },
   "file_extension": ".py",
   "mimetype": "text/x-python",
   "name": "python",
   "nbconvert_exporter": "python",
   "pygments_lexer": "ipython3",
   "version": "3.7.1"
  }
 },
 "nbformat": 4,
 "nbformat_minor": 2
}
