{
 "cells": [
  {
   "cell_type": "markdown",
   "metadata": {},
   "source": [
    "# H3-H4 dimer with truncated tails in water\n",
    "## Minimize and equilibrate\n",
    " - Minimize\n",
    " - Equilibrate\n",
    " \n",
    " Sanity checks along the way.\n",
    " \n",
    " Protocol files are copied from https://github.com/intbio/gmx_protocols/tree/master/amber into\n",
    "Protocols folder.\n",
    "If others are needed modify then in the folder."
   ]
  },
  {
   "cell_type": "code",
   "execution_count": null,
   "metadata": {},
   "outputs": [],
   "source": [
    "#Libraries and main variables initialized\n",
    "import MDAnalysis as mda\n",
    "from MDAnalysis.analysis import align\n",
    "from MDAnalysis.analysis.rms import rmsd\n",
    "import numpy as np\n",
    "import urllib.request, json\n",
    "import os\n",
    "import re\n",
    "import nglview as nv\n",
    "from funcs import get_files_from_git\n",
    "from funcs import view_nucl\n",
    "\n",
    "%matplotlib inline\n",
    "\n",
    "folder=\"h3-h4_tm\" #This one is important - set it to a unique value\n",
    "scuser=\"shaytan_1609\" #username on lomonosoc"
   ]
  },
  {
   "cell_type": "code",
   "execution_count": null,
   "metadata": {},
   "outputs": [],
   "source": [
    "%%bash\n",
    "rm -rf MDProtocols"
   ]
  },
  {
   "cell_type": "code",
   "execution_count": null,
   "metadata": {},
   "outputs": [],
   "source": [
    "#Set protocols URL\n",
    "prot_url=\"https://api.github.com/repos/intbio/gmx_protocols/contents/amber\""
   ]
  },
  {
   "cell_type": "code",
   "execution_count": null,
   "metadata": {},
   "outputs": [],
   "source": [
    "get_files_from_git(prot_url,'MDProtocols/')"
   ]
  },
  {
   "cell_type": "markdown",
   "metadata": {},
   "source": [
    "### 1_Minimization - steepest descent gradient method 10000 steps with POSRED constraints"
   ]
  },
  {
   "cell_type": "markdown",
   "metadata": {},
   "source": [
    "#### Prepare tpr files using GROMPP\n",
    "- http://manual.gromacs.org/documentation/current/onlinehelp/gmx-grompp.html"
   ]
  },
  {
   "cell_type": "code",
   "execution_count": null,
   "metadata": {},
   "outputs": [],
   "source": [
    "%%bash\n",
    "#Prepare system\n",
    "mkdir -p GMX_run\n",
    "gmx grompp -f MDProtocols/1_minim.mdp -c GMX_system/init_solv_ions.pdb -p GMX_system/topol.top \\\n",
    "-o GMX_run/1_minim.tpr -r GMX_system/init_solv_ions.pdb -n GMX_system/index.ndx -po GMX_run/mdout_1_minim.mdp\n"
   ]
  },
  {
   "cell_type": "markdown",
   "metadata": {},
   "source": [
    "#### Run: Option 1 - locally"
   ]
  },
  {
   "cell_type": "code",
   "execution_count": null,
   "metadata": {},
   "outputs": [],
   "source": [
    "%%bash\n",
    "cd GMX_run\n",
    "gmx mdrun -nt 20 -deffnm 1_minim # if you want to run locally, nt is the number of threads"
   ]
  },
  {
   "cell_type": "markdown",
   "metadata": {},
   "source": [
    "#### Run: Option 2 - sending and simulating on Lomonosov-2"
   ]
  },
  {
   "cell_type": "code",
   "execution_count": null,
   "metadata": {},
   "outputs": [],
   "source": [
    "deffnm='1_minim'"
   ]
  },
  {
   "cell_type": "code",
   "execution_count": null,
   "metadata": {},
   "outputs": [],
   "source": [
    "%%bash -s \"$folder\" --err err\n",
    "cp Run_scripts/lomo2_run.sh GMX_run/\n",
    "ssh lomo2 \"mkdir -p ~/_scratch/$1\" && scp -r GMX_run lomo2:~/_scratch/$1/;"
   ]
  },
  {
   "cell_type": "code",
   "execution_count": null,
   "metadata": {},
   "outputs": [],
   "source": [
    "%%bash -s \"$folder\" \"$deffnm\" --out out\n",
    "ssh lomo2 \"module load slurm gromacs/2018-gcc; cd ~/_scratch/$1/GMX_run; \\\n",
    "sbatch -p test -t 00:15:00 -N 1 -J $1 lomo2_run.sh $2\""
   ]
  },
  {
   "cell_type": "code",
   "execution_count": null,
   "metadata": {},
   "outputs": [],
   "source": [
    "#get job id\n",
    "job_idm=re.findall(r'\\d+', out)[0]\n",
    "print(job_idm)"
   ]
  },
  {
   "cell_type": "code",
   "execution_count": null,
   "metadata": {},
   "outputs": [],
   "source": [
    "%%bash -s \"$scuser\"   --err err\n",
    "# check job status\n",
    "ssh lomo2 \"module load slurm gromacs/2018-gcc; squeue -u $1 \" || echo \"No job in queue\""
   ]
  },
  {
   "cell_type": "code",
   "execution_count": null,
   "metadata": {},
   "outputs": [],
   "source": [
    "%%bash -s \"$folder\"  \"$job_idm\"  --err err\n",
    "# check job status\n",
    "ssh lomo2 \"tail -n 25 ~/_scratch/$1/GMX_run/egmx.$2\""
   ]
  },
  {
   "cell_type": "code",
   "execution_count": null,
   "metadata": {},
   "outputs": [],
   "source": [
    "%%bash -s \"$folder\"  \"$deffnm\"  --err err\n",
    "# check job status\n",
    "ssh lomo2 \"tail -n 25 ~/_scratch/$1/GMX_run/$2.log\""
   ]
  },
  {
   "cell_type": "code",
   "execution_count": null,
   "metadata": {},
   "outputs": [],
   "source": [
    "%%bash -s \"$folder\" --err err \n",
    "#Purge # files and copy\n",
    "\n",
    "ssh lomo2 \"rm -f ~/_scratch/$1/GMX_run/\\#*; \" && scp lomo2:~/_scratch/$1/GMX_run/* GMX_run/ ;"
   ]
  },
  {
   "cell_type": "markdown",
   "metadata": {},
   "source": [
    "#### Analyze what we get"
   ]
  },
  {
   "cell_type": "code",
   "execution_count": null,
   "metadata": {},
   "outputs": [],
   "source": [
    "view_nucl('GMX_system/init_solv_ions.pdb','GMX_run/%s.trr'%deffnm)"
   ]
  },
  {
   "cell_type": "markdown",
   "metadata": {},
   "source": [
    "### 2_Equilibration 200 ps with postional restraints of 500 kJ/mol/A2"
   ]
  },
  {
   "cell_type": "code",
   "execution_count": 30,
   "metadata": {},
   "outputs": [
    {
     "name": "stdout",
     "output_type": "stream",
     "text": [
      "processing topology...\n",
      "turning all bonds into constraints...\n",
      "turning all bonds into constraints...\n",
      "turning all bonds into constraints...\n",
      "turning all bonds into constraints...\n",
      "turning all bonds into constraints...\n",
      "Determining Verlet buffer for a tolerance of 0.005 kJ/mol/ps at 300 K\n",
      "Calculated rlist for 1x1 atom pair-list as 0.836 nm, buffer size 0.036 nm\n",
      "Set rlist, assuming 4x4 atom pair-list, to 0.800 nm, buffer size 0.000 nm\n",
      "Note that mdrun will redetermine rlist based on the actual pair-list setup\n",
      "Calculating fourier grid dimensions for X Y Z\n",
      "Using a fourier grid of 96x96x96, spacing 0.107 0.107 0.107\n",
      "This run will generate roughly 15 Mb of data\n"
     ]
    },
    {
     "name": "stderr",
     "output_type": "stream",
     "text": [
      "                      :-) GROMACS - gmx grompp, 2018.3 (-:\n",
      "\n",
      "                            GROMACS is written by:\n",
      "     Emile Apol      Rossen Apostolov      Paul Bauer     Herman J.C. Berendsen\n",
      "    Par Bjelkmar    Aldert van Buuren   Rudi van Drunen     Anton Feenstra  \n",
      "  Gerrit Groenhof    Aleksei Iupinov   Christoph Junghans   Anca Hamuraru   \n",
      " Vincent Hindriksen Dimitrios Karkoulis    Peter Kasson        Jiri Kraus    \n",
      "  Carsten Kutzner      Per Larsson      Justin A. Lemkul    Viveca Lindahl  \n",
      "  Magnus Lundborg   Pieter Meulenhoff    Erik Marklund      Teemu Murtola   \n",
      "    Szilard Pall       Sander Pronk      Roland Schulz     Alexey Shvetsov  \n",
      "   Michael Shirts     Alfons Sijbers     Peter Tieleman    Teemu Virolainen \n",
      " Christian Wennberg    Maarten Wolf   \n",
      "                           and the project leaders:\n",
      "        Mark Abraham, Berk Hess, Erik Lindahl, and David van der Spoel\n",
      "\n",
      "Copyright (c) 1991-2000, University of Groningen, The Netherlands.\n",
      "Copyright (c) 2001-2017, The GROMACS development team at\n",
      "Uppsala University, Stockholm University and\n",
      "the Royal Institute of Technology, Sweden.\n",
      "check out http://www.gromacs.org for more information.\n",
      "\n",
      "GROMACS is free software; you can redistribute it and/or modify it\n",
      "under the terms of the GNU Lesser General Public License\n",
      "as published by the Free Software Foundation; either version 2.1\n",
      "of the License, or (at your option) any later version.\n",
      "\n",
      "GROMACS:      gmx grompp, version 2018.3\n",
      "Executable:   /opt/miniconda3/envs/moldyn/bin/gmx\n",
      "Data prefix:  /opt/miniconda3/envs/moldyn\n",
      "Working dir:  /home/alexsha/projects/gmx_template_test\n",
      "Command line:\n",
      "  gmx grompp -f MDProtocols/2_equil.mdp -c GMX_run/1_minim.gro -p GMX_system/topol.top -o GMX_run/2_equil.tpr -v -r GMX_run/1_minim.gro -n GMX_system/index.ndx -po GMX_run/mdout_2_equil.mdp\n",
      "\n",
      "checking input for internal consistency...\n",
      "\n",
      "NOTE 1 [file MDProtocols/2_equil.mdp]:\n",
      "  You have set rlist larger than the interaction cut-off, but you also have\n",
      "  verlet-buffer-tolerance > 0. Will set rlist using verlet-buffer-tolerance.\n",
      "\n",
      "Setting the LD random seed to -365737930\n",
      "Generated 3828 of the 3828 non-bonded parameter combinations\n",
      "Generating 1-4 interactions: fudge = 0.5\n",
      "Generated 3828 of the 3828 1-4 parameter combinations\n",
      "Excluding 3 bonded neighbours molecule type 'Protein_chain_A'\n",
      "Excluding 3 bonded neighbours molecule type 'Protein_chain_B'\n",
      "Excluding 2 bonded neighbours molecule type 'SOL'\n",
      "Excluding 1 bonded neighbours molecule type 'NA'\n",
      "Excluding 1 bonded neighbours molecule type 'CL'\n",
      "processing coordinates...\n",
      "double-checking input for internal consistency...\n",
      "Removing all charge groups because cutoff-scheme=Verlet\n",
      "\n",
      "NOTE 2 [file topol.top, line 50]:\n",
      "  You are combining position restraints with Parrinello-Rahman pressure\n",
      "  coupling, which can lead to instabilities. If you really want to combine\n",
      "  position restraints with pressure coupling, we suggest to use Berendsen\n",
      "  pressure coupling instead.\n",
      "\n",
      "Reading position restraint coords from GMX_run/1_minim.gro\n",
      "renumbering atomtypes...\n",
      "converting bonded parameters...\n",
      "initialising group options...\n",
      "processing index file...\n",
      "Making dummy/rest group for Acceleration containing 80706 elements\n",
      "Making dummy/rest group for Freeze containing 80706 elements\n",
      "Making dummy/rest group for Energy Mon. containing 80706 elements\n",
      "Number of degrees of freedom in T-Coupling group System is 161548.00\n",
      "Making dummy/rest group for User1 containing 80706 elements\n",
      "Making dummy/rest group for User2 containing 80706 elements\n",
      "Making dummy/rest group for Compressed X containing 80706 elements\n",
      "Making dummy/rest group for Or. Res. Fit containing 80706 elements\n",
      "Making dummy/rest group for QMMM containing 80706 elements\n",
      "T-Coupling       has 1 element(s): System\n",
      "Energy Mon.      has 1 element(s): rest\n",
      "Acceleration     has 1 element(s): rest\n",
      "Freeze           has 1 element(s): rest\n",
      "User1            has 1 element(s): rest\n",
      "User2            has 1 element(s): rest\n",
      "VCM              has 1 element(s): System\n",
      "Compressed X     has 1 element(s): rest\n",
      "Or. Res. Fit     has 1 element(s): rest\n",
      "QMMM             has 1 element(s): rest\n",
      "Checking consistency between energy and charge groups...\n",
      "Estimate for the relative computational load of the PME mesh part: 0.33\n",
      "writing run input file...\n",
      "\n",
      "There were 2 notes\n",
      "\n",
      "GROMACS reminds you: \"I Should Be the Pimp Of the Year\" (Urban Dance Squad)\n",
      "\n"
     ]
    }
   ],
   "source": [
    "%%bash  \n",
    "#--out out --err err\n",
    "gmx grompp -f MDProtocols/2_equil.mdp -c GMX_run/1_minim.gro -p GMX_system/topol.top \\\n",
    "-o GMX_run/2_equil.tpr -v  -r GMX_run/1_minim.gro -n GMX_system/index.ndx -po GMX_run/mdout_2_equil.mdp\n"
   ]
  },
  {
   "cell_type": "markdown",
   "metadata": {},
   "source": [
    "#### Run: Option 1 - locally"
   ]
  },
  {
   "cell_type": "code",
   "execution_count": null,
   "metadata": {},
   "outputs": [],
   "source": [
    "%%bash\n",
    "cd GMX_run\n",
    "gmx mdrun -deffnm 2_equil # if you want to run locally"
   ]
  },
  {
   "cell_type": "markdown",
   "metadata": {},
   "source": [
    "#### Run: Option 2 - sending and simulating on Lomonosov-2"
   ]
  },
  {
   "cell_type": "code",
   "execution_count": 31,
   "metadata": {},
   "outputs": [],
   "source": [
    "deffnm='2_equil'"
   ]
  },
  {
   "cell_type": "code",
   "execution_count": 32,
   "metadata": {},
   "outputs": [],
   "source": [
    "%%bash -s \"$folder\" --err err\n",
    "cp Run_scripts/lomo2_run.sh GMX_run/\n",
    "ssh lomo2 \"mkdir -p ~/_scratch/$1\" && scp -r GMX_run lomo2:~/_scratch/$1/;"
   ]
  },
  {
   "cell_type": "code",
   "execution_count": 33,
   "metadata": {},
   "outputs": [
    {
     "name": "stderr",
     "output_type": "stream",
     "text": [
      "   Lomonosov-2 supercomputer welcomes you!\n",
      "\n",
      "\n"
     ]
    }
   ],
   "source": [
    "%%bash -s \"$folder\" \"$deffnm\" --out out\n",
    "ssh lomo2 \"module load slurm gromacs/2018-gcc; cd ~/_scratch/$1/GMX_run; \\\n",
    "sbatch -p test -t 00:15:00 -N 4 -J $1 lomo2_run.sh $2\""
   ]
  },
  {
   "cell_type": "code",
   "execution_count": 34,
   "metadata": {},
   "outputs": [
    {
     "name": "stdout",
     "output_type": "stream",
     "text": [
      "908768\n"
     ]
    }
   ],
   "source": [
    "#get job id\n",
    "job_idm=re.findall(r'\\d+', out)[0]\n",
    "print(job_idm)"
   ]
  },
  {
   "cell_type": "code",
   "execution_count": 35,
   "metadata": {},
   "outputs": [
    {
     "name": "stdout",
     "output_type": "stream",
     "text": [
      "             JOBID PARTITION     NAME     USER ST       TIME  NODES NODELIST(REASON)\n",
      "            906340   compute  jobname shaytan_ PD       0:00      4 (Dependency)\n",
      "            906341   compute  jobname shaytan_ PD       0:00      4 (Dependency)\n",
      "            906342   compute  jobname shaytan_ PD       0:00      4 (Dependency)\n",
      "            906343   compute  jobname shaytan_ PD       0:00      4 (Dependency)\n",
      "            906331   compute  jobname shaytan_  R   14:38:57      4 n[49729-49732]\n",
      "            908059   compute  jobname shaytan_  R 2-02:38:31      4 n[51108,51314,51321,51703]\n",
      "            908735   compute  jobname shaytan_  R    3:07:18      4 n[49127-49130]\n",
      "            908768      test h3-h4_tm shaytan_  R       0:04      4 n[48616-48619]\n"
     ]
    }
   ],
   "source": [
    "%%bash -s \"$scuser\"   --err err\n",
    "# check job status\n",
    "ssh lomo2 \"module load slurm gromacs/2018-gcc; squeue -u $1 \" || echo \"No job in queue\""
   ]
  },
  {
   "cell_type": "code",
   "execution_count": 36,
   "metadata": {},
   "outputs": [
    {
     "name": "stdout",
     "output_type": "stream",
     "text": [
      "Working dir:  /mnt/scratch/users/shaytan_1609/h3-h4_tm/GMX_run\n",
      "Command line:\n",
      "  gmx_mpi mdrun -ntomp 6 -gputasks 00 -pme cpu -nb gpu -deffnm 2_equil\n",
      "\n",
      "Reading file 2_equil.tpr, VERSION 2018.3 (single precision)\n",
      "The number of OpenMP threads was set by environment variable OMP_NUM_THREADS to 6 (and the command-line setting agreed with that)\n",
      "Changing nstlist from 10 to 50, rlist from 0.8 to 0.925\n",
      "\n",
      "Using 8 MPI processes\n",
      "Using 6 OpenMP threads per MPI process\n",
      "\n",
      "On host n48616.10p.parallel.ru 1 GPU user-selected for this run.\n",
      "Mapping of GPU IDs to the 2 GPU tasks in the 2 ranks on this node:\n",
      "  PP:0,PP:0\n",
      "\n",
      "NOTE: You assigned the same GPU ID(s) to multiple ranks, which is a good idea if you have measured the performance of alternatives.\n",
      "\n",
      "NOTE: GROMACS was configured without NVML support hence it can not exploit\n",
      "      application clocks of the detected Tesla K40s GPU to improve performance.\n",
      "      Recompile with the NVML library (compatible with the driver used) or set application clocks manually.\n",
      "\n",
      "NOTE: The number of threads is not equal to the number of (logical) cores\n",
      "      and the -pin option is set to auto: will not pin threads to cores.\n",
      "      This can lead to significant performance degradation.\n",
      "      Consider using -pin on (and -pinoffset in case you run multiple jobs).\n"
     ]
    }
   ],
   "source": [
    "%%bash -s \"$folder\"  \"$job_idm\"  --err err\n",
    "# check job status\n",
    "ssh lomo2 \"tail -n 25 ~/_scratch/$1/GMX_run/egmx.$2\""
   ]
  },
  {
   "cell_type": "code",
   "execution_count": 38,
   "metadata": {},
   "outputs": [
    {
     "name": "stdout",
     "output_type": "stream",
     "text": [
      "   Energies (kJ/mol)\n",
      "          Angle    Proper Dih.  Improper Dih.          LJ-14     Coulomb-14\n",
      "    1.53936e+04    1.01015e+04    7.01417e+02    3.78760e+03    1.42372e+04\n",
      "        LJ (SR)  Disper. corr.   Coulomb (SR)   Coul. recip. Position Rest.\n",
      "    1.89077e+05   -9.81779e+03   -1.42180e+06    7.59299e+03    6.56798e+02\n",
      "      Potential    Kinetic En.   Total Energy  Conserved En.    Temperature\n",
      "   -1.19007e+06    1.85283e+05   -1.00479e+06   -1.39348e+06    2.75886e+02\n",
      " Pres. DC (bar) Pressure (bar)   Constr. rmsd\n",
      "   -4.09439e+02   -1.21289e+02    1.79313e-06\n",
      "\n",
      "DD  step 3999 load imb.: force  2.4%\n",
      "\n",
      "           Step           Time\n",
      "           4000        8.00000\n",
      "\n",
      "   Energies (kJ/mol)\n",
      "          Angle    Proper Dih.  Improper Dih.          LJ-14     Coulomb-14\n",
      "    1.35569e+04    9.86309e+03    8.03559e+02    3.61378e+03    1.43689e+04\n",
      "        LJ (SR)  Disper. corr.   Coulomb (SR)   Coul. recip. Position Rest.\n",
      "    1.80609e+05   -9.77383e+03   -1.39235e+06    8.06307e+03    7.70154e+02\n",
      "      Potential    Kinetic En.   Total Energy  Conserved En.    Temperature\n",
      "   -1.17048e+06    1.91480e+05   -9.78998e+05   -1.39348e+06    2.85114e+02\n",
      " Pres. DC (bar) Pressure (bar)   Constr. rmsd\n",
      "   -4.05781e+02   -1.21270e+01    1.80688e-06\n",
      "\n"
     ]
    }
   ],
   "source": [
    "%%bash -s \"$folder\"  \"$deffnm\"  --err err\n",
    "# check job status\n",
    "ssh lomo2 \"tail -n 25 ~/_scratch/$1/GMX_run/$2.log\""
   ]
  },
  {
   "cell_type": "code",
   "execution_count": null,
   "metadata": {},
   "outputs": [],
   "source": [
    "%%bash -s \"$folder\" --err err \n",
    "#Purge # files and copy\n",
    "\n",
    "ssh lomo2 \"rm -f ~/_scratch/$1/GMX_run/\\#*; \" && scp lomo2:~/_scratch/$1/GMX_run/* GMX_run/ ;"
   ]
  },
  {
   "cell_type": "markdown",
   "metadata": {},
   "source": [
    "#### Analyze what we get"
   ]
  },
  {
   "cell_type": "code",
   "execution_count": null,
   "metadata": {},
   "outputs": [],
   "source": [
    "view_nucl('GMX_system/init_solv_ions.pdb','GMX_run/%s.trr'%deffnm)"
   ]
  },
  {
   "cell_type": "markdown",
   "metadata": {},
   "source": [
    "### 3_Equilibration 200 ps with postional restraints of 50 kJ/mol/A2"
   ]
  },
  {
   "cell_type": "code",
   "execution_count": null,
   "metadata": {},
   "outputs": [],
   "source": [
    "%%bash  \n",
    "#--out out --err err\n",
    "gmx grompp -f MDProtocols/2_equil.mdp -c GMX_run/2_equil.gro -p GMX_system/topol.top \\\n",
    "-o GMX_run/3_equil.tpr -v  -r GMX_run/2_equil.gro -n GMX_system/index.ndx -po GMX_run/mdout_3_equil.mdp\n"
   ]
  },
  {
   "cell_type": "markdown",
   "metadata": {},
   "source": [
    "#### Run: Option 1 - locally"
   ]
  },
  {
   "cell_type": "code",
   "execution_count": null,
   "metadata": {},
   "outputs": [],
   "source": [
    "%%bash\n",
    "cd GMX_run\n",
    "gmx mdrun -deffnm 3_equil # if you want to run locally"
   ]
  },
  {
   "cell_type": "markdown",
   "metadata": {},
   "source": [
    "#### Run: Option 2 - sending and simulating on Lomonosov-2"
   ]
  },
  {
   "cell_type": "code",
   "execution_count": null,
   "metadata": {},
   "outputs": [],
   "source": [
    "deffnm='3_equil'"
   ]
  },
  {
   "cell_type": "code",
   "execution_count": null,
   "metadata": {},
   "outputs": [],
   "source": [
    "%%bash -s \"$folder\" --err err\n",
    "cp Run_scripts/lomo2_run.sh GMX_run/\n",
    "ssh lomo2 \"mkdir -p ~/_scratch/$1\" && scp -r GMX_run lomo2:~/_scratch/$1/;"
   ]
  },
  {
   "cell_type": "code",
   "execution_count": null,
   "metadata": {},
   "outputs": [],
   "source": [
    "%%bash -s \"$folder\" \"$deffnm\" --out out\n",
    "ssh lomo2 \"module load slurm gromacs/2018-gcc; cd ~/_scratch/$1/GMX_run; \\\n",
    "sbatch -p test -t 00:15:00 -N 4 -J $1 lomo2_run.sh $2\""
   ]
  },
  {
   "cell_type": "code",
   "execution_count": null,
   "metadata": {},
   "outputs": [],
   "source": [
    "#get job id\n",
    "job_idm=re.findall(r'\\d+', out)[0]\n",
    "print(job_idm)"
   ]
  },
  {
   "cell_type": "code",
   "execution_count": null,
   "metadata": {},
   "outputs": [],
   "source": [
    "%%bash -s \"$scuser\"   --err err\n",
    "# check job status\n",
    "ssh lomo2 \"module load slurm gromacs/2018-gcc; squeue -u $1 \" || echo \"No job in queue\""
   ]
  },
  {
   "cell_type": "code",
   "execution_count": null,
   "metadata": {},
   "outputs": [],
   "source": [
    "%%bash -s \"$folder\"  \"$job_idm\"  --err err\n",
    "# check job status\n",
    "ssh lomo2 \"tail -n 25 ~/_scratch/$1/GMX_run/egmx.$2\""
   ]
  },
  {
   "cell_type": "code",
   "execution_count": null,
   "metadata": {},
   "outputs": [],
   "source": [
    "%%bash -s \"$folder\"  \"$deffnm\"  --err err\n",
    "# check job status\n",
    "ssh lomo2 \"tail -n 25 ~/_scratch/$1/GMX_run/$2.log\""
   ]
  },
  {
   "cell_type": "code",
   "execution_count": null,
   "metadata": {},
   "outputs": [],
   "source": [
    "%%bash -s \"$folder\" --err err \n",
    "#Purge # files and copy\n",
    "\n",
    "ssh lomo2 \"rm -f ~/_scratch/$1/GMX_run/\\#*; \" && scp lomo2:~/_scratch/$1/GMX_run/* GMX_run/ ;"
   ]
  },
  {
   "cell_type": "markdown",
   "metadata": {},
   "source": [
    "#### Analyze what we get"
   ]
  },
  {
   "cell_type": "code",
   "execution_count": null,
   "metadata": {},
   "outputs": [],
   "source": [
    "view_nucl('GMX_system/init_solv_ions.pdb','GMX_run/%s.trr'%deffnm)"
   ]
  },
  {
   "cell_type": "markdown",
   "metadata": {},
   "source": [
    "### 4_Equilibration 200 ps with postional restraints of 5 kJ/mol/A2"
   ]
  },
  {
   "cell_type": "code",
   "execution_count": null,
   "metadata": {},
   "outputs": [],
   "source": [
    "%%bash  \n",
    "#--out out --err err\n",
    "gmx grompp -f Protocols/3_equil.mdp -c GMX_run/3_equil.gro -p GMX_system/topol.top \\\n",
    "-o GMX_run/4_equil.tpr -v  -r GMX_run/3_equil.gro -n GMX_system/index.ndx -po GMX_run/mdout_4_equil.mdp\n"
   ]
  },
  {
   "cell_type": "markdown",
   "metadata": {},
   "source": [
    "#### Run: Option 1 - locally"
   ]
  },
  {
   "cell_type": "code",
   "execution_count": null,
   "metadata": {},
   "outputs": [],
   "source": [
    "%%bash\n",
    "cd GMX_run\n",
    "gmx mdrun -deffnm 4_equil # if you want to run locally"
   ]
  },
  {
   "cell_type": "markdown",
   "metadata": {},
   "source": [
    "#### Run: Option 2 - sending and simulating on Lomonosov-2"
   ]
  },
  {
   "cell_type": "code",
   "execution_count": null,
   "metadata": {},
   "outputs": [],
   "source": [
    "deffnm='4_equil'"
   ]
  },
  {
   "cell_type": "code",
   "execution_count": null,
   "metadata": {},
   "outputs": [],
   "source": [
    "%%bash -s \"$folder\" --err err\n",
    "cp Run_scripts/lomo2_run.sh GMX_run/\n",
    "ssh lomo2 \"mkdir -p ~/_scratch/$1\" && scp -r GMX_run lomo2:~/_scratch/$1/;"
   ]
  },
  {
   "cell_type": "code",
   "execution_count": null,
   "metadata": {},
   "outputs": [],
   "source": [
    "%%bash -s \"$folder\" \"$deffnm\" --out out\n",
    "ssh lomo2 \"module load slurm gromacs/2018-gcc; cd ~/_scratch/$1/GMX_run; \\\n",
    "sbatch -p test -t 00:15:00 -N 4 -J $1 lomo2_run.sh $2\""
   ]
  },
  {
   "cell_type": "code",
   "execution_count": null,
   "metadata": {},
   "outputs": [],
   "source": [
    "#get job id\n",
    "job_idm=re.findall(r'\\d+', out)[0]\n",
    "print(job_idm)"
   ]
  },
  {
   "cell_type": "code",
   "execution_count": null,
   "metadata": {},
   "outputs": [],
   "source": [
    "%%bash -s \"$scuser\"   --err err\n",
    "# check job status\n",
    "ssh lomo2 \"module load slurm gromacs/2018-gcc; squeue -u $1 \" || echo \"No job in queue\""
   ]
  },
  {
   "cell_type": "code",
   "execution_count": null,
   "metadata": {},
   "outputs": [],
   "source": [
    "%%bash -s \"$folder\"  \"$job_idm\"  --err err\n",
    "# check job status\n",
    "ssh lomo2 \"tail -n 25 ~/_scratch/$1/GMX_run/egmx.$2\""
   ]
  },
  {
   "cell_type": "code",
   "execution_count": null,
   "metadata": {},
   "outputs": [],
   "source": [
    "%%bash -s \"$folder\"  \"$deffnm\"  --err err\n",
    "# check job status\n",
    "ssh lomo2 \"tail -n 25 ~/_scratch/$1/GMX_run/$2.log\""
   ]
  },
  {
   "cell_type": "code",
   "execution_count": null,
   "metadata": {},
   "outputs": [],
   "source": [
    "%%bash -s \"$folder\" --err err \n",
    "#Purge # files and copy\n",
    "\n",
    "ssh lomo2 \"rm -f ~/_scratch/$1/GMX_run/\\#*; \" && scp lomo2:~/_scratch/$1/GMX_run/* GMX_run/ ;"
   ]
  },
  {
   "cell_type": "markdown",
   "metadata": {},
   "source": [
    "#### Analyze what we get"
   ]
  },
  {
   "cell_type": "code",
   "execution_count": null,
   "metadata": {},
   "outputs": [],
   "source": [
    "view_nucl('GMX_system/init_solv_ions.pdb','GMX_run/%s.trr'%deffnm)"
   ]
  },
  {
   "cell_type": "markdown",
   "metadata": {},
   "source": [
    "### 5_Equilibration 200 ps with postional restraints of 0.5 kJ/mol/A2"
   ]
  },
  {
   "cell_type": "code",
   "execution_count": null,
   "metadata": {},
   "outputs": [],
   "source": [
    "%%bash  \n",
    "#--out out --err err\n",
    "gmx grompp -f MDProtocols/4_equil.mdp -c GMX_run/4_equil.gro -p GMX_system/topol.top \\\n",
    "-o GMX_run/5_equil.tpr -v  -r GMX_run/4_equil.gro -n GMX_system/index.ndx -po GMX_run/mdout_5_equil.mdp\n"
   ]
  },
  {
   "cell_type": "markdown",
   "metadata": {},
   "source": [
    "#### Run: Option 1 - locally"
   ]
  },
  {
   "cell_type": "code",
   "execution_count": null,
   "metadata": {},
   "outputs": [],
   "source": [
    "%%bash\n",
    "cd GMX_run\n",
    "gmx mdrun -deffnm 5_equil # if you want to run locally"
   ]
  },
  {
   "cell_type": "markdown",
   "metadata": {},
   "source": [
    "#### Run: Option 2 - sending and simulating on Lomonosov-2"
   ]
  },
  {
   "cell_type": "code",
   "execution_count": null,
   "metadata": {},
   "outputs": [],
   "source": [
    "deffnm='5_equil'"
   ]
  },
  {
   "cell_type": "code",
   "execution_count": null,
   "metadata": {},
   "outputs": [],
   "source": [
    "%%bash -s \"$folder\" --err err\n",
    "cp Run_scripts/lomo2_run.sh GMX_run/\n",
    "ssh lomo2 \"mkdir -p ~/_scratch/$1\" && scp -r GMX_run lomo2:~/_scratch/$1/;"
   ]
  },
  {
   "cell_type": "code",
   "execution_count": null,
   "metadata": {},
   "outputs": [],
   "source": [
    "%%bash -s \"$folder\" \"$deffnm\" --out out\n",
    "ssh lomo2 \"module load slurm gromacs/2018-gcc; cd ~/_scratch/$1/GMX_run; \\\n",
    "sbatch -p test -t 00:15:00 -N 4 -J $1 lomo2_run.sh $2\""
   ]
  },
  {
   "cell_type": "code",
   "execution_count": null,
   "metadata": {},
   "outputs": [],
   "source": [
    "#get job id\n",
    "job_idm=re.findall(r'\\d+', out)[0]\n",
    "print(job_idm)"
   ]
  },
  {
   "cell_type": "code",
   "execution_count": null,
   "metadata": {},
   "outputs": [],
   "source": [
    "%%bash -s \"$scuser\"   --err err\n",
    "# check job status\n",
    "ssh lomo2 \"module load slurm gromacs/2018-gcc; squeue -u $1 \" || echo \"No job in queue\""
   ]
  },
  {
   "cell_type": "code",
   "execution_count": null,
   "metadata": {},
   "outputs": [],
   "source": [
    "%%bash -s \"$folder\"  \"$job_idm\"  --err err\n",
    "# check job status\n",
    "ssh lomo2 \"tail -n 25 ~/_scratch/$1/GMX_run/egmx.$2\""
   ]
  },
  {
   "cell_type": "code",
   "execution_count": null,
   "metadata": {},
   "outputs": [],
   "source": [
    "%%bash -s \"$folder\"  \"$deffnm\"  --err err\n",
    "# check job status\n",
    "ssh lomo2 \"tail -n 25 ~/_scratch/$1/GMX_run/$2.log\""
   ]
  },
  {
   "cell_type": "code",
   "execution_count": null,
   "metadata": {},
   "outputs": [],
   "source": [
    "%%bash -s \"$folder\" --err err \n",
    "#Purge # files and copy\n",
    "\n",
    "ssh lomo2 \"rm -f ~/_scratch/$1/GMX_run/\\#*; \" && scp lomo2:~/_scratch/$1/GMX_run/* GMX_run/ ;"
   ]
  },
  {
   "cell_type": "markdown",
   "metadata": {},
   "source": [
    "#### Analyze what we get"
   ]
  },
  {
   "cell_type": "code",
   "execution_count": null,
   "metadata": {},
   "outputs": [],
   "source": [
    "view_nucl('GMX_system/init_solv_ions.pdb','GMX_run/%s.trr'%deffnm)"
   ]
  },
  {
   "cell_type": "markdown",
   "metadata": {},
   "source": [
    "### 6_Equilibration 200 ps unrestrained"
   ]
  },
  {
   "cell_type": "code",
   "execution_count": null,
   "metadata": {},
   "outputs": [],
   "source": [
    "%%bash  \n",
    "#--out out --err err\n",
    "gmx grompp -f MDProtocols/5_equil.mdp -c GMX_run/5_equil.gro -p GMX_system/topol.top \\\n",
    "-o GMX_run/6_equil.tpr -v  -r GMX_run/5_equil.gro -n GMX_system/index.ndx -po GMX_run/mdout_6_equil.mdp\n"
   ]
  },
  {
   "cell_type": "markdown",
   "metadata": {},
   "source": [
    "#### Run: Option 1 - locally"
   ]
  },
  {
   "cell_type": "code",
   "execution_count": null,
   "metadata": {},
   "outputs": [],
   "source": [
    "%%bash\n",
    "cd GMX_run\n",
    "gmx mdrun -deffnm 6_equil # if you want to run locally"
   ]
  },
  {
   "cell_type": "markdown",
   "metadata": {},
   "source": [
    "#### Run: Option 2 - sending and simulating on Lomonosov-2"
   ]
  },
  {
   "cell_type": "code",
   "execution_count": null,
   "metadata": {},
   "outputs": [],
   "source": [
    "deffnm='6_equil'"
   ]
  },
  {
   "cell_type": "code",
   "execution_count": null,
   "metadata": {},
   "outputs": [],
   "source": [
    "%%bash -s \"$folder\" --err err\n",
    "cp Run_scripts/lomo2_run.sh GMX_run/\n",
    "ssh lomo2 \"mkdir -p ~/_scratch/$1\" && scp -r GMX_run lomo2:~/_scratch/$1/;"
   ]
  },
  {
   "cell_type": "code",
   "execution_count": null,
   "metadata": {},
   "outputs": [],
   "source": [
    "%%bash -s \"$folder\" \"$deffnm\" --out out\n",
    "ssh lomo2 \"module load slurm gromacs/2018-gcc; cd ~/_scratch/$1/GMX_run; \\\n",
    "sbatch -p test -t 00:15:00 -N 4 -J $1 lomo2_run.sh $2\""
   ]
  },
  {
   "cell_type": "code",
   "execution_count": null,
   "metadata": {},
   "outputs": [],
   "source": [
    "#get job id\n",
    "job_idm=re.findall(r'\\d+', out)[0]\n",
    "print(job_idm)"
   ]
  },
  {
   "cell_type": "code",
   "execution_count": null,
   "metadata": {},
   "outputs": [],
   "source": [
    "%%bash -s \"$scuser\"   --err err\n",
    "# check job status\n",
    "ssh lomo2 \"module load slurm gromacs/2018-gcc; squeue -u $1 \" || echo \"No job in queue\""
   ]
  },
  {
   "cell_type": "code",
   "execution_count": null,
   "metadata": {},
   "outputs": [],
   "source": [
    "%%bash -s \"$folder\"  \"$job_idm\"  --err err\n",
    "# check job status\n",
    "ssh lomo2 \"tail -n 25 ~/_scratch/$1/GMX_run/egmx.$2\""
   ]
  },
  {
   "cell_type": "code",
   "execution_count": null,
   "metadata": {},
   "outputs": [],
   "source": [
    "%%bash -s \"$folder\"  \"$deffnm\"  --err err\n",
    "# check job status\n",
    "ssh lomo2 \"tail -n 25 ~/_scratch/$1/GMX_run/$2.log\""
   ]
  },
  {
   "cell_type": "code",
   "execution_count": null,
   "metadata": {},
   "outputs": [],
   "source": [
    "%%bash -s \"$folder\" --err err \n",
    "#Purge # files and copy\n",
    "\n",
    "ssh lomo2 \"rm -f ~/_scratch/$1/GMX_run/\\#*; \" && scp lomo2:~/_scratch/$1/GMX_run/* GMX_run/ ;"
   ]
  },
  {
   "cell_type": "markdown",
   "metadata": {},
   "source": [
    "#### Analyze what we get"
   ]
  },
  {
   "cell_type": "code",
   "execution_count": null,
   "metadata": {},
   "outputs": [],
   "source": [
    "view_nucl('GMX_system/init_solv_ions.pdb','GMX_run/%s.trr'%deffnm)"
   ]
  },
  {
   "cell_type": "markdown",
   "metadata": {},
   "source": [
    "As a result we have equlibrated system ready for production simulations.\n",
    "We copy it to GMX_system."
   ]
  },
  {
   "cell_type": "code",
   "execution_count": null,
   "metadata": {},
   "outputs": [],
   "source": [
    "%%bash\n",
    "cp GMX_run/6_equil.gro GMX_system/\n",
    "\n",
    "#following files will be needed\n",
    "#gmx grompp -f Protocols/7_prod.mdp -c GMX_system/6_equil.gro -p GMX_system/topol.top \\\n",
    "#-o GMX_run/7_prod.tpr -v  -r GMX_system/6_equil.gro -n GMX_system/index.ndx -po GMX_run/mdout_7_prod.mdp"
   ]
  },
  {
   "cell_type": "markdown",
   "metadata": {},
   "source": [
    "# Saving final equilibrated results"
   ]
  },
  {
   "cell_type": "markdown",
   "metadata": {},
   "source": [
    "The main aim of this repo is to produce equilibrated simulation systems, here we place into results folder the set of equilibrated files of step 6.\n"
   ]
  },
  {
   "cell_type": "code",
   "execution_count": null,
   "metadata": {},
   "outputs": [],
   "source": [
    "%%bash\n",
    "gmx trjconv -f GMX_run/6_equil.gro -s GMX_run/6_equil.tpr -o GMX_run/6_equil.pdb << !\n",
    "0\n",
    "!"
   ]
  },
  {
   "cell_type": "code",
   "execution_count": null,
   "metadata": {},
   "outputs": [],
   "source": [
    "%%bash --out out\n",
    "gmx trjconv -f GMX_system/init_solv_ions.pdb -s GMX_run/6_equil.tpr -o results/init_prot_xray.pdb << !\n",
    "1\n",
    "!\n"
   ]
  },
  {
   "cell_type": "code",
   "execution_count": null,
   "metadata": {},
   "outputs": [],
   "source": [
    "%%bash\n",
    "mkdir -p results\n",
    "cp GMX_run/6_equil* results/"
   ]
  },
  {
   "cell_type": "code",
   "execution_count": null,
   "metadata": {},
   "outputs": [],
   "source": []
  }
 ],
 "metadata": {
  "kernelspec": {
   "display_name": "Python [conda env:moldyn]",
   "language": "python",
   "name": "conda-env-moldyn-py"
  },
  "language_info": {
   "codemirror_mode": {
    "name": "ipython",
    "version": 3
   },
   "file_extension": ".py",
   "mimetype": "text/x-python",
   "name": "python",
   "nbconvert_exporter": "python",
   "pygments_lexer": "ipython3",
   "version": "3.7.1"
  }
 },
 "nbformat": 4,
 "nbformat_minor": 2
}
