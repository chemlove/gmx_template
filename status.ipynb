{
 "cells": [
  {
   "cell_type": "code",
   "execution_count": null,
   "metadata": {},
   "outputs": [],
   "source": [
    "## Reporting status of the simulation"
   ]
  },
  {
   "cell_type": "code",
   "execution_count": 2,
   "metadata": {},
   "outputs": [
    {
     "data": {
      "text/markdown": [
       "\n",
       "# MD simulations of H3-H4, tails truncated\n",
       "- AMBER14SB force field with CUFIX\n",
       "- equilibrated also with CUFIX \n",
       "- 50 mM NaCl\n",
       "- box 2nm\n"
      ],
      "text/plain": [
       "<IPython.core.display.Markdown object>"
      ]
     },
     "metadata": {},
     "output_type": "display_data"
    },
    {
     "name": "stdout",
     "output_type": "stream",
     "text": [
      "Folder set to:  h3-h4_tm_MD_eqcufix\n",
      "Project name:  h3-h4_tm_MD_eqcufix\n",
      "User set to: shaytan_1609\n"
     ]
    }
   ],
   "source": [
    "from config import movtitle\n",
    "from IPython.display import Markdown, display\n",
    "from config import folder,descr,pname,scuser\n",
    "display(Markdown(descr))\n",
    "print(\"Folder set to: \",folder)\n",
    "print(\"Project name: \",pname)\n",
    "print(\"User set to:\",scuser)\n",
    "\n"
   ]
  },
  {
   "cell_type": "code",
   "execution_count": 3,
   "metadata": {},
   "outputs": [
    {
     "data": {
      "text/plain": [
       "<module 'config' from '/home/_shared/_projects/2018_h3-h4_dyn/h3-h4_tm_MD/config.py'>"
      ]
     },
     "execution_count": 3,
     "metadata": {},
     "output_type": "execute_result"
    }
   ],
   "source": [
    "from importlib import reload \n",
    "import funcs, config\n",
    "reload(funcs)\n",
    "reload(config)\n"
   ]
  },
  {
   "cell_type": "code",
   "execution_count": 4,
   "metadata": {},
   "outputs": [
    {
     "name": "stdout",
     "output_type": "stream",
     "text": [
      "           Step           Time\r\n",
      "      144410000   288820.00000\r\n",
      "--\r\n",
      "           Step           Time\r\n",
      "      144420000   288840.00000\r\n",
      "--\r\n",
      "           Step           Time\r\n",
      "      144430000   288860.00000\r\n"
     ]
    }
   ],
   "source": [
    "!tail -n 50 GMX_run/7_prod.log | grep -A1 Time"
   ]
  },
  {
   "cell_type": "code",
   "execution_count": 5,
   "metadata": {},
   "outputs": [
    {
     "name": "stdout",
     "output_type": "stream",
     "text": [
      "   Lomonosov-2 supercomputer welcomes you!\n",
      "\n",
      "\n",
      "           Step           Time\n",
      "      144780000   289560.00000\n",
      "--\n",
      "           Step           Time\n",
      "      144790000   289580.00000\n",
      "--\n",
      "           Step           Time\n",
      "      144800000   289600.00000\n"
     ]
    }
   ],
   "source": [
    "!ssh lomo2 \"tail -n 50 ~/_scratch/$folder/GMX_run/7_prod.log | grep -A1 Time\""
   ]
  },
  {
   "cell_type": "code",
   "execution_count": 8,
   "metadata": {},
   "outputs": [
    {
     "name": "stdout",
     "output_type": "stream",
     "text": [
      "   Lomonosov-2 supercomputer welcomes you!\n",
      "\n",
      "\n",
      "7_prod.cpt\n",
      "7_prod.edr\n",
      "7_prod.log\n",
      "7_prod_prev.cpt\n",
      "7_prod.tpr\n",
      "7_prod.xtc\n",
      "egmx.908058\n",
      "egmx.908059\n",
      "index.ndx\n",
      "lomo2_run_cont.sh\n",
      "lomo2_run.sh\n",
      "mdout_7_prod.mdp\n",
      "ogmx.908058\n",
      "ogmx.908059\n"
     ]
    }
   ],
   "source": [
    "!ssh lomo2 \"ls ~/_scratch/$folder/GMX_run/\""
   ]
  },
  {
   "cell_type": "code",
   "execution_count": 10,
   "metadata": {},
   "outputs": [
    {
     "name": "stdout",
     "output_type": "stream",
     "text": [
      "   Lomonosov-2 supercomputer welcomes you!\n",
      "\n",
      "\n",
      "==> /home/shaytan_1609/_scratch/h3-h4_tm_MD_eqcufix/GMX_run/egmx.908058 <==\n",
      "      This can lead to significant performance degradation.\n",
      "      Consider using -pin on (and -pinoffset in case you run multiple jobs).\n",
      "\n",
      "Back Off! I just backed up 7_prod.xtc to ./#7_prod.xtc.2#\n",
      "\n",
      "Back Off! I just backed up 7_prod.edr to ./#7_prod.edr.2#\n",
      "\n",
      "NOTE: DLB will not turn on during the first phase of PME tuning\n",
      "starting mdrun 'MDANALYSIS FRAME 0: Created by PDBWriter in water'\n",
      "5000000000 steps, 10000000.0 ps.\n",
      "\n",
      "NOTE: DLB can now turn on, when beneficial\n",
      "\n",
      "step 190000 Turning on dynamic load balancing, because the performance loss due to load imbalance is 2.0 %.\n",
      "\n",
      "\n",
      "step 192000 Turning off dynamic load balancing, because it is degrading performance.\n",
      "\n",
      "slurmstepd-n48616: *** JOB 908058 ON n48616 CANCELLED AT 2018-12-20T16:26:51 DUE TO TIME LIMIT ***\n",
      "--------------------------------------------------------------------------\n",
      "ORTE has lost communication with a remote daemon.\n",
      "\n",
      "  HNP daemon   : [[58563,0],0] on node n48616\n",
      "  Remote daemon: [[58563,0],1] on node n48617\n",
      "\n",
      "This is usually due to either a failure of the TCP network\n",
      "connection to the node, or possibly an internal failure of\n",
      "the daemon itself. We cannot recover from this failure, and\n",
      "therefore will terminate the job.\n",
      "--------------------------------------------------------------------------\n",
      "\n",
      "==> /home/shaytan_1609/_scratch/h3-h4_tm_MD_eqcufix/GMX_run/egmx.908059 <==\n",
      "NOTE: GROMACS was configured without NVML support hence it can not exploit\n",
      "      application clocks of the detected Tesla K40s GPU to improve performance.\n",
      "      Recompile with the NVML library (compatible with the driver used) or set application clocks manually.\n",
      "\n",
      "NOTE: The number of threads is not equal to the number of (logical) cores\n",
      "      and the -pin option is set to auto: will not pin threads to cores.\n",
      "      This can lead to significant performance degradation.\n",
      "      Consider using -pin on (and -pinoffset in case you run multiple jobs).\n",
      "\n",
      "Back Off! I just backed up 7_prod.xtc to ./#7_prod.xtc.1#\n",
      "\n",
      "Back Off! I just backed up 7_prod.edr to ./#7_prod.edr.1#\n",
      "\n",
      "NOTE: DLB will not turn on during the first phase of PME tuning\n",
      "starting mdrun 'MDANALYSIS FRAME 0: Created by PDBWriter in water'\n",
      "5000000000 steps, 10000000.0 ps.\n",
      "\n",
      "NOTE: DLB can now turn on, when beneficial\n",
      "\n",
      "step 1400 Turning on dynamic load balancing, because the performance loss due to load imbalance is 2.7 %.\n",
      "\n",
      "\n",
      "step 3000 Turning off dynamic load balancing, because it is degrading performance.\n",
      "\n",
      "mlx5: n51703.10p.parallel.ru: got completion with error:\n",
      "00000000 00000000 00000000 00000000\n",
      "00000000 00000000 00000000 00000000\n",
      "00000000 00000000 00000000 00000000\n",
      "00000000 00008813 080f691c fb6e60d0\n",
      "[[51926,1],7][btl_openib_component.c:3556:handle_wc] from n51703 to: n51108 error polling LP CQ with status REMOTE ACCESS ERROR status number 10 for wr_id 8b0980 opcode 1  vendor error 136 qp_idx 0\n"
     ]
    }
   ],
   "source": [
    "!ssh lomo2 \"tail -n 30 ~/_scratch/$folder/GMX_run/egmx*\""
   ]
  },
  {
   "cell_type": "code",
   "execution_count": 6,
   "metadata": {},
   "outputs": [
    {
     "name": "stdout",
     "output_type": "stream",
     "text": [
      "   Lomonosov-2 supercomputer welcomes you!\n",
      "\n",
      "\n",
      "             JOBID PARTITION     NAME     USER ST       TIME  NODES NODELIST(REASON)\n"
     ]
    }
   ],
   "source": [
    "!ssh lomo2 \"module load slurm gromacs/2018-gcc; squeue -n $folder \" || echo \"No job in queue\""
   ]
  },
  {
   "cell_type": "code",
   "execution_count": 7,
   "metadata": {},
   "outputs": [
    {
     "name": "stdout",
     "output_type": "stream",
     "text": [
      "   Lomonosov-2 supercomputer welcomes you!\n",
      "\n",
      "\n",
      "             JOBID PARTITION     NAME     USER ST       TIME  NODES NODELIST(REASON)\n",
      "            906340   compute  jobname shaytan_ PD       0:00      4 (Dependency)\n",
      "            906341   compute  jobname shaytan_ PD       0:00      4 (Dependency)\n",
      "            906342   compute  jobname shaytan_ PD       0:00      4 (Dependency)\n",
      "            906343   compute  jobname shaytan_ PD       0:00      4 (Dependency)\n",
      "            906331   compute  jobname shaytan_  R 1-11:36:12      4 n[49729-49732]\n",
      "            908735   compute  jobname shaytan_  R 1-00:04:33      4 n[49127-49130]\n"
     ]
    }
   ],
   "source": [
    "!ssh lomo2 \"module load slurm gromacs/2018-gcc; squeue -u $scuser \" || echo \"No job in queue\""
   ]
  },
  {
   "cell_type": "code",
   "execution_count": null,
   "metadata": {},
   "outputs": [],
   "source": [
    "## Relaunch\n",
    "!ssh lomo2 \"module load slurm gromacs/2018-gcc; cd ~/_scratch/$folder/GMX_run; sbatch -p compute -t 72:00:00 -N 4 -J $folder lomo2_run_cont.sh 7_prod\""
   ]
  },
  {
   "cell_type": "code",
   "execution_count": null,
   "metadata": {},
   "outputs": [],
   "source": [
    "!ssh lomo2 \"module load slurm gromacs/2018-gcc; cd ~/_scratch/$folder/GMX_run; sbatch -p compute -t 72:00:00 -N 4 -J $folder --dependency=afterany:7777 lomo2_run_cont.sh 7_prod\""
   ]
  }
 ],
 "metadata": {
  "kernelspec": {
   "display_name": "Python [conda env:moldyn]",
   "language": "python",
   "name": "conda-env-moldyn-py"
  },
  "language_info": {
   "codemirror_mode": {
    "name": "ipython",
    "version": 3
   },
   "file_extension": ".py",
   "mimetype": "text/x-python",
   "name": "python",
   "nbconvert_exporter": "python",
   "pygments_lexer": "ipython3",
   "version": "3.7.1"
  }
 },
 "nbformat": 4,
 "nbformat_minor": 2
}
