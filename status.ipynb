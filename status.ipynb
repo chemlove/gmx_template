{
 "cells": [
  {
   "cell_type": "code",
   "execution_count": 2,
   "metadata": {},
   "outputs": [],
   "source": [
    "## Reporting status of the simulation"
   ]
  },
  {
   "cell_type": "code",
   "execution_count": 3,
   "metadata": {},
   "outputs": [
    {
     "data": {
      "text/markdown": [
       "\n",
       "# MD simulations of H3-H4, tails truncated\n",
       "- AMBER14SB force field\n",
       "- 50 mM NaCl\n",
       "- box 2nm\n"
      ],
      "text/plain": [
       "<IPython.core.display.Markdown object>"
      ]
     },
     "metadata": {},
     "output_type": "display_data"
    },
    {
     "name": "stdout",
     "output_type": "stream",
     "text": [
      "Folder set to:  h3-h4_tm\n",
      "Project name:  h3-h4_tm\n",
      "User set to: shaytan_1609\n"
     ]
    }
   ],
   "source": [
    "#Reloading funcs if changed\n",
    "from importlib import reload \n",
    "import funcs,config\n",
    "reload(funcs)\n",
    "reload(config)\n",
    "\n",
    "\n",
    "from config import movtitle\n",
    "from IPython.display import Markdown, display\n",
    "from config import folder,descr,pname,scuser\n",
    "display(Markdown(descr))\n",
    "print(\"Folder set to: \",folder)\n",
    "print(\"Project name: \",pname)\n",
    "print(\"User set to:\",scuser)\n",
    "\n"
   ]
  },
  {
   "cell_type": "code",
   "execution_count": 1,
   "metadata": {},
   "outputs": [
    {
     "name": "stdout",
     "output_type": "stream",
     "text": [
      "[master 56cc927] Update\n",
      " Committer: Alexey Shaytan <alexsha@newton.bioeng.ru>\n",
      "Your name and email address were configured automatically based\n",
      "on your username and hostname. Please check that they are accurate.\n",
      "You can suppress this message by setting them explicitly. Run the\n",
      "following command and follow the instructions in your editor to edit\n",
      "your configuration file:\n",
      "\n",
      "    git config --global --edit\n",
      "\n",
      "After doing this, you may fix the identity used for this commit with:\n",
      "\n",
      "    git commit --amend --reset-author\n",
      "\n",
      " 2 files changed, 14 insertions(+), 9 deletions(-)\n",
      "Counting objects: 4, done.\n",
      "Delta compression using up to 40 threads.\n",
      "Compressing objects: 100% (4/4), done.\n",
      "Writing objects: 100% (4/4), 668 bytes | 668.00 KiB/s, done.\n",
      "Total 4 (delta 3), reused 0 (delta 0)\n",
      "remote: Resolving deltas: 100% (3/3), completed with 3 local objects.\u001b[K\n",
      "To github.com:intbio/gmx_template.git\n",
      "   ada515f..56cc927  master -> master\n"
     ]
    }
   ],
   "source": [
    "#!./get_files.sh 6\n",
    "#!gacp"
   ]
  },
  {
   "cell_type": "code",
   "execution_count": null,
   "metadata": {},
   "outputs": [],
   "source": [
    "!tail -n 50 GMX_run/7_prod.log | grep -A1 Time"
   ]
  },
  {
   "cell_type": "code",
   "execution_count": null,
   "metadata": {},
   "outputs": [],
   "source": [
    "!ssh lomo2 \"tail -n 50 ~/_scratch/$folder/GMX_run/7_prod.log | grep -A1 Time\""
   ]
  },
  {
   "cell_type": "code",
   "execution_count": null,
   "metadata": {},
   "outputs": [],
   "source": [
    "!ssh lomo2 \"ls -l ~/_scratch/$folder/GMX_run/7_prod.log \""
   ]
  },
  {
   "cell_type": "code",
   "execution_count": null,
   "metadata": {},
   "outputs": [],
   "source": [
    "!ssh lomo2 \"ls ~/_scratch/$folder/GMX_run/\""
   ]
  },
  {
   "cell_type": "code",
   "execution_count": null,
   "metadata": {},
   "outputs": [],
   "source": [
    "!ssh lomo2 \"tail -n 30 ~/_scratch/$folder/GMX_run/egmx*\""
   ]
  },
  {
   "cell_type": "code",
   "execution_count": null,
   "metadata": {},
   "outputs": [],
   "source": [
    "!ssh lomo2 \"module load slurm gromacs/2018-gcc; squeue -n $folder \" || echo \"No job in queue\""
   ]
  },
  {
   "cell_type": "code",
   "execution_count": null,
   "metadata": {},
   "outputs": [],
   "source": [
    "!ssh lomo2 \"module load slurm gromacs/2018-gcc; squeue -u $scuser \" || echo \"No job in queue\""
   ]
  },
  {
   "cell_type": "code",
   "execution_count": null,
   "metadata": {},
   "outputs": [],
   "source": [
    "## Relaunch\n",
    "#!ssh lomo2 \"module load slurm gromacs/2018-gcc; cd ~/_scratch/$folder/GMX_run; sbatch -p compute -t 72:00:00 -N 4 -J $folder lomo2_run_cont.sh 7_prod\""
   ]
  },
  {
   "cell_type": "code",
   "execution_count": null,
   "metadata": {},
   "outputs": [],
   "source": [
    "#!ssh lomo2 \"module load slurm gromacs/2018-gcc; cd ~/_scratch/$folder/GMX_run; sbatch -p compute -t 72:00:00 -N 4 -J $folder --dependency=afterany:7777 lomo2_run_cont.sh 7_prod\""
   ]
  },
  {
   "cell_type": "code",
   "execution_count": null,
   "metadata": {},
   "outputs": [],
   "source": [
    "%%bash -s \"$folder\" --err err --out out\n",
    "#Get back data\n",
    "\n",
    "rsync --partial lomo2:~/_scratch/$1/GMX_run/7_prod* GMX_run/ ;\n",
    "rsync --partial lomo2:~/_scratch/$1/GMX_run/egmx* GMX_run/ ;    \n",
    "rsync --partial lomo2:~/_scratch/$1/GMX_run/ogmx* GMX_run/ ;    "
   ]
  },
  {
   "cell_type": "code",
   "execution_count": null,
   "metadata": {},
   "outputs": [],
   "source": [
    "#!jupyter kernelspec list"
   ]
  },
  {
   "cell_type": "code",
   "execution_count": null,
   "metadata": {},
   "outputs": [],
   "source": [
    "!jupyter nbconvert --ExecutePreprocessor.kernel_name=python3 --to notebook --execute 5_trj_preprocessing.ipynb --output 5_trj_preprocessing.ipynb"
   ]
  },
  {
   "cell_type": "code",
   "execution_count": null,
   "metadata": {},
   "outputs": [],
   "source": [
    "!jupyter nbconvert --ExecutePreprocessor.timeout=1200 --ExecutePreprocessor.kernel_name=python3 --to notebook --execute 6_1_basic_analysis.ipynb --output 6_1_basic_analysis.ipynb"
   ]
  },
  {
   "cell_type": "code",
   "execution_count": null,
   "metadata": {},
   "outputs": [],
   "source": []
  }
 ],
 "metadata": {
  "kernelspec": {
   "display_name": "Python [conda env:moldyn]",
   "language": "python",
   "name": "conda-env-moldyn-py"
  },
  "language_info": {
   "codemirror_mode": {
    "name": "ipython",
    "version": 3
   },
   "file_extension": ".py",
   "mimetype": "text/x-python",
   "name": "python",
   "nbconvert_exporter": "python",
   "pygments_lexer": "ipython3",
   "version": "3.7.1"
  }
 },
 "nbformat": 4,
 "nbformat_minor": 2
}
