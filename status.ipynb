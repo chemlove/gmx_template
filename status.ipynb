{
 "cells": [
  {
   "cell_type": "code",
   "execution_count": 31,
   "metadata": {},
   "outputs": [],
   "source": [
    "## Reporting status of the simulation"
   ]
  },
  {
   "cell_type": "code",
   "execution_count": 32,
   "metadata": {
    "scrolled": true
   },
   "outputs": [
    {
     "data": {
      "text/markdown": [
       "\n",
       "# MD simulations of H3-H4 with 30 bp of DNA, tails truncated\n",
       "- AMBER14SB force field\n",
       "- 50 mM NaCl\n",
       "- box 2nm\n"
      ],
      "text/plain": [
       "<IPython.core.display.Markdown object>"
      ]
     },
     "metadata": {},
     "output_type": "display_data"
    },
    {
     "name": "stdout",
     "output_type": "stream",
     "text": [
      "Folder set to:  h3-h4_tm_DNA\n",
      "Project name:  h3-h4_tm_DNA\n",
      "SSH host set to: lomo2g\n"
     ]
    }
   ],
   "source": [
    "#Reloading funcs if changed\n",
    "from importlib import reload \n",
    "import funcs,config\n",
    "reload(funcs)\n",
    "reload(config)\n",
    "\n",
    "\n",
    "from config import movtitle\n",
    "from IPython.display import Markdown, display\n",
    "from config import folder,descr,pname,ssh_host\n",
    "display(Markdown(descr))\n",
    "print(\"Folder set to: \",folder)\n",
    "print(\"Project name: \",pname)\n",
    "print(\"SSH host set to:\",ssh_host)\n",
    "\n"
   ]
  },
  {
   "cell_type": "code",
   "execution_count": 33,
   "metadata": {},
   "outputs": [],
   "source": [
    "#!./get_files.sh 6\n",
    "#!gacp\n",
    "#!ssh $ssh_host \"mkdir -p ~/_scratch/$folder\" \n",
    "#!ssh $ssh_host \"mkdir -p ~/_scratch/$folder/GMX_run\" \n",
    "#!rsync --partial GMX_run/7_prod* $ssh_host:~/_scratch/$folder/GMX_run/;\n",
    "#!rsync --partial GMX_run/lomo2* $ssh_host:~/_scratch/$folder/GMX_run/;    "
   ]
  },
  {
   "cell_type": "code",
   "execution_count": 34,
   "metadata": {},
   "outputs": [
    {
     "name": "stdout",
     "output_type": "stream",
     "text": [
      "           Step           Time\n",
      "      132620000   265240.00000\n",
      "--\n",
      "           Step           Time\n",
      "      132621000   265242.00000\n",
      "--\n",
      "           Step           Time\n",
      "      132622000   265244.00000\n"
     ]
    }
   ],
   "source": [
    "!tail -n 50 GMX_run/7_prod.log | grep -A1 Time"
   ]
  },
  {
   "cell_type": "code",
   "execution_count": 35,
   "metadata": {},
   "outputs": [
    {
     "name": "stdout",
     "output_type": "stream",
     "text": [
      "   Lomonosov-2 supercomputer welcomes you!\n",
      "\n",
      "\n",
      "           Step           Time\n",
      "      139117000   278234.00000\n",
      "--\n",
      "           Step           Time\n",
      "      139118000   278236.00000\n",
      "--\n",
      "           Step           Time\n",
      "      139119000   278238.00000\n"
     ]
    }
   ],
   "source": [
    "!ssh $ssh_host \"tail -n 50 ~/_scratch/$folder/GMX_run/7_prod.log | grep -A1 Time\""
   ]
  },
  {
   "cell_type": "code",
   "execution_count": 36,
   "metadata": {},
   "outputs": [
    {
     "name": "stdout",
     "output_type": "stream",
     "text": [
      "   Lomonosov-2 supercomputer welcomes you!\n",
      "\n",
      "\n",
      "-rw-rw-r-- 1 gorkovets_1609 gorkovets_1609 93985940 Jan 19 06:35 /home/gorkovets_1609/_scratch/h3-h4_tm_DNA/GMX_run/7_prod.log\n"
     ]
    }
   ],
   "source": [
    "!ssh $ssh_host \"ls -l ~/_scratch/$folder/GMX_run/7_prod.log \""
   ]
  },
  {
   "cell_type": "code",
   "execution_count": null,
   "metadata": {},
   "outputs": [],
   "source": [
    "!ssh $ssh_host \"ls ~/_scratch/$folder/GMX_run/\""
   ]
  },
  {
   "cell_type": "code",
   "execution_count": null,
   "metadata": {},
   "outputs": [],
   "source": [
    "!ssh $ssh_host \"tail -n 30 ~/_scratch/$folder/GMX_run/egmx*\""
   ]
  },
  {
   "cell_type": "code",
   "execution_count": 39,
   "metadata": {},
   "outputs": [
    {
     "name": "stdout",
     "output_type": "stream",
     "text": [
      "   Lomonosov-2 supercomputer welcomes you!\n",
      "\n",
      "\n",
      "             JOBID PARTITION     NAME     USER ST       TIME  NODES NODELIST(REASON)\n",
      "            942078   compute h3-h4_tm gorkovet  R       0:03      4 n[51311-51314]\n"
     ]
    }
   ],
   "source": [
    "!ssh $ssh_host \"module load slurm gromacs/2018-gcc; squeue -n $folder \" || echo \"No job in queue\""
   ]
  },
  {
   "cell_type": "code",
   "execution_count": 7,
   "metadata": {},
   "outputs": [
    {
     "name": "stdout",
     "output_type": "stream",
     "text": [
      "   Lomonosov-2 supercomputer welcomes you!\n",
      "\n",
      "\n",
      "             JOBID PARTITION     NAME     USER ST       TIME  NODES NODELIST(REASON)\n",
      "            912043   compute h3-h4_tm shaytan_  R 4-04:03:10      4 n[50422-50425]\n",
      "            913900   compute h3-h4_tm shaytan_  R 1-00:14:24      4 n[49330-49332,49401]\n",
      "            919914   compute h3-h4_tm shaytan_  R   10:54:42      8 n[53026-53032,53101]\n",
      "            919915   compute h3-h4_tm shaytan_  R   10:54:32      8 n[53509-53516]\n"
     ]
    }
   ],
   "source": [
    "!ssh $ssh_host \"module load slurm gromacs/2018-gcc; squeue -u \\`whoami\\` \" || echo \"No job in queue\""
   ]
  },
  {
   "cell_type": "code",
   "execution_count": 38,
   "metadata": {},
   "outputs": [
    {
     "name": "stdout",
     "output_type": "stream",
     "text": [
      "   Lomonosov-2 supercomputer welcomes you!\n",
      "\n",
      "\n",
      "Submitted batch job 942078\n"
     ]
    }
   ],
   "source": [
    "## Relaunch\n",
    "!ssh $ssh_host \"module load slurm gromacs/2018-gcc; cd ~/_scratch/$folder/GMX_run; sbatch -p compute -t 7-00:00:00 -N 4 -J $folder lomo2_run_cont.sh 7_prod\""
   ]
  },
  {
   "cell_type": "code",
   "execution_count": null,
   "metadata": {},
   "outputs": [],
   "source": [
    "#!ssh $ssh_host \"module load slurm gromacs/2018-gcc; cd ~/_scratch/$folder/GMX_run; sbatch -p compute -t 7-00:00:00 -N 4 -J $folder --dependency=afterany:7777 lomo2_run_cont.sh 7_prod\""
   ]
  },
  {
   "cell_type": "code",
   "execution_count": null,
   "metadata": {},
   "outputs": [
    {
     "name": "stdout",
     "output_type": "stream",
     "text": [
      "   Lomonosov-2 supercomputer welcomes you!\n",
      "\n",
      "\n"
     ]
    }
   ],
   "source": [
    "!rsync --partial $ssh_host:~/_scratch/$folder/GMX_run/7_prod* GMX_run/ ;\n",
    "!rsync --partial $ssh_host:~/_scratch/$folder/GMX_run/egmx* GMX_run/ ;    \n",
    "!rsync --partial $ssh_host:~/_scratch/$folder/GMX_run/ogmx* GMX_run/ ;    "
   ]
  },
  {
   "cell_type": "code",
   "execution_count": null,
   "metadata": {},
   "outputs": [],
   "source": [
    "#!jupyter kernelspec list"
   ]
  },
  {
   "cell_type": "code",
   "execution_count": null,
   "metadata": {},
   "outputs": [],
   "source": [
    "!jupyter nbconvert --ExecutePreprocessor.kernel_name=python3 --to notebook --execute 5_trj_preprocessing.ipynb --output 5_trj_preprocessing.ipynb"
   ]
  },
  {
   "cell_type": "code",
   "execution_count": null,
   "metadata": {},
   "outputs": [
    {
     "name": "stdout",
     "output_type": "stream",
     "text": [
      "[NbConvertApp] Converting notebook 6_1_basic_analysis.ipynb to notebook\n",
      "[NbConvertApp] Executing notebook with kernel: python3\n"
     ]
    }
   ],
   "source": [
    "!jupyter nbconvert --ExecutePreprocessor.timeout=1200 --ExecutePreprocessor.kernel_name=python3 --to notebook --execute 6_1_basic_analysis.ipynb --output 6_1_basic_analysis.ipynb"
   ]
  },
  {
   "cell_type": "code",
   "execution_count": null,
   "metadata": {},
   "outputs": [],
   "source": []
  }
 ],
 "metadata": {
  "kernelspec": {
   "display_name": "Python [conda env:moldyn]",
   "language": "python",
   "name": "conda-env-moldyn-py"
  },
  "language_info": {
   "codemirror_mode": {
    "name": "ipython",
    "version": 3
   },
   "file_extension": ".py",
   "mimetype": "text/x-python",
   "name": "python",
   "nbconvert_exporter": "python",
   "pygments_lexer": "ipython3",
   "version": "3.7.1"
  }
 },
 "nbformat": 4,
 "nbformat_minor": 2
}
