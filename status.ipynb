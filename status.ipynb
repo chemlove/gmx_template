{
 "cells": [
  {
   "cell_type": "code",
   "execution_count": null,
   "metadata": {},
   "outputs": [],
   "source": [
    "## Reporting status of the simulation"
   ]
  },
  {
   "cell_type": "code",
   "execution_count": 8,
   "metadata": {},
   "outputs": [
    {
     "data": {
      "text/markdown": [
       "\n",
       "# MD simulations of H3-H4, tails truncated\n",
       "- AMBER14SB force field\n",
       "- 50 mM NaCl\n",
       "- box 2nm\n"
      ],
      "text/plain": [
       "<IPython.core.display.Markdown object>"
      ]
     },
     "metadata": {},
     "output_type": "display_data"
    },
    {
     "name": "stdout",
     "output_type": "stream",
     "text": [
      "Folder set to:  h3-h4_tm\n",
      "Project name:  h3-h4_tm\n",
      "User set to: shaytan_1609\n"
     ]
    }
   ],
   "source": [
    "from config import movtitle\n",
    "from IPython.display import Markdown, display\n",
    "from config import folder,descr,pname,scuser\n",
    "display(Markdown(descr))\n",
    "print(\"Folder set to: \",folder)\n",
    "print(\"Project name: \",pname)\n",
    "print(\"User set to:\",scuser)\n",
    "\n"
   ]
  },
  {
   "cell_type": "code",
   "execution_count": 11,
   "metadata": {},
   "outputs": [
    {
     "data": {
      "text/plain": [
       "<module 'config' from '/home/_shared/_projects/gmx_template/config.py'>"
      ]
     },
     "execution_count": 11,
     "metadata": {},
     "output_type": "execute_result"
    }
   ],
   "source": [
    "from importlib import reload \n",
    "import funcs, config\n",
    "reload(funcs)\n",
    "reload(config)\n"
   ]
  },
  {
   "cell_type": "code",
   "execution_count": 12,
   "metadata": {},
   "outputs": [
    {
     "name": "stdout",
     "output_type": "stream",
     "text": [
      "       Time: 11807227.034   122991.948     9600.0\r\n",
      "                         1d10h09:51\r\n"
     ]
    }
   ],
   "source": [
    "!tail -n 50 GMX_run/7_prod.log | grep -A1 Time"
   ]
  },
  {
   "cell_type": "code",
   "execution_count": 13,
   "metadata": {},
   "outputs": [
    {
     "name": "stdout",
     "output_type": "stream",
     "text": [
      "   Lomonosov-2 supercomputer welcomes you!\n",
      "\n",
      "\n",
      "tail: cannot open ‘/home/shaytan_1609/_scratch/h3-h4_tm/GMX_run/7_prod.log’ for reading: No such file or directory\n"
     ]
    }
   ],
   "source": [
    "!ssh lomo2 \"tail -n 50 ~/_scratch/$folder/GMX_run/7_prod.log | grep -A1 Time\""
   ]
  },
  {
   "cell_type": "code",
   "execution_count": 14,
   "metadata": {},
   "outputs": [
    {
     "name": "stdout",
     "output_type": "stream",
     "text": [
      "   Lomonosov-2 supercomputer welcomes you!\n",
      "\n",
      "\n",
      "             JOBID PARTITION     NAME     USER ST       TIME  NODES NODELIST(REASON)\n"
     ]
    }
   ],
   "source": [
    "!ssh lomo2 \"module load slurm gromacs/2018-gcc; squeue -n $folder \" || echo \"No job in queue\""
   ]
  },
  {
   "cell_type": "code",
   "execution_count": null,
   "metadata": {},
   "outputs": [],
   "source": [
    "## Relaunch\n",
    "!ssh lomo2 \"module load slurm gromacs/2018-gcc; cd ~/_scratch/$folder/GMX_run; sbatch -p compute -t 72:00:00 -N 4 lomo2_run_cont.sh 7_prod\""
   ]
  },
  {
   "cell_type": "code",
   "execution_count": null,
   "metadata": {},
   "outputs": [],
   "source": [
    "!ssh lomo2 \"module load slurm gromacs/2018-gcc; cd ~/_scratch/$folder/GMX_run; sbatch -p compute -t 72:00:00 -N 4 --dependency=afterany:7777 lomo2_run_cont.sh 7_prod\""
   ]
  }
 ],
 "metadata": {
  "kernelspec": {
   "display_name": "Python [conda env:moldyn]",
   "language": "python",
   "name": "conda-env-moldyn-py"
  },
  "language_info": {
   "codemirror_mode": {
    "name": "ipython",
    "version": 3
   },
   "file_extension": ".py",
   "mimetype": "text/x-python",
   "name": "python",
   "nbconvert_exporter": "python",
   "pygments_lexer": "ipython3",
   "version": "3.7.1"
  }
 },
 "nbformat": 4,
 "nbformat_minor": 2
}
