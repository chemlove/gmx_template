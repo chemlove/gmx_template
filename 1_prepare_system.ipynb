{
 "cells": [
  {
   "cell_type": "markdown",
   "metadata": {},
   "source": [
    "## Preparing simulation system"
   ]
  },
  {
   "cell_type": "code",
   "execution_count": 19,
   "metadata": {},
   "outputs": [
    {
     "data": {
      "text/markdown": [
       "\n",
       "# MD simulations of H3-H4, tails truncated\n",
       "- AMBER14SB force field\n",
       "- 50 mM NaCl\n",
       "- box 2nm\n"
      ],
      "text/plain": [
       "<IPython.core.display.Markdown object>"
      ]
     },
     "metadata": {},
     "output_type": "display_data"
    },
    {
     "name": "stdout",
     "output_type": "stream",
     "text": [
      "Folder set to:  h3-h4_tm\n",
      "Project name:  h3-h4_tm\n"
     ]
    }
   ],
   "source": [
    "#Libraries and main variables initialized\n",
    "import MDAnalysis as mda\n",
    "from MDAnalysis.analysis import align\n",
    "from MDAnalysis.analysis.rms import rmsd\n",
    "import numpy as np\n",
    "import urllib.request, json\n",
    "import os\n",
    "import re\n",
    "import nglview as nv\n",
    "from funcs import get_files_from_git\n",
    "from funcs import view_nucl\n",
    "from IPython.display import Markdown, display\n",
    "\n",
    "%matplotlib inline\n",
    "\n",
    "from config import folder,descr,pname\n",
    "display(Markdown(descr))\n",
    "print(\"Folder set to: \",folder)\n",
    "print(\"Project name: \",pname)\n"
   ]
  },
  {
   "cell_type": "code",
   "execution_count": 16,
   "metadata": {},
   "outputs": [
    {
     "data": {
      "text/plain": [
       "<module 'config' from '/home/_shared/_projects/gmx_template/config.py'>"
      ]
     },
     "execution_count": 16,
     "metadata": {},
     "output_type": "execute_result"
    }
   ],
   "source": [
    "#Reloading funcs if changed\n",
    "from importlib import reload \n",
    "import funcs,config\n",
    "reload(funcs)\n",
    "reload(config)"
   ]
  },
  {
   "cell_type": "markdown",
   "metadata": {},
   "source": [
    "### Donwload and prepare pdb\n",
    "- We use 1kx5 as in JMB paper https://www.ncbi.nlm.nih.gov/pubmed/26699921\n",
    "- We use maximim tuncation up to the essential elements (helixes, key arginines, docking domain). But also try not to create unbalanced charges (see figure below).\n",
    "- The h3-h4_maximally tuncated is H3 residues 43-135, H4 residues 23-102 (see figure below).\n",
    "- Due to AMBER ff, we add ACE residues on truncated N-termi using MDanalysis"
   ]
  },
  {
   "cell_type": "markdown",
   "metadata": {},
   "source": [
    "<img src=\"cutting.jpg\">"
   ]
  },
  {
   "cell_type": "code",
   "execution_count": 28,
   "metadata": {},
   "outputs": [],
   "source": [
    "%%bash --out output --err error\n",
    "wget https://files.rcsb.org/view/1KX5.pdb"
   ]
  },
  {
   "cell_type": "code",
   "execution_count": 29,
   "metadata": {},
   "outputs": [
    {
     "name": "stderr",
     "output_type": "stream",
     "text": [
      "/opt/miniconda3/envs/moldyn/lib/python3.7/site-packages/MDAnalysis/topology/guessers.py:72: UserWarning: Failed to guess the mass for the following atom types: MN\n",
      "  warnings.warn(\"Failed to guess the mass for the following atom types: {}\".format(atom_type))\n"
     ]
    }
   ],
   "source": [
    "nucl=mda.Universe(\"1KX5.pdb\")\n",
    "#For AMBER FF to place ACE on N-truncated end we need to retain one more residue\n",
    "# CHARMM can handle it differently directly in pdb2gmx\n",
    "dimer=nucl.select_atoms(\"(segid A and (resid 44:135 or (resid 43 and name C O CA))) or (segid B and (resid 23:102 or (resid 22 and name C O CA)))\")\n",
    "nucl.select_atoms(\"segid A and resid 43\").residues.resnames='ACE'\n",
    "nucl.select_atoms(\"segid A and resid 43 and name CA\").atoms.names='CH3'\n",
    "nucl.select_atoms(\"segid B and resid 22\").residues.resnames='ACE'\n",
    "nucl.select_atoms(\"segid B and resid 22 and name CA\").atoms.names='CH3'\n",
    "\n",
    "nucl.trajectory.remarks=[]\n",
    "nucl.trajectory.compound=[]\n",
    "nucl.trajectory.header=['H3-H4 dimer radically truncated']\n",
    "\n",
    "#print(dimer.atoms.names)\n",
    "dimer.write(\"h3_h4_tm.pdb\")"
   ]
  },
  {
   "cell_type": "code",
   "execution_count": 30,
   "metadata": {},
   "outputs": [
    {
     "data": {
      "application/vnd.jupyter.widget-view+json": {
       "model_id": "60cb16c450c6482bbb43e03594b73f95",
       "version_major": 2,
       "version_minor": 0
      },
      "text/plain": [
       "NGLWidget()"
      ]
     },
     "metadata": {},
     "output_type": "display_data"
    }
   ],
   "source": [
    "#This will currently work only in Jupyter Notebook\n",
    "nv.show_mdanalysis(dimer,gui=False)"
   ]
  },
  {
   "cell_type": "markdown",
   "metadata": {},
   "source": [
    "### We need to specify force field and path to download it from git\n",
    "- Here we use AMBER 14SB for Gromacs (Need to check)\n",
    "- In this repo https://github.com/intbio/gromacs_ff/ we store all the forcefield that we check manually or adjust\n",
    "- Folder for AMBER 14SB ff is amber14sb_parmbsc1.ff \n",
    "- Folder for AMBER 14SB ff with CUFIX is amber14sb_parmbsc1_cufix.ff   \n",
    "- We need to specify a GitHub API URL for it below"
   ]
  },
  {
   "cell_type": "code",
   "execution_count": 31,
   "metadata": {},
   "outputs": [
    {
     "name": "stdout",
     "output_type": "stream",
     "text": [
      "FF set to  amber14sb_parmbsc1\n"
     ]
    }
   ],
   "source": [
    "#Set URL here\n",
    "#Intentianally commented out to make an informed choice\n",
    "ff_name='amber14sb_parmbsc1'\n",
    "#ff_name='amber14sb_parmbsc1_cufix'\n",
    "ffurl=\"https://api.github.com/repos/intbio/gromacs_ff/contents/%s.ff\"%ff_name\n",
    "print(\"FF set to \",ff_name)"
   ]
  },
  {
   "cell_type": "markdown",
   "metadata": {},
   "source": [
    "### Prepare directories, download forcefield"
   ]
  },
  {
   "cell_type": "code",
   "execution_count": 32,
   "metadata": {},
   "outputs": [],
   "source": [
    "%%bash\n",
    "#clean GMX_system\n",
    "rm -rf GMX_system\n",
    "mkdir -p GMX_system"
   ]
  },
  {
   "cell_type": "code",
   "execution_count": 33,
   "metadata": {},
   "outputs": [
    {
     "name": "stdout",
     "output_type": "stream",
     "text": [
      "Downloading GMX_system/amber14sb_parmbsc1.ff/Makefile.am\n",
      "Downloading GMX_system/amber14sb_parmbsc1.ff/Makefile.in\n",
      "Downloading GMX_system/amber14sb_parmbsc1.ff/README.md\n",
      "Downloading GMX_system/amber14sb_parmbsc1.ff/aminoacids.arn\n",
      "Downloading GMX_system/amber14sb_parmbsc1.ff/aminoacids.c.tdb\n",
      "Downloading GMX_system/amber14sb_parmbsc1.ff/aminoacids.hdb\n",
      "Downloading GMX_system/amber14sb_parmbsc1.ff/aminoacids.n.tdb\n",
      "Downloading GMX_system/amber14sb_parmbsc1.ff/aminoacids.r2b\n",
      "Downloading GMX_system/amber14sb_parmbsc1.ff/aminoacids.rtp\n",
      "Downloading GMX_system/amber14sb_parmbsc1.ff/aminoacids.vsd\n",
      "Downloading GMX_system/amber14sb_parmbsc1.ff/atomtypes.atp\n",
      "Downloading GMX_system/amber14sb_parmbsc1.ff/dna.arn\n",
      "Downloading GMX_system/amber14sb_parmbsc1.ff/dna.hdb\n",
      "Downloading GMX_system/amber14sb_parmbsc1.ff/dna.r2b\n",
      "Downloading GMX_system/amber14sb_parmbsc1.ff/dna.rtp\n",
      "Downloading GMX_system/amber14sb_parmbsc1.ff/ffbonded.itp\n",
      "Downloading GMX_system/amber14sb_parmbsc1.ff/ffnonbonded.itp\n",
      "Downloading GMX_system/amber14sb_parmbsc1.ff/forcefield.doc\n",
      "Downloading GMX_system/amber14sb_parmbsc1.ff/forcefield.itp\n",
      "Downloading GMX_system/amber14sb_parmbsc1.ff/gbsa.itp\n",
      "Downloading GMX_system/amber14sb_parmbsc1.ff/ions.itp\n",
      "Downloading GMX_system/amber14sb_parmbsc1.ff/rna.arn\n",
      "Downloading GMX_system/amber14sb_parmbsc1.ff/rna.hdb\n",
      "Downloading GMX_system/amber14sb_parmbsc1.ff/rna.r2b\n",
      "Downloading GMX_system/amber14sb_parmbsc1.ff/rna.rtp\n",
      "Downloading GMX_system/amber14sb_parmbsc1.ff/spc.itp\n",
      "Downloading GMX_system/amber14sb_parmbsc1.ff/spce.itp\n",
      "Downloading GMX_system/amber14sb_parmbsc1.ff/tip3p.itp\n",
      "Downloading GMX_system/amber14sb_parmbsc1.ff/tip4p.itp\n",
      "Downloading GMX_system/amber14sb_parmbsc1.ff/tip4pew.itp\n",
      "Downloading GMX_system/amber14sb_parmbsc1.ff/tip5p.itp\n",
      "Downloading GMX_system/amber14sb_parmbsc1.ff/urea.itp\n",
      "Downloading GMX_system/amber14sb_parmbsc1.ff/watermodels.dat\n"
     ]
    }
   ],
   "source": [
    "get_files_from_git(ffurl,'GMX_system/%s.ff'%ff_name)"
   ]
  },
  {
   "cell_type": "markdown",
   "metadata": {},
   "source": [
    "### Let's start with Gromacs commands\n",
    "\n",
    "- manual for 2018 version is here http://manual.gromacs.org/documentation/current/manual-2018.3.pdf \n",
    "- Command line reference http://manual.gromacs.org/documentation/current/user-guide/cmdline.html\n"
   ]
  },
  {
   "cell_type": "markdown",
   "metadata": {},
   "source": [
    "### PDB2GMX\n",
    "- Prepare initial topology (.top), coordinates (.gro) and restrain files .\n",
    "- http://manual.gromacs.org/documentation/current/onlinehelp/gmx-pdb2gmx.html"
   ]
  },
  {
   "cell_type": "code",
   "execution_count": 35,
   "metadata": {},
   "outputs": [
    {
     "name": "stdout",
     "output_type": "stream",
     "text": [
      "\n",
      "Using the Amber14sb_parmbsc1 force field in directory ./amber14sb_parmbsc1.ff\n",
      "\n",
      "Reading ../h3_h4_tm.pdb...\n",
      "Read 'MDANALYSIS FRAME 0: Created by PDBWriter', 1394 atoms\n",
      "Analyzing pdb file\n",
      "Splitting chemical chains based on TER records or chain id changing.\n",
      "There are 2 chains and 0 blocks of water and 174 residues with 1394 atoms\n",
      "\n",
      "  chain  #res #atoms\n",
      "  1 'A'    93    753  \n",
      "  2 'B'    81    641  \n",
      "\n",
      "Reading residue database... (amber14sb_parmbsc1)\n",
      "Processing chain 1 'A' (753 atoms, 93 residues)\n",
      "Identified residue ACE43 as a starting terminus.\n",
      "Identified residue ALA135 as a ending terminus.\n",
      "Checking for duplicate atoms....\n",
      "Generating any missing hydrogen atoms and/or adding termini.\n",
      "Now there are 93 residues with 1546 atoms\n",
      "Chain time...\n",
      "Processing chain 2 'B' (641 atoms, 81 residues)\n",
      "Identified residue ACE22 as a starting terminus.\n",
      "Identified residue GLY102 as a ending terminus.\n",
      "Checking for duplicate atoms....\n",
      "Generating any missing hydrogen atoms and/or adding termini.\n",
      "Now there are 81 residues with 1321 atoms\n",
      "Chain time...\n",
      "Including chain 1 in system: 1546 atoms 93 residues\n",
      "Including chain 2 in system: 1321 atoms 81 residues\n",
      "\t\t--------- PLEASE NOTE ------------\n",
      "You have successfully generated a topology from: ../h3_h4_tm.pdb.\n",
      "The Amber14sb_parmbsc1 force field and the tip3p water model are used.\n",
      "\t\t--------- ETON ESAELP ------------\n"
     ]
    }
   ],
   "source": [
    "%%bash -s \"$ff_name\" --err err\n",
    "# PDB2GMX\n",
    "# Make an init gro file and topology\n",
    "# Force filed AMBER99BSC1 !!!!!!!!!\n",
    "# Water TIP3P\n",
    "# Termini !IMPORTANT! on N-end we place  ACE termini on C-end we place charged group.\n",
    "# NOTE: The AMBER force fields have unique forms for the terminal residues,\n",
    "# and these are incompatible with the -ter mechanism.~\n",
    "# You need to prefix your N- or C-terminal residue names with “N” or “C” respectively\n",
    "# to use these forms, making sure you preserve the format of the coordinate file.\n",
    "# Alternatively, use named terminating residues (e.g. ACE, NME).\n",
    "\n",
    "#TODO we need to understnt ter in amber!!! and fix\n",
    "cd GMX_system\n",
    "gmx pdb2gmx -f ../h3_h4_tm.pdb -o init.pdb -p topol.top -i posre.itp -water tip3p -ff $1"
   ]
  },
  {
   "cell_type": "code",
   "execution_count": 36,
   "metadata": {},
   "outputs": [
    {
     "name": "stdout",
     "output_type": "stream",
     "text": [
      "Total charge is 14.000\n"
     ]
    }
   ],
   "source": [
    "# Get total charge\n",
    "for line in err.split('\\n'):\n",
    "    if 'Total charge in system' in line:\n",
    "        charge=float(line.split()[-2])\n",
    "print('Total charge is %.3f'%charge)"
   ]
  },
  {
   "cell_type": "markdown",
   "metadata": {},
   "source": [
    "### Fixing posre.itp files\n",
    "see this link for details\n",
    "http://mdsquad.wikia.com/wiki/Change_position_restraint_force_constant_in_MDP"
   ]
  },
  {
   "cell_type": "code",
   "execution_count": 37,
   "metadata": {},
   "outputs": [
    {
     "name": "stdout",
     "output_type": "stream",
     "text": [
      "  1546     1   POSRES_FC POSRES_FC POSRES_FC\n",
      "  1321     1   POSRES_FC POSRES_FC POSRES_FC\n"
     ]
    }
   ],
   "source": [
    "%%bash\n",
    "cd GMX_system/\n",
    "for i in posre_*; do\n",
    "sed -i.bak 's/\\(.*\\)1000  1000  1000/\\1 POSRES_FC POSRES_FC POSRES_FC/g' $i\n",
    "#check if repaced\n",
    "tail -n 1 $i\n",
    "done\n",
    "rm *.bak\n",
    "\n"
   ]
  },
  {
   "cell_type": "markdown",
   "metadata": {},
   "source": [
    "### Solvating a molecule\n",
    "- 2 nm to the border in a cubic box.\n",
    "- http://manual.gromacs.org/documentation/current/onlinehelp/gmx-editconf.html\n",
    "- http://manual.gromacs.org/documentation/current/onlinehelp/gmx-solvate.html"
   ]
  },
  {
   "cell_type": "code",
   "execution_count": 38,
   "metadata": {},
   "outputs": [
    {
     "name": "stdout",
     "output_type": "stream",
     "text": [
      "Read 2867 atoms\n",
      "Volume: 2101.66 nm^3, corresponds to roughly 945700 electrons\n",
      "No velocities found\n",
      "    system size :  3.951  5.406  4.435 (nm)\n",
      "    diameter    :  6.239               (nm)\n",
      "    center      :  6.284  9.788  1.201 (nm)\n",
      "    box vectors : 10.595 18.117 10.949 (nm)\n",
      "    box angles  :  90.00  90.00  90.00 (degrees)\n",
      "    box volume  :2101.66               (nm^3)\n",
      "    shift       : -1.165 -2.548  2.979 (nm)\n",
      "new center      :  5.119  7.240  4.180 (nm)\n",
      "new box vectors : 10.239 10.239 10.239 (nm)\n",
      "new box angles  :  70.53 109.47  70.53 (degrees)\n",
      "new box volume  : 826.23               (nm^3)\n",
      "\n",
      "WARNING: Masses and atomic (Van der Waals) radii will be guessed\n",
      "         based on residue and atom names, since they could not be\n",
      "         definitively assigned from the information in your input\n",
      "         files. These guessed numbers might deviate from the mass\n",
      "         and radius of the atom type. Please check the output\n",
      "         files if necessary.\n",
      "\n",
      "NOTE: From version 5.0 gmx solvate uses the Van der Waals radii\n",
      "from the source below. This means the results may be different\n",
      "compared to previous GROMACS versions.\n",
      "\n",
      "++++ PLEASE READ AND CITE THE FOLLOWING REFERENCE ++++\n",
      "A. Bondi\n",
      "van der Waals Volumes and Radii\n",
      "J. Phys. Chem. 68 (1964) pp. 441-451\n",
      "-------- -------- --- Thank You --- -------- --------\n",
      "\n",
      "Adding line for 26049 solvent molecules with resname (SOL) to topology file (topol.top)\n"
     ]
    }
   ],
   "source": [
    "%%bash --err err\n",
    "cd GMX_system\n",
    "gmx editconf -bt octahedron -d 2 -c -f init.pdb -o init_box.pdb\n",
    "gmx solvate -cp init_box.pdb -cs spc216.gro -o init_solv.pdb -p topol.top"
   ]
  },
  {
   "cell_type": "markdown",
   "metadata": {},
   "source": [
    "### Determine the number of ions\n",
    "\n",
    "- concentration is 150 mM NaCl\n",
    "- we will calculate the number of waters and calculate the number of ions to add."
   ]
  },
  {
   "cell_type": "code",
   "execution_count": 39,
   "metadata": {},
   "outputs": [
    {
     "name": "stdout",
     "output_type": "stream",
     "text": [
      "Amount of solvent molecules: 26049\n",
      "Amount of Na 70 \n",
      "Amount of Cl 84\n"
     ]
    }
   ],
   "source": [
    "for line in err.split('\\n'):\n",
    "    if 'Number of solvent molecules:' in line:\n",
    "        n_sol=int(line.split()[-1])\n",
    "print('Amount of solvent molecules: %d'%n_sol)\n",
    "\n",
    "#Set concentration in mol/liter\n",
    "conc=0.150 \n",
    "#Water 18 g/mol. in 1 liter 1000/18 mol\n",
    "# for every 1000/18 water molecules we need conc of NaCl ion pairs.\n",
    "\n",
    "n_ions=round(conc*(n_sol/(1000/18)))\n",
    "\n",
    "if charge>=0:\n",
    "    n_pos=int(n_ions)\n",
    "    n_neg=int(n_ions+charge)\n",
    "else:\n",
    "    n_pos=int(n_ions-charge)\n",
    "    n_neg=int(n_ions)\n",
    "print('Amount of Na %d \\nAmount of Cl %d'%(n_pos,n_neg))"
   ]
  },
  {
   "cell_type": "markdown",
   "metadata": {},
   "source": [
    "### Adding ions\n",
    "- http://manual.gromacs.org/documentation/current/onlinehelp/gmx-grompp.html\n",
    "- http://manual.gromacs.org/documentation/current/onlinehelp/gmx-genion.html"
   ]
  },
  {
   "cell_type": "code",
   "execution_count": 40,
   "metadata": {},
   "outputs": [
    {
     "name": "stdout",
     "output_type": "stream",
     "text": [
      "\n",
      "++++ PLEASE READ AND CITE THE FOLLOWING REFERENCE ++++\n",
      "J. S. Hub, B. L. de Groot, H. Grubmueller, G. Groenhof\n",
      "Quantifying Artifacts in Ewald Simulations of Inhomogeneous Systems with a Net\n",
      "Charge\n",
      "J. Chem. Theory Comput. 10 (2014) pp. 381-393\n",
      "-------- -------- --- Thank You --- -------- --------\n",
      "\n",
      "Analysing residue names:\n",
      "There are:   174    Protein residues\n",
      "There are: 26049      Water residues\n",
      "Analysing Protein...\n",
      "Calculating fourier grid dimensions for X Y Z\n",
      "Using a fourier grid of 96x96x96, spacing 0.107 0.107 0.107\n",
      "This run will generate roughly 6 Mb of data\n",
      "Will try to add 70 NA ions and 84 CL ions.\n",
      "Select a continuous group of solvent molecules\n",
      "Selected 13: 'SOL'\n",
      "\n",
      "Processing topology\n",
      "Replacing 154 solute molecules in topology file (topol.top)  by 70 NA and 84 CL ions.\n"
     ]
    },
    {
     "name": "stderr",
     "output_type": "stream",
     "text": [
      "                      :-) GROMACS - gmx grompp, 2018.3 (-:\n",
      "\n",
      "                            GROMACS is written by:\n",
      "     Emile Apol      Rossen Apostolov      Paul Bauer     Herman J.C. Berendsen\n",
      "    Par Bjelkmar    Aldert van Buuren   Rudi van Drunen     Anton Feenstra  \n",
      "  Gerrit Groenhof    Aleksei Iupinov   Christoph Junghans   Anca Hamuraru   \n",
      " Vincent Hindriksen Dimitrios Karkoulis    Peter Kasson        Jiri Kraus    \n",
      "  Carsten Kutzner      Per Larsson      Justin A. Lemkul    Viveca Lindahl  \n",
      "  Magnus Lundborg   Pieter Meulenhoff    Erik Marklund      Teemu Murtola   \n",
      "    Szilard Pall       Sander Pronk      Roland Schulz     Alexey Shvetsov  \n",
      "   Michael Shirts     Alfons Sijbers     Peter Tieleman    Teemu Virolainen \n",
      " Christian Wennberg    Maarten Wolf   \n",
      "                           and the project leaders:\n",
      "        Mark Abraham, Berk Hess, Erik Lindahl, and David van der Spoel\n",
      "\n",
      "Copyright (c) 1991-2000, University of Groningen, The Netherlands.\n",
      "Copyright (c) 2001-2017, The GROMACS development team at\n",
      "Uppsala University, Stockholm University and\n",
      "the Royal Institute of Technology, Sweden.\n",
      "check out http://www.gromacs.org for more information.\n",
      "\n",
      "GROMACS is free software; you can redistribute it and/or modify it\n",
      "under the terms of the GNU Lesser General Public License\n",
      "as published by the Free Software Foundation; either version 2.1\n",
      "of the License, or (at your option) any later version.\n",
      "\n",
      "GROMACS:      gmx grompp, version 2018.3\n",
      "Executable:   /opt/miniconda3/envs/moldyn/bin/gmx\n",
      "Data prefix:  /opt/miniconda3/envs/moldyn\n",
      "Working dir:  /home/alexsha/projects/gmx_template_test/GMX_system\n",
      "Command line:\n",
      "  gmx grompp -f ../MDProtocols/ions.mdp -c init_solv.pdb -p topol.top -o ions.tpr -maxwarn 1\n",
      "\n",
      "\n",
      "NOTE 1 [file ../MDProtocols/ions.mdp]:\n",
      "  With Verlet lists the optimal nstlist is >= 10, with GPUs >= 20. Note\n",
      "  that with the Verlet scheme, nstlist has no effect on the accuracy of\n",
      "  your simulation.\n",
      "\n",
      "Setting the LD random seed to -1754230269\n",
      "Generated 3828 of the 3828 non-bonded parameter combinations\n",
      "Generating 1-4 interactions: fudge = 0.5\n",
      "Generated 3828 of the 3828 1-4 parameter combinations\n",
      "Excluding 3 bonded neighbours molecule type 'Protein_chain_A'\n",
      "Excluding 3 bonded neighbours molecule type 'Protein_chain_B'\n",
      "Excluding 2 bonded neighbours molecule type 'SOL'\n",
      "\n",
      "NOTE 2 [file topol.top, line 48]:\n",
      "  System has non-zero total charge: 14.000000\n",
      "  Total charge should normally be an integer. See\n",
      "  http://www.gromacs.org/Documentation/Floating_Point_Arithmetic\n",
      "  for discussion on how close it should be to an integer.\n",
      "  \n",
      "\n",
      "\n",
      "\n",
      "WARNING 1 [file topol.top, line 48]:\n",
      "  You are using Ewald electrostatics in a system with net charge. This can\n",
      "  lead to severe artifacts, such as ions moving into regions with low\n",
      "  dielectric, due to the uniform background charge. We suggest to\n",
      "  neutralize your system with counter ions, possibly in combination with a\n",
      "  physiological salt concentration.\n",
      "\n",
      "Removing all charge groups because cutoff-scheme=Verlet\n",
      "Number of degrees of freedom in T-Coupling group rest is 164892.00\n",
      "Estimate for the relative computational load of the PME mesh part: 0.23\n",
      "\n",
      "There were 2 notes\n",
      "\n",
      "There was 1 warning\n",
      "\n",
      "GROMACS reminds you: \"It is now quite lawful for a Catholic woman to avoid pregnancy by a resort to mathematics, though she is still forbidden to resort to physics and chemistry.\" (Henry Louis Mencken)\n",
      "\n",
      "                      :-) GROMACS - gmx genion, 2018.3 (-:\n",
      "\n",
      "                            GROMACS is written by:\n",
      "     Emile Apol      Rossen Apostolov      Paul Bauer     Herman J.C. Berendsen\n",
      "    Par Bjelkmar    Aldert van Buuren   Rudi van Drunen     Anton Feenstra  \n",
      "  Gerrit Groenhof    Aleksei Iupinov   Christoph Junghans   Anca Hamuraru   \n",
      " Vincent Hindriksen Dimitrios Karkoulis    Peter Kasson        Jiri Kraus    \n",
      "  Carsten Kutzner      Per Larsson      Justin A. Lemkul    Viveca Lindahl  \n",
      "  Magnus Lundborg   Pieter Meulenhoff    Erik Marklund      Teemu Murtola   \n",
      "    Szilard Pall       Sander Pronk      Roland Schulz     Alexey Shvetsov  \n",
      "   Michael Shirts     Alfons Sijbers     Peter Tieleman    Teemu Virolainen \n",
      " Christian Wennberg    Maarten Wolf   \n",
      "                           and the project leaders:\n",
      "        Mark Abraham, Berk Hess, Erik Lindahl, and David van der Spoel\n",
      "\n",
      "Copyright (c) 1991-2000, University of Groningen, The Netherlands.\n",
      "Copyright (c) 2001-2017, The GROMACS development team at\n",
      "Uppsala University, Stockholm University and\n",
      "the Royal Institute of Technology, Sweden.\n",
      "check out http://www.gromacs.org for more information.\n",
      "\n",
      "GROMACS is free software; you can redistribute it and/or modify it\n",
      "under the terms of the GNU Lesser General Public License\n",
      "as published by the Free Software Foundation; either version 2.1\n",
      "of the License, or (at your option) any later version.\n",
      "\n",
      "GROMACS:      gmx genion, version 2018.3\n",
      "Executable:   /opt/miniconda3/envs/moldyn/bin/gmx\n",
      "Data prefix:  /opt/miniconda3/envs/moldyn\n",
      "Working dir:  /home/alexsha/projects/gmx_template_test/GMX_system\n",
      "Command line:\n",
      "  gmx genion -s ions.tpr -o init_solv_ions.pdb -p topol.top -noneutral -pname NA -nname CL -np 70 -nn 84\n",
      "\n",
      "Reading file ions.tpr, VERSION 2018.3 (single precision)\n",
      "Reading file ions.tpr, VERSION 2018.3 (single precision)\n",
      "Group     0 (         System) has 81014 elements\n",
      "Group     1 (        Protein) has  2867 elements\n",
      "Group     2 (      Protein-H) has  1394 elements\n",
      "Group     3 (        C-alpha) has   172 elements\n",
      "Group     4 (       Backbone) has   518 elements\n",
      "Group     5 (      MainChain) has   694 elements\n",
      "Group     6 (   MainChain+Cb) has   855 elements\n",
      "Group     7 (    MainChain+H) has   863 elements\n",
      "Group     8 (      SideChain) has  2004 elements\n",
      "Group     9 (    SideChain-H) has   700 elements\n",
      "Group    10 (    Prot-Masses) has  2867 elements\n",
      "Group    11 (    non-Protein) has 78147 elements\n",
      "Group    12 (          Water) has 78147 elements\n",
      "Group    13 (            SOL) has 78147 elements\n",
      "Group    14 (      non-Water) has  2867 elements\n",
      "Select a group: Number of (3-atomic) solvent molecules: 26049\n",
      "\n",
      "Back Off! I just backed up topol.top to ./#topol.top.3#\n",
      "Using random seed 299567332.\n",
      "Replacing solvent molecule 16361 (atom 51950) with NA\n",
      "Replacing solvent molecule 21601 (atom 67670) with NA\n",
      "Replacing solvent molecule 20970 (atom 65777) with NA\n",
      "Replacing solvent molecule 9442 (atom 31193) with NA\n",
      "Replacing solvent molecule 10954 (atom 35729) with NA\n",
      "Replacing solvent molecule 18630 (atom 58757) with NA\n",
      "Replacing solvent molecule 7164 (atom 24359) with NA\n",
      "Replacing solvent molecule 19053 (atom 60026) with NA\n",
      "Replacing solvent molecule 22645 (atom 70802) with NA\n",
      "Replacing solvent molecule 21932 (atom 68663) with NA\n",
      "Replacing solvent molecule 13740 (atom 44087) with NA\n",
      "Replacing solvent molecule 9079 (atom 30104) with NA\n",
      "Replacing solvent molecule 6797 (atom 23258) with NA\n",
      "Replacing solvent molecule 15437 (atom 49178) with NA\n",
      "Replacing solvent molecule 6149 (atom 21314) with NA\n",
      "Replacing solvent molecule 7966 (atom 26765) with NA\n",
      "Replacing solvent molecule 6868 (atom 23471) with NA\n",
      "Replacing solvent molecule 16392 (atom 52043) with NA\n",
      "Replacing solvent molecule 12341 (atom 39890) with NA\n",
      "Replacing solvent molecule 24069 (atom 75074) with NA\n",
      "Replacing solvent molecule 12795 (atom 41252) with NA\n",
      "Replacing solvent molecule 8575 (atom 28592) with NA\n",
      "Replacing solvent molecule 15136 (atom 48275) with NA\n",
      "Replacing solvent molecule 9035 (atom 29972) with NA\n",
      "Replacing solvent molecule 4030 (atom 14957) with NA\n",
      "Replacing solvent molecule 2033 (atom 8966) with NA\n",
      "Replacing solvent molecule 4485 (atom 16322) with NA\n",
      "Replacing solvent molecule 8759 (atom 29144) with NA\n",
      "Replacing solvent molecule 24802 (atom 77273) with NA\n",
      "Replacing solvent molecule 24173 (atom 75386) with NA\n",
      "Replacing solvent molecule 3025 (atom 11942) with NA\n",
      "Replacing solvent molecule 4839 (atom 17384) with NA\n",
      "Replacing solvent molecule 1047 (atom 6008) with NA\n",
      "Replacing solvent molecule 18092 (atom 57143) with NA\n",
      "Replacing solvent molecule 11575 (atom 37592) with NA\n",
      "Replacing solvent molecule 16626 (atom 52745) with NA\n",
      "Replacing solvent molecule 13054 (atom 42029) with NA\n",
      "Replacing solvent molecule 25945 (atom 80702) with NA\n",
      "Replacing solvent molecule 7978 (atom 26801) with NA\n",
      "Replacing solvent molecule 19150 (atom 60317) with NA\n",
      "Replacing solvent molecule 20681 (atom 64910) with NA\n",
      "Replacing solvent molecule 21592 (atom 67643) with NA\n",
      "Replacing solvent molecule 11346 (atom 36905) with NA\n",
      "Replacing solvent molecule 19694 (atom 61949) with NA\n",
      "Replacing solvent molecule 7197 (atom 24458) with NA\n",
      "Replacing solvent molecule 14225 (atom 45542) with NA\n",
      "Replacing solvent molecule 22348 (atom 69911) with NA\n",
      "Replacing solvent molecule 20657 (atom 64838) with NA\n",
      "Replacing solvent molecule 15230 (atom 48557) with NA\n",
      "Replacing solvent molecule 12021 (atom 38930) with NA\n",
      "Replacing solvent molecule 18678 (atom 58901) with NA\n",
      "Replacing solvent molecule 11118 (atom 36221) with NA\n",
      "Replacing solvent molecule 15955 (atom 50732) with NA\n",
      "Replacing solvent molecule 25732 (atom 80063) with NA\n",
      "Replacing solvent molecule 4830 (atom 17357) with NA\n",
      "Replacing solvent molecule 112 (atom 3203) with NA\n",
      "Replacing solvent molecule 6158 (atom 21341) with NA\n",
      "Replacing solvent molecule 5853 (atom 20426) with NA\n",
      "Replacing solvent molecule 1512 (atom 7403) with NA\n",
      "Replacing solvent molecule 586 (atom 4625) with NA\n",
      "Replacing solvent molecule 12579 (atom 40604) with NA\n",
      "Replacing solvent molecule 3734 (atom 14069) with NA\n",
      "Replacing solvent molecule 20722 (atom 65033) with NA\n",
      "Replacing solvent molecule 18197 (atom 57458) with NA\n",
      "Replacing solvent molecule 18845 (atom 59402) with NA\n",
      "Replacing solvent molecule 25320 (atom 78827) with NA\n",
      "Replacing solvent molecule 20024 (atom 62939) with NA\n",
      "Replacing solvent molecule 16410 (atom 52097) with NA\n",
      "Replacing solvent molecule 21463 (atom 67256) with NA\n",
      "Replacing solvent molecule 7140 (atom 24287) with NA\n",
      "Replacing solvent molecule 22170 (atom 69377) with CL\n",
      "Replacing solvent molecule 25991 (atom 80840) with CL\n",
      "Replacing solvent molecule 20107 (atom 63188) with CL\n",
      "Replacing solvent molecule 19854 (atom 62429) with CL\n",
      "Replacing solvent molecule 8503 (atom 28376) with CL\n",
      "Replacing solvent molecule 5229 (atom 18554) with CL\n",
      "Replacing solvent molecule 383 (atom 4016) with CL\n",
      "Replacing solvent molecule 6362 (atom 21953) with CL\n",
      "Replacing solvent molecule 23498 (atom 73361) with CL\n",
      "Replacing solvent molecule 16081 (atom 51110) with CL\n",
      "Replacing solvent molecule 6327 (atom 21848) with CL\n",
      "Replacing solvent molecule 488 (atom 4331) with CL\n",
      "Replacing solvent molecule 16167 (atom 51368) with CL\n",
      "Replacing solvent molecule 11619 (atom 37724) with CL\n",
      "Replacing solvent molecule 22771 (atom 71180) with CL\n",
      "Replacing solvent molecule 20103 (atom 63176) with CL\n",
      "Replacing solvent molecule 13129 (atom 42254) with CL\n",
      "Replacing solvent molecule 9824 (atom 32339) with CL\n",
      "Replacing solvent molecule 7626 (atom 25745) with CL\n",
      "Replacing solvent molecule 5028 (atom 17951) with CL\n",
      "Replacing solvent molecule 13314 (atom 42809) with CL\n",
      "Replacing solvent molecule 13668 (atom 43871) with CL\n",
      "Replacing solvent molecule 7595 (atom 25652) with CL\n",
      "Replacing solvent molecule 8299 (atom 27764) with CL\n",
      "Replacing solvent molecule 1872 (atom 8483) with CL\n",
      "Replacing solvent molecule 10712 (atom 35003) with CL\n",
      "Replacing solvent molecule 11787 (atom 38228) with CL\n",
      "Replacing solvent molecule 23838 (atom 74381) with CL\n",
      "Replacing solvent molecule 15037 (atom 47978) with CL\n",
      "Replacing solvent molecule 24681 (atom 76910) with CL\n",
      "Replacing solvent molecule 4939 (atom 17684) with CL\n",
      "Replacing solvent molecule 25747 (atom 80108) with CL\n",
      "Replacing solvent molecule 8841 (atom 29390) with CL\n",
      "Replacing solvent molecule 19507 (atom 61388) with CL\n",
      "Replacing solvent molecule 13756 (atom 44135) with CL\n",
      "Replacing solvent molecule 3933 (atom 14666) with CL\n",
      "Replacing solvent molecule 19102 (atom 60173) with CL\n",
      "Replacing solvent molecule 8547 (atom 28508) with CL\n",
      "Replacing solvent molecule 20682 (atom 64913) with CL\n",
      "Replacing solvent molecule 25158 (atom 78341) with CL\n",
      "Replacing solvent molecule 3450 (atom 13217) with CL\n",
      "Replacing solvent molecule 13514 (atom 43409) with CL\n",
      "Replacing solvent molecule 13783 (atom 44216) with CL\n",
      "Replacing solvent molecule 25405 (atom 79082) with CL\n",
      "Replacing solvent molecule 10623 (atom 34736) with CL\n",
      "Replacing solvent molecule 11214 (atom 36509) with CL\n",
      "Replacing solvent molecule 23098 (atom 72161) with CL\n",
      "Replacing solvent molecule 2944 (atom 11699) with CL\n",
      "Replacing solvent molecule 13056 (atom 42035) with CL\n",
      "Replacing solvent molecule 3718 (atom 14021) with CL\n",
      "Replacing solvent molecule 9661 (atom 31850) with CL\n",
      "Replacing solvent molecule 10650 (atom 34817) with CL\n",
      "Replacing solvent molecule 13408 (atom 43091) with CL\n",
      "Replacing solvent molecule 11441 (atom 37190) with CL\n",
      "Replacing solvent molecule 20111 (atom 63200) with CL\n",
      "Replacing solvent molecule 5749 (atom 20114) with CL\n",
      "Replacing solvent molecule 19682 (atom 61913) with CL\n",
      "Replacing solvent molecule 6365 (atom 21962) with CL\n",
      "Replacing solvent molecule 24566 (atom 76565) with CL\n",
      "Replacing solvent molecule 9271 (atom 30680) with CL\n",
      "Replacing solvent molecule 17966 (atom 56765) with CL\n",
      "Replacing solvent molecule 12819 (atom 41324) with CL\n",
      "Replacing solvent molecule 24580 (atom 76607) with CL\n",
      "Replacing solvent molecule 8867 (atom 29468) with CL\n",
      "Replacing solvent molecule 6641 (atom 22790) with CL\n",
      "Replacing solvent molecule 18669 (atom 58874) with CL\n",
      "Replacing solvent molecule 1215 (atom 6512) with CL\n",
      "Replacing solvent molecule 10339 (atom 33884) with CL\n",
      "Replacing solvent molecule 20708 (atom 64991) with CL\n",
      "Replacing solvent molecule 12940 (atom 41687) with CL\n",
      "Replacing solvent molecule 9943 (atom 32696) with CL\n",
      "Replacing solvent molecule 1625 (atom 7742) with CL\n",
      "Replacing solvent molecule 24624 (atom 76739) with CL\n",
      "Replacing solvent molecule 25137 (atom 78278) with CL\n",
      "Replacing solvent molecule 17008 (atom 53891) with CL\n",
      "Replacing solvent molecule 18175 (atom 57392) with CL\n",
      "Replacing solvent molecule 3679 (atom 13904) with CL\n",
      "Replacing solvent molecule 18045 (atom 57002) with CL\n",
      "Replacing solvent molecule 20290 (atom 63737) with CL\n",
      "Replacing solvent molecule 20582 (atom 64613) with CL\n",
      "Replacing solvent molecule 7141 (atom 24290) with CL\n",
      "Replacing solvent molecule 16794 (atom 53249) with CL\n",
      "Replacing solvent molecule 10093 (atom 33146) with CL\n",
      "Replacing solvent molecule 21923 (atom 68636) with CL\n",
      "\n",
      "\n",
      "GROMACS reminds you: \"The Wheels On the Bus Go Round and Round\" (J. Richman)\n",
      "\n"
     ]
    }
   ],
   "source": [
    "%%bash -s \"$n_pos\" \"$n_neg\"\n",
    "cd GMX_system\n",
    "gmx grompp -f ../MDProtocols/ions.mdp -c init_solv.pdb -p topol.top -o ions.tpr -maxwarn 1\n",
    "gmx genion -s ions.tpr -o init_solv_ions.pdb -p topol.top -noneutral -pname NA -nname CL -np $1 -nn $2 <<!\n",
    "13\n",
    "!"
   ]
  },
  {
   "cell_type": "markdown",
   "metadata": {},
   "source": [
    "### Making index file\n",
    "\n",
    "http://manual.gromacs.org/documentation/2018/onlinehelp/gmx-make_ndx.html"
   ]
  },
  {
   "cell_type": "code",
   "execution_count": 41,
   "metadata": {},
   "outputs": [
    {
     "name": "stdout",
     "output_type": "stream",
     "text": [
      "Going to read 0 old index file(s)\n",
      "Analysing residue names:\n",
      "There are:   174    Protein residues\n",
      "There are: 25895      Water residues\n",
      "There are:   154        Ion residues\n",
      "Analysing Protein...\n",
      "Analysing residues not classified as Protein/DNA/RNA/Water and splitting into groups...\n",
      "\n",
      "  0 System              : 80706 atoms\n",
      "  1 Protein             :  2867 atoms\n",
      "  2 Protein-H           :  1394 atoms\n",
      "  3 C-alpha             :   172 atoms\n",
      "  4 Backbone            :   518 atoms\n",
      "  5 MainChain           :   694 atoms\n",
      "  6 MainChain+Cb        :   855 atoms\n",
      "  7 MainChain+H         :   863 atoms\n",
      "  8 SideChain           :  2004 atoms\n",
      "  9 SideChain-H         :   700 atoms\n",
      " 10 Prot-Masses         :  2867 atoms\n",
      " 11 non-Protein         : 77839 atoms\n",
      " 12 Water               : 77685 atoms\n",
      " 13 SOL                 : 77685 atoms\n",
      " 14 non-Water           :  3021 atoms\n",
      " 15 Ion                 :   154 atoms\n",
      " 16 NA                  :    70 atoms\n",
      " 17 CL                  :    84 atoms\n",
      " 18 Water_and_ions      : 77839 atoms\n",
      "\n",
      " nr : group      '!': not  'name' nr name   'splitch' nr    Enter: list groups\n",
      " 'a': atom       '&': and  'del' nr         'splitres' nr   'l': list residues\n",
      " 't': atom type  '|': or   'keep' nr        'splitat' nr    'h': help\n",
      " 'r': residue              'res' nr         'chain' char\n",
      " \"name\": group             'case': case sensitive           'q': save and quit\n",
      " 'ri': residue index\n",
      "\n",
      "> \n"
     ]
    },
    {
     "name": "stderr",
     "output_type": "stream",
     "text": [
      "                     :-) GROMACS - gmx make_ndx, 2018.3 (-:\n",
      "\n",
      "                            GROMACS is written by:\n",
      "     Emile Apol      Rossen Apostolov      Paul Bauer     Herman J.C. Berendsen\n",
      "    Par Bjelkmar    Aldert van Buuren   Rudi van Drunen     Anton Feenstra  \n",
      "  Gerrit Groenhof    Aleksei Iupinov   Christoph Junghans   Anca Hamuraru   \n",
      " Vincent Hindriksen Dimitrios Karkoulis    Peter Kasson        Jiri Kraus    \n",
      "  Carsten Kutzner      Per Larsson      Justin A. Lemkul    Viveca Lindahl  \n",
      "  Magnus Lundborg   Pieter Meulenhoff    Erik Marklund      Teemu Murtola   \n",
      "    Szilard Pall       Sander Pronk      Roland Schulz     Alexey Shvetsov  \n",
      "   Michael Shirts     Alfons Sijbers     Peter Tieleman    Teemu Virolainen \n",
      " Christian Wennberg    Maarten Wolf   \n",
      "                           and the project leaders:\n",
      "        Mark Abraham, Berk Hess, Erik Lindahl, and David van der Spoel\n",
      "\n",
      "Copyright (c) 1991-2000, University of Groningen, The Netherlands.\n",
      "Copyright (c) 2001-2017, The GROMACS development team at\n",
      "Uppsala University, Stockholm University and\n",
      "the Royal Institute of Technology, Sweden.\n",
      "check out http://www.gromacs.org for more information.\n",
      "\n",
      "GROMACS is free software; you can redistribute it and/or modify it\n",
      "under the terms of the GNU Lesser General Public License\n",
      "as published by the Free Software Foundation; either version 2.1\n",
      "of the License, or (at your option) any later version.\n",
      "\n",
      "GROMACS:      gmx make_ndx, version 2018.3\n",
      "Executable:   /opt/miniconda3/envs/moldyn/bin/gmx\n",
      "Data prefix:  /opt/miniconda3/envs/moldyn\n",
      "Working dir:  /home/alexsha/projects/gmx_template_test/GMX_system\n",
      "Command line:\n",
      "  gmx make_ndx -f init_solv_ions.pdb -o index.ndx\n",
      "\n",
      "\n",
      "Reading structure file\n",
      "\n",
      "GROMACS reminds you: \"Chemical gases filling lungs of little ones\" (Black Eyed Peas)\n",
      "\n"
     ]
    }
   ],
   "source": [
    "%%bash\n",
    "cd GMX_system\n",
    "gmx make_ndx -f init_solv_ions.pdb -o index.ndx <<!\n",
    "q\n",
    "!"
   ]
  },
  {
   "cell_type": "markdown",
   "metadata": {},
   "source": [
    "As a result in GMX_system directory we have a prepared system for minimization and further simulations."
   ]
  },
  {
   "cell_type": "code",
   "execution_count": null,
   "metadata": {},
   "outputs": [],
   "source": []
  },
  {
   "cell_type": "code",
   "execution_count": null,
   "metadata": {},
   "outputs": [],
   "source": []
  }
 ],
 "metadata": {
  "kernelspec": {
   "display_name": "Python 3",
   "language": "python",
   "name": "python3"
  },
  "language_info": {
   "codemirror_mode": {
    "name": "ipython",
    "version": 3
   },
   "file_extension": ".py",
   "mimetype": "text/x-python",
   "name": "python",
   "nbconvert_exporter": "python",
   "pygments_lexer": "ipython3",
   "version": "3.6.6"
  }
 },
 "nbformat": 4,
 "nbformat_minor": 2
}
