{
 "cells": [
  {
   "cell_type": "markdown",
   "metadata": {},
   "source": [
    "# H3-H4 dimer with truncated tails in water\n",
    "## Preparing simulation system\n",
    " - force field - AMBER 14SB for Gromacs, TIP3P water\n",
    " - 150 mM NaCl\n",
    " - box 2nm"
   ]
  },
  {
   "cell_type": "markdown",
   "metadata": {},
   "source": [
    "### Software packages\n",
    "- Python 3\n",
    "- `conda install -c intbio gromacs=2018.3`\n",
    "- `conda install -c conda-forge jupyterlab` OR `conda install jupyter`\n",
    "- `conda install -c conda-forge mdanalysis`\n",
    "- `conda install -c conda-forge wget`\n",
    "- `conda install nglview -c conda-forge`\n",
    "\n",
    "For jupyterlab\n",
    "- `conda install nodejs`\n",
    "- `jupyter-labextension install @jupyter-widgets/jupyterlab-manager@0.33.2`\n",
    "- `jupyter-labextension install nglview-js-widgets@1.1.2`"
   ]
  },
  {
   "cell_type": "code",
   "execution_count": 1,
   "metadata": {},
   "outputs": [],
   "source": [
    "#Libraries and main variables initialized\n",
    "import MDAnalysis as mda\n",
    "from MDAnalysis.analysis import align\n",
    "from MDAnalysis.analysis.rms import rmsd\n",
    "import numpy as np\n",
    "import urllib.request, json\n",
    "import os\n",
    "import re\n",
    "import nglview as nv\n",
    "from funcs import get_files_from_git\n",
    "\n",
    "%matplotlib inline\n",
    "folder=\"h3-h4_tm\""
   ]
  },
  {
   "cell_type": "markdown",
   "metadata": {},
   "source": [
    "### Donwload and prepare pdb\n",
    "- We use 1kx5 as in JMB paper https://www.ncbi.nlm.nih.gov/pubmed/26699921\n",
    "- We use maximim tuncation up to the essential elements (helixes, key arginines, docking domain). But also try not to create unbalanced charges (see figure below).\n",
    "- The h3-h4_maximally tuncated is H3 residues 43-135, H4 residues 23-102 (see figure below).\n",
    "- Due to AMBER ff, we add ACE residues on truncated N-termi using MDanalysis"
   ]
  },
  {
   "cell_type": "markdown",
   "metadata": {},
   "source": [
    "<img src=\"cutting.jpg\">"
   ]
  },
  {
   "cell_type": "code",
   "execution_count": 2,
   "metadata": {},
   "outputs": [],
   "source": [
    "%%bash --out output --err error\n",
    "wget https://files.rcsb.org/view/1KX5.pdb"
   ]
  },
  {
   "cell_type": "code",
   "execution_count": 2,
   "metadata": {},
   "outputs": [
    {
     "name": "stderr",
     "output_type": "stream",
     "text": [
      "/opt/miniconda3/lib/python3.6/site-packages/MDAnalysis/topology/guessers.py:72: UserWarning: Failed to guess the mass for the following atom types: MN\n",
      "  warnings.warn(\"Failed to guess the mass for the following atom types: {}\".format(atom_type))\n"
     ]
    }
   ],
   "source": [
    "nucl=mda.Universe(\"1KX5.pdb\")\n",
    "#For AMBER FF to place ACE on N-truncated end we need to retain one more residue\n",
    "# CHARMM can handle it differently directly in pdb2gmx\n",
    "dimer=nucl.select_atoms(\"(segid A and (resid 44:135 or (resid 43 and name C O CA))) or (segid B and (resid 23:102 or (resid 22 and name C O CA)))\")\n",
    "nucl.select_atoms(\"segid A and resid 43\").residues.resnames='ACE'\n",
    "nucl.select_atoms(\"segid A and resid 43 and name CA\").atoms.names='CH3'\n",
    "nucl.select_atoms(\"segid B and resid 22\").residues.resnames='ACE'\n",
    "nucl.select_atoms(\"segid B and resid 22 and name CA\").atoms.names='CH3'\n",
    "\n",
    "nucl.trajectory.remarks=[]\n",
    "nucl.trajectory.compound=[]\n",
    "nucl.trajectory.header=['H3-H4 dimer radically truncated']\n",
    "\n",
    "#print(dimer.atoms.names)\n",
    "dimer.write(\"h3_h4_tm.pdb\")"
   ]
  },
  {
   "cell_type": "code",
   "execution_count": 3,
   "metadata": {},
   "outputs": [
    {
     "data": {
      "application/vnd.jupyter.widget-view+json": {
       "model_id": "378d5eed6d88429fa320996010dfd3bc",
       "version_major": 2,
       "version_minor": 0
      },
      "text/plain": [
       "NGLWidget()"
      ]
     },
     "metadata": {},
     "output_type": "display_data"
    }
   ],
   "source": [
    "#This will currently work only in Jupyter Notebook, not Jupyter Lab.\n",
    "w = nv.show_mdanalysis(dimer)\n",
    "w"
   ]
  },
  {
   "cell_type": "markdown",
   "metadata": {},
   "source": [
    "### We need to specify force field and path to download it from git\n",
    "- Here we use AMBER 14SB for Gromacs (Need to check)\n",
    "- In this repo https://github.com/intbio/gromacs_ff/ we store all the forcefield that we check manually or adjust\n",
    "- Folder for AMBER 14SB ff is amber14sb_parmbsc1.ff \n",
    "- Folder for AMBER 14SB ff with CUFIX is amber14sb_parmbsc1_cufix.ff   \n",
    "- We need to specify a GitHub API URL for it below"
   ]
  },
  {
   "cell_type": "code",
   "execution_count": 9,
   "metadata": {},
   "outputs": [
    {
     "name": "stdout",
     "output_type": "stream",
     "text": [
      "FF set to  amber14sb_parmbsc1\n"
     ]
    }
   ],
   "source": [
    "#Set URL here\n",
    "#Intentianally commented out to make an informed choice\n",
    "#ff_name='amber14sb_parmbsc1'\n",
    "#ff_name='amber14sb_parmbsc1_cufix'\n",
    "ffurl=\"https://api.github.com/repos/intbio/gromacs_ff/contents/%s.ff\"%ff_name\n",
    "print(\"FF set to \",ff_name)"
   ]
  },
  {
   "cell_type": "markdown",
   "metadata": {},
   "source": [
    "### Prepare directories, download forcefield"
   ]
  },
  {
   "cell_type": "code",
   "execution_count": 10,
   "metadata": {},
   "outputs": [
    {
     "name": "stdout",
     "output_type": "stream",
     "text": [
      "OK we are in h3-h4_tm\n"
     ]
    }
   ],
   "source": [
    "%%bash\n",
    "#Make sure we are in the correct directory\n",
    "if [ \"${PWD##*/}\" = \"h3-h4_tm\" ];\n",
    "then\n",
    "     echo \"OK we are in ${PWD##*/}\"\n",
    "else\n",
    "     echo 'Wrong dir!!!!';\n",
    "     exit -1;\n",
    "fi"
   ]
  },
  {
   "cell_type": "code",
   "execution_count": 11,
   "metadata": {},
   "outputs": [],
   "source": [
    "%%bash\n",
    "#clean GMX_system\n",
    "rm -rf GMX_system\n",
    "mkdir -p GMX_system"
   ]
  },
  {
   "cell_type": "code",
   "execution_count": 13,
   "metadata": {},
   "outputs": [
    {
     "name": "stdout",
     "output_type": "stream",
     "text": [
      "Downloading GMX_system/amber14sb_parmbsc1.ff/Makefile.am\n",
      "Downloading GMX_system/amber14sb_parmbsc1.ff/Makefile.in\n",
      "Downloading GMX_system/amber14sb_parmbsc1.ff/aminoacids.arn\n",
      "Downloading GMX_system/amber14sb_parmbsc1.ff/aminoacids.c.tdb\n",
      "Downloading GMX_system/amber14sb_parmbsc1.ff/aminoacids.hdb\n",
      "Downloading GMX_system/amber14sb_parmbsc1.ff/aminoacids.n.tdb\n",
      "Downloading GMX_system/amber14sb_parmbsc1.ff/aminoacids.r2b\n",
      "Downloading GMX_system/amber14sb_parmbsc1.ff/aminoacids.rtp\n",
      "Downloading GMX_system/amber14sb_parmbsc1.ff/aminoacids.vsd\n",
      "Downloading GMX_system/amber14sb_parmbsc1.ff/atomtypes.atp\n",
      "Downloading GMX_system/amber14sb_parmbsc1.ff/dna.arn\n",
      "Downloading GMX_system/amber14sb_parmbsc1.ff/dna.hdb\n",
      "Downloading GMX_system/amber14sb_parmbsc1.ff/dna.r2b\n",
      "Downloading GMX_system/amber14sb_parmbsc1.ff/dna.rtp\n",
      "Downloading GMX_system/amber14sb_parmbsc1.ff/ffbonded.itp\n",
      "Downloading GMX_system/amber14sb_parmbsc1.ff/ffnonbonded.itp\n",
      "Downloading GMX_system/amber14sb_parmbsc1.ff/forcefield.doc\n",
      "Downloading GMX_system/amber14sb_parmbsc1.ff/forcefield.itp\n",
      "Downloading GMX_system/amber14sb_parmbsc1.ff/gbsa.itp\n",
      "Downloading GMX_system/amber14sb_parmbsc1.ff/ions.itp\n",
      "Downloading GMX_system/amber14sb_parmbsc1.ff/rna.arn\n",
      "Downloading GMX_system/amber14sb_parmbsc1.ff/rna.hdb\n",
      "Downloading GMX_system/amber14sb_parmbsc1.ff/rna.r2b\n",
      "Downloading GMX_system/amber14sb_parmbsc1.ff/rna.rtp\n",
      "Downloading GMX_system/amber14sb_parmbsc1.ff/spc.itp\n",
      "Downloading GMX_system/amber14sb_parmbsc1.ff/spce.itp\n",
      "Downloading GMX_system/amber14sb_parmbsc1.ff/tip3p.itp\n",
      "Downloading GMX_system/amber14sb_parmbsc1.ff/tip4p.itp\n",
      "Downloading GMX_system/amber14sb_parmbsc1.ff/tip4pew.itp\n",
      "Downloading GMX_system/amber14sb_parmbsc1.ff/tip5p.itp\n",
      "Downloading GMX_system/amber14sb_parmbsc1.ff/urea.itp\n",
      "Downloading GMX_system/amber14sb_parmbsc1.ff/watermodels.dat\n"
     ]
    }
   ],
   "source": [
    "get_files_from_git(ffurl,'GMX_system/%s.ff'%ff_name)"
   ]
  },
  {
   "cell_type": "markdown",
   "metadata": {},
   "source": [
    "### Let's start with Gromacs commands\n",
    "\n",
    "- manual for 2018 version is here http://manual.gromacs.org/documentation/current/manual-2018.3.pdf \n",
    "- Command line reference http://manual.gromacs.org/documentation/current/user-guide/cmdline.html\n"
   ]
  },
  {
   "cell_type": "markdown",
   "metadata": {},
   "source": [
    "### PDB2GMX\n",
    "- Prepare initial topology (.top), coordinates (.gro) and restrain files .\n",
    "- http://manual.gromacs.org/documentation/current/onlinehelp/gmx-pdb2gmx.html"
   ]
  },
  {
   "cell_type": "code",
   "execution_count": 14,
   "metadata": {},
   "outputs": [
    {
     "name": "stdout",
     "output_type": "stream",
     "text": [
      "\n",
      "Using the Amber14sb_parmbsc1 force field in directory ./amber14sb_parmbsc1.ff\n",
      "\n",
      "Reading ../h3_h4_tm.pdb...\n",
      "Read 'MDANALYSIS FRAME 0: Created by PDBWriter', 1394 atoms\n",
      "Analyzing pdb file\n",
      "Splitting chemical chains based on TER records or chain id changing.\n",
      "There are 2 chains and 0 blocks of water and 174 residues with 1394 atoms\n",
      "\n",
      "  chain  #res #atoms\n",
      "  1 'A'    93    753  \n",
      "  2 'B'    81    641  \n",
      "\n",
      "Reading residue database... (amber14sb_parmbsc1)\n",
      "Processing chain 1 'A' (753 atoms, 93 residues)\n",
      "Identified residue ACE43 as a starting terminus.\n",
      "Identified residue ALA135 as a ending terminus.\n",
      "Checking for duplicate atoms....\n",
      "Generating any missing hydrogen atoms and/or adding termini.\n",
      "Now there are 93 residues with 1546 atoms\n",
      "Chain time...\n",
      "Processing chain 2 'B' (641 atoms, 81 residues)\n",
      "Identified residue ACE22 as a starting terminus.\n",
      "Identified residue GLY102 as a ending terminus.\n",
      "Checking for duplicate atoms....\n",
      "Generating any missing hydrogen atoms and/or adding termini.\n",
      "Now there are 81 residues with 1321 atoms\n",
      "Chain time...\n",
      "Including chain 1 in system: 1546 atoms 93 residues\n",
      "Including chain 2 in system: 1321 atoms 81 residues\n",
      "\t\t--------- PLEASE NOTE ------------\n",
      "You have successfully generated a topology from: ../h3_h4_tm.pdb.\n",
      "The Amber14sb_parmbsc1 force field and the tip3p water model are used.\n",
      "\t\t--------- ETON ESAELP ------------\n"
     ]
    }
   ],
   "source": [
    "%%bash --err err -s \"$ff_name\"\n",
    "# PDB2GMX\n",
    "# Make an init gro file and topology\n",
    "# Force filed AMBER99BSC1 !!!!!!!!!\n",
    "# Water TIP3P\n",
    "# Termini !IMPORTANT! on N-end we place  ACE termini on C-end we place charged group.\n",
    "# NOTE: The AMBER force fields have unique forms for the terminal residues,\n",
    "# and these are incompatible with the -ter mechanism.~\n",
    "# You need to prefix your N- or C-terminal residue names with “N” or “C” respectively\n",
    "# to use these forms, making sure you preserve the format of the coordinate file.\n",
    "# Alternatively, use named terminating residues (e.g. ACE, NME).\n",
    "\n",
    "#TODO we need to understnt ter in amber!!! and fix\n",
    "cd GMX_system\n",
    "gmx pdb2gmx -f ../h3_h4_tm.pdb -o init.pdb -p topol.top -i posre.itp -water tip3p -ff $1"
   ]
  },
  {
   "cell_type": "code",
   "execution_count": 15,
   "metadata": {},
   "outputs": [
    {
     "name": "stdout",
     "output_type": "stream",
     "text": [
      "Total charge is 14.000\n"
     ]
    }
   ],
   "source": [
    "# Get total charge\n",
    "for line in err.split('\\n'):\n",
    "    if 'Total charge in system' in line:\n",
    "        charge=float(line.split()[-2])\n",
    "print('Total charge is %.3f'%charge)"
   ]
  },
  {
   "cell_type": "markdown",
   "metadata": {},
   "source": [
    "### Fixing posre.itp files\n",
    "see this link for details\n",
    "http://mdsquad.wikia.com/wiki/Change_position_restraint_force_constant_in_MDP"
   ]
  },
  {
   "cell_type": "code",
   "execution_count": 16,
   "metadata": {},
   "outputs": [
    {
     "name": "stdout",
     "output_type": "stream",
     "text": [
      "  1546     1   POSRES_FC POSRES_FC POSRES_FC\n",
      "  1321     1   POSRES_FC POSRES_FC POSRES_FC\n"
     ]
    }
   ],
   "source": [
    "%%bash\n",
    "cd GMX_system/\n",
    "for i in posre_*; do\n",
    "sed -i.bak 's/\\(.*\\)1000  1000  1000/\\1 POSRES_FC POSRES_FC POSRES_FC/g' $i\n",
    "#check if repaced\n",
    "tail -n 1 $i\n",
    "done\n",
    "rm *.bak\n",
    "\n"
   ]
  },
  {
   "cell_type": "markdown",
   "metadata": {},
   "source": [
    "### Solvating a molecule\n",
    "- 2 nm to the border in a cubic box.\n",
    "- http://manual.gromacs.org/documentation/current/onlinehelp/gmx-editconf.html\n",
    "- http://manual.gromacs.org/documentation/current/onlinehelp/gmx-solvate.html"
   ]
  },
  {
   "cell_type": "code",
   "execution_count": 17,
   "metadata": {},
   "outputs": [
    {
     "name": "stdout",
     "output_type": "stream",
     "text": [
      "Read 2867 atoms\n",
      "Volume: 2101.66 nm^3, corresponds to roughly 945700 electrons\n",
      "No velocities found\n",
      "    system size :  3.951  5.406  4.435 (nm)\n",
      "    diameter    :  6.239               (nm)\n",
      "    center      :  6.284  9.788  1.201 (nm)\n",
      "    box vectors : 10.595 18.117 10.949 (nm)\n",
      "    box angles  :  90.00  90.00  90.00 (degrees)\n",
      "    box volume  :2101.66               (nm^3)\n",
      "    shift       : -1.165 -2.548  2.979 (nm)\n",
      "new center      :  5.119  7.240  4.180 (nm)\n",
      "new box vectors : 10.239 10.239 10.239 (nm)\n",
      "new box angles  :  70.53 109.47  70.53 (degrees)\n",
      "new box volume  : 826.23               (nm^3)\n",
      "\n",
      "WARNING: Masses and atomic (Van der Waals) radii will be guessed\n",
      "         based on residue and atom names, since they could not be\n",
      "         definitively assigned from the information in your input\n",
      "         files. These guessed numbers might deviate from the mass\n",
      "         and radius of the atom type. Please check the output\n",
      "         files if necessary.\n",
      "\n",
      "NOTE: From version 5.0 gmx solvate uses the Van der Waals radii\n",
      "from the source below. This means the results may be different\n",
      "compared to previous GROMACS versions.\n",
      "\n",
      "++++ PLEASE READ AND CITE THE FOLLOWING REFERENCE ++++\n",
      "A. Bondi\n",
      "van der Waals Volumes and Radii\n",
      "J. Phys. Chem. 68 (1964) pp. 441-451\n",
      "-------- -------- --- Thank You --- -------- --------\n",
      "\n",
      "Adding line for 26049 solvent molecules with resname (SOL) to topology file (topol.top)\n"
     ]
    }
   ],
   "source": [
    "%%bash  --err err\n",
    "cd GMX_system\n",
    "gmx editconf -bt octahedron -d 2 -c -f init.pdb -o init_box.pdb\n",
    "gmx solvate -cp init_box.pdb -cs spc216.gro -o init_solv.pdb -p topol.top"
   ]
  },
  {
   "cell_type": "markdown",
   "metadata": {},
   "source": [
    "### Determine the number of ions\n",
    "\n",
    "- concentration is 150 mM NaCl\n",
    "- we will calculate the number of waters and calculate the number of ions to add."
   ]
  },
  {
   "cell_type": "code",
   "execution_count": 18,
   "metadata": {},
   "outputs": [
    {
     "name": "stdout",
     "output_type": "stream",
     "text": [
      "Amount of solvent molecules: 26049\n",
      "Amount of Na 70 \n",
      "Amount of Cl 84\n"
     ]
    }
   ],
   "source": [
    "for line in err.split('\\n'):\n",
    "    if 'Number of solvent molecules:' in line:\n",
    "        n_sol=int(line.split()[-1])\n",
    "print('Amount of solvent molecules: %d'%n_sol)\n",
    "\n",
    "#Set concentration in mol/liter\n",
    "conc=0.150 \n",
    "#Water 18 g/mol. in 1 liter 1000/18 mol\n",
    "# for every 1000/18 water molecules we need conc of NaCl ion pairs.\n",
    "\n",
    "n_ions=round(conc*(n_sol/(1000/18)))\n",
    "\n",
    "if charge>=0:\n",
    "    n_pos=int(n_ions)\n",
    "    n_neg=int(n_ions+charge)\n",
    "else:\n",
    "    n_pos=int(n_ions-charge)\n",
    "    n_neg=int(n_ions)\n",
    "print('Amount of Na %d \\nAmount of Cl %d'%(n_pos,n_neg))"
   ]
  },
  {
   "cell_type": "markdown",
   "metadata": {},
   "source": [
    "### Adding ions\n",
    "- http://manual.gromacs.org/documentation/current/onlinehelp/gmx-grompp.html\n",
    "- http://manual.gromacs.org/documentation/current/onlinehelp/gmx-genion.html"
   ]
  },
  {
   "cell_type": "code",
   "execution_count": 21,
   "metadata": {},
   "outputs": [
    {
     "name": "stdout",
     "output_type": "stream",
     "text": [
      "\n",
      "++++ PLEASE READ AND CITE THE FOLLOWING REFERENCE ++++\n",
      "J. S. Hub, B. L. de Groot, H. Grubmueller, G. Groenhof\n",
      "Quantifying Artifacts in Ewald Simulations of Inhomogeneous Systems with a Net\n",
      "Charge\n",
      "J. Chem. Theory Comput. 10 (2014) pp. 381-393\n",
      "-------- -------- --- Thank You --- -------- --------\n",
      "\n",
      "Analysing residue names:\n",
      "There are:   174    Protein residues\n",
      "There are: 26049      Water residues\n",
      "Analysing Protein...\n",
      "Calculating fourier grid dimensions for X Y Z\n",
      "Using a fourier grid of 96x96x96, spacing 0.107 0.107 0.107\n",
      "This run will generate roughly 6 Mb of data\n",
      "Will try to add 70 NA ions and 84 CL ions.\n",
      "Select a continuous group of solvent molecules\n",
      "Selected 13: 'SOL'\n",
      "\n",
      "Processing topology\n",
      "Replacing 154 solute molecules in topology file (topol.top)  by 70 NA and 84 CL ions.\n"
     ]
    },
    {
     "name": "stderr",
     "output_type": "stream",
     "text": [
      "                      :-) GROMACS - gmx grompp, 2018.3 (-:\n",
      "\n",
      "                            GROMACS is written by:\n",
      "     Emile Apol      Rossen Apostolov      Paul Bauer     Herman J.C. Berendsen\n",
      "    Par Bjelkmar    Aldert van Buuren   Rudi van Drunen     Anton Feenstra  \n",
      "  Gerrit Groenhof    Aleksei Iupinov   Christoph Junghans   Anca Hamuraru   \n",
      " Vincent Hindriksen Dimitrios Karkoulis    Peter Kasson        Jiri Kraus    \n",
      "  Carsten Kutzner      Per Larsson      Justin A. Lemkul    Viveca Lindahl  \n",
      "  Magnus Lundborg   Pieter Meulenhoff    Erik Marklund      Teemu Murtola   \n",
      "    Szilard Pall       Sander Pronk      Roland Schulz     Alexey Shvetsov  \n",
      "   Michael Shirts     Alfons Sijbers     Peter Tieleman    Teemu Virolainen \n",
      " Christian Wennberg    Maarten Wolf   \n",
      "                           and the project leaders:\n",
      "        Mark Abraham, Berk Hess, Erik Lindahl, and David van der Spoel\n",
      "\n",
      "Copyright (c) 1991-2000, University of Groningen, The Netherlands.\n",
      "Copyright (c) 2001-2017, The GROMACS development team at\n",
      "Uppsala University, Stockholm University and\n",
      "the Royal Institute of Technology, Sweden.\n",
      "check out http://www.gromacs.org for more information.\n",
      "\n",
      "GROMACS is free software; you can redistribute it and/or modify it\n",
      "under the terms of the GNU Lesser General Public License\n",
      "as published by the Free Software Foundation; either version 2.1\n",
      "of the License, or (at your option) any later version.\n",
      "\n",
      "GROMACS:      gmx grompp, version 2018.3\n",
      "Executable:   /opt/miniconda3/envs/moldyn/bin/gmx\n",
      "Data prefix:  /opt/miniconda3/envs/moldyn\n",
      "Working dir:  /home/_shared/_projects/nucl_gmx/h3-h4_tm/GMX_system\n",
      "Command line:\n",
      "  gmx grompp -f ../MDProtocols/ions.mdp -c init_solv.pdb -p topol.top -o ions.tpr -maxwarn 1\n",
      "\n",
      "\n",
      "NOTE 1 [file ../MDProtocols/ions.mdp]:\n",
      "  With Verlet lists the optimal nstlist is >= 10, with GPUs >= 20. Note\n",
      "  that with the Verlet scheme, nstlist has no effect on the accuracy of\n",
      "  your simulation.\n",
      "\n",
      "Setting the LD random seed to 1934967569\n",
      "Generated 3828 of the 3828 non-bonded parameter combinations\n",
      "Generating 1-4 interactions: fudge = 0.5\n",
      "Generated 3828 of the 3828 1-4 parameter combinations\n",
      "Excluding 3 bonded neighbours molecule type 'Protein_chain_A'\n",
      "Excluding 3 bonded neighbours molecule type 'Protein_chain_B'\n",
      "Excluding 2 bonded neighbours molecule type 'SOL'\n",
      "\n",
      "NOTE 2 [file topol.top, line 48]:\n",
      "  System has non-zero total charge: 14.000000\n",
      "  Total charge should normally be an integer. See\n",
      "  http://www.gromacs.org/Documentation/Floating_Point_Arithmetic\n",
      "  for discussion on how close it should be to an integer.\n",
      "  \n",
      "\n",
      "\n",
      "\n",
      "WARNING 1 [file topol.top, line 48]:\n",
      "  You are using Ewald electrostatics in a system with net charge. This can\n",
      "  lead to severe artifacts, such as ions moving into regions with low\n",
      "  dielectric, due to the uniform background charge. We suggest to\n",
      "  neutralize your system with counter ions, possibly in combination with a\n",
      "  physiological salt concentration.\n",
      "\n",
      "Removing all charge groups because cutoff-scheme=Verlet\n",
      "Number of degrees of freedom in T-Coupling group rest is 164892.00\n",
      "Estimate for the relative computational load of the PME mesh part: 0.23\n",
      "\n",
      "There were 2 notes\n",
      "\n",
      "There was 1 warning\n",
      "\n",
      "GROMACS reminds you: \"Sitting on a rooftop watching molecules collide\" (A Camp)\n",
      "\n",
      "                      :-) GROMACS - gmx genion, 2018.3 (-:\n",
      "\n",
      "                            GROMACS is written by:\n",
      "     Emile Apol      Rossen Apostolov      Paul Bauer     Herman J.C. Berendsen\n",
      "    Par Bjelkmar    Aldert van Buuren   Rudi van Drunen     Anton Feenstra  \n",
      "  Gerrit Groenhof    Aleksei Iupinov   Christoph Junghans   Anca Hamuraru   \n",
      " Vincent Hindriksen Dimitrios Karkoulis    Peter Kasson        Jiri Kraus    \n",
      "  Carsten Kutzner      Per Larsson      Justin A. Lemkul    Viveca Lindahl  \n",
      "  Magnus Lundborg   Pieter Meulenhoff    Erik Marklund      Teemu Murtola   \n",
      "    Szilard Pall       Sander Pronk      Roland Schulz     Alexey Shvetsov  \n",
      "   Michael Shirts     Alfons Sijbers     Peter Tieleman    Teemu Virolainen \n",
      " Christian Wennberg    Maarten Wolf   \n",
      "                           and the project leaders:\n",
      "        Mark Abraham, Berk Hess, Erik Lindahl, and David van der Spoel\n",
      "\n",
      "Copyright (c) 1991-2000, University of Groningen, The Netherlands.\n",
      "Copyright (c) 2001-2017, The GROMACS development team at\n",
      "Uppsala University, Stockholm University and\n",
      "the Royal Institute of Technology, Sweden.\n",
      "check out http://www.gromacs.org for more information.\n",
      "\n",
      "GROMACS is free software; you can redistribute it and/or modify it\n",
      "under the terms of the GNU Lesser General Public License\n",
      "as published by the Free Software Foundation; either version 2.1\n",
      "of the License, or (at your option) any later version.\n",
      "\n",
      "GROMACS:      gmx genion, version 2018.3\n",
      "Executable:   /opt/miniconda3/envs/moldyn/bin/gmx\n",
      "Data prefix:  /opt/miniconda3/envs/moldyn\n",
      "Working dir:  /home/_shared/_projects/nucl_gmx/h3-h4_tm/GMX_system\n",
      "Command line:\n",
      "  gmx genion -s ions.tpr -o init_solv_ions.pdb -p topol.top -noneutral -pname NA -nname CL -np 70 -nn 84\n",
      "\n",
      "Reading file ions.tpr, VERSION 2018.3 (single precision)\n",
      "Reading file ions.tpr, VERSION 2018.3 (single precision)\n",
      "Group     0 (         System) has 81014 elements\n",
      "Group     1 (        Protein) has  2867 elements\n",
      "Group     2 (      Protein-H) has  1394 elements\n",
      "Group     3 (        C-alpha) has   172 elements\n",
      "Group     4 (       Backbone) has   518 elements\n",
      "Group     5 (      MainChain) has   694 elements\n",
      "Group     6 (   MainChain+Cb) has   855 elements\n",
      "Group     7 (    MainChain+H) has   863 elements\n",
      "Group     8 (      SideChain) has  2004 elements\n",
      "Group     9 (    SideChain-H) has   700 elements\n",
      "Group    10 (    Prot-Masses) has  2867 elements\n",
      "Group    11 (    non-Protein) has 78147 elements\n",
      "Group    12 (          Water) has 78147 elements\n",
      "Group    13 (            SOL) has 78147 elements\n",
      "Group    14 (      non-Water) has  2867 elements\n",
      "Select a group: Number of (3-atomic) solvent molecules: 26049\n",
      "\n",
      "Back Off! I just backed up topol.top to ./#topol.top.2#\n",
      "Using random seed 1286613308.\n",
      "Replacing solvent molecule 4104 (atom 15179) with NA\n",
      "Replacing solvent molecule 16494 (atom 52349) with NA\n",
      "Replacing solvent molecule 5879 (atom 20504) with NA\n",
      "Replacing solvent molecule 17282 (atom 54713) with NA\n",
      "Replacing solvent molecule 7463 (atom 25256) with NA\n",
      "Replacing solvent molecule 10936 (atom 35675) with NA\n",
      "Replacing solvent molecule 8366 (atom 27965) with NA\n",
      "Replacing solvent molecule 18299 (atom 57764) with NA\n",
      "Replacing solvent molecule 21836 (atom 68375) with NA\n",
      "Replacing solvent molecule 18067 (atom 57068) with NA\n",
      "Replacing solvent molecule 18674 (atom 58889) with NA\n",
      "Replacing solvent molecule 18919 (atom 59624) with NA\n",
      "Replacing solvent molecule 17262 (atom 54653) with NA\n",
      "Replacing solvent molecule 16231 (atom 51560) with NA\n",
      "Replacing solvent molecule 17330 (atom 54857) with NA\n",
      "Replacing solvent molecule 15760 (atom 50147) with NA\n",
      "Replacing solvent molecule 5478 (atom 19301) with NA\n",
      "Replacing solvent molecule 18633 (atom 58766) with NA\n",
      "Replacing solvent molecule 8647 (atom 28808) with NA\n",
      "Replacing solvent molecule 12582 (atom 40613) with NA\n",
      "Replacing solvent molecule 13722 (atom 44033) with NA\n",
      "Replacing solvent molecule 10770 (atom 35177) with NA\n",
      "Replacing solvent molecule 791 (atom 5240) with NA\n",
      "Replacing solvent molecule 24956 (atom 77735) with NA\n",
      "Replacing solvent molecule 2838 (atom 11381) with NA\n",
      "Replacing solvent molecule 10155 (atom 33332) with NA\n",
      "Replacing solvent molecule 12082 (atom 39113) with NA\n",
      "Replacing solvent molecule 11897 (atom 38558) with NA\n",
      "Replacing solvent molecule 10293 (atom 33746) with NA\n",
      "Replacing solvent molecule 2272 (atom 9683) with NA\n",
      "Replacing solvent molecule 15308 (atom 48791) with NA\n",
      "Replacing solvent molecule 22276 (atom 69695) with NA\n",
      "Replacing solvent molecule 16466 (atom 52265) with NA\n",
      "Replacing solvent molecule 9138 (atom 30281) with NA\n",
      "Replacing solvent molecule 4075 (atom 15092) with NA\n",
      "Replacing solvent molecule 10659 (atom 34844) with NA\n",
      "Replacing solvent molecule 7572 (atom 25583) with NA\n",
      "Replacing solvent molecule 15448 (atom 49211) with NA\n",
      "Replacing solvent molecule 6167 (atom 21368) with NA\n",
      "Replacing solvent molecule 18232 (atom 57563) with NA\n",
      "Replacing solvent molecule 15101 (atom 48170) with NA\n",
      "Replacing solvent molecule 17593 (atom 55646) with NA\n",
      "Replacing solvent molecule 4792 (atom 17243) with NA\n",
      "Replacing solvent molecule 20992 (atom 65843) with NA\n",
      "Replacing solvent molecule 22738 (atom 71081) with NA\n",
      "Replacing solvent molecule 6560 (atom 22547) with NA\n",
      "Replacing solvent molecule 995 (atom 5852) with NA\n",
      "Replacing solvent molecule 9212 (atom 30503) with NA\n",
      "Replacing solvent molecule 13944 (atom 44699) with NA\n",
      "Replacing solvent molecule 16577 (atom 52598) with NA\n",
      "Replacing solvent molecule 8066 (atom 27065) with NA\n",
      "Replacing solvent molecule 17013 (atom 53906) with NA\n",
      "Replacing solvent molecule 7037 (atom 23978) with NA\n",
      "Replacing solvent molecule 16641 (atom 52790) with NA\n",
      "Replacing solvent molecule 22526 (atom 70445) with NA\n",
      "Replacing solvent molecule 23863 (atom 74456) with NA\n",
      "Replacing solvent molecule 23295 (atom 72752) with NA\n",
      "Replacing solvent molecule 4531 (atom 16460) with NA\n",
      "Replacing solvent molecule 10422 (atom 34133) with NA\n",
      "Replacing solvent molecule 11391 (atom 37040) with NA\n",
      "Replacing solvent molecule 15100 (atom 48167) with NA\n",
      "Replacing solvent molecule 17904 (atom 56579) with NA\n",
      "Replacing solvent molecule 16984 (atom 53819) with NA\n",
      "Replacing solvent molecule 14821 (atom 47330) with NA\n",
      "Replacing solvent molecule 21908 (atom 68591) with NA\n",
      "Replacing solvent molecule 9580 (atom 31607) with NA\n",
      "Replacing solvent molecule 3117 (atom 12218) with NA\n",
      "Replacing solvent molecule 14088 (atom 45131) with NA\n",
      "Replacing solvent molecule 12437 (atom 40178) with NA\n",
      "Replacing solvent molecule 26003 (atom 80876) with NA\n",
      "Replacing solvent molecule 7779 (atom 26204) with CL\n",
      "Replacing solvent molecule 6264 (atom 21659) with CL\n",
      "Replacing solvent molecule 18414 (atom 58109) with CL\n",
      "Replacing solvent molecule 13791 (atom 44240) with CL\n",
      "Replacing solvent molecule 18945 (atom 59702) with CL\n",
      "Replacing solvent molecule 5691 (atom 19940) with CL\n",
      "Replacing solvent molecule 7189 (atom 24434) with CL\n",
      "Replacing solvent molecule 10996 (atom 35855) with CL\n",
      "Replacing solvent molecule 12995 (atom 41852) with CL\n",
      "Replacing solvent molecule 21460 (atom 67247) with CL\n",
      "Replacing solvent molecule 3429 (atom 13154) with CL\n",
      "Replacing solvent molecule 8997 (atom 29858) with CL\n",
      "Replacing solvent molecule 497 (atom 4358) with CL\n",
      "Replacing solvent molecule 24349 (atom 75914) with CL\n",
      "Replacing solvent molecule 4625 (atom 16742) with CL\n",
      "Replacing solvent molecule 2934 (atom 11669) with CL\n",
      "Replacing solvent molecule 14561 (atom 46550) with CL\n",
      "Replacing solvent molecule 23955 (atom 74732) with CL\n",
      "Replacing solvent molecule 14038 (atom 44981) with CL\n",
      "Replacing solvent molecule 8321 (atom 27830) with CL\n",
      "Replacing solvent molecule 4666 (atom 16865) with CL\n",
      "Replacing solvent molecule 9818 (atom 32321) with CL\n",
      "Replacing solvent molecule 3195 (atom 12452) with CL\n",
      "Replacing solvent molecule 12209 (atom 39494) with CL\n",
      "Replacing solvent molecule 24181 (atom 75410) with CL\n",
      "Replacing solvent molecule 19535 (atom 61472) with CL\n",
      "Replacing solvent molecule 6621 (atom 22730) with CL\n",
      "Replacing solvent molecule 1361 (atom 6950) with CL\n",
      "Replacing solvent molecule 8597 (atom 28658) with CL\n",
      "Replacing solvent molecule 12529 (atom 40454) with CL\n",
      "Replacing solvent molecule 6852 (atom 23423) with CL\n",
      "Replacing solvent molecule 22987 (atom 71828) with CL\n",
      "Replacing solvent molecule 479 (atom 4304) with CL\n",
      "Replacing solvent molecule 7421 (atom 25130) with CL\n",
      "Replacing solvent molecule 11787 (atom 38228) with CL\n",
      "Replacing solvent molecule 14442 (atom 46193) with CL\n",
      "Replacing solvent molecule 17213 (atom 54506) with CL\n",
      "Replacing solvent molecule 16346 (atom 51905) with CL\n",
      "Replacing solvent molecule 3802 (atom 14273) with CL\n",
      "Replacing solvent molecule 8618 (atom 28721) with CL\n",
      "Replacing solvent molecule 6322 (atom 21833) with CL\n",
      "Replacing solvent molecule 19342 (atom 60893) with CL\n",
      "Replacing solvent molecule 5118 (atom 18221) with CL\n",
      "Replacing solvent molecule 2457 (atom 10238) with CL\n",
      "Replacing solvent molecule 6333 (atom 21866) with CL\n",
      "Replacing solvent molecule 25972 (atom 80783) with CL\n",
      "Replacing solvent molecule 19120 (atom 60227) with CL\n",
      "Replacing solvent molecule 25227 (atom 78548) with CL\n",
      "Replacing solvent molecule 6089 (atom 21134) with CL\n",
      "Replacing solvent molecule 7848 (atom 26411) with CL\n",
      "Replacing solvent molecule 422 (atom 4133) with CL\n",
      "Replacing solvent molecule 21039 (atom 65984) with CL\n",
      "Replacing solvent molecule 17673 (atom 55886) with CL\n",
      "Replacing solvent molecule 22054 (atom 69029) with CL\n",
      "Replacing solvent molecule 13326 (atom 42845) with CL\n",
      "Replacing solvent molecule 9863 (atom 32456) with CL\n",
      "Replacing solvent molecule 14067 (atom 45068) with CL\n",
      "Replacing solvent molecule 9603 (atom 31676) with CL\n",
      "Replacing solvent molecule 1779 (atom 8204) with CL\n",
      "Replacing solvent molecule 1611 (atom 7700) with CL\n",
      "Replacing solvent molecule 25312 (atom 78803) with CL\n",
      "Replacing solvent molecule 2365 (atom 9962) with CL\n",
      "Replacing solvent molecule 11127 (atom 36248) with CL\n",
      "Replacing solvent molecule 23340 (atom 72887) with CL\n",
      "Replacing solvent molecule 10041 (atom 32990) with CL\n",
      "Replacing solvent molecule 18964 (atom 59759) with CL\n",
      "Replacing solvent molecule 9651 (atom 31820) with CL\n",
      "Replacing solvent molecule 645 (atom 4802) with CL\n",
      "Replacing solvent molecule 11196 (atom 36455) with CL\n",
      "Replacing solvent molecule 14584 (atom 46619) with CL\n",
      "Replacing solvent molecule 20768 (atom 65171) with CL\n",
      "Replacing solvent molecule 23804 (atom 74279) with CL\n",
      "Replacing solvent molecule 7720 (atom 26027) with CL\n",
      "Replacing solvent molecule 21752 (atom 68123) with CL\n",
      "Replacing solvent molecule 8634 (atom 28769) with CL\n",
      "Replacing solvent molecule 20817 (atom 65318) with CL\n",
      "Replacing solvent molecule 6645 (atom 22802) with CL\n",
      "Replacing solvent molecule 10877 (atom 35498) with CL\n",
      "Replacing solvent molecule 10315 (atom 33812) with CL\n",
      "Replacing solvent molecule 25848 (atom 80411) with CL\n",
      "Replacing solvent molecule 10015 (atom 32912) with CL\n",
      "Replacing solvent molecule 12688 (atom 40931) with CL\n",
      "Replacing solvent molecule 11441 (atom 37190) with CL\n",
      "Replacing solvent molecule 18874 (atom 59489) with CL\n",
      "\n",
      "\n",
      "GROMACS reminds you: \"All that glitters may not be gold, but at least it contains free electrons.\" (John Desmond Baernal)\n",
      "\n"
     ]
    }
   ],
   "source": [
    "%%bash -s \"$n_pos\" \"$n_neg\"\n",
    "cd GMX_system\n",
    "gmx grompp -f ../MDProtocols/ions.mdp -c init_solv.pdb -p topol.top -o ions.tpr -maxwarn 1\n",
    "gmx genion -s ions.tpr -o init_solv_ions.pdb -p topol.top -noneutral -pname NA -nname CL -np $1 -nn $2 <<!\n",
    "13\n",
    "!"
   ]
  },
  {
   "cell_type": "markdown",
   "metadata": {},
   "source": [
    "### Making index file\n",
    "\n",
    "http://manual.gromacs.org/documentation/2018/onlinehelp/gmx-make_ndx.html"
   ]
  },
  {
   "cell_type": "code",
   "execution_count": 22,
   "metadata": {},
   "outputs": [
    {
     "name": "stdout",
     "output_type": "stream",
     "text": [
      "Going to read 0 old index file(s)\n",
      "Analysing residue names:\n",
      "There are:   174    Protein residues\n",
      "There are: 25895      Water residues\n",
      "There are:   154        Ion residues\n",
      "Analysing Protein...\n",
      "Analysing residues not classified as Protein/DNA/RNA/Water and splitting into groups...\n",
      "\n",
      "  0 System              : 80706 atoms\n",
      "  1 Protein             :  2867 atoms\n",
      "  2 Protein-H           :  1394 atoms\n",
      "  3 C-alpha             :   172 atoms\n",
      "  4 Backbone            :   518 atoms\n",
      "  5 MainChain           :   694 atoms\n",
      "  6 MainChain+Cb        :   855 atoms\n",
      "  7 MainChain+H         :   863 atoms\n",
      "  8 SideChain           :  2004 atoms\n",
      "  9 SideChain-H         :   700 atoms\n",
      " 10 Prot-Masses         :  2867 atoms\n",
      " 11 non-Protein         : 77839 atoms\n",
      " 12 Water               : 77685 atoms\n",
      " 13 SOL                 : 77685 atoms\n",
      " 14 non-Water           :  3021 atoms\n",
      " 15 Ion                 :   154 atoms\n",
      " 16 NA                  :    70 atoms\n",
      " 17 CL                  :    84 atoms\n",
      " 18 Water_and_ions      : 77839 atoms\n",
      "\n",
      " nr : group      '!': not  'name' nr name   'splitch' nr    Enter: list groups\n",
      " 'a': atom       '&': and  'del' nr         'splitres' nr   'l': list residues\n",
      " 't': atom type  '|': or   'keep' nr        'splitat' nr    'h': help\n",
      " 'r': residue              'res' nr         'chain' char\n",
      " \"name\": group             'case': case sensitive           'q': save and quit\n",
      " 'ri': residue index\n",
      "\n",
      "> \n"
     ]
    },
    {
     "name": "stderr",
     "output_type": "stream",
     "text": [
      "                     :-) GROMACS - gmx make_ndx, 2018.3 (-:\n",
      "\n",
      "                            GROMACS is written by:\n",
      "     Emile Apol      Rossen Apostolov      Paul Bauer     Herman J.C. Berendsen\n",
      "    Par Bjelkmar    Aldert van Buuren   Rudi van Drunen     Anton Feenstra  \n",
      "  Gerrit Groenhof    Aleksei Iupinov   Christoph Junghans   Anca Hamuraru   \n",
      " Vincent Hindriksen Dimitrios Karkoulis    Peter Kasson        Jiri Kraus    \n",
      "  Carsten Kutzner      Per Larsson      Justin A. Lemkul    Viveca Lindahl  \n",
      "  Magnus Lundborg   Pieter Meulenhoff    Erik Marklund      Teemu Murtola   \n",
      "    Szilard Pall       Sander Pronk      Roland Schulz     Alexey Shvetsov  \n",
      "   Michael Shirts     Alfons Sijbers     Peter Tieleman    Teemu Virolainen \n",
      " Christian Wennberg    Maarten Wolf   \n",
      "                           and the project leaders:\n",
      "        Mark Abraham, Berk Hess, Erik Lindahl, and David van der Spoel\n",
      "\n",
      "Copyright (c) 1991-2000, University of Groningen, The Netherlands.\n",
      "Copyright (c) 2001-2017, The GROMACS development team at\n",
      "Uppsala University, Stockholm University and\n",
      "the Royal Institute of Technology, Sweden.\n",
      "check out http://www.gromacs.org for more information.\n",
      "\n",
      "GROMACS is free software; you can redistribute it and/or modify it\n",
      "under the terms of the GNU Lesser General Public License\n",
      "as published by the Free Software Foundation; either version 2.1\n",
      "of the License, or (at your option) any later version.\n",
      "\n",
      "GROMACS:      gmx make_ndx, version 2018.3\n",
      "Executable:   /opt/miniconda3/envs/moldyn/bin/gmx\n",
      "Data prefix:  /opt/miniconda3/envs/moldyn\n",
      "Working dir:  /home/_shared/_projects/nucl_gmx/h3-h4_tm/GMX_system\n",
      "Command line:\n",
      "  gmx make_ndx -f init_solv_ions.pdb -o index.ndx\n",
      "\n",
      "\n",
      "Reading structure file\n",
      "\n",
      "GROMACS reminds you: \"I'd be Safe and Warm if I was in L.A.\" (The Mamas and the Papas)\n",
      "\n"
     ]
    }
   ],
   "source": [
    "%%bash\n",
    "cd GMX_system\n",
    "gmx make_ndx -f init_solv_ions.pdb -o index.ndx <<!\n",
    "q\n",
    "!"
   ]
  },
  {
   "cell_type": "markdown",
   "metadata": {},
   "source": [
    "As a result in GMX_system directory we have a prepared system for minimization and further simulations."
   ]
  },
  {
   "cell_type": "code",
   "execution_count": null,
   "metadata": {},
   "outputs": [],
   "source": []
  },
  {
   "cell_type": "code",
   "execution_count": null,
   "metadata": {},
   "outputs": [],
   "source": []
  }
 ],
 "metadata": {
  "kernelspec": {
   "display_name": "Python 3",
   "language": "python",
   "name": "python3"
  },
  "language_info": {
   "codemirror_mode": {
    "name": "ipython",
    "version": 3
   },
   "file_extension": ".py",
   "mimetype": "text/x-python",
   "name": "python",
   "nbconvert_exporter": "python",
   "pygments_lexer": "ipython3",
   "version": "3.6.6"
  }
 },
 "nbformat": 4,
 "nbformat_minor": 2
}
