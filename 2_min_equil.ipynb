{
 "cells": [
  {
   "cell_type": "markdown",
   "metadata": {},
   "source": [
    "## Minimize and equilibrate\n",
    " - Minimize\n",
    " - Equilibrate\n",
    " \n",
    " Sanity checks along the way.\n",
    " \n",
    " Protocol files are copied from https://github.com/intbio/gmx_protocols/tree/master/amber into\n",
    "Protocols folder.\n",
    "If others are needed modify then in the folder.\n",
    "\n",
    "Theoretically this notebook could be exectuted in a single step, but it is unclear currently how stable the execution of the notebook is if you close browser window or connection in interrupted.\n",
    "\n",
    "An alternative is to run from a persistent (opened via X2Go or using Tmux) terminal as\n",
    "\n",
    "```\n",
    "jupyter nbconvert --ExecutePreprocessor.timeout=72000 --ExecutePreprocessor.kernel_name=python3 --to notebook --execute 2_min_equil.ipynb --output 2_min_equil.ipynb\n",
    "```\n",
    "\n",
    "\n",
    "\n",
    "\n",
    "For TMUX on newton cheatsheet\n",
    "```\n",
    "tmux\n",
    "module load conda3\n",
    "source activate moldyn\n",
    "Ctr+b d - detach\n",
    "tmux ls\n",
    "tmux attach -t 0\n",
    "```\n",
    "\n",
    "\n",
    "\n"
   ]
  },
  {
   "cell_type": "code",
   "execution_count": 1,
   "metadata": {},
   "outputs": [
    {
     "data": {
      "text/markdown": [
       "\n",
       "# MD simulations of H3-H4 dimer, tails truncated\n",
       "- AMBER14SB force field\n",
       "- 150 mM NaCl\n",
       "- box 2nm\n"
      ],
      "text/plain": [
       "<IPython.core.display.Markdown object>"
      ]
     },
     "metadata": {},
     "output_type": "display_data"
    },
    {
     "name": "stdout",
     "output_type": "stream",
     "text": [
      "Folder set to:  h3-h4_tm_30DNA\n",
      "Project name:  h3-h4_tm_30DNA\n",
      "SSH host set to: lomo2g\n"
     ]
    }
   ],
   "source": [
    "#Libraries and main variables initialized\n",
    "import MDAnalysis as mda\n",
    "from MDAnalysis.analysis import align\n",
    "from MDAnalysis.analysis.rms import rmsd\n",
    "import numpy as np\n",
    "import urllib.request, json\n",
    "import os\n",
    "import re\n",
    "import nglview as nv\n",
    "from funcs import get_files_from_git\n",
    "from funcs import view_nucl\n",
    "\n",
    "#Reloading funcs if changed\n",
    "from importlib import reload \n",
    "import funcs,config\n",
    "reload(funcs)\n",
    "reload(config)\n",
    "\n",
    "\n",
    "\n",
    "%matplotlib inline\n",
    "\n",
    "from IPython.display import Markdown, display\n",
    "from config import folder,descr,pname,ssh_host\n",
    "display(Markdown(descr))\n",
    "print(\"Folder set to: \",folder)\n",
    "print(\"Project name: \",pname)\n",
    "print(\"SSH host set to:\",ssh_host)\n",
    "\n"
   ]
  },
  {
   "cell_type": "markdown",
   "metadata": {},
   "source": [
    "### 1_Minimization - steepest descent gradient method 10000 steps with POSRED constraints"
   ]
  },
  {
   "cell_type": "markdown",
   "metadata": {},
   "source": [
    "#### Prepare tpr files using GROMPP\n",
    "- http://manual.gromacs.org/documentation/current/onlinehelp/gmx-grompp.html"
   ]
  },
  {
   "cell_type": "code",
   "execution_count": null,
   "metadata": {},
   "outputs": [],
   "source": [
    "%%bash\n",
    "#Prepare system\n",
    "rm -rf GMX_run\n",
    "mkdir -p GMX_run\n",
    "gmx grompp -f MDProtocols/1_minim.mdp -c GMX_system/init_solv_ions.pdb -p GMX_system/topol.top \\\n",
    "-o GMX_run/1_minim.tpr -r GMX_system/init_solv_ions.pdb -n GMX_system/index.ndx -po GMX_run/mdout_1_minim.mdp\n"
   ]
  },
  {
   "cell_type": "markdown",
   "metadata": {},
   "source": [
    "#### Run: Option 1 - locally\n",
    "Note: try to run on a small number of CPUs with no GPUs, because system in non-equilibrated."
   ]
  },
  {
   "cell_type": "code",
   "execution_count": null,
   "metadata": {},
   "outputs": [],
   "source": [
    "%%bash\n",
    "cd GMX_run\n",
    "gmx mdrun -ntomp 10 -deffnm 1_minim 2> 1_minim.sterr  # if you want to run locally, nt is the number of threads\n",
    "echo \"Outputting gromacs error log\"\n",
    "cat 1_minim.sterr"
   ]
  },
  {
   "cell_type": "markdown",
   "metadata": {},
   "source": [
    "### Troubleshooting exploding trajectories !!! (if needed)\n",
    "------"
   ]
  },
  {
   "cell_type": "code",
   "execution_count": null,
   "metadata": {},
   "outputs": [],
   "source": [
    "#First steps often require troubleshooting and looking in vmd at the structure.\n",
    "#To do it you'll need to change MD_Protocols/1_minim.mdp to decrease number of steps to 20 or 100, and set output for every step.\n",
    "#Let's generate useful commands that can be used on your local machine.\n",
    "# See if there are any real, problems or clashed, LINCS warnings are usually sensitive to that.\n",
    "#If there are still unexplainable problems with LINCS, try to change constrains = None in 1_minim.mdp file, usually this helps.\n",
    "dir=!pwd\n",
    "newton_user=!whoami\n",
    "!cp VMD_scripts/min_troubleshoot.tcl GMX_run/\n",
    "!cp GMX_system/init_solv_ions.pdb GMX_run\n",
    "with open('GMX_run/1_minim.sterr', \"r\") as file:\n",
    "    counter=0\n",
    "    line='1'\n",
    "    atoms=[]\n",
    "    while ((counter<1000) and line):\n",
    "        line=file.readline()\n",
    "        m=re.match(\"\\s+(\\d+)\\s+\\d+\\s+\\d+\\.\\d+\\s+\\d+\\.\\d+\\s+\\d+\\.\\d+\\s+\\d+\\.\\d+\",line)\n",
    "        if(m):\n",
    "            atoms.append(m.groups()[0])\n",
    "            counter+=1\n",
    "        else:\n",
    "            next\n",
    "    atomstr=' '.join(atoms)\n",
    "if(len(atoms)>0):\n",
    "    !echo 'mol representation VDW' >> GMX_run/min_troubleshoot.tcl\n",
    "    !echo \"mol selection index $atomstr\" >> GMX_run/min_troubleshoot.tcl\n",
    "    !echo \"mol addrep top\" >> GMX_run/min_troubleshoot.tcl\n",
    "#!echo \"$atomstr\"\n",
    "print(\"rm -r GMX_run\")\n",
    "print(\"rsync -avz --exclude='step*' --exclude='\\#*' %s@newton.bioeng.ru:%s/GMX_run .\"%(newton_user[0],dir[0]))\n",
    "print(\"vmd -e GMX_run/min_troubleshoot.tcl\\n\")"
   ]
  },
  {
   "cell_type": "markdown",
   "metadata": {},
   "source": [
    "------------\n"
   ]
  },
  {
   "cell_type": "markdown",
   "metadata": {},
   "source": [
    "#### Run: Option 2 - sending and simulating on Lomonosov-2\n",
    "Note: Usually it is easier just to run all the cells for local simulations below and wait some time, than to send to supercomputer since it requires manual work and monitoring. But examples of doing it on supercomputer are provided for the next two step for reference.\n",
    "They are commented out (set to RAW content), so that this note book could be run entirely as a single piece of code locally."
   ]
  },
  {
   "cell_type": "code",
   "execution_count": null,
   "metadata": {},
   "outputs": [],
   "source": [
    "deffnm='1_minim'"
   ]
  },
  {
   "cell_type": "raw",
   "metadata": {},
   "source": [
    "!cp Run_scripts/lomo2_run.sh GMX_run/\n",
    "!cp Run_scripts/lomo2_run_cont.sh GMX_run/\n",
    "!ssh $ssh_host \"mkdir -p ~/_scratch/$folder\"\n",
    "!scp GMX_run/$deffnm.tpr $ssh_host:~/_scratch/$folder/GMX_run/\n",
    "!scp GMX_run/lomo2* $ssh_host:~/_scratch/$folder/GMX_run/"
   ]
  },
  {
   "cell_type": "raw",
   "metadata": {},
   "source": [
    "%%bash -s  $ssh_host $folder $deffnm  --out out\n",
    "ssh $1 \"module load slurm gromacs/2018-gcc; cd ~/_scratch/$2/GMX_run; sbatch -p test -t 00:15:00 -N 1 -J $2 lomo2_run.sh $3\""
   ]
  },
  {
   "cell_type": "raw",
   "metadata": {},
   "source": [
    "#get job id\n",
    "job_idm=re.findall(r'\\d+', out)[0]\n",
    "print(job_idm)"
   ]
  },
  {
   "cell_type": "raw",
   "metadata": {},
   "source": [
    "%%bash -s \"$scuser\" \"$ssh_host\"   --err err\n",
    "# check job status\n",
    "ssh $2 \"module load slurm gromacs/2018-gcc; squeue -u \\$USER \" || echo \"No job in queue\""
   ]
  },
  {
   "cell_type": "raw",
   "metadata": {},
   "source": [
    "#job_idm=926148\n",
    "!ssh $ssh_host \"tail -n 25 ~/_scratch/$folder/GMX_run/egmx.$job_idm\""
   ]
  },
  {
   "cell_type": "raw",
   "metadata": {},
   "source": [
    "!ssh $ssh_host \"tail -n 25 ~/_scratch/$folder/GMX_run/$deffnm.log\""
   ]
  },
  {
   "cell_type": "raw",
   "metadata": {},
   "source": [
    "!ssh $ssh_host \"rm -f ~/_scratch/$folder/GMX_run/\\#*; \"\n",
    "!scp $ssh_host:~/_scratch/$folder/GMX_run/* GMX_run/ ;"
   ]
  },
  {
   "cell_type": "markdown",
   "metadata": {},
   "source": [
    "#### Analyze what we get"
   ]
  },
  {
   "cell_type": "raw",
   "metadata": {},
   "source": [
    "view_nucl('GMX_system/init_solv_ions.pdb','GMX_run/%s.trr'%deffnm)"
   ]
  },
  {
   "cell_type": "markdown",
   "metadata": {},
   "source": [
    "### 2_Equilibration 100 ps with postional restraints of 500 kJ/mol/A2 , and with 0.5 fs time step"
   ]
  },
  {
   "cell_type": "code",
   "execution_count": null,
   "metadata": {},
   "outputs": [],
   "source": [
    "%%bash  \n",
    "#--out out --err err\n",
    "gmx grompp -f MDProtocols/2_equil.mdp -c GMX_run/1_minim.gro -p GMX_system/topol.top \\\n",
    "-o GMX_run/2_equil.tpr -v  -r GMX_system/init_solv_ions.pdb -n GMX_system/index.ndx -po GMX_run/mdout_2_equil.mdp\n"
   ]
  },
  {
   "cell_type": "markdown",
   "metadata": {},
   "source": [
    "#### Run: Option 1 - locally"
   ]
  },
  {
   "cell_type": "code",
   "execution_count": null,
   "metadata": {},
   "outputs": [],
   "source": [
    "%%bash\n",
    "cd GMX_run\n",
    "gmx mdrun -ntomp 10 -deffnm 2_equil # if you want to run locally"
   ]
  },
  {
   "cell_type": "markdown",
   "metadata": {},
   "source": [
    "#### Run: Option 2 - sending and simulating on Lomonosov-2\n",
    "Note: Usually it is easier just to run all the cells for local simulations below and wait some time, than to send to supercomputer since it requires manual work and monitoring. But examples of doing it on supercomputer are provided for this step for reference. The same can be applied to all further step if needed - just copy the code.\n",
    "The code here is commented out (cell type set to RAW content), so that this notebook could be run entirely as a single piece of code locally."
   ]
  },
  {
   "cell_type": "code",
   "execution_count": null,
   "metadata": {},
   "outputs": [],
   "source": [
    "deffnm='2_equil'"
   ]
  },
  {
   "cell_type": "raw",
   "metadata": {},
   "source": [
    "!cp Run_scripts/lomo2_run.sh GMX_run/\n",
    "!cp Run_scripts/lomo2_run_cont.sh GMX_run/\n",
    "!ssh $ssh_host \"mkdir -p ~/_scratch/$folder\"\n",
    "!scp GMX_run/$deffnm\\.tpr $ssh_host:~/_scratch/$folder/GMX_run/\n",
    "!scp GMX_run/lomo2* $ssh_host:~/_scratch/$folder/GMX_run/"
   ]
  },
  {
   "cell_type": "raw",
   "metadata": {},
   "source": [
    "%%bash -s  $ssh_host $folder $deffnm  --out out\n",
    "ssh $1 \"module load slurm gromacs/2018-gcc; cd ~/_scratch/$2/GMX_run; sbatch -p test -t 00:15:00 -N 1 -J $2 lomo2_run.sh $3\""
   ]
  },
  {
   "cell_type": "raw",
   "metadata": {},
   "source": [
    "#get job id\n",
    "job_idm=re.findall(r'\\d+', out)[0]\n",
    "print(job_idm)"
   ]
  },
  {
   "cell_type": "raw",
   "metadata": {},
   "source": [
    "%%bash -s $ssh_host   --err err\n",
    "# check job status\n",
    "ssh $1 \"module load slurm gromacs/2018-gcc; squeue -u \\$USER \" || echo \"No job in queue\""
   ]
  },
  {
   "cell_type": "raw",
   "metadata": {},
   "source": [
    "#job_idm=926148\n",
    "!ssh $ssh_host \"tail -n 25 ~/_scratch/$folder/GMX_run/egmx.$job_idm\""
   ]
  },
  {
   "cell_type": "raw",
   "metadata": {},
   "source": [
    "!ssh $ssh_host \"tail -n 25 ~/_scratch/$folder/GMX_run/$deffnm\\.log\""
   ]
  },
  {
   "cell_type": "raw",
   "metadata": {},
   "source": [
    "!ssh $ssh_host \"rm -f ~/_scratch/$folder/GMX_run/\\#*; \"\n",
    "!scp $ssh_host:~/_scratch/$folder/GMX_run/* GMX_run/ ;"
   ]
  },
  {
   "cell_type": "markdown",
   "metadata": {},
   "source": [
    "#### Analyze what we get"
   ]
  },
  {
   "cell_type": "raw",
   "metadata": {},
   "source": [
    "view_nucl('GMX_system/init_solv_ions.pdb','GMX_run/%s.trr'%deffnm)"
   ]
  },
  {
   "cell_type": "markdown",
   "metadata": {},
   "source": [
    "### 3_Equilibration 200 ps with postional restraints of 50 kJ/mol/A2"
   ]
  },
  {
   "cell_type": "code",
   "execution_count": null,
   "metadata": {},
   "outputs": [],
   "source": [
    "%%bash  \n",
    "#--out out --err err\n",
    "gmx grompp -f MDProtocols/3_equil.mdp -c GMX_run/2_equil.gro -p GMX_system/topol.top \\\n",
    "-o GMX_run/3_equil.tpr -v  -r GMX_system/init_solv_ions.pdb -n GMX_system/index.ndx -po GMX_run/mdout_3_equil.mdp\n"
   ]
  },
  {
   "cell_type": "markdown",
   "metadata": {},
   "source": [
    "#### Run: Option 1 - locally"
   ]
  },
  {
   "cell_type": "code",
   "execution_count": null,
   "metadata": {},
   "outputs": [],
   "source": [
    "%%bash\n",
    "cd GMX_run\n",
    "gmx mdrun -ntomp 10 -deffnm 3_equil # if you want to run locally"
   ]
  },
  {
   "cell_type": "markdown",
   "metadata": {},
   "source": [
    "#### Run: Option 2 - sending and simulating on Lomonosov-2"
   ]
  },
  {
   "cell_type": "code",
   "execution_count": null,
   "metadata": {},
   "outputs": [],
   "source": [
    "deffnm='3_equil'"
   ]
  },
  {
   "cell_type": "raw",
   "metadata": {},
   "source": [
    "JUST COPY CODE FROM PREVIOUS STEPS IF YOU ARE SIMULATING ON LOMONOSOV"
   ]
  },
  {
   "cell_type": "markdown",
   "metadata": {},
   "source": [
    "### 4_Equilibration 200 ps with postional restraints of 5 kJ/mol/A2"
   ]
  },
  {
   "cell_type": "code",
   "execution_count": null,
   "metadata": {},
   "outputs": [],
   "source": [
    "%%bash  \n",
    "#--out out --err err\n",
    "gmx grompp -f MDProtocols/4_equil.mdp -c GMX_run/3_equil.gro -p GMX_system/topol.top \\\n",
    "-o GMX_run/4_equil.tpr -v  -r GMX_system/init_solv_ions.pdb -n GMX_system/index.ndx -po GMX_run/mdout_4_equil.mdp\n"
   ]
  },
  {
   "cell_type": "markdown",
   "metadata": {},
   "source": [
    "#### Run: Option 1 - locally"
   ]
  },
  {
   "cell_type": "code",
   "execution_count": null,
   "metadata": {},
   "outputs": [],
   "source": [
    "%%bash\n",
    "cd GMX_run\n",
    "gmx mdrun -ntomp 10 -deffnm 4_equil # if you want to run locally"
   ]
  },
  {
   "cell_type": "markdown",
   "metadata": {},
   "source": [
    "#### Run: Option 2 - sending and simulating on Lomonosov-2"
   ]
  },
  {
   "cell_type": "code",
   "execution_count": null,
   "metadata": {},
   "outputs": [],
   "source": [
    "deffnm='4_equil'"
   ]
  },
  {
   "cell_type": "markdown",
   "metadata": {},
   "source": [
    "### 5_Equilibration 200 ps with postional restraints of 0.5 kJ/mol/A2"
   ]
  },
  {
   "cell_type": "code",
   "execution_count": null,
   "metadata": {},
   "outputs": [],
   "source": [
    "%%bash  \n",
    "#--out out --err err\n",
    "gmx grompp -f MDProtocols/5_equil.mdp -c GMX_run/4_equil.gro -p GMX_system/topol.top \\\n",
    "-o GMX_run/5_equil.tpr -v  -r GMX_system/init_solv_ions.pdb -n GMX_system/index.ndx -po GMX_run/mdout_5_equil.mdp\n"
   ]
  },
  {
   "cell_type": "markdown",
   "metadata": {},
   "source": [
    "#### Run: Option 1 - locally"
   ]
  },
  {
   "cell_type": "code",
   "execution_count": null,
   "metadata": {},
   "outputs": [],
   "source": [
    "%%bash\n",
    "cd GMX_run\n",
    "gmx mdrun -ntomp 10 -deffnm 5_equil # if you want to run locally"
   ]
  },
  {
   "cell_type": "markdown",
   "metadata": {},
   "source": [
    "#### Run: Option 2 - sending and simulating on Lomonosov-2"
   ]
  },
  {
   "cell_type": "code",
   "execution_count": null,
   "metadata": {},
   "outputs": [],
   "source": [
    "deffnm='5_equil'"
   ]
  },
  {
   "cell_type": "markdown",
   "metadata": {},
   "source": [
    "### 6_Equilibration 200 ps unrestrained"
   ]
  },
  {
   "cell_type": "code",
   "execution_count": null,
   "metadata": {},
   "outputs": [],
   "source": [
    "%%bash  \n",
    "#--out out --err err\n",
    "gmx grompp -f MDProtocols/6_equil.mdp -c GMX_run/5_equil.gro -p GMX_system/topol.top \\\n",
    "-o GMX_run/6_equil.tpr -v  -r GMX_system/init_solv_ions.pdb -n GMX_system/index.ndx -po GMX_run/mdout_6_equil.mdp\n"
   ]
  },
  {
   "cell_type": "markdown",
   "metadata": {},
   "source": [
    "#### Run: Option 1 - locally"
   ]
  },
  {
   "cell_type": "code",
   "execution_count": null,
   "metadata": {},
   "outputs": [],
   "source": [
    "%%bash\n",
    "cd GMX_run\n",
    "gmx mdrun -ntomp 10 -deffnm 6_equil # if you want to run locally"
   ]
  },
  {
   "cell_type": "markdown",
   "metadata": {},
   "source": [
    "#### Run: Option 2 - sending and simulating on Lomonosov-2"
   ]
  },
  {
   "cell_type": "code",
   "execution_count": null,
   "metadata": {},
   "outputs": [],
   "source": [
    "deffnm='6_equil'"
   ]
  },
  {
   "cell_type": "markdown",
   "metadata": {},
   "source": [
    "# Saving final equilibrated results"
   ]
  },
  {
   "cell_type": "markdown",
   "metadata": {},
   "source": [
    "As a result we have equlibrated system ready for production simulations.\n",
    "We copy it to GMX_system."
   ]
  },
  {
   "cell_type": "code",
   "execution_count": null,
   "metadata": {},
   "outputs": [],
   "source": [
    "%%bash\n",
    "cp GMX_run/6_equil.gro GMX_system/ #coordinates\n",
    "cp GMX_run/6_equil.cpt GMX_system/ #This has also velocities\n",
    "\n",
    "\n",
    "\n"
   ]
  },
  {
   "cell_type": "markdown",
   "metadata": {},
   "source": []
  },
  {
   "cell_type": "markdown",
   "metadata": {},
   "source": [
    "Optionally we can save all equilibrated files, if want to copy them somewhere and user later,\n",
    "here we place into results folder the set of equilibrated files of step 6.\n"
   ]
  },
  {
   "cell_type": "code",
   "execution_count": null,
   "metadata": {},
   "outputs": [],
   "source": [
    "%%bash\n",
    "gmx trjconv -f GMX_run/6_equil.gro -s GMX_run/6_equil.tpr -o GMX_run/6_equil.pdb << !\n",
    "0\n",
    "!"
   ]
  },
  {
   "cell_type": "code",
   "execution_count": null,
   "metadata": {},
   "outputs": [],
   "source": [
    "%%bash\n",
    "mkdir -p results\n",
    "cp GMX_run/6_equil* results/\n",
    "cp GMX_system/sys_ref.pdb results/"
   ]
  },
  {
   "cell_type": "markdown",
   "metadata": {},
   "source": [
    "#### If you'd like to start production run here go below, but better use 4_production_run.ipynb"
   ]
  },
  {
   "cell_type": "markdown",
   "metadata": {},
   "source": [
    "## 7_Production run 10 000 ns - prepare files"
   ]
  },
  {
   "cell_type": "code",
   "execution_count": null,
   "metadata": {},
   "outputs": [],
   "source": [
    "%%bash  \n",
    "#--out out --err err\n",
    "mkdir -p GMX_run\n",
    "gmx grompp -f MDProtocols/7_prod.mdp -c GMX_run/6_equil.gro -p GMX_system/topol.top \\\n",
    "-o GMX_run/7_prod.tpr -v  -r GMX_run/6_equil.gro -n GMX_system/index.ndx -po GMX_run/mdout_7_prod.mdp -t GMX_run/6_equil.cpt\n",
    "#7_prod.mdp does not genereate velocities, so they better be provided from cpt or trr file of previous simulation"
   ]
  },
  {
   "cell_type": "markdown",
   "metadata": {},
   "source": [
    "## Transfer files to Lomonosov-2"
   ]
  },
  {
   "cell_type": "code",
   "execution_count": null,
   "metadata": {},
   "outputs": [],
   "source": [
    "!ssh $ssh_host \"mkdir -p ~/_scratch/$folder\""
   ]
  },
  {
   "cell_type": "code",
   "execution_count": null,
   "metadata": {},
   "outputs": [],
   "source": [
    "%%bash -s \"$folder\" \"$ssh_host\" --err err --out out\n",
    "#Copy to SC\n",
    "\n",
    "cp Run_scripts/lomo2_run.sh GMX_run/\n",
    "cp Run_scripts/lomo2_run_cont.sh GMX_run/\n",
    "rsync --exclude '*.xtc' --exclude '*.trr' -r GMX_run $2:~/_scratch/$1/;"
   ]
  },
  {
   "cell_type": "markdown",
   "metadata": {},
   "source": [
    "## Launch,relaunch make a chain of tasks\n",
    "### NOTE: for relaunch, monitor and data pullback - better to use status.ipynb"
   ]
  },
  {
   "cell_type": "markdown",
   "metadata": {},
   "source": [
    "Lomonosov-2 queues https://users.parallel.ru/wiki/pages/22-config\n",
    "compute partition allows max 7 days!.\n",
    "Then we will resume.\n",
    "https://hpc.nih.gov/docs/job_dependencies.html"
   ]
  },
  {
   "cell_type": "code",
   "execution_count": null,
   "metadata": {},
   "outputs": [],
   "source": [
    "#%%bash -s \"$folder\" --out out --err err\n",
    "#ssh lomo2 \"module load slurm gromacs/2018-gcc; cd ~/_scratch/$1/GMX_run; \\\n",
    "#sbatch -p test -t 00:15:00 -N 2 -J $1 lomo2_run.sh 7_prod\""
   ]
  },
  {
   "cell_type": "code",
   "execution_count": null,
   "metadata": {},
   "outputs": [],
   "source": [
    "%%bash -s \"$folder\" \"$ssh_host\"\n",
    "#--out out --err err\n",
    "ssh $2 \"module load slurm gromacs/2018-gcc; cd ~/_scratch/$1/GMX_run; \\\n",
    "sbatch -p compute -t 7-00:00:00 -N 4 -J $1 lomo2_run.sh 7_prod\""
   ]
  }
 ],
 "metadata": {
  "kernelspec": {
   "display_name": "Python [conda env:moldyn]",
   "language": "python",
   "name": "conda-env-moldyn-py"
  },
  "language_info": {
   "codemirror_mode": {
    "name": "ipython",
    "version": 3
   },
   "file_extension": ".py",
   "mimetype": "text/x-python",
   "name": "python",
   "nbconvert_exporter": "python",
   "pygments_lexer": "ipython3",
   "version": "3.7.1"
  }
 },
 "nbformat": 4,
 "nbformat_minor": 2
}
