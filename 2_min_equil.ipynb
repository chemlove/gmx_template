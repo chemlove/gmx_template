{
 "cells": [
  {
   "cell_type": "markdown",
   "metadata": {},
   "source": [
    "## Minimize and equilibrate\n",
    " - Minimize\n",
    " - Equilibrate\n",
    " \n",
    " Sanity checks along the way.\n",
    " \n",
    " Protocol files are copied from https://github.com/intbio/gmx_protocols/tree/master/amber into\n",
    "Protocols folder.\n",
    "If others are needed modify then in the folder.\n",
    "\n",
    "Theoretically this notebook could be exectuted in a single step, but it is unclear currently how stable the execution of the notebook is if you close browser window or connection in interrupted.\n",
    "\n",
    "An alternative is to run from a persistent (opened via X2Go or using Tmux) terminal as\n",
    "\n",
    "```\n",
    "jupyter nbconvert --ExecutePreprocessor.timeout=72000 --ExecutePreprocessor.kernel_name=python3 --to notebook --execute 2_min_equil.ipynb --output 2_min_equil.ipynb\n",
    "```\n",
    "\n"
   ]
  },
  {
   "cell_type": "code",
   "execution_count": null,
   "metadata": {},
   "outputs": [],
   "source": [
    "#Libraries and main variables initialized\n",
    "import MDAnalysis as mda\n",
    "from MDAnalysis.analysis import align\n",
    "from MDAnalysis.analysis.rms import rmsd\n",
    "import numpy as np\n",
    "import urllib.request, json\n",
    "import os\n",
    "import re\n",
    "import nglview as nv\n",
    "from funcs import get_files_from_git\n",
    "from funcs import view_nucl\n",
    "\n",
    "#Reloading funcs if changed\n",
    "from importlib import reload \n",
    "import funcs,config\n",
    "reload(funcs)\n",
    "reload(config)\n",
    "\n",
    "\n",
    "\n",
    "%matplotlib inline\n",
    "\n",
    "from IPython.display import Markdown, display\n",
    "from config import folder,descr,pname,ssh_host\n",
    "display(Markdown(descr))\n",
    "print(\"Folder set to: \",folder)\n",
    "print(\"Project name: \",pname)\n",
    "print(\"SSH host set to:\",ssh_host)\n",
    "\n"
   ]
  },
  {
   "cell_type": "markdown",
   "metadata": {},
   "source": [
    "### 1_Minimization - steepest descent gradient method 10000 steps with POSRED constraints"
   ]
  },
  {
   "cell_type": "markdown",
   "metadata": {},
   "source": [
    "#### Prepare tpr files using GROMPP\n",
    "- http://manual.gromacs.org/documentation/current/onlinehelp/gmx-grompp.html"
   ]
  },
  {
   "cell_type": "code",
   "execution_count": 22,
   "metadata": {},
   "outputs": [
    {
     "name": "stdout",
     "output_type": "stream",
     "text": [
      "turning all bonds into constraints...\n",
      "turning all bonds into constraints...\n",
      "turning all bonds into constraints...\n",
      "turning all bonds into constraints...\n",
      "turning all bonds into constraints...\n",
      "turning all bonds into constraints...\n",
      "turning all bonds into constraints...\n",
      "turning all bonds into constraints...\n",
      "turning all bonds into constraints...\n",
      "turning all bonds into constraints...\n",
      "turning all bonds into constraints...\n",
      "turning all bonds into constraints...\n",
      "turning all bonds into constraints...\n",
      "Calculating fourier grid dimensions for X Y Z\n",
      "Using a fourier grid of 160x160x160, spacing 0.116 0.116 0.116\n",
      "This run will generate roughly 156 Mb of data\n"
     ]
    },
    {
     "name": "stderr",
     "output_type": "stream",
     "text": [
      "gmx: Relink `/opt/miniconda3/envs/moldyn/bin/../lib/././libgfortran.so.4' with `/lib/x86_64-linux-gnu/librt.so.1' for IFUNC symbol `clock_gettime'\n",
      "                      :-) GROMACS - gmx grompp, 2018.4 (-:\n",
      "\n",
      "                            GROMACS is written by:\n",
      "     Emile Apol      Rossen Apostolov      Paul Bauer     Herman J.C. Berendsen\n",
      "    Par Bjelkmar    Aldert van Buuren   Rudi van Drunen     Anton Feenstra  \n",
      "  Gerrit Groenhof    Aleksei Iupinov   Christoph Junghans   Anca Hamuraru   \n",
      " Vincent Hindriksen Dimitrios Karkoulis    Peter Kasson        Jiri Kraus    \n",
      "  Carsten Kutzner      Per Larsson      Justin A. Lemkul    Viveca Lindahl  \n",
      "  Magnus Lundborg   Pieter Meulenhoff    Erik Marklund      Teemu Murtola   \n",
      "    Szilard Pall       Sander Pronk      Roland Schulz     Alexey Shvetsov  \n",
      "   Michael Shirts     Alfons Sijbers     Peter Tieleman    Teemu Virolainen \n",
      " Christian Wennberg    Maarten Wolf   \n",
      "                           and the project leaders:\n",
      "        Mark Abraham, Berk Hess, Erik Lindahl, and David van der Spoel\n",
      "\n",
      "Copyright (c) 1991-2000, University of Groningen, The Netherlands.\n",
      "Copyright (c) 2001-2017, The GROMACS development team at\n",
      "Uppsala University, Stockholm University and\n",
      "the Royal Institute of Technology, Sweden.\n",
      "check out http://www.gromacs.org for more information.\n",
      "\n",
      "GROMACS is free software; you can redistribute it and/or modify it\n",
      "under the terms of the GNU Lesser General Public License\n",
      "as published by the Free Software Foundation; either version 2.1\n",
      "of the License, or (at your option) any later version.\n",
      "\n",
      "GROMACS:      gmx grompp, version 2018.4\n",
      "Executable:   /opt/miniconda3/envs/moldyn/bin/gmx\n",
      "Data prefix:  /opt/miniconda3/envs/moldyn\n",
      "Working dir:  /home/_shared/_projects/nucl_gmx/1kx5_sym\n",
      "Command line:\n",
      "  gmx grompp -f MDProtocols/1_minim.mdp -c GMX_system/init_solv_ions.pdb -p GMX_system/topol.top -o GMX_run/1_minim.tpr -r GMX_system/init_solv_ions.pdb -n GMX_system/index.ndx -po GMX_run/mdout_1_minim.mdp\n",
      "\n",
      "\n",
      "NOTE 1 [file MDProtocols/1_minim.mdp]:\n",
      "  You have set rlist larger than the interaction cut-off, but you also have\n",
      "  verlet-buffer-tolerance > 0. Will set rlist using verlet-buffer-tolerance.\n",
      "\n",
      "\n",
      "NOTE 2 [file MDProtocols/1_minim.mdp]:\n",
      "  Setting tcoupl from 'V-rescale' to 'no'. Temperature coupling does not\n",
      "  apply to steep.\n",
      "\n",
      "\n",
      "NOTE 3 [file MDProtocols/1_minim.mdp]:\n",
      "  Setting pcoupl from 'Parrinello-Rahman' to 'no'. Pressure coupling does\n",
      "  not apply to steep.\n",
      "\n",
      "Setting the LD random seed to -1899378443\n",
      "Generated 4345 of the 4371 non-bonded parameter combinations\n",
      "Generating 1-4 interactions: fudge = 0.5\n",
      "Generated 4371 of the 4371 1-4 parameter combinations\n",
      "Excluding 3 bonded neighbours molecule type 'DNA_chain_I'\n",
      "Excluding 3 bonded neighbours molecule type 'DNA_chain_J'\n",
      "Excluding 3 bonded neighbours molecule type 'Protein_chain_A'\n",
      "Excluding 3 bonded neighbours molecule type 'Protein_chain_B'\n",
      "Excluding 3 bonded neighbours molecule type 'Protein_chain_C'\n",
      "Excluding 3 bonded neighbours molecule type 'Protein_chain_D'\n",
      "Excluding 3 bonded neighbours molecule type 'Protein_chain_E'\n",
      "Excluding 3 bonded neighbours molecule type 'Protein_chain_F'\n",
      "Excluding 3 bonded neighbours molecule type 'Protein_chain_G'\n",
      "Excluding 3 bonded neighbours molecule type 'Protein_chain_H'\n",
      "Excluding 2 bonded neighbours molecule type 'SOL'\n",
      "Excluding 1 bonded neighbours molecule type 'NA'\n",
      "Excluding 1 bonded neighbours molecule type 'CL'\n",
      "Removing all charge groups because cutoff-scheme=Verlet\n",
      "Pull group 1 'a_11' has 1 atoms\n",
      "Pull group 2 'a_9326' has 1 atoms\n",
      "Pull group 3 'a_4653' has 1 atoms\n",
      "Pull group 4 'a_4684' has 1 atoms\n",
      "Number of degrees of freedom in T-Coupling group System is 970550.00\n",
      "Pull group  natoms  pbc atom  distance at start  reference at t=0\n",
      "       1         1         0\n",
      "       2         1         0       0.843 nm          0.843 nm\n",
      "       3         1         0\n",
      "       4         1         0       0.867 nm          0.867 nm\n",
      "Estimate for the relative computational load of the PME mesh part: 0.29\n",
      "\n",
      "There were 3 notes\n",
      "\n",
      "GROMACS reminds you: \"It has been discovered that C++ provides a remarkable facility for concealing the trivial details of a program - such as where its bugs are.\" (David Keppel)\n",
      "\n"
     ]
    }
   ],
   "source": [
    "%%bash\n",
    "#Prepare system\n",
    "rm -rf GMX_run\n",
    "mkdir -p GMX_run\n",
    "gmx grompp -f MDProtocols/1_minim.mdp -c GMX_system/init_solv_ions.pdb -p GMX_system/topol.top \\\n",
    "-o GMX_run/1_minim.tpr -r GMX_system/init_solv_ions.pdb -n GMX_system/index.ndx -po GMX_run/mdout_1_minim.mdp\n"
   ]
  },
  {
   "cell_type": "markdown",
   "metadata": {},
   "source": [
    "#### Run: Option 1 - locally\n",
    "Note: try to run on a small number of CPUs with no GPUs, because system in non-equilibrated."
   ]
  },
  {
   "cell_type": "code",
   "execution_count": 25,
   "metadata": {},
   "outputs": [
    {
     "name": "stdout",
     "output_type": "stream",
     "text": [
      "Outputting gromacs error log\n",
      "gmx: Relink `/opt/miniconda3/envs/moldyn/bin/../lib/././libgfortran.so.4' with `/lib/x86_64-linux-gnu/librt.so.1' for IFUNC symbol `clock_gettime'\n",
      "                      :-) GROMACS - gmx mdrun, 2018.4 (-:\n",
      "\n",
      "                            GROMACS is written by:\n",
      "     Emile Apol      Rossen Apostolov      Paul Bauer     Herman J.C. Berendsen\n",
      "    Par Bjelkmar    Aldert van Buuren   Rudi van Drunen     Anton Feenstra  \n",
      "  Gerrit Groenhof    Aleksei Iupinov   Christoph Junghans   Anca Hamuraru   \n",
      " Vincent Hindriksen Dimitrios Karkoulis    Peter Kasson        Jiri Kraus    \n",
      "  Carsten Kutzner      Per Larsson      Justin A. Lemkul    Viveca Lindahl  \n",
      "  Magnus Lundborg   Pieter Meulenhoff    Erik Marklund      Teemu Murtola   \n",
      "    Szilard Pall       Sander Pronk      Roland Schulz     Alexey Shvetsov  \n",
      "   Michael Shirts     Alfons Sijbers     Peter Tieleman    Teemu Virolainen \n",
      " Christian Wennberg    Maarten Wolf   \n",
      "                           and the project leaders:\n",
      "        Mark Abraham, Berk Hess, Erik Lindahl, and David van der Spoel\n",
      "\n",
      "Copyright (c) 1991-2000, University of Groningen, The Netherlands.\n",
      "Copyright (c) 2001-2017, The GROMACS development team at\n",
      "Uppsala University, Stockholm University and\n",
      "the Royal Institute of Technology, Sweden.\n",
      "check out http://www.gromacs.org for more information.\n",
      "\n",
      "GROMACS is free software; you can redistribute it and/or modify it\n",
      "under the terms of the GNU Lesser General Public License\n",
      "as published by the Free Software Foundation; either version 2.1\n",
      "of the License, or (at your option) any later version.\n",
      "\n",
      "GROMACS:      gmx mdrun, version 2018.4\n",
      "Executable:   /opt/miniconda3/envs/moldyn/bin/gmx\n",
      "Data prefix:  /opt/miniconda3/envs/moldyn\n",
      "Working dir:  /home/_shared/_projects/nucl_gmx/1kx5_sym/GMX_run\n",
      "Command line:\n",
      "  gmx mdrun -ntomp 10 -deffnm 1_minim\n",
      "\n",
      "\n",
      "Back Off! I just backed up 1_minim.log to ./#1_minim.log.1#\n",
      "Compiled SIMD: SSE2, but for this host/run AVX2_256 might be better (see log).\n",
      "The current CPU can measure timings more accurately than the code in\n",
      "gmx mdrun was configured to use. This might affect your simulation\n",
      "speed as accurate timings are needed for load-balancing.\n",
      "Please consider rebuilding gmx mdrun with the GMX_USE_RDTSCP=ON CMake option.\n",
      "Reading file 1_minim.tpr, VERSION 2018.4 (single precision)\n",
      "\n",
      "Using 10 OpenMP threads \n",
      "\n",
      "\n",
      "NOTE: The number of threads is not equal to the number of (logical) cores\n",
      "      and the -pin option is set to auto: will not pin threads to cores.\n",
      "      This can lead to significant performance degradation.\n",
      "      Consider using -pin on (and -pinoffset in case you run multiple jobs).\n",
      "\n",
      "Back Off! I just backed up 1_minim.trr to ./#1_minim.trr.1#\n",
      "\n",
      "Back Off! I just backed up 1_minim.edr to ./#1_minim.edr.1#\n",
      "\n",
      "Steepest Descents:\n",
      "   Tolerance (Fmax)   =  1.00000e+02\n",
      "   Number of steps    =           20\n",
      "\n",
      "step 11: One or more water molecules can not be settled.\n",
      "Check for bad contacts and/or reduce the timestep if appropriate.\n",
      "\n",
      "Back Off! I just backed up step11b.pdb to ./#step11b.pdb.1#\n",
      "\n",
      "Back Off! I just backed up step11c.pdb to ./#step11c.pdb.1#\n",
      "Wrote pdb files with previous and current coordinates\n",
      "\n",
      "Step 14, time 0.028 (ps)  LINCS WARNING\n",
      "relative constraint deviation after LINCS:\n",
      "rms 0.000006, max 0.000351 (between atoms 9543 and 9545)\n",
      "bonds that rotated more than 30 degrees:\n",
      " atom 1 atom 2  angle  previous, current, constraint length\n",
      "   9543   9544   34.5    0.1229   0.1229      0.1229\n",
      "   9543   9545   37.2    0.1335   0.1335      0.1335\n",
      "   9545   9546   39.5    0.1010   0.1010      0.1010\n",
      "   9739   9741   30.8    0.1449   0.1449      0.1449\n",
      "\n",
      "Step 15, time 0.03 (ps)  LINCS WARNING\n",
      "relative constraint deviation after LINCS:\n",
      "rms 0.000006, max 0.000231 (between atoms 9565 and 9567)\n",
      "bonds that rotated more than 30 degrees:\n",
      " atom 1 atom 2  angle  previous, current, constraint length\n",
      "   9540   9543   32.7    0.1522   0.1522      0.1522\n",
      "   9545   9546   37.8    0.1010   0.1010      0.1010\n",
      "   9739   9741   32.8    0.1449   0.1449      0.1449\n",
      "   9761   9763   31.4    0.1335   0.1335      0.1335\n",
      "\n",
      "Step 16, time 0.032 (ps)  LINCS WARNING\n",
      "relative constraint deviation after LINCS:\n",
      "rms 0.000589, max 0.039616 (between atoms 9739 and 9741)\n",
      "bonds that rotated more than 30 degrees:\n",
      " atom 1 atom 2  angle  previous, current, constraint length\n",
      "   4420   4422   30.8    0.1090   0.1090      0.1090\n",
      "   4423   4425   35.7    0.1410   0.1410      0.1410\n",
      "   4425   4426   32.5    0.1410   0.1410      0.1410\n",
      "   9536   9538   35.5    0.1335   0.1354      0.1335\n",
      "   9538   9539   42.7    0.1010   0.1028      0.1010\n",
      "   9540   9541   42.1    0.1090   0.1111      0.1090\n",
      "   9540   9542   48.3    0.1090   0.1116      0.1090\n",
      "   9540   9543   50.6    0.1522   0.1556      0.1522\n",
      "   9543   9544   56.6    0.1229   0.1271      0.1229\n",
      "   9543   9545   46.3    0.1335   0.1373      0.1335\n",
      "   9545   9546   61.2    0.1010   0.1001      0.1010\n",
      "   9547   9548   54.2    0.1090   0.1096      0.1090\n",
      "   9547   9549   37.6    0.1526   0.1531      0.1526\n",
      "   9547   9565   39.9    0.1522   0.1526      0.1522\n",
      "   9565   9566   48.8    0.1229   0.1240      0.1229\n",
      "   9565   9567   50.0    0.1335   0.1347      0.1335\n",
      "   9737   9738   56.6    0.1229   0.1212      0.1229\n",
      "   9737   9739   51.5    0.1335   0.1380      0.1335\n",
      "   9739   9741   68.5    0.1449   0.1506      0.1449\n",
      "   9741   9742   39.8    0.1090   0.1101      0.1090\n",
      "   9741   9743   33.7    0.1526   0.1543      0.1526\n",
      "   9741   9761   34.4    0.1522   0.1545      0.1522\n",
      "   9743   9744   47.1    0.1090   0.1114      0.1090\n",
      "   9743   9745   42.9    0.1090   0.1111      0.1090\n",
      "   9746   9747   30.7    0.1090   0.1101      0.1090\n",
      "   9761   9762   35.5    0.1229   0.1222      0.1229\n",
      "   9761   9763   50.4    0.1335   0.1324      0.1335\n",
      "   9763   9764   31.2    0.1010   0.1011      0.1010\n",
      "   9765   9766   40.0    0.1090   0.1091      0.1090\n",
      "   9783   9784   35.7    0.1229   0.1230      0.1229\n",
      "\n",
      "Step 17, time 0.034 (ps)  LINCS WARNING\n",
      "relative constraint deviation after LINCS:\n",
      "rms 0.000027, max 0.002056 (between atoms 9739 and 9741)\n",
      "bonds that rotated more than 30 degrees:\n",
      " atom 1 atom 2  angle  previous, current, constraint length\n",
      "   9545   9546   41.1    0.1001   0.1010      0.1010\n",
      "   9737   9738   31.9    0.1212   0.1229      0.1229\n",
      "   9741   9742   31.4    0.1101   0.1090      0.1090\n",
      "   9743   9744   33.0    0.1114   0.1089      0.1090\n",
      "   9783   9784   35.0    0.1230   0.1229      0.1229\n",
      "\n",
      "Step 18, time 0.036 (ps)  LINCS WARNING\n",
      "relative constraint deviation after LINCS:\n",
      "rms 0.245099, max 14.687307 (between atoms 9761 and 9763)\n",
      "bonds that rotated more than 30 degrees:\n",
      " atom 1 atom 2  angle  previous, current, constraint length\n",
      "   4393   4394   34.4    0.1090   0.1097      0.1090\n",
      "   4393   4395   31.7    0.1475   0.1477      0.1475\n",
      "   4395   4396   52.9    0.1371   0.1392      0.1371\n",
      "   4396   4397   65.8    0.1080   0.1111      0.1080\n",
      "   4398   4399   54.5    0.1391   0.1423      0.1391\n",
      "   4399   4400   42.0    0.1419   0.1434      0.1419\n",
      "   4402   4403   33.4    0.1010   0.1009      0.1010\n",
      "   4405   4406   31.1    0.1010   0.1012      0.1010\n",
      "   4408   4409   49.3    0.1354   0.1360      0.1354\n",
      "   9531   9533   47.0    0.1449   0.1976      0.1449\n",
      "   9533   9534   55.8    0.1090   0.1644      0.1090\n",
      "   9533   9535   47.9    0.1090   0.1550      0.1090\n",
      "   9533   9536   70.7    0.1522   0.2472      0.1522\n",
      "   9536   9537   85.8    0.1229   0.2213      0.1229\n",
      "   9536   9538   98.0    0.1335   0.2673      0.1335\n",
      "   9538   9539   81.8    0.1010   0.1363      0.1010\n",
      "   9538   9540  130.6    0.1449   0.6517      0.1449\n",
      "   9540   9541  121.5    0.1090   0.6632      0.1090\n",
      "   9540   9542  116.1    0.1090   0.5131      0.1090\n",
      "   9540   9543  122.3    0.1522   1.4350      0.1522\n",
      "   9543   9544  122.9    0.1229   1.2705      0.1229\n",
      "   9543   9545  114.4    0.1336   1.7124      0.1335\n",
      "   9545   9546  124.0    0.1010   0.7982      0.1010\n",
      "   9545   9547  117.1    0.1448   0.9322      0.1449\n",
      "   9547   9548  119.5    0.1090   0.7486      0.1090\n",
      "   9547   9549  113.9    0.1526   0.8480      0.1526\n",
      "   9547   9565  111.5    0.1522   1.2905      0.1522\n",
      "   9549   9550  117.5    0.1090   0.5752      0.1090\n",
      "   9549   9551  117.3    0.1090   0.3647      0.1090\n",
      "   9549   9552  114.7    0.1526   0.4730      0.1526\n",
      "   9552   9553  114.1    0.1090   0.4193      0.1090\n",
      "   9552   9554  114.2    0.1090   0.4065      0.1090\n",
      "   9552   9555  102.5    0.1526   0.4888      0.1526\n",
      "   9555   9556  104.1    0.1090   0.3159      0.1090\n",
      "   9555   9557  103.9    0.1090   0.3057      0.1090\n",
      "   9555   9558   95.3    0.1526   0.3444      0.1526\n",
      "   9558   9559   85.7    0.1090   0.2119      0.1090\n",
      "   9558   9560   86.0    0.1090   0.2142      0.1090\n",
      "   9558   9561   70.4    0.1471   0.2290      0.1471\n",
      "   9561   9562   53.6    0.1010   0.1694      0.1010\n",
      "   9561   9563   53.5    0.1010   0.1694      0.1010\n",
      "   9561   9564   53.7    0.1010   0.1697      0.1010\n",
      "   9565   9566  114.1    0.1229   0.9083      0.1229\n",
      "   9565   9567  108.1    0.1335   1.1454      0.1335\n",
      "   9567   9568  118.4    0.1010   0.3128      0.1010\n",
      "   9567   9569  111.6    0.1449   0.5201      0.1449\n",
      "   9569   9570  109.3    0.1090   0.2454      0.1090\n",
      "   9569   9571  108.3    0.1526   0.3137      0.1526\n",
      "   9569   9575  106.9    0.1522   0.2722      0.1522\n",
      "   9571   9572   89.1    0.1090   0.2793      0.1090\n",
      "   9571   9573   86.4    0.1090   0.2551      0.1090\n",
      "   9571   9574   87.4    0.1090   0.2641      0.1090\n",
      "   9575   9576   89.9    0.1229   0.2810      0.1229\n",
      "   9575   9577   82.3    0.1335   0.2967      0.1335\n",
      "   9577   9578   43.6    0.1449   0.2106      0.1449\n",
      "   9577   9587   54.7    0.1449   0.2280      0.1449\n",
      "   9578   9579   51.8    0.1090   0.1631      0.1090\n",
      "   9578   9580   51.3    0.1090   0.1628      0.1090\n",
      "   9578   9581   40.1    0.1526   0.1964      0.1526\n",
      "   9584   9587   30.8    0.1526   0.1835      0.1526\n",
      "   9587   9588   38.9    0.1090   0.1458      0.1090\n",
      "   9719   9720   35.3    0.1010   0.1300      0.1010\n",
      "   9719   9721   53.2    0.1449   0.2338      0.1449\n",
      "   9721   9722   67.8    0.1090   0.2091      0.1090\n",
      "   9721   9723   50.3    0.1526   0.2329      0.1526\n",
      "   9721   9727   85.3    0.1522   0.2470      0.1522\n",
      "   9723   9724   35.5    0.1090   0.1375      0.1090\n",
      "   9723   9725   35.7    0.1090   0.1375      0.1090\n",
      "   9723   9726   35.1    0.1090   0.1371      0.1090\n",
      "   9727   9728   87.3    0.1229   0.1990      0.1229\n",
      "   9727   9729  102.2    0.1335   0.3560      0.1335\n",
      "   9729   9730  111.8    0.1010   0.1870      0.1010\n",
      "   9729   9731  114.5    0.1449   0.6659      0.1449\n",
      "   9731   9732  117.2    0.1090   0.5761      0.1090\n",
      "   9731   9733  112.2    0.1525   0.6112      0.1526\n",
      "   9731   9737  110.8    0.1524   0.9621      0.1522\n",
      "   9733   9734  109.9    0.1090   0.5501      0.1090\n",
      "   9733   9735  110.7    0.1090   0.5813      0.1090\n",
      "   9733   9736  109.6    0.1090   0.5351      0.1090\n",
      "   9737   9738  121.2    0.1229   0.9665      0.1229\n",
      "   9737   9739  117.7    0.1332   0.4250      0.1335\n",
      "   9739   9740  158.3    0.1011   0.4957      0.1010\n",
      "   9739   9741  112.0    0.1452   0.9408      0.1449\n",
      "   9741   9742  109.8    0.1090   0.3000      0.1090\n",
      "   9741   9743  127.5    0.1529   0.6361      0.1526\n",
      "   9741   9761  117.4    0.1519   1.5159      0.1522\n",
      "   9743   9744  105.0    0.1089   0.2153      0.1090\n",
      "   9743   9745   87.9    0.1089   0.1599      0.1090\n",
      "   9743   9746   82.6    0.1525   0.2150      0.1526\n",
      "   9746   9747   31.0    0.1090   0.1279      0.1090\n",
      "   9761   9762  114.8    0.1230   1.4787      0.1229\n",
      "   9761   9763  110.0    0.1335   2.0943      0.1335\n",
      "   9763   9764  116.8    0.1010   0.9263      0.1010\n",
      "   9763   9765  121.7    0.1449   0.9529      0.1449\n",
      "   9765   9766  135.6    0.1090   0.3924      0.1090\n",
      "   9765   9767   87.5    0.1526   0.3380      0.1526\n",
      "   9765   9783  137.2    0.1522   0.3386      0.1522\n",
      "   9767   9768  120.9    0.1090   0.3484      0.1090\n",
      "   9767   9769  119.6    0.1090   0.3956      0.1090\n",
      "   9767   9770  112.2    0.1526   0.3767      0.1526\n",
      "   9770   9771  107.6    0.1090   0.3294      0.1090\n",
      "   9770   9772  107.0    0.1090   0.3047      0.1090\n",
      "   9770   9773  101.3    0.1526   0.3888      0.1526\n",
      "   9773   9774   89.4    0.1090   0.2473      0.1090\n",
      "   9773   9775   88.9    0.1090   0.2431      0.1090\n",
      "   9773   9776   84.8    0.1526   0.2534      0.1526\n",
      "   9776   9777   62.9    0.1090   0.2117      0.1090\n",
      "   9776   9778   62.7    0.1090   0.2111      0.1090\n",
      "   9776   9779   51.4    0.1471   0.2349      0.1471\n",
      "   9779   9780   32.0    0.1010   0.1230      0.1010\n",
      "   9779   9781   31.2    0.1010   0.1225      0.1010\n",
      "   9779   9782   32.4    0.1010   0.1232      0.1010\n",
      "   9783   9784  116.7    0.1229   0.5691      0.1229\n",
      "   9783   9785  106.5    0.1335   0.6448      0.1335\n",
      "   9785   9786  107.7    0.1010   0.2407      0.1010\n",
      "   9785   9787  100.2    0.1449   0.3519      0.1449\n",
      "   9787   9788   92.3    0.1090   0.2389      0.1090\n",
      "   9787   9789   86.4    0.1526   0.2705      0.1526\n",
      "   9787   9794   89.8    0.1522   0.3052      0.1522\n",
      "   9789   9790   75.2    0.1090   0.2314      0.1090\n",
      "   9789   9791   77.5    0.1090   0.2350      0.1090\n",
      "   9789   9792   64.5    0.1410   0.2571      0.1410\n",
      "   9792   9793   55.2    0.0960   0.1543      0.0960\n",
      "   9794   9795   56.9    0.1229   0.2063      0.1229\n",
      "   9794   9796   60.2    0.1335   0.2375      0.1335\n",
      "   9796   9797   36.4    0.1010   0.1333      0.1010\n",
      "\n",
      "Back Off! I just backed up step18b.pdb to ./#step18b.pdb.1#\n",
      "\n",
      "Back Off! I just backed up step18c.pdb to ./#step18c.pdb.1#\n",
      "Wrote pdb files with previous and current coordinates\n",
      "\n",
      "Step 20, time 0.04 (ps)  LINCS WARNING\n",
      "relative constraint deviation after LINCS:\n",
      "rms 0.000221, max 0.028551 (between atoms 4408 and 4409)\n",
      "bonds that rotated more than 30 degrees:\n",
      " atom 1 atom 2  angle  previous, current, constraint length\n",
      "   4395   4396   31.9    0.1371   0.1372      0.1371\n",
      "   4396   4397   36.8    0.1080   0.1084      0.1080\n",
      "   4398   4399   32.1    0.1391   0.1397      0.1391\n",
      "   4399   4400   40.3    0.1419   0.1434      0.1419\n",
      "   4400   4401   31.1    0.1229   0.1237      0.1229\n",
      "   4402   4403   32.5    0.1010   0.1015      0.1010\n",
      "   4408   4409   63.3    0.1354   0.1393      0.1354\n",
      "   9739   9741   34.4    0.1450   0.1451      0.1449\n",
      "   9741   9761   36.0    0.1526   0.1526      0.1522\n",
      "\n",
      "Energy minimization reached the maximum number of steps before the forces\n",
      "reached the requested precision Fmax < 100.\n",
      "\n",
      "writing lowest energy coordinates.\n",
      "\n",
      "Back Off! I just backed up 1_minim.gro to ./#1_minim.gro.1#\n",
      "\n",
      "Steepest Descents did not converge to Fmax < 100 in 21 steps.\n",
      "Potential Energy  = -7.3172665e+06\n",
      "Maximum force     =  1.7666463e+04 on atom 4408\n",
      "Norm of force     =  1.0333663e+02\n",
      "\n",
      "GROMACS reminds you: \"Molecular biology is essentially the practice of biochemistry without a license.\" (Edwin Chargaff)\n",
      "\n"
     ]
    }
   ],
   "source": [
    "%%bash\n",
    "cd GMX_run\n",
    "gmx mdrun -ntomp 10 -deffnm 1_minim 2> 1_minim.sterr  # if you want to run locally, nt is the number of threads\n",
    "echo \"Outputting gromacs error log\"\n",
    "cat 1_minim.sterr"
   ]
  },
  {
   "cell_type": "markdown",
   "metadata": {},
   "source": [
    "### Troubleshooting exploding trajectories !!! (if needed)\n",
    "------"
   ]
  },
  {
   "cell_type": "code",
   "execution_count": 58,
   "metadata": {},
   "outputs": [
    {
     "name": "stdout",
     "output_type": "stream",
     "text": [
      "rm -r GMX_run\n",
      "rsync -avz --exclude='step*' --exclude='\\#*' alexsha@newton.bioeng.ru:/home/_shared/_projects/nucl_gmx/1kx5_sym/GMX_run .\n",
      "vmd -e GMX_run/min_troubleshoot.tcl\n",
      "\n"
     ]
    }
   ],
   "source": [
    "#First steps often require troubleshooting and looking in vmd at the structure.\n",
    "#To do it you'll need to change MD_Protocols/1_minim.mdp to decrease number of steps to 20 or 100, and set output for every step.\n",
    "#Let's generate usefull commands that can be used on your local machine.\n",
    "dir=!pwd\n",
    "newton_user=!whoami\n",
    "!cp VMD_scripts/min_troubleshoot.tcl GMX_run/\n",
    "!cp GMX_system/init_solv_ions.pdb GMX_run\n",
    "with open('GMX_run/1_minim.sterr', \"r\") as file:\n",
    "    counter=0\n",
    "    line='1'\n",
    "    atoms=[]\n",
    "    while ((counter<100) and line):\n",
    "        line=file.readline()\n",
    "        m=re.match(\"\\s+(\\d+)\\s+\\d+\\s+\\d+\\.\\d+\\s+\\d+\\.\\d+\\s+\\d+\\.\\d+\\s+\\d+\\.\\d+\",line)\n",
    "        if(m):\n",
    "            atoms.append(m.groups()[0])\n",
    "            counter+=1\n",
    "        else:\n",
    "            next\n",
    "    atomstr=' '.join(atoms)\n",
    "if(len(atoms)>0):\n",
    "    !echo 'mol representation VDW' >> GMX_run/min_troubleshoot.tcl\n",
    "    !echo \"mol selection index $atomstr\" >> GMX_run/min_troubleshoot.tcl\n",
    "    !echo \"mol addrep top\" >> GMX_run/min_troubleshoot.tcl\n",
    "#!echo \"$atomstr\"\n",
    "print(\"rm -r GMX_run\")\n",
    "print(\"rsync -avz --exclude='step*' --exclude='\\#*' %s@newton.bioeng.ru:%s/GMX_run .\"%(newton_user[0],dir[0]))\n",
    "print(\"vmd -e GMX_run/min_troubleshoot.tcl\\n\")"
   ]
  },
  {
   "cell_type": "markdown",
   "metadata": {},
   "source": [
    "------------\n"
   ]
  },
  {
   "cell_type": "code",
   "execution_count": 54,
   "metadata": {},
   "outputs": [
    {
     "name": "stdout",
     "output_type": "stream",
     "text": [
      "ASD\n"
     ]
    }
   ],
   "source": [
    "%%bash\n",
    "cat << END\n",
    "ASD\n",
    "END"
   ]
  },
  {
   "cell_type": "markdown",
   "metadata": {},
   "source": [
    "#### Run: Option 2 - sending and simulating on Lomonosov-2\n",
    "Note: Usually it is easier just to run all the cells for local simulations below and wait some time, than to send to supercomputer since it requires manual work and monitoring. But examples of doing it on supercomputer are provided for the next two step for reference.\n",
    "They are commented out (set to RAW content), so that this note book could be run entirely as a single piece of code locally."
   ]
  },
  {
   "cell_type": "code",
   "execution_count": null,
   "metadata": {},
   "outputs": [],
   "source": [
    "deffnm='1_minim'"
   ]
  },
  {
   "cell_type": "raw",
   "metadata": {},
   "source": [
    "!cp Run_scripts/lomo2_run.sh GMX_run/\n",
    "!cp Run_scripts/lomo2_run_cont.sh GMX_run/\n",
    "!ssh $ssh_host \"mkdir -p ~/_scratch/$folder\"\n",
    "!scp GMX_run/$deffnm.tpr $ssh_host:~/_scratch/$folder/GMX_run/\n",
    "!scp GMX_run/lomo2* $ssh_host:~/_scratch/$folder/GMX_run/"
   ]
  },
  {
   "cell_type": "raw",
   "metadata": {},
   "source": [
    "%%bash -s  $ssh_host $folder $deffnm  --out out\n",
    "ssh $1 \"module load slurm gromacs/2018-gcc; cd ~/_scratch/$2/GMX_run; sbatch -p test -t 00:15:00 -N 1 -J $2 lomo2_run.sh $3\""
   ]
  },
  {
   "cell_type": "raw",
   "metadata": {},
   "source": [
    "#get job id\n",
    "job_idm=re.findall(r'\\d+', out)[0]\n",
    "print(job_idm)"
   ]
  },
  {
   "cell_type": "raw",
   "metadata": {},
   "source": [
    "%%bash -s \"$scuser\" \"$ssh_host\"   --err err\n",
    "# check job status\n",
    "ssh $2 \"module load slurm gromacs/2018-gcc; squeue -u \\$USER \" || echo \"No job in queue\""
   ]
  },
  {
   "cell_type": "raw",
   "metadata": {},
   "source": [
    "#job_idm=926148\n",
    "!ssh $ssh_host \"tail -n 25 ~/_scratch/$folder/GMX_run/egmx.$job_idm\""
   ]
  },
  {
   "cell_type": "raw",
   "metadata": {},
   "source": [
    "!ssh $ssh_host \"tail -n 25 ~/_scratch/$folder/GMX_run/$deffnm.log\""
   ]
  },
  {
   "cell_type": "raw",
   "metadata": {},
   "source": [
    "!ssh $ssh_host \"rm -f ~/_scratch/$folder/GMX_run/\\#*; \"\n",
    "!scp $ssh_host:~/_scratch/$folder/GMX_run/* GMX_run/ ;"
   ]
  },
  {
   "cell_type": "markdown",
   "metadata": {},
   "source": [
    "#### Analyze what we get"
   ]
  },
  {
   "cell_type": "raw",
   "metadata": {},
   "source": [
    "view_nucl('GMX_system/init_solv_ions.pdb','GMX_run/%s.trr'%deffnm)"
   ]
  },
  {
   "cell_type": "markdown",
   "metadata": {},
   "source": [
    "### 2_Equilibration 100 ps with postional restraints of 500 kJ/mol/A2 , and with 0.5 fs time step"
   ]
  },
  {
   "cell_type": "code",
   "execution_count": null,
   "metadata": {},
   "outputs": [],
   "source": [
    "%%bash  \n",
    "#--out out --err err\n",
    "gmx grompp -f MDProtocols/2_equil.mdp -c GMX_run/1_minim.gro -p GMX_system/topol.top \\\n",
    "-o GMX_run/2_equil.tpr -v  -r GMX_system/init_solv_ions.pdb -n GMX_system/index.ndx -po GMX_run/mdout_2_equil.mdp\n"
   ]
  },
  {
   "cell_type": "markdown",
   "metadata": {},
   "source": [
    "#### Run: Option 1 - locally"
   ]
  },
  {
   "cell_type": "code",
   "execution_count": null,
   "metadata": {},
   "outputs": [],
   "source": [
    "%%bash\n",
    "cd GMX_run\n",
    "gmx mdrun -ntomp 10 -deffnm 2_equil # if you want to run locally"
   ]
  },
  {
   "cell_type": "markdown",
   "metadata": {},
   "source": [
    "#### Run: Option 2 - sending and simulating on Lomonosov-2\n",
    "Note: Usually it is easier just to run all the cells for local simulations below and wait some time, than to send to supercomputer since it requires manual work and monitoring. But examples of doing it on supercomputer are provided for this step for reference. The same can be applied to all further step if needed - just copy the code.\n",
    "The code here is commented out (cell type set to RAW content), so that this notebook could be run entirely as a single piece of code locally."
   ]
  },
  {
   "cell_type": "code",
   "execution_count": null,
   "metadata": {},
   "outputs": [],
   "source": [
    "deffnm='2_equil'"
   ]
  },
  {
   "cell_type": "raw",
   "metadata": {},
   "source": [
    "!cp Run_scripts/lomo2_run.sh GMX_run/\n",
    "!cp Run_scripts/lomo2_run_cont.sh GMX_run/\n",
    "!ssh $ssh_host \"mkdir -p ~/_scratch/$folder\"\n",
    "!scp GMX_run/$deffnm\\.tpr $ssh_host:~/_scratch/$folder/GMX_run/\n",
    "!scp GMX_run/lomo2* $ssh_host:~/_scratch/$folder/GMX_run/"
   ]
  },
  {
   "cell_type": "raw",
   "metadata": {},
   "source": [
    "%%bash -s  $ssh_host $folder $deffnm  --out out\n",
    "ssh $1 \"module load slurm gromacs/2018-gcc; cd ~/_scratch/$2/GMX_run; sbatch -p test -t 00:15:00 -N 1 -J $2 lomo2_run.sh $3\""
   ]
  },
  {
   "cell_type": "raw",
   "metadata": {},
   "source": [
    "#get job id\n",
    "job_idm=re.findall(r'\\d+', out)[0]\n",
    "print(job_idm)"
   ]
  },
  {
   "cell_type": "raw",
   "metadata": {},
   "source": [
    "%%bash -s $ssh_host   --err err\n",
    "# check job status\n",
    "ssh $1 \"module load slurm gromacs/2018-gcc; squeue -u \\$USER \" || echo \"No job in queue\""
   ]
  },
  {
   "cell_type": "raw",
   "metadata": {},
   "source": [
    "#job_idm=926148\n",
    "!ssh $ssh_host \"tail -n 25 ~/_scratch/$folder/GMX_run/egmx.$job_idm\""
   ]
  },
  {
   "cell_type": "raw",
   "metadata": {},
   "source": [
    "!ssh $ssh_host \"tail -n 25 ~/_scratch/$folder/GMX_run/$deffnm\\.log\""
   ]
  },
  {
   "cell_type": "raw",
   "metadata": {},
   "source": [
    "!ssh $ssh_host \"rm -f ~/_scratch/$folder/GMX_run/\\#*; \"\n",
    "!scp $ssh_host:~/_scratch/$folder/GMX_run/* GMX_run/ ;"
   ]
  },
  {
   "cell_type": "markdown",
   "metadata": {},
   "source": [
    "#### Analyze what we get"
   ]
  },
  {
   "cell_type": "raw",
   "metadata": {},
   "source": [
    "view_nucl('GMX_system/init_solv_ions.pdb','GMX_run/%s.trr'%deffnm)"
   ]
  },
  {
   "cell_type": "markdown",
   "metadata": {},
   "source": [
    "### 3_Equilibration 200 ps with postional restraints of 50 kJ/mol/A2"
   ]
  },
  {
   "cell_type": "code",
   "execution_count": null,
   "metadata": {},
   "outputs": [],
   "source": [
    "%%bash  \n",
    "#--out out --err err\n",
    "gmx grompp -f MDProtocols/3_equil.mdp -c GMX_run/2_equil.gro -p GMX_system/topol.top \\\n",
    "-o GMX_run/3_equil.tpr -v  -r GMX_system/init_solv_ions.pdb -n GMX_system/index.ndx -po GMX_run/mdout_3_equil.mdp\n"
   ]
  },
  {
   "cell_type": "markdown",
   "metadata": {},
   "source": [
    "#### Run: Option 1 - locally"
   ]
  },
  {
   "cell_type": "code",
   "execution_count": null,
   "metadata": {},
   "outputs": [],
   "source": [
    "%%bash\n",
    "cd GMX_run\n",
    "gmx mdrun -ntomp 10 -deffnm 3_equil # if you want to run locally"
   ]
  },
  {
   "cell_type": "markdown",
   "metadata": {},
   "source": [
    "#### Run: Option 2 - sending and simulating on Lomonosov-2"
   ]
  },
  {
   "cell_type": "code",
   "execution_count": null,
   "metadata": {},
   "outputs": [],
   "source": [
    "deffnm='3_equil'"
   ]
  },
  {
   "cell_type": "raw",
   "metadata": {},
   "source": [
    "JUST COPY CODE FROM PREVIOUS STEPS IF YOU ARE SIMULATING ON LOMONOSOV"
   ]
  },
  {
   "cell_type": "markdown",
   "metadata": {},
   "source": [
    "### 4_Equilibration 200 ps with postional restraints of 5 kJ/mol/A2"
   ]
  },
  {
   "cell_type": "code",
   "execution_count": null,
   "metadata": {},
   "outputs": [],
   "source": [
    "%%bash  \n",
    "#--out out --err err\n",
    "gmx grompp -f MDProtocols/4_equil.mdp -c GMX_run/3_equil.gro -p GMX_system/topol.top \\\n",
    "-o GMX_run/4_equil.tpr -v  -r GMX_system/init_solv_ions.pdb -n GMX_system/index.ndx -po GMX_run/mdout_4_equil.mdp\n"
   ]
  },
  {
   "cell_type": "markdown",
   "metadata": {},
   "source": [
    "#### Run: Option 1 - locally"
   ]
  },
  {
   "cell_type": "code",
   "execution_count": null,
   "metadata": {},
   "outputs": [],
   "source": [
    "%%bash\n",
    "cd GMX_run\n",
    "gmx mdrun -ntomp 10 -deffnm 4_equil # if you want to run locally"
   ]
  },
  {
   "cell_type": "markdown",
   "metadata": {},
   "source": [
    "#### Run: Option 2 - sending and simulating on Lomonosov-2"
   ]
  },
  {
   "cell_type": "code",
   "execution_count": null,
   "metadata": {},
   "outputs": [],
   "source": [
    "deffnm='4_equil'"
   ]
  },
  {
   "cell_type": "markdown",
   "metadata": {},
   "source": [
    "### 5_Equilibration 200 ps with postional restraints of 0.5 kJ/mol/A2"
   ]
  },
  {
   "cell_type": "code",
   "execution_count": null,
   "metadata": {},
   "outputs": [],
   "source": [
    "%%bash  \n",
    "#--out out --err err\n",
    "gmx grompp -f MDProtocols/5_equil.mdp -c GMX_run/4_equil.gro -p GMX_system/topol.top \\\n",
    "-o GMX_run/5_equil.tpr -v  -r GMX_system/init_solv_ions.pdb -n GMX_system/index.ndx -po GMX_run/mdout_5_equil.mdp\n"
   ]
  },
  {
   "cell_type": "markdown",
   "metadata": {},
   "source": [
    "#### Run: Option 1 - locally"
   ]
  },
  {
   "cell_type": "code",
   "execution_count": null,
   "metadata": {},
   "outputs": [],
   "source": [
    "%%bash\n",
    "cd GMX_run\n",
    "gmx mdrun -ntomp 10 -deffnm 5_equil # if you want to run locally"
   ]
  },
  {
   "cell_type": "markdown",
   "metadata": {},
   "source": [
    "#### Run: Option 2 - sending and simulating on Lomonosov-2"
   ]
  },
  {
   "cell_type": "code",
   "execution_count": null,
   "metadata": {},
   "outputs": [],
   "source": [
    "deffnm='5_equil'"
   ]
  },
  {
   "cell_type": "markdown",
   "metadata": {},
   "source": [
    "### 6_Equilibration 200 ps unrestrained"
   ]
  },
  {
   "cell_type": "code",
   "execution_count": null,
   "metadata": {},
   "outputs": [],
   "source": [
    "%%bash  \n",
    "#--out out --err err\n",
    "gmx grompp -f MDProtocols/6_equil.mdp -c GMX_run/5_equil.gro -p GMX_system/topol.top \\\n",
    "-o GMX_run/6_equil.tpr -v  -r GMX_system/init_solv_ions.pdb -n GMX_system/index.ndx -po GMX_run/mdout_6_equil.mdp\n"
   ]
  },
  {
   "cell_type": "markdown",
   "metadata": {},
   "source": [
    "#### Run: Option 1 - locally"
   ]
  },
  {
   "cell_type": "code",
   "execution_count": null,
   "metadata": {},
   "outputs": [],
   "source": [
    "%%bash\n",
    "cd GMX_run\n",
    "gmx mdrun -ntomp 10 -deffnm 6_equil # if you want to run locally"
   ]
  },
  {
   "cell_type": "markdown",
   "metadata": {},
   "source": [
    "#### Run: Option 2 - sending and simulating on Lomonosov-2"
   ]
  },
  {
   "cell_type": "code",
   "execution_count": null,
   "metadata": {},
   "outputs": [],
   "source": [
    "deffnm='6_equil'"
   ]
  },
  {
   "cell_type": "markdown",
   "metadata": {},
   "source": [
    "# Saving final equilibrated results"
   ]
  },
  {
   "cell_type": "markdown",
   "metadata": {},
   "source": [
    "As a result we have equlibrated system ready for production simulations.\n",
    "We copy it to GMX_system."
   ]
  },
  {
   "cell_type": "code",
   "execution_count": null,
   "metadata": {},
   "outputs": [],
   "source": [
    "%%bash\n",
    "cp GMX_run/6_equil.gro GMX_system/ #coordinates\n",
    "cp GMX_run/6_equil.cpt GMX_system/ #This has also velocities\n",
    "\n",
    "\n",
    "\n"
   ]
  },
  {
   "cell_type": "markdown",
   "metadata": {},
   "source": []
  },
  {
   "cell_type": "markdown",
   "metadata": {},
   "source": [
    "Optionally we can save all equilibrated files, if want to copy them somewhere and user later,\n",
    "here we place into results folder the set of equilibrated files of step 6.\n"
   ]
  },
  {
   "cell_type": "code",
   "execution_count": null,
   "metadata": {},
   "outputs": [],
   "source": [
    "%%bash\n",
    "gmx trjconv -f GMX_run/6_equil.gro -s GMX_run/6_equil.tpr -o GMX_run/6_equil.pdb << !\n",
    "0\n",
    "!"
   ]
  },
  {
   "cell_type": "code",
   "execution_count": null,
   "metadata": {},
   "outputs": [],
   "source": [
    "%%bash\n",
    "mkdir -p results\n",
    "cp GMX_run/6_equil* results/\n",
    "cp GMX_system/sys_ref.pdb results/"
   ]
  },
  {
   "cell_type": "code",
   "execution_count": null,
   "metadata": {},
   "outputs": [],
   "source": []
  }
 ],
 "metadata": {
  "kernelspec": {
   "display_name": "Python [conda env:moldyn]",
   "language": "python",
   "name": "conda-env-moldyn-py"
  },
  "language_info": {
   "codemirror_mode": {
    "name": "ipython",
    "version": 3
   },
   "file_extension": ".py",
   "mimetype": "text/x-python",
   "name": "python",
   "nbconvert_exporter": "python",
   "pygments_lexer": "ipython3",
   "version": "3.7.1"
  }
 },
 "nbformat": 4,
 "nbformat_minor": 2
}
