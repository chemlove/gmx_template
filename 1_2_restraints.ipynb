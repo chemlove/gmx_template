{
 "cells": [
  {
   "cell_type": "markdown",
   "metadata": {},
   "source": [
    "## Optional - make restraints\n",
    "This will make restraints and generate configs for them.\n",
    "Restraints between molecules has to be done using pull code added to MDP file.\n",
    "See here http://www.mdtutorials.com/gmx/umbrella/05_pull.html\n",
    "Index file need to be generated\n",
    "```\n",
    "---Example of pull code below ---\n",
    "; Pull code\n",
    "pull                    = yes\n",
    "pull_ncoords            = 1         ; only one reaction coordinate\n",
    "pull_ngroups            = 2         ; two groups defining one reaction coordinate\n",
    "pull_group1_name        = Chain_A\n",
    "pull_group2_name        = Chain_B\n",
    "pull_coord1_type        = umbrella  ; harmonic potential\n",
    "pull_coord1_geometry    = distance  ; simple distance increase\n",
    "pull_coord1_dim         = N N Y     ; pull along z\n",
    "pull_coord1_groups      = 1 2       ; groups 1 (Chain A) and 2 (Chain B) define the reaction coordinate\n",
    "pull_coord1_start       = yes       ; define initial COM distance > 0\n",
    "pull_coord1_rate        = 0.01      ; 0.01 nm per ps = 10 nm per ns\n",
    "pull_coord1_k           = 1000      ; kJ mol^-1 nm^-2, 4 kT per A which is ok\n",
    "```"
   ]
  },
  {
   "cell_type": "code",
   "execution_count": 3,
   "metadata": {},
   "outputs": [
    {
     "data": {
      "text/markdown": [
       "\n",
       "# MD simulations of a tetrasome, 61 DNA bp, histone tails maximally truncated\n",
       "- AMBER14SB force field with CUFIX\n",
       "- 150 mM NaCl\n",
       "- box 2nm\n"
      ],
      "text/plain": [
       "<IPython.core.display.Markdown object>"
      ]
     },
     "metadata": {},
     "output_type": "display_data"
    },
    {
     "name": "stdout",
     "output_type": "stream",
     "text": [
      "Folder set to:  h3-h4_tm_2_60DNA\n",
      "Project name:  h3-h4_tm_2_60DNA\n",
      "SSH host set to: lomo2k\n"
     ]
    }
   ],
   "source": [
    "#Libraries and main variables initialized\n",
    "import MDAnalysis as mda\n",
    "from MDAnalysis.analysis import align\n",
    "from MDAnalysis.analysis.rms import rmsd\n",
    "import numpy as np\n",
    "import urllib.request, json\n",
    "import os\n",
    "import re\n",
    "import nglview as nv\n",
    "from funcs import get_files_from_git\n",
    "from funcs import view_nucl\n",
    "from IPython.display import Markdown, display\n",
    "import pandas as pd\n",
    "#Reloading funcs if changed\n",
    "from importlib import reload \n",
    "import funcs,config\n",
    "reload(funcs)\n",
    "reload(config)\n",
    "\n",
    "%matplotlib inline\n",
    "\n",
    "from IPython.display import Markdown, display\n",
    "from config import folder,descr,pname,ssh_host\n",
    "display(Markdown(descr))\n",
    "print(\"Folder set to: \",folder)\n",
    "print(\"Project name: \",pname)\n",
    "print(\"SSH host set to:\",ssh_host)\n",
    "\n",
    "\n"
   ]
  },
  {
   "cell_type": "code",
   "execution_count": 5,
   "metadata": {},
   "outputs": [
    {
     "name": "stdout",
     "output_type": "stream",
     "text": [
      "0.9147212650699436\n",
      "0.9271493815437994\n"
     ]
    },
    {
     "data": {
      "application/vnd.jupyter.widget-view+json": {
       "model_id": "d0f3ca4dabe449d782bc1945d6d1e87f",
       "version_major": 2,
       "version_minor": 0
      },
      "text/plain": [
       "NGLWidget()"
      ]
     },
     "metadata": {},
     "output_type": "display_data"
    }
   ],
   "source": [
    "import MDAnalysis.analysis.hbonds\n",
    "import MDAnalysis.analysis.distances\n",
    "\n",
    "\n",
    "nucl=mda.Universe(\"GMX_system/sys_ref.pdb\")\n",
    "\n",
    "\n",
    "sel_end1_1=\"(segid I and resnum -30 and ((resname DC DT and name N1) or (resname DG DA and name N9)))\"\n",
    "sel_end1_2=\"(segid J and resnum 30 and ((resname DC DT and name N1) or (resname DG DA and name N9)))\"\n",
    "\n",
    "sel_end2_1=\"(segid I and resnum 30 and ((resname DC DT and name N1) or (resname DG DA and name N9)))\"\n",
    "sel_end2_2=\"(segid J and resnum -30 and ((resname DC DT and name N1) or (resname DG DA and name N9)))\"\n",
    "\n",
    "N=nucl.select_atoms(\"(segid I and resnum -30) or (segid J and resnum 30)\")\n",
    "\n",
    "\n",
    "E1NI=nucl.select_atoms(sel_end1_1)\n",
    "E1NJ=nucl.select_atoms(sel_end1_2)\n",
    "\n",
    "d1=MDAnalysis.analysis.distances.dist(E1NI,E1NJ)[2][0]/10.\n",
    "print(d1)\n",
    "\n",
    "E2NI=nucl.select_atoms(sel_end2_1)\n",
    "E2NJ=nucl.select_atoms(sel_end2_2)\n",
    "\n",
    "d2=MDAnalysis.analysis.distances.dist(E2NI,E2NJ)[2][0]/10.\n",
    "print(d2)\n",
    "\n",
    "#N1=nucl.select_atoms(sel1+\" or \"+sel2)\n",
    "\n",
    "#h = MDAnalysis.analysis.hbonds.HydrogenBondAnalysis(nucl, sel1, sel2, distance=3.0, angle=120.0)\n",
    "#h = MDAnalysis.analysis.hbonds.HydrogenBondAnalysis(nucl, 'nucleic', 'nucleic', distance=3.0, angle=120.0)\n",
    "#h.run()\n",
    "\n",
    "w=nv.show_mdanalysis(N,gui=False)\n",
    "#w.add_representation( \"label\", \".N9\", color=\"grey\" )\n",
    "w"
   ]
  },
  {
   "cell_type": "code",
   "execution_count": 6,
   "metadata": {},
   "outputs": [],
   "source": [
    "e1ni=E1NI.atoms[0].id\n",
    "e1nj=E1NJ.atoms[0].id\n",
    "e2ni=E2NI.atoms[0].id\n",
    "e2nj=E2NJ.atoms[0].id\n",
    "\n"
   ]
  },
  {
   "cell_type": "markdown",
   "metadata": {},
   "source": [
    "Let's generate distance restraints\n",
    "http://manual.gromacs.org/current/manual-2018.4.pdf\n"
   ]
  },
  {
   "cell_type": "code",
   "execution_count": 8,
   "metadata": {},
   "outputs": [],
   "source": [
    "%%bash -s \"$d1\" \"$d2\" \"$e1ni\" \"$e1nj\" \"$e2ni\" \"$e2nj\" \n",
    "cat > GMX_system/pull.mdp <<!\n",
    "; Pull code\n",
    "pull                    = yes\n",
    "pull_ncoords            = 2         ; only one reaction coordinate\n",
    "pull_ngroups            = 4         ; two groups defining one reaction coordinate\n",
    "pull_group1_name        = a_$3\n",
    "pull_group2_name        = a_$4\n",
    "pull_group3_name        = a_$5\n",
    "pull_group4_name        = a_$6\n",
    "pull_coord1_type        = umbrella  ; harmonic potential\n",
    "pull_coord1_geometry    = distance  ; simple distance increase\n",
    "pull_coord1_dim         = Y Y Y     ; pull along z\n",
    "pull_coord1_groups      = 1 2       ; groups 1 (Chain A) and 2 (Chain B) define the reaction coordinate\n",
    "pull_coord1_start       = no       ; define initial COM distance > 0\n",
    "pull_coord1_rate        = 0.00      ; 0.01 nm per ps = 10 nm per ns\n",
    "pull_coord1_k           = 1000      ; kJ mol^-1 nm^-2, 4 kT per A which is ok\n",
    "pull-coord1-init        = $1\n",
    "\n",
    "pull_coord2_type        = umbrella  ; harmonic potential\n",
    "pull_coord2_geometry    = distance  ; simple distance increase\n",
    "pull_coord2_dim         = Y Y Y     ; pull along z\n",
    "pull_coord2_groups      = 3 4       ; groups 1 (Chain A) and 2 (Chain B) define the reaction coordinate\n",
    "pull_coord2_start       = no       ; define initial COM distance > 0\n",
    "pull_coord2_rate        = 0.00      ; 0.01 nm per ps = 10 nm per ns\n",
    "pull_coord2_k           = 1000      ; kJ mol^-1 nm^-2, 4 kT per A which is ok\n",
    "pull-coord2-init        = $2\n",
    "!"
   ]
  },
  {
   "cell_type": "code",
   "execution_count": 9,
   "metadata": {},
   "outputs": [
    {
     "name": "stdout",
     "output_type": "stream",
     "text": [
      "; Pull code\r\n",
      "pull                    = yes\r\n",
      "pull_ncoords            = 2         ; only one reaction coordinate\r\n",
      "pull_ngroups            = 4         ; two groups defining one reaction coordinate\r\n",
      "pull_group1_name        = a_11\r\n",
      "pull_group2_name        = a_3851\r\n",
      "pull_group3_name        = a_1915\r\n",
      "pull_group4_name        = a_1947\r\n",
      "pull_coord1_type        = umbrella  ; harmonic potential\r\n",
      "pull_coord1_geometry    = distance  ; simple distance increase\r\n",
      "pull_coord1_dim         = Y Y Y     ; pull along z\r\n",
      "pull_coord1_groups      = 1 2       ; groups 1 (Chain A) and 2 (Chain B) define the reaction coordinate\r\n",
      "pull_coord1_start       = no       ; define initial COM distance > 0\r\n",
      "pull_coord1_rate        = 0.00      ; 0.01 nm per ps = 10 nm per ns\r\n",
      "pull_coord1_k           = 1000      ; kJ mol^-1 nm^-2, 4 kT per A which is ok\r\n",
      "pull-coord1-init        = 0.9147212650699436\r\n",
      "\r\n",
      "pull_coord2_type        = umbrella  ; harmonic potential\r\n",
      "pull_coord2_geometry    = distance  ; simple distance increase\r\n",
      "pull_coord2_dim         = Y Y Y     ; pull along z\r\n",
      "pull_coord2_groups      = 3 4       ; groups 1 (Chain A) and 2 (Chain B) define the reaction coordinate\r\n",
      "pull_coord2_start       = no       ; define initial COM distance > 0\r\n",
      "pull_coord2_rate        = 0.00      ; 0.01 nm per ps = 10 nm per ns\r\n",
      "pull_coord2_k           = 1000      ; kJ mol^-1 nm^-2, 4 kT per A which is ok\r\n",
      "pull-coord2-init        = 0.9271493815437994\r\n"
     ]
    }
   ],
   "source": [
    "!cat GMX_system/pull.mdp\n"
   ]
  },
  {
   "cell_type": "code",
   "execution_count": 10,
   "metadata": {},
   "outputs": [
    {
     "name": "stdout",
     "output_type": "stream",
     "text": [
      "Going to read 1 old index file(s)\n",
      "\n",
      "  0 System              : 245092 atoms\n",
      "  1 DNA                 :  3872 atoms\n",
      "  2 NA                  :   303 atoms\n",
      "  3 CL                  :   211 atoms\n",
      "  4 Protein             :  5734 atoms\n",
      "  5 Protein-H           :  2788 atoms\n",
      "  6 C-alpha             :   344 atoms\n",
      "  7 Backbone            :  1036 atoms\n",
      "  8 MainChain           :  1388 atoms\n",
      "  9 MainChain+Cb        :  1710 atoms\n",
      " 10 MainChain+H         :  1726 atoms\n",
      " 11 SideChain           :  4008 atoms\n",
      " 12 SideChain-H         :  1400 atoms\n",
      " 13 Prot-Masses         :  5734 atoms\n",
      " 14 non-Protein         : 239358 atoms\n",
      " 15 Water               : 234972 atoms\n",
      " 16 SOL                 : 234972 atoms\n",
      " 17 non-Water           : 10120 atoms\n",
      " 18 Ion                 :   514 atoms\n",
      " 19 NA                  :   303 atoms\n",
      " 20 CL                  :   211 atoms\n",
      " 21 Water_and_ions      : 235486 atoms\n",
      " 22 !Water_and_ions     :  9606 atoms\n",
      "\n",
      " nr : group      '!': not  'name' nr name   'splitch' nr    Enter: list groups\n",
      " 'a': atom       '&': and  'del' nr         'splitres' nr   'l': list residues\n",
      " 't': atom type  '|': or   'keep' nr        'splitat' nr    'h': help\n",
      " 'r': residue              'res' nr         'chain' char\n",
      " \"name\": group             'case': case sensitive           'q': save and quit\n",
      " 'ri': residue index\n",
      "\n",
      "> \n",
      "\n",
      " 23 a_11                :     1 atoms\n",
      "\n",
      "> \n",
      "\n",
      " 24 a_3851              :     1 atoms\n",
      "\n",
      "> \n",
      "\n",
      " 25 a_1915              :     1 atoms\n",
      "\n",
      "> \n",
      "\n",
      " 26 a_1947              :     1 atoms\n",
      "\n",
      "> \n"
     ]
    },
    {
     "name": "stderr",
     "output_type": "stream",
     "text": [
      "gmx: Relink `/opt/miniconda3/envs/moldyn/bin/../lib/././libgfortran.so.4' with `/lib/x86_64-linux-gnu/librt.so.1' for IFUNC symbol `clock_gettime'\n",
      "                     :-) GROMACS - gmx make_ndx, 2018.4 (-:\n",
      "\n",
      "                            GROMACS is written by:\n",
      "     Emile Apol      Rossen Apostolov      Paul Bauer     Herman J.C. Berendsen\n",
      "    Par Bjelkmar    Aldert van Buuren   Rudi van Drunen     Anton Feenstra  \n",
      "  Gerrit Groenhof    Aleksei Iupinov   Christoph Junghans   Anca Hamuraru   \n",
      " Vincent Hindriksen Dimitrios Karkoulis    Peter Kasson        Jiri Kraus    \n",
      "  Carsten Kutzner      Per Larsson      Justin A. Lemkul    Viveca Lindahl  \n",
      "  Magnus Lundborg   Pieter Meulenhoff    Erik Marklund      Teemu Murtola   \n",
      "    Szilard Pall       Sander Pronk      Roland Schulz     Alexey Shvetsov  \n",
      "   Michael Shirts     Alfons Sijbers     Peter Tieleman    Teemu Virolainen \n",
      " Christian Wennberg    Maarten Wolf   \n",
      "                           and the project leaders:\n",
      "        Mark Abraham, Berk Hess, Erik Lindahl, and David van der Spoel\n",
      "\n",
      "Copyright (c) 1991-2000, University of Groningen, The Netherlands.\n",
      "Copyright (c) 2001-2017, The GROMACS development team at\n",
      "Uppsala University, Stockholm University and\n",
      "the Royal Institute of Technology, Sweden.\n",
      "check out http://www.gromacs.org for more information.\n",
      "\n",
      "GROMACS is free software; you can redistribute it and/or modify it\n",
      "under the terms of the GNU Lesser General Public License\n",
      "as published by the Free Software Foundation; either version 2.1\n",
      "of the License, or (at your option) any later version.\n",
      "\n",
      "GROMACS:      gmx make_ndx, version 2018.4\n",
      "Executable:   /opt/miniconda3/envs/moldyn/bin/gmx\n",
      "Data prefix:  /opt/miniconda3/envs/moldyn\n",
      "Working dir:  /home/_shared/_projects/nucl_gmx/h3-h4_2_tm_60DNA/GMX_system\n",
      "Command line:\n",
      "  gmx make_ndx -f init_solv_ions.pdb -n index.ndx -o index.ndx\n",
      "\n",
      "\n",
      "Reading structure file\n",
      "\n",
      "Back Off! I just backed up index.ndx to ./#index.ndx.3#\n",
      "\n",
      "GROMACS reminds you: \"All Work and No Play Makes Jack a Dull Boy\" (The Shining)\n",
      "\n"
     ]
    }
   ],
   "source": [
    "%%bash -s \"$d1\" \"$d2\" \"$e1ni\" \"$e1nj\" \"$e2ni\" \"$e2nj\" \n",
    "cd GMX_system\n",
    "\n",
    "gmx make_ndx -f init_solv_ions.pdb -n index.ndx -o index.ndx <<!\n",
    "a $3\n",
    "a $4\n",
    "a $5\n",
    "a $6\n",
    "q\n",
    "!"
   ]
  },
  {
   "cell_type": "code",
   "execution_count": 33,
   "metadata": {},
   "outputs": [],
   "source": [
    "%%bash\n",
    "##Patch mdp files\n",
    "cp GMX_system/pull.mdp MDProtocols/\n",
    "cat MDProtocols/pull.mdp >> MDProtocols/1_minim.mdp\n",
    "cat MDProtocols/pull.mdp >> MDProtocols/2_equil.mdp\n",
    "cat MDProtocols/pull.mdp >> MDProtocols/3_equil.mdp\n",
    "cat MDProtocols/pull.mdp >> MDProtocols/4_equil.mdp\n",
    "cat MDProtocols/pull.mdp >> MDProtocols/5_equil.mdp\n",
    "cat MDProtocols/pull.mdp >> MDProtocols/6_equil.mdp\n",
    "cat MDProtocols/pull.mdp >> MDProtocols/7_prod.mdp\n",
    "cat MDProtocols/pull.mdp >> MDProtocols/bench.mdp"
   ]
  },
  {
   "cell_type": "code",
   "execution_count": 12,
   "metadata": {},
   "outputs": [],
   "source": [
    "!cat MDProtocols/pull.mdp >> MDProtocols/7_prod_10ps_out.mdp\n",
    "\n"
   ]
  },
  {
   "cell_type": "code",
   "execution_count": null,
   "metadata": {},
   "outputs": [],
   "source": []
  },
  {
   "cell_type": "code",
   "execution_count": null,
   "metadata": {},
   "outputs": [],
   "source": []
  },
  {
   "cell_type": "code",
   "execution_count": null,
   "metadata": {},
   "outputs": [],
   "source": []
  }
 ],
 "metadata": {
  "kernelspec": {
   "display_name": "Python [conda env:moldyn]",
   "language": "python",
   "name": "conda-env-moldyn-py"
  },
  "language_info": {
   "codemirror_mode": {
    "name": "ipython",
    "version": 3
   },
   "file_extension": ".py",
   "mimetype": "text/x-python",
   "name": "python",
   "nbconvert_exporter": "python",
   "pygments_lexer": "ipython3",
   "version": "3.7.1"
  }
 },
 "nbformat": 4,
 "nbformat_minor": 2
}
